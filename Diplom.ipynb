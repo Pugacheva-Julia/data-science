{
  "nbformat": 4,
  "nbformat_minor": 0,
  "metadata": {
    "colab": {
      "name": "Diplom.ipynb",
      "provenance": [],
      "collapsed_sections": [],
      "include_colab_link": true
    },
    "kernelspec": {
      "display_name": "Python 3",
      "language": "python",
      "name": "python3"
    },
    "language_info": {
      "codemirror_mode": {
        "name": "ipython",
        "version": 3
      },
      "file_extension": ".py",
      "mimetype": "text/x-python",
      "name": "python",
      "nbconvert_exporter": "python",
      "pygments_lexer": "ipython3",
      "version": "3.8.5"
    }
  },
  "cells": [
    {
      "cell_type": "markdown",
      "metadata": {
        "id": "view-in-github",
        "colab_type": "text"
      },
      "source": [
        "<a href=\"https://colab.research.google.com/github/Pugacheva-Julia/data-science/blob/main/Diplom.ipynb\" target=\"_parent\"><img src=\"https://colab.research.google.com/assets/colab-badge.svg\" alt=\"Open In Colab\"/></a>"
      ]
    },
    {
      "cell_type": "markdown",
      "metadata": {
        "id": "uU0FxH7K4NAx",
        "outputId": "9c3931c0-f906-4e52-8930-89449fa5e605"
      },
      "source": [
        "# Дипломный проект «Data Scientist. Аналитика. Средний уровень»"
      ]
    },
    {
      "cell_type": "markdown",
      "metadata": {
        "id": "qBD3Int4JYMG"
      },
      "source": [
        "Анализ результатов опроса клиентов компании \"МегаФон\" в целях выявления зависимости между оценкой удовлетворенности качеством связи и техническими показателями. "
      ]
    },
    {
      "cell_type": "code",
      "metadata": {
        "id": "ws7y37k1JYMH"
      },
      "source": [
        "import pandas as pd\n",
        "import numpy as np\n",
        "import scipy.stats as st\n",
        "\n",
        "import plotly.graph_objects as go\n",
        "import plotly.express as px\n",
        "import ast"
      ],
      "execution_count": 2,
      "outputs": []
    },
    {
      "cell_type": "code",
      "metadata": {
        "colab": {
          "base_uri": "https://localhost:8080/",
          "height": 271
        },
        "id": "KLxFDXmJJYMI",
        "outputId": "14df36dd-58ab-4ddf-aa83-9139fead11a1"
      },
      "source": [
        "df = pd.read_csv('megafon (1).csv')\n",
        "df.head()"
      ],
      "execution_count": 4,
      "outputs": [
        {
          "output_type": "execute_result",
          "data": {
            "text/html": [
              "<div>\n",
              "<style scoped>\n",
              "    .dataframe tbody tr th:only-of-type {\n",
              "        vertical-align: middle;\n",
              "    }\n",
              "\n",
              "    .dataframe tbody tr th {\n",
              "        vertical-align: top;\n",
              "    }\n",
              "\n",
              "    .dataframe thead th {\n",
              "        text-align: right;\n",
              "    }\n",
              "</style>\n",
              "<table border=\"1\" class=\"dataframe\">\n",
              "  <thead>\n",
              "    <tr style=\"text-align: right;\">\n",
              "      <th></th>\n",
              "      <th>user_id</th>\n",
              "      <th>Q1</th>\n",
              "      <th>Q2</th>\n",
              "      <th>Total Traffic(MB)</th>\n",
              "      <th>Downlink Throughput(Kbps)</th>\n",
              "      <th>Uplink Throughput(Kbps)</th>\n",
              "      <th>Downlink TCP Retransmission Rate(%)</th>\n",
              "      <th>Video Streaming Download Throughput(Kbps)</th>\n",
              "      <th>Video Streaming xKB Start Delay(ms)</th>\n",
              "      <th>Web Page Download Throughput(Kbps)</th>\n",
              "      <th>Web Average TCP RTT(ms)</th>\n",
              "    </tr>\n",
              "  </thead>\n",
              "  <tbody>\n",
              "    <tr>\n",
              "      <th>0</th>\n",
              "      <td>1</td>\n",
              "      <td>5</td>\n",
              "      <td>NaN</td>\n",
              "      <td>775.48846</td>\n",
              "      <td>360.13</td>\n",
              "      <td>86.56</td>\n",
              "      <td>3.93</td>\n",
              "      <td>1859.15</td>\n",
              "      <td>2309</td>\n",
              "      <td>1007.82</td>\n",
              "      <td>83</td>\n",
              "    </tr>\n",
              "    <tr>\n",
              "      <th>1</th>\n",
              "      <td>2</td>\n",
              "      <td>5</td>\n",
              "      <td>4</td>\n",
              "      <td>861.96324</td>\n",
              "      <td>3023.54</td>\n",
              "      <td>411.18</td>\n",
              "      <td>1.27</td>\n",
              "      <td>667.47</td>\n",
              "      <td>2080</td>\n",
              "      <td>255.36</td>\n",
              "      <td>425</td>\n",
              "    </tr>\n",
              "    <tr>\n",
              "      <th>2</th>\n",
              "      <td>3</td>\n",
              "      <td>1</td>\n",
              "      <td>4</td>\n",
              "      <td>261.11860</td>\n",
              "      <td>790.96</td>\n",
              "      <td>34.20</td>\n",
              "      <td>1.79</td>\n",
              "      <td>1079.60</td>\n",
              "      <td>6367</td>\n",
              "      <td>535.85</td>\n",
              "      <td>485</td>\n",
              "    </tr>\n",
              "    <tr>\n",
              "      <th>3</th>\n",
              "      <td>4</td>\n",
              "      <td>8</td>\n",
              "      <td>3</td>\n",
              "      <td>179.18564</td>\n",
              "      <td>2590.97</td>\n",
              "      <td>325.88</td>\n",
              "      <td>0.80</td>\n",
              "      <td>7053.81</td>\n",
              "      <td>3218</td>\n",
              "      <td>1221.02</td>\n",
              "      <td>51</td>\n",
              "    </tr>\n",
              "    <tr>\n",
              "      <th>4</th>\n",
              "      <td>5</td>\n",
              "      <td>2</td>\n",
              "      <td>2, 3, 4</td>\n",
              "      <td>351.99208</td>\n",
              "      <td>731.61</td>\n",
              "      <td>223.54</td>\n",
              "      <td>1.15</td>\n",
              "      <td>4550.38</td>\n",
              "      <td>1767</td>\n",
              "      <td>2336.56</td>\n",
              "      <td>68</td>\n",
              "    </tr>\n",
              "  </tbody>\n",
              "</table>\n",
              "</div>"
            ],
            "text/plain": [
              "   user_id Q1  ... Web Page Download Throughput(Kbps)  Web Average TCP RTT(ms)\n",
              "0        1  5  ...                            1007.82                       83\n",
              "1        2  5  ...                             255.36                      425\n",
              "2        3  1  ...                             535.85                      485\n",
              "3        4  8  ...                            1221.02                       51\n",
              "4        5  2  ...                            2336.56                       68\n",
              "\n",
              "[5 rows x 11 columns]"
            ]
          },
          "metadata": {
            "tags": []
          },
          "execution_count": 4
        }
      ]
    },
    {
      "cell_type": "markdown",
      "metadata": {
        "id": "bX6m2IHxJYMJ"
      },
      "source": [
        "# Часть 1"
      ]
    },
    {
      "cell_type": "markdown",
      "metadata": {
        "id": "Wkm8oZXU4id5"
      },
      "source": [
        "Прежде всего необходимо проанализировать ответы на первый вопрос \"Насколько в целом Вы удовлетворены качеством связи у МегаФона за последний месяц?\" "
      ]
    },
    {
      "cell_type": "code",
      "metadata": {
        "colab": {
          "base_uri": "https://localhost:8080/"
        },
        "id": "OEdhWRR35COI",
        "outputId": "4e45e974-9140-487e-8ef1-2c73ef1b2ded"
      },
      "source": [
        "# список ответов клиентов на первый вопрос\n",
        "df['Q1'].unique().tolist() "
      ],
      "execution_count": 5,
      "outputs": [
        {
          "output_type": "execute_result",
          "data": {
            "text/plain": [
              "['5',\n",
              " '1',\n",
              " '8',\n",
              " '2',\n",
              " '3',\n",
              " '9',\n",
              " '10',\n",
              " '7',\n",
              " '4',\n",
              " '11',\n",
              " '6',\n",
              " '2, 9',\n",
              " '0',\n",
              " '1, 3',\n",
              " '19',\n",
              " '15',\n",
              " nan,\n",
              " '1, 6',\n",
              " '***** ** ***',\n",
              " '3 - дер.Ширяево Волоколамского района, 9 - в Москве',\n",
              " '10, 9',\n",
              " 'Чем даль ше,тем лучше.Спасибо за ваш труд.Оценка 10 !',\n",
              " 'ОЦЕНКА-3/НЕВАЖНО/',\n",
              " 'Отвратительно',\n",
              " 'Я ценой услуг не удовлетворен',\n",
              " 'Пока не понял',\n",
              " '3, 9',\n",
              " '5, 6',\n",
              " '0, 1, 5',\n",
              " '5, 7',\n",
              " 'Hi',\n",
              " '4. Тульская область Заокский район. Романовские дачи связи почти нет',\n",
              " 'Немагу дать атценку денги незашто снимаеть скоро выклучаю',\n",
              " '10, 50',\n",
              " 'Очень  хорошо. Обслуживания  я довольно. Спасибо вам.555',\n",
              " '?',\n",
              " 'Поохое',\n",
              " 'Когда в Москве-10 а когда в калужской области в деревне Бели-1',\n",
              " 'Нет',\n",
              " 'Да',\n",
              " 'Ужасно',\n",
              " '3 тройка, связь отвратительная, жалко платить за такой тарив',\n",
              " 'Чдтчдтччдтччч',\n",
              " '3, 7',\n",
              " '20, 89031081392',\n",
              " '1, 8',\n",
              " 'Без з',\n",
              " '10, 5',\n",
              " '2, 5',\n",
              " 'Я в Смол. Области живу сейчас, не пользуюсь телефоном совсем']"
            ]
          },
          "metadata": {
            "tags": []
          },
          "execution_count": 5
        }
      ]
    },
    {
      "cell_type": "markdown",
      "metadata": {
        "id": "4rvbOUtYJYML"
      },
      "source": [
        "Столбец содержит также нерелевантные данные, например: текстовые ответы, несколько значений и не входящие в диапазон числа.\n",
        "\n",
        "Для корректного анализа необходимо провести очистку данных."
      ]
    },
    {
      "cell_type": "code",
      "metadata": {
        "colab": {
          "base_uri": "https://localhost:8080/"
        },
        "id": "ltNDHM4P5S9J",
        "outputId": "05f7a3c9-5de9-413d-9eba-86fc35402938"
      },
      "source": [
        "# Удаление нерелевантных данных\n",
        "\n",
        "marks = ['1', '2', '3', '4', '5', '6', '7', '8', '9', '10']\n",
        "df = df.loc[df['Q1'].isin(marks)]\n",
        "df['Q1'] = df['Q1'].astype(int)\n",
        "df['Q1'].unique().tolist()"
      ],
      "execution_count": 6,
      "outputs": [
        {
          "output_type": "execute_result",
          "data": {
            "text/plain": [
              "[5, 1, 8, 2, 3, 9, 10, 7, 4, 6]"
            ]
          },
          "metadata": {
            "tags": []
          },
          "execution_count": 6
        }
      ]
    },
    {
      "cell_type": "code",
      "metadata": {
        "colab": {
          "base_uri": "https://localhost:8080/",
          "height": 542
        },
        "id": "Imtl6Po35j5p",
        "outputId": "9ccd763c-c6a0-487d-f9ba-9058a1d373a6"
      },
      "source": [
        "# Визуализация распределения оценок\n",
        "df_marks = df.groupby('Q1').agg({'user_id' : 'count'})\n",
        "\n",
        "fig = go.Figure(data=[go.Bar(x = df_marks.index, y = df_marks['user_id'], marker_color = 'royalblue', text=df_marks['user_id'], textposition='outside')])          \n",
        "fig.update_layout(title = 'Распределение оценок')\n",
        "fig.update_xaxes({'dtick' : 1}, title = 'Оценки')\n",
        "fig.update_yaxes(title = 'Количество') \n",
        "fig.show()"
      ],
      "execution_count": 7,
      "outputs": [
        {
          "output_type": "display_data",
          "data": {
            "text/html": [
              "<html>\n",
              "<head><meta charset=\"utf-8\" /></head>\n",
              "<body>\n",
              "    <div>\n",
              "            <script src=\"https://cdnjs.cloudflare.com/ajax/libs/mathjax/2.7.5/MathJax.js?config=TeX-AMS-MML_SVG\"></script><script type=\"text/javascript\">if (window.MathJax) {MathJax.Hub.Config({SVG: {font: \"STIX-Web\"}});}</script>\n",
              "                <script type=\"text/javascript\">window.PlotlyConfig = {MathJaxConfig: 'local'};</script>\n",
              "        <script src=\"https://cdn.plot.ly/plotly-latest.min.js\"></script>    \n",
              "            <div id=\"b64f05ba-eb9b-4827-a043-9b92420d932d\" class=\"plotly-graph-div\" style=\"height:525px; width:100%;\"></div>\n",
              "            <script type=\"text/javascript\">\n",
              "                \n",
              "                    window.PLOTLYENV=window.PLOTLYENV || {};\n",
              "                    \n",
              "                if (document.getElementById(\"b64f05ba-eb9b-4827-a043-9b92420d932d\")) {\n",
              "                    Plotly.newPlot(\n",
              "                        'b64f05ba-eb9b-4827-a043-9b92420d932d',\n",
              "                        [{\"marker\": {\"color\": \"royalblue\"}, \"text\": [532.0, 168.0, 325.0, 123.0, 234.0, 101.0, 200.0, 291.0, 238.0, 846.0], \"textposition\": \"outside\", \"type\": \"bar\", \"x\": [1, 2, 3, 4, 5, 6, 7, 8, 9, 10], \"y\": [532, 168, 325, 123, 234, 101, 200, 291, 238, 846]}],\n",
              "                        {\"template\": {\"data\": {\"bar\": [{\"error_x\": {\"color\": \"#2a3f5f\"}, \"error_y\": {\"color\": \"#2a3f5f\"}, \"marker\": {\"line\": {\"color\": \"#E5ECF6\", \"width\": 0.5}}, \"type\": \"bar\"}], \"barpolar\": [{\"marker\": {\"line\": {\"color\": \"#E5ECF6\", \"width\": 0.5}}, \"type\": \"barpolar\"}], \"carpet\": [{\"aaxis\": {\"endlinecolor\": \"#2a3f5f\", \"gridcolor\": \"white\", \"linecolor\": \"white\", \"minorgridcolor\": \"white\", \"startlinecolor\": \"#2a3f5f\"}, \"baxis\": {\"endlinecolor\": \"#2a3f5f\", \"gridcolor\": \"white\", \"linecolor\": \"white\", \"minorgridcolor\": \"white\", \"startlinecolor\": \"#2a3f5f\"}, \"type\": \"carpet\"}], \"choropleth\": [{\"colorbar\": {\"outlinewidth\": 0, \"ticks\": \"\"}, \"type\": \"choropleth\"}], \"contour\": [{\"colorbar\": {\"outlinewidth\": 0, \"ticks\": \"\"}, \"colorscale\": [[0.0, \"#0d0887\"], [0.1111111111111111, \"#46039f\"], [0.2222222222222222, \"#7201a8\"], [0.3333333333333333, \"#9c179e\"], [0.4444444444444444, \"#bd3786\"], [0.5555555555555556, \"#d8576b\"], [0.6666666666666666, \"#ed7953\"], [0.7777777777777778, \"#fb9f3a\"], [0.8888888888888888, \"#fdca26\"], [1.0, \"#f0f921\"]], \"type\": \"contour\"}], \"contourcarpet\": [{\"colorbar\": {\"outlinewidth\": 0, \"ticks\": \"\"}, \"type\": \"contourcarpet\"}], \"heatmap\": [{\"colorbar\": {\"outlinewidth\": 0, \"ticks\": \"\"}, \"colorscale\": [[0.0, \"#0d0887\"], [0.1111111111111111, \"#46039f\"], [0.2222222222222222, \"#7201a8\"], [0.3333333333333333, \"#9c179e\"], [0.4444444444444444, \"#bd3786\"], [0.5555555555555556, \"#d8576b\"], [0.6666666666666666, \"#ed7953\"], [0.7777777777777778, \"#fb9f3a\"], [0.8888888888888888, \"#fdca26\"], [1.0, \"#f0f921\"]], \"type\": \"heatmap\"}], \"heatmapgl\": [{\"colorbar\": {\"outlinewidth\": 0, \"ticks\": \"\"}, \"colorscale\": [[0.0, \"#0d0887\"], [0.1111111111111111, \"#46039f\"], [0.2222222222222222, \"#7201a8\"], [0.3333333333333333, \"#9c179e\"], [0.4444444444444444, \"#bd3786\"], [0.5555555555555556, \"#d8576b\"], [0.6666666666666666, \"#ed7953\"], [0.7777777777777778, \"#fb9f3a\"], [0.8888888888888888, \"#fdca26\"], [1.0, \"#f0f921\"]], \"type\": \"heatmapgl\"}], \"histogram\": [{\"marker\": {\"colorbar\": {\"outlinewidth\": 0, \"ticks\": \"\"}}, \"type\": \"histogram\"}], \"histogram2d\": [{\"colorbar\": {\"outlinewidth\": 0, \"ticks\": \"\"}, \"colorscale\": [[0.0, \"#0d0887\"], [0.1111111111111111, \"#46039f\"], [0.2222222222222222, \"#7201a8\"], [0.3333333333333333, \"#9c179e\"], [0.4444444444444444, \"#bd3786\"], [0.5555555555555556, \"#d8576b\"], [0.6666666666666666, \"#ed7953\"], [0.7777777777777778, \"#fb9f3a\"], [0.8888888888888888, \"#fdca26\"], [1.0, \"#f0f921\"]], \"type\": \"histogram2d\"}], \"histogram2dcontour\": [{\"colorbar\": {\"outlinewidth\": 0, \"ticks\": \"\"}, \"colorscale\": [[0.0, \"#0d0887\"], [0.1111111111111111, \"#46039f\"], [0.2222222222222222, \"#7201a8\"], [0.3333333333333333, \"#9c179e\"], [0.4444444444444444, \"#bd3786\"], [0.5555555555555556, \"#d8576b\"], [0.6666666666666666, \"#ed7953\"], [0.7777777777777778, \"#fb9f3a\"], [0.8888888888888888, \"#fdca26\"], [1.0, \"#f0f921\"]], \"type\": \"histogram2dcontour\"}], \"mesh3d\": [{\"colorbar\": {\"outlinewidth\": 0, \"ticks\": \"\"}, \"type\": \"mesh3d\"}], \"parcoords\": [{\"line\": {\"colorbar\": {\"outlinewidth\": 0, \"ticks\": \"\"}}, \"type\": \"parcoords\"}], \"pie\": [{\"automargin\": true, \"type\": \"pie\"}], \"scatter\": [{\"marker\": {\"colorbar\": {\"outlinewidth\": 0, \"ticks\": \"\"}}, \"type\": \"scatter\"}], \"scatter3d\": [{\"line\": {\"colorbar\": {\"outlinewidth\": 0, \"ticks\": \"\"}}, \"marker\": {\"colorbar\": {\"outlinewidth\": 0, \"ticks\": \"\"}}, \"type\": \"scatter3d\"}], \"scattercarpet\": [{\"marker\": {\"colorbar\": {\"outlinewidth\": 0, \"ticks\": \"\"}}, \"type\": \"scattercarpet\"}], \"scattergeo\": [{\"marker\": {\"colorbar\": {\"outlinewidth\": 0, \"ticks\": \"\"}}, \"type\": \"scattergeo\"}], \"scattergl\": [{\"marker\": {\"colorbar\": {\"outlinewidth\": 0, \"ticks\": \"\"}}, \"type\": \"scattergl\"}], \"scattermapbox\": [{\"marker\": {\"colorbar\": {\"outlinewidth\": 0, \"ticks\": \"\"}}, \"type\": \"scattermapbox\"}], \"scatterpolar\": [{\"marker\": {\"colorbar\": {\"outlinewidth\": 0, \"ticks\": \"\"}}, \"type\": \"scatterpolar\"}], \"scatterpolargl\": [{\"marker\": {\"colorbar\": {\"outlinewidth\": 0, \"ticks\": \"\"}}, \"type\": \"scatterpolargl\"}], \"scatterternary\": [{\"marker\": {\"colorbar\": {\"outlinewidth\": 0, \"ticks\": \"\"}}, \"type\": \"scatterternary\"}], \"surface\": [{\"colorbar\": {\"outlinewidth\": 0, \"ticks\": \"\"}, \"colorscale\": [[0.0, \"#0d0887\"], [0.1111111111111111, \"#46039f\"], [0.2222222222222222, \"#7201a8\"], [0.3333333333333333, \"#9c179e\"], [0.4444444444444444, \"#bd3786\"], [0.5555555555555556, \"#d8576b\"], [0.6666666666666666, \"#ed7953\"], [0.7777777777777778, \"#fb9f3a\"], [0.8888888888888888, \"#fdca26\"], [1.0, \"#f0f921\"]], \"type\": \"surface\"}], \"table\": [{\"cells\": {\"fill\": {\"color\": \"#EBF0F8\"}, \"line\": {\"color\": \"white\"}}, \"header\": {\"fill\": {\"color\": \"#C8D4E3\"}, \"line\": {\"color\": \"white\"}}, \"type\": \"table\"}]}, \"layout\": {\"annotationdefaults\": {\"arrowcolor\": \"#2a3f5f\", \"arrowhead\": 0, \"arrowwidth\": 1}, \"coloraxis\": {\"colorbar\": {\"outlinewidth\": 0, \"ticks\": \"\"}}, \"colorscale\": {\"diverging\": [[0, \"#8e0152\"], [0.1, \"#c51b7d\"], [0.2, \"#de77ae\"], [0.3, \"#f1b6da\"], [0.4, \"#fde0ef\"], [0.5, \"#f7f7f7\"], [0.6, \"#e6f5d0\"], [0.7, \"#b8e186\"], [0.8, \"#7fbc41\"], [0.9, \"#4d9221\"], [1, \"#276419\"]], \"sequential\": [[0.0, \"#0d0887\"], [0.1111111111111111, \"#46039f\"], [0.2222222222222222, \"#7201a8\"], [0.3333333333333333, \"#9c179e\"], [0.4444444444444444, \"#bd3786\"], [0.5555555555555556, \"#d8576b\"], [0.6666666666666666, \"#ed7953\"], [0.7777777777777778, \"#fb9f3a\"], [0.8888888888888888, \"#fdca26\"], [1.0, \"#f0f921\"]], \"sequentialminus\": [[0.0, \"#0d0887\"], [0.1111111111111111, \"#46039f\"], [0.2222222222222222, \"#7201a8\"], [0.3333333333333333, \"#9c179e\"], [0.4444444444444444, \"#bd3786\"], [0.5555555555555556, \"#d8576b\"], [0.6666666666666666, \"#ed7953\"], [0.7777777777777778, \"#fb9f3a\"], [0.8888888888888888, \"#fdca26\"], [1.0, \"#f0f921\"]]}, \"colorway\": [\"#636efa\", \"#EF553B\", \"#00cc96\", \"#ab63fa\", \"#FFA15A\", \"#19d3f3\", \"#FF6692\", \"#B6E880\", \"#FF97FF\", \"#FECB52\"], \"font\": {\"color\": \"#2a3f5f\"}, \"geo\": {\"bgcolor\": \"white\", \"lakecolor\": \"white\", \"landcolor\": \"#E5ECF6\", \"showlakes\": true, \"showland\": true, \"subunitcolor\": \"white\"}, \"hoverlabel\": {\"align\": \"left\"}, \"hovermode\": \"closest\", \"mapbox\": {\"style\": \"light\"}, \"paper_bgcolor\": \"white\", \"plot_bgcolor\": \"#E5ECF6\", \"polar\": {\"angularaxis\": {\"gridcolor\": \"white\", \"linecolor\": \"white\", \"ticks\": \"\"}, \"bgcolor\": \"#E5ECF6\", \"radialaxis\": {\"gridcolor\": \"white\", \"linecolor\": \"white\", \"ticks\": \"\"}}, \"scene\": {\"xaxis\": {\"backgroundcolor\": \"#E5ECF6\", \"gridcolor\": \"white\", \"gridwidth\": 2, \"linecolor\": \"white\", \"showbackground\": true, \"ticks\": \"\", \"zerolinecolor\": \"white\"}, \"yaxis\": {\"backgroundcolor\": \"#E5ECF6\", \"gridcolor\": \"white\", \"gridwidth\": 2, \"linecolor\": \"white\", \"showbackground\": true, \"ticks\": \"\", \"zerolinecolor\": \"white\"}, \"zaxis\": {\"backgroundcolor\": \"#E5ECF6\", \"gridcolor\": \"white\", \"gridwidth\": 2, \"linecolor\": \"white\", \"showbackground\": true, \"ticks\": \"\", \"zerolinecolor\": \"white\"}}, \"shapedefaults\": {\"line\": {\"color\": \"#2a3f5f\"}}, \"ternary\": {\"aaxis\": {\"gridcolor\": \"white\", \"linecolor\": \"white\", \"ticks\": \"\"}, \"baxis\": {\"gridcolor\": \"white\", \"linecolor\": \"white\", \"ticks\": \"\"}, \"bgcolor\": \"#E5ECF6\", \"caxis\": {\"gridcolor\": \"white\", \"linecolor\": \"white\", \"ticks\": \"\"}}, \"title\": {\"x\": 0.05}, \"xaxis\": {\"automargin\": true, \"gridcolor\": \"white\", \"linecolor\": \"white\", \"ticks\": \"\", \"title\": {\"standoff\": 15}, \"zerolinecolor\": \"white\", \"zerolinewidth\": 2}, \"yaxis\": {\"automargin\": true, \"gridcolor\": \"white\", \"linecolor\": \"white\", \"ticks\": \"\", \"title\": {\"standoff\": 15}, \"zerolinecolor\": \"white\", \"zerolinewidth\": 2}}}, \"title\": {\"text\": \"\\u0420\\u0430\\u0441\\u043f\\u0440\\u0435\\u0434\\u0435\\u043b\\u0435\\u043d\\u0438\\u0435 \\u043e\\u0446\\u0435\\u043d\\u043e\\u043a\"}, \"xaxis\": {\"dtick\": 1, \"title\": {\"text\": \"\\u041e\\u0446\\u0435\\u043d\\u043a\\u0438\"}}, \"yaxis\": {\"title\": {\"text\": \"\\u041a\\u043e\\u043b\\u0438\\u0447\\u0435\\u0441\\u0442\\u0432\\u043e\"}}},\n",
              "                        {\"responsive\": true}\n",
              "                    ).then(function(){\n",
              "                            \n",
              "var gd = document.getElementById('b64f05ba-eb9b-4827-a043-9b92420d932d');\n",
              "var x = new MutationObserver(function (mutations, observer) {{\n",
              "        var display = window.getComputedStyle(gd).display;\n",
              "        if (!display || display === 'none') {{\n",
              "            console.log([gd, 'removed!']);\n",
              "            Plotly.purge(gd);\n",
              "            observer.disconnect();\n",
              "        }}\n",
              "}});\n",
              "\n",
              "// Listen for the removal of the full notebook cells\n",
              "var notebookContainer = gd.closest('#notebook-container');\n",
              "if (notebookContainer) {{\n",
              "    x.observe(notebookContainer, {childList: true});\n",
              "}}\n",
              "\n",
              "// Listen for the clearing of the current output cell\n",
              "var outputEl = gd.closest('.output');\n",
              "if (outputEl) {{\n",
              "    x.observe(outputEl, {childList: true});\n",
              "}}\n",
              "\n",
              "                        })\n",
              "                };\n",
              "                \n",
              "            </script>\n",
              "        </div>\n",
              "</body>\n",
              "</html>"
            ]
          },
          "metadata": {
            "tags": []
          }
        }
      ]
    },
    {
      "cell_type": "markdown",
      "metadata": {
        "id": "0CGRKoQc6Jkr"
      },
      "source": [
        "Исходя из графика, можно сделать вывод, что преобладает оценка \"10\", но также наблюдается большое количество неудовлетворительных оценок (1-8). \n",
        "Для компании важно минимизировать количество низких оценок, поэтому целесообразно оценить, что может оказывать влияние на удовлетворенность клиентов."
      ]
    },
    {
      "cell_type": "code",
      "metadata": {
        "colab": {
          "base_uri": "https://localhost:8080/",
          "height": 595
        },
        "id": "_uwq5aBpJYMN",
        "outputId": "906d07b3-e6fc-4582-e27a-f8c1e73208b4"
      },
      "source": [
        "df_correlation = df.corr()\n",
        "df_correlation['Q1'].sort_values(ascending = False)\n",
        "df_correlation"
      ],
      "execution_count": 8,
      "outputs": [
        {
          "output_type": "execute_result",
          "data": {
            "text/html": [
              "<div>\n",
              "<style scoped>\n",
              "    .dataframe tbody tr th:only-of-type {\n",
              "        vertical-align: middle;\n",
              "    }\n",
              "\n",
              "    .dataframe tbody tr th {\n",
              "        vertical-align: top;\n",
              "    }\n",
              "\n",
              "    .dataframe thead th {\n",
              "        text-align: right;\n",
              "    }\n",
              "</style>\n",
              "<table border=\"1\" class=\"dataframe\">\n",
              "  <thead>\n",
              "    <tr style=\"text-align: right;\">\n",
              "      <th></th>\n",
              "      <th>user_id</th>\n",
              "      <th>Q1</th>\n",
              "      <th>Total Traffic(MB)</th>\n",
              "      <th>Downlink Throughput(Kbps)</th>\n",
              "      <th>Uplink Throughput(Kbps)</th>\n",
              "      <th>Downlink TCP Retransmission Rate(%)</th>\n",
              "      <th>Video Streaming Download Throughput(Kbps)</th>\n",
              "      <th>Video Streaming xKB Start Delay(ms)</th>\n",
              "      <th>Web Page Download Throughput(Kbps)</th>\n",
              "      <th>Web Average TCP RTT(ms)</th>\n",
              "    </tr>\n",
              "  </thead>\n",
              "  <tbody>\n",
              "    <tr>\n",
              "      <th>user_id</th>\n",
              "      <td>1.000000</td>\n",
              "      <td>0.003759</td>\n",
              "      <td>-0.002434</td>\n",
              "      <td>0.005629</td>\n",
              "      <td>-0.003396</td>\n",
              "      <td>-0.033186</td>\n",
              "      <td>-0.009411</td>\n",
              "      <td>-0.019838</td>\n",
              "      <td>-0.005669</td>\n",
              "      <td>0.034608</td>\n",
              "    </tr>\n",
              "    <tr>\n",
              "      <th>Q1</th>\n",
              "      <td>0.003759</td>\n",
              "      <td>1.000000</td>\n",
              "      <td>-0.006246</td>\n",
              "      <td>0.088240</td>\n",
              "      <td>0.067721</td>\n",
              "      <td>-0.093386</td>\n",
              "      <td>0.108803</td>\n",
              "      <td>-0.100187</td>\n",
              "      <td>0.083663</td>\n",
              "      <td>-0.117002</td>\n",
              "    </tr>\n",
              "    <tr>\n",
              "      <th>Total Traffic(MB)</th>\n",
              "      <td>-0.002434</td>\n",
              "      <td>-0.006246</td>\n",
              "      <td>1.000000</td>\n",
              "      <td>0.142469</td>\n",
              "      <td>0.018312</td>\n",
              "      <td>-0.092062</td>\n",
              "      <td>0.038646</td>\n",
              "      <td>-0.049636</td>\n",
              "      <td>0.028740</td>\n",
              "      <td>-0.074521</td>\n",
              "    </tr>\n",
              "    <tr>\n",
              "      <th>Downlink Throughput(Kbps)</th>\n",
              "      <td>0.005629</td>\n",
              "      <td>0.088240</td>\n",
              "      <td>0.142469</td>\n",
              "      <td>1.000000</td>\n",
              "      <td>0.156120</td>\n",
              "      <td>-0.192326</td>\n",
              "      <td>0.576065</td>\n",
              "      <td>-0.225456</td>\n",
              "      <td>0.266168</td>\n",
              "      <td>-0.189598</td>\n",
              "    </tr>\n",
              "    <tr>\n",
              "      <th>Uplink Throughput(Kbps)</th>\n",
              "      <td>-0.003396</td>\n",
              "      <td>0.067721</td>\n",
              "      <td>0.018312</td>\n",
              "      <td>0.156120</td>\n",
              "      <td>1.000000</td>\n",
              "      <td>-0.099840</td>\n",
              "      <td>0.170372</td>\n",
              "      <td>-0.080932</td>\n",
              "      <td>0.121661</td>\n",
              "      <td>-0.142160</td>\n",
              "    </tr>\n",
              "    <tr>\n",
              "      <th>Downlink TCP Retransmission Rate(%)</th>\n",
              "      <td>-0.033186</td>\n",
              "      <td>-0.093386</td>\n",
              "      <td>-0.092062</td>\n",
              "      <td>-0.192326</td>\n",
              "      <td>-0.099840</td>\n",
              "      <td>1.000000</td>\n",
              "      <td>-0.241937</td>\n",
              "      <td>0.193828</td>\n",
              "      <td>-0.193402</td>\n",
              "      <td>0.133720</td>\n",
              "    </tr>\n",
              "    <tr>\n",
              "      <th>Video Streaming Download Throughput(Kbps)</th>\n",
              "      <td>-0.009411</td>\n",
              "      <td>0.108803</td>\n",
              "      <td>0.038646</td>\n",
              "      <td>0.576065</td>\n",
              "      <td>0.170372</td>\n",
              "      <td>-0.241937</td>\n",
              "      <td>1.000000</td>\n",
              "      <td>-0.367639</td>\n",
              "      <td>0.386492</td>\n",
              "      <td>-0.256265</td>\n",
              "    </tr>\n",
              "    <tr>\n",
              "      <th>Video Streaming xKB Start Delay(ms)</th>\n",
              "      <td>-0.019838</td>\n",
              "      <td>-0.100187</td>\n",
              "      <td>-0.049636</td>\n",
              "      <td>-0.225456</td>\n",
              "      <td>-0.080932</td>\n",
              "      <td>0.193828</td>\n",
              "      <td>-0.367639</td>\n",
              "      <td>1.000000</td>\n",
              "      <td>-0.174785</td>\n",
              "      <td>0.232962</td>\n",
              "    </tr>\n",
              "    <tr>\n",
              "      <th>Web Page Download Throughput(Kbps)</th>\n",
              "      <td>-0.005669</td>\n",
              "      <td>0.083663</td>\n",
              "      <td>0.028740</td>\n",
              "      <td>0.266168</td>\n",
              "      <td>0.121661</td>\n",
              "      <td>-0.193402</td>\n",
              "      <td>0.386492</td>\n",
              "      <td>-0.174785</td>\n",
              "      <td>1.000000</td>\n",
              "      <td>-0.225465</td>\n",
              "    </tr>\n",
              "    <tr>\n",
              "      <th>Web Average TCP RTT(ms)</th>\n",
              "      <td>0.034608</td>\n",
              "      <td>-0.117002</td>\n",
              "      <td>-0.074521</td>\n",
              "      <td>-0.189598</td>\n",
              "      <td>-0.142160</td>\n",
              "      <td>0.133720</td>\n",
              "      <td>-0.256265</td>\n",
              "      <td>0.232962</td>\n",
              "      <td>-0.225465</td>\n",
              "      <td>1.000000</td>\n",
              "    </tr>\n",
              "  </tbody>\n",
              "</table>\n",
              "</div>"
            ],
            "text/plain": [
              "                                            user_id  ...  Web Average TCP RTT(ms)\n",
              "user_id                                    1.000000  ...                 0.034608\n",
              "Q1                                         0.003759  ...                -0.117002\n",
              "Total Traffic(MB)                         -0.002434  ...                -0.074521\n",
              "Downlink Throughput(Kbps)                  0.005629  ...                -0.189598\n",
              "Uplink Throughput(Kbps)                   -0.003396  ...                -0.142160\n",
              "Downlink TCP Retransmission Rate(%)       -0.033186  ...                 0.133720\n",
              "Video Streaming Download Throughput(Kbps) -0.009411  ...                -0.256265\n",
              "Video Streaming xKB Start Delay(ms)       -0.019838  ...                 0.232962\n",
              "Web Page Download Throughput(Kbps)        -0.005669  ...                -0.225465\n",
              "Web Average TCP RTT(ms)                    0.034608  ...                 1.000000\n",
              "\n",
              "[10 rows x 10 columns]"
            ]
          },
          "metadata": {
            "tags": []
          },
          "execution_count": 8
        }
      ]
    },
    {
      "cell_type": "markdown",
      "metadata": {
        "id": "UO0_Cp07JYMO"
      },
      "source": [
        "Проанализировав представленные технические показатели, можно предположить, что пинг при просмотре web-страниц (Web Average TCP RTT(ms)) оказывает значимое влияние на общую оценку деятельности, т.к. задержка при загрузке web-страниц может привести к недовольству клиента и, как следствие, к получению плохой оценки компании. \n",
        "\n",
        "**Задача 1.** Проверить, существует ли зависимость между оценками клиентов и показателем \"Web Average TCP RTT(ms)\".\n",
        "\n",
        "*Разведочный анализ*"
      ]
    },
    {
      "cell_type": "code",
      "metadata": {
        "colab": {
          "base_uri": "https://localhost:8080/",
          "height": 420
        },
        "id": "gT4KI_6m-nAA",
        "outputId": "58bc0aae-771a-4e97-9d10-3bf63dcc56e5"
      },
      "source": [
        "df_corr = df.groupby('Q1').agg({'Web Average TCP RTT(ms)' : ['min', 'max', 'mean']})\n",
        "df_corr"
      ],
      "execution_count": 9,
      "outputs": [
        {
          "output_type": "execute_result",
          "data": {
            "text/html": [
              "<div>\n",
              "<style scoped>\n",
              "    .dataframe tbody tr th:only-of-type {\n",
              "        vertical-align: middle;\n",
              "    }\n",
              "\n",
              "    .dataframe tbody tr th {\n",
              "        vertical-align: top;\n",
              "    }\n",
              "\n",
              "    .dataframe thead tr th {\n",
              "        text-align: left;\n",
              "    }\n",
              "\n",
              "    .dataframe thead tr:last-of-type th {\n",
              "        text-align: right;\n",
              "    }\n",
              "</style>\n",
              "<table border=\"1\" class=\"dataframe\">\n",
              "  <thead>\n",
              "    <tr>\n",
              "      <th></th>\n",
              "      <th colspan=\"3\" halign=\"left\">Web Average TCP RTT(ms)</th>\n",
              "    </tr>\n",
              "    <tr>\n",
              "      <th></th>\n",
              "      <th>min</th>\n",
              "      <th>max</th>\n",
              "      <th>mean</th>\n",
              "    </tr>\n",
              "    <tr>\n",
              "      <th>Q1</th>\n",
              "      <th></th>\n",
              "      <th></th>\n",
              "      <th></th>\n",
              "    </tr>\n",
              "  </thead>\n",
              "  <tbody>\n",
              "    <tr>\n",
              "      <th>1</th>\n",
              "      <td>29</td>\n",
              "      <td>3471</td>\n",
              "      <td>258.894737</td>\n",
              "    </tr>\n",
              "    <tr>\n",
              "      <th>2</th>\n",
              "      <td>35</td>\n",
              "      <td>1535</td>\n",
              "      <td>198.648810</td>\n",
              "    </tr>\n",
              "    <tr>\n",
              "      <th>3</th>\n",
              "      <td>22</td>\n",
              "      <td>2178</td>\n",
              "      <td>225.886154</td>\n",
              "    </tr>\n",
              "    <tr>\n",
              "      <th>4</th>\n",
              "      <td>35</td>\n",
              "      <td>1737</td>\n",
              "      <td>180.105691</td>\n",
              "    </tr>\n",
              "    <tr>\n",
              "      <th>5</th>\n",
              "      <td>0</td>\n",
              "      <td>2128</td>\n",
              "      <td>190.269231</td>\n",
              "    </tr>\n",
              "    <tr>\n",
              "      <th>6</th>\n",
              "      <td>0</td>\n",
              "      <td>2394</td>\n",
              "      <td>192.742574</td>\n",
              "    </tr>\n",
              "    <tr>\n",
              "      <th>7</th>\n",
              "      <td>40</td>\n",
              "      <td>2178</td>\n",
              "      <td>164.445000</td>\n",
              "    </tr>\n",
              "    <tr>\n",
              "      <th>8</th>\n",
              "      <td>36</td>\n",
              "      <td>2533</td>\n",
              "      <td>169.910653</td>\n",
              "    </tr>\n",
              "    <tr>\n",
              "      <th>9</th>\n",
              "      <td>30</td>\n",
              "      <td>2295</td>\n",
              "      <td>173.689076</td>\n",
              "    </tr>\n",
              "    <tr>\n",
              "      <th>10</th>\n",
              "      <td>0</td>\n",
              "      <td>2982</td>\n",
              "      <td>165.600473</td>\n",
              "    </tr>\n",
              "  </tbody>\n",
              "</table>\n",
              "</div>"
            ],
            "text/plain": [
              "   Web Average TCP RTT(ms)                  \n",
              "                       min   max        mean\n",
              "Q1                                          \n",
              "1                       29  3471  258.894737\n",
              "2                       35  1535  198.648810\n",
              "3                       22  2178  225.886154\n",
              "4                       35  1737  180.105691\n",
              "5                        0  2128  190.269231\n",
              "6                        0  2394  192.742574\n",
              "7                       40  2178  164.445000\n",
              "8                       36  2533  169.910653\n",
              "9                       30  2295  173.689076\n",
              "10                       0  2982  165.600473"
            ]
          },
          "metadata": {
            "tags": []
          },
          "execution_count": 9
        }
      ]
    },
    {
      "cell_type": "code",
      "metadata": {
        "colab": {
          "base_uri": "https://localhost:8080/",
          "height": 542
        },
        "id": "genY_pL8_JSJ",
        "outputId": "7e497419-f751-48cc-e9f9-261a8ca3fd1a"
      },
      "source": [
        "fig = go.Figure(data=go.Scatter(x=df['Q1'], y=df['Web Average TCP RTT(ms)'], mode='markers'))\n",
        "fig.update_layout(title = 'Корреляция ответов пользователей и Web Average TCP RTT(ms)')\n",
        "fig.update_xaxes({'dtick' : 1}, title = 'Оценки')\n",
        "fig.update_yaxes(title = 'Пинг при просмотре web-страниц') \n",
        "fig.show()"
      ],
      "execution_count": 10,
      "outputs": [
        {
          "output_type": "display_data",
          "data": {
            "text/html": [
              "<html>\n",
              "<head><meta charset=\"utf-8\" /></head>\n",
              "<body>\n",
              "    <div>\n",
              "            <script src=\"https://cdnjs.cloudflare.com/ajax/libs/mathjax/2.7.5/MathJax.js?config=TeX-AMS-MML_SVG\"></script><script type=\"text/javascript\">if (window.MathJax) {MathJax.Hub.Config({SVG: {font: \"STIX-Web\"}});}</script>\n",
              "                <script type=\"text/javascript\">window.PlotlyConfig = {MathJaxConfig: 'local'};</script>\n",
              "        <script src=\"https://cdn.plot.ly/plotly-latest.min.js\"></script>    \n",
              "            <div id=\"6bc52e5d-79af-4c9b-b0e1-6d61a6f6176d\" class=\"plotly-graph-div\" style=\"height:525px; width:100%;\"></div>\n",
              "            <script type=\"text/javascript\">\n",
              "                \n",
              "                    window.PLOTLYENV=window.PLOTLYENV || {};\n",
              "                    \n",
              "                if (document.getElementById(\"6bc52e5d-79af-4c9b-b0e1-6d61a6f6176d\")) {\n",
              "                    Plotly.newPlot(\n",
              "                        '6bc52e5d-79af-4c9b-b0e1-6d61a6f6176d',\n",
              "                        [{\"mode\": \"markers\", \"type\": \"scatter\", \"x\": [5, 5, 1, 8, 2, 3, 2, 9, 1, 3, 3, 1, 1, 10, 8, 10, 3, 1, 7, 3, 9, 10, 8, 7, 3, 10, 4, 10, 10, 9, 1, 10, 9, 4, 4, 3, 10, 1, 2, 3, 10, 1, 10, 10, 9, 3, 9, 10, 2, 8, 4, 6, 10, 10, 7, 7, 6, 10, 10, 7, 1, 6, 5, 2, 8, 3, 10, 3, 2, 1, 8, 3, 1, 10, 3, 3, 10, 10, 10, 1, 5, 10, 1, 7, 5, 10, 9, 1, 3, 9, 10, 5, 10, 1, 9, 9, 4, 10, 8, 8, 10, 3, 5, 1, 2, 10, 10, 9, 1, 7, 1, 1, 9, 5, 10, 8, 7, 1, 10, 7, 1, 4, 1, 10, 4, 1, 10, 10, 1, 3, 7, 7, 10, 1, 9, 10, 10, 9, 7, 3, 10, 7, 10, 5, 10, 10, 10, 5, 10, 4, 9, 8, 2, 10, 10, 3, 10, 1, 10, 4, 2, 3, 10, 1, 10, 7, 10, 5, 10, 1, 3, 9, 10, 10, 10, 8, 10, 7, 5, 10, 7, 10, 1, 7, 2, 9, 5, 10, 9, 10, 1, 3, 10, 3, 1, 7, 8, 8, 5, 3, 1, 1, 8, 8, 6, 10, 7, 1, 8, 3, 7, 7, 3, 10, 8, 3, 8, 10, 10, 9, 2, 9, 10, 10, 1, 10, 1, 9, 1, 1, 1, 10, 1, 1, 3, 10, 10, 10, 8, 7, 8, 10, 9, 4, 8, 10, 3, 8, 5, 8, 10, 10, 10, 10, 8, 1, 7, 8, 9, 10, 3, 1, 3, 9, 10, 1, 1, 1, 10, 5, 1, 10, 3, 10, 3, 3, 10, 5, 8, 5, 2, 4, 1, 7, 1, 5, 1, 3, 5, 2, 1, 1, 1, 3, 3, 5, 10, 8, 5, 1, 7, 10, 10, 6, 10, 2, 10, 3, 3, 10, 10, 1, 5, 1, 10, 10, 4, 10, 1, 1, 4, 10, 10, 10, 6, 1, 10, 2, 3, 8, 5, 10, 4, 8, 1, 1, 4, 1, 10, 9, 2, 8, 10, 4, 1, 10, 5, 7, 3, 8, 1, 1, 8, 3, 10, 10, 3, 3, 10, 7, 1, 6, 10, 7, 7, 9, 5, 3, 5, 5, 7, 5, 5, 5, 5, 7, 1, 10, 1, 10, 3, 8, 7, 8, 2, 6, 8, 6, 6, 5, 1, 3, 5, 1, 7, 9, 1, 8, 7, 9, 7, 10, 1, 7, 5, 10, 1, 3, 1, 10, 1, 8, 6, 8, 6, 3, 3, 5, 5, 7, 1, 1, 1, 1, 1, 1, 10, 10, 8, 1, 8, 9, 8, 2, 3, 3, 10, 6, 1, 8, 9, 10, 4, 3, 1, 10, 5, 1, 8, 10, 10, 6, 1, 8, 3, 6, 10, 1, 8, 1, 10, 8, 5, 8, 7, 3, 5, 1, 10, 3, 10, 10, 5, 5, 6, 10, 9, 7, 1, 5, 1, 5, 3, 10, 5, 2, 10, 2, 1, 2, 10, 5, 1, 1, 3, 7, 9, 6, 7, 7, 4, 9, 3, 4, 2, 1, 9, 10, 5, 10, 4, 7, 3, 9, 10, 8, 7, 5, 1, 1, 5, 3, 1, 6, 1, 1, 1, 7, 10, 10, 1, 4, 7, 3, 1, 1, 7, 3, 2, 10, 10, 1, 1, 2, 9, 6, 10, 3, 7, 6, 1, 5, 2, 1, 1, 9, 2, 8, 10, 5, 10, 8, 8, 3, 7, 10, 8, 7, 2, 8, 8, 10, 5, 10, 1, 10, 10, 10, 4, 7, 10, 1, 10, 8, 9, 10, 10, 3, 5, 8, 10, 10, 7, 3, 10, 3, 9, 10, 10, 9, 2, 9, 8, 1, 5, 1, 4, 8, 5, 4, 1, 8, 7, 5, 3, 3, 10, 2, 2, 6, 1, 3, 7, 1, 3, 10, 10, 3, 1, 2, 3, 2, 3, 5, 8, 1, 1, 9, 1, 7, 9, 5, 10, 2, 10, 1, 1, 3, 3, 10, 8, 3, 10, 10, 10, 5, 1, 3, 10, 5, 1, 9, 9, 10, 1, 3, 10, 1, 10, 9, 2, 10, 10, 5, 8, 2, 10, 3, 3, 5, 4, 10, 9, 10, 10, 10, 3, 10, 10, 4, 10, 1, 6, 10, 8, 10, 2, 8, 10, 2, 1, 10, 10, 3, 4, 10, 8, 5, 8, 10, 8, 2, 4, 3, 10, 8, 10, 10, 2, 1, 10, 10, 3, 1, 6, 5, 10, 7, 8, 10, 9, 1, 8, 10, 7, 1, 7, 3, 4, 1, 8, 9, 1, 10, 10, 4, 4, 8, 4, 1, 10, 7, 10, 1, 1, 8, 9, 10, 10, 3, 10, 5, 9, 2, 1, 3, 9, 1, 9, 6, 1, 10, 3, 10, 5, 1, 8, 10, 10, 10, 9, 9, 1, 10, 9, 4, 10, 10, 2, 1, 7, 2, 10, 10, 10, 8, 3, 3, 10, 4, 7, 10, 1, 3, 10, 3, 10, 1, 3, 7, 5, 7, 1, 4, 10, 9, 3, 10, 6, 10, 2, 7, 1, 5, 10, 1, 10, 2, 5, 9, 7, 9, 10, 9, 1, 1, 6, 1, 3, 8, 3, 1, 5, 10, 9, 10, 9, 5, 2, 3, 10, 9, 1, 10, 1, 3, 4, 5, 10, 8, 1, 10, 8, 1, 8, 10, 3, 4, 7, 10, 8, 4, 4, 7, 8, 10, 7, 8, 2, 5, 10, 6, 6, 3, 4, 7, 1, 3, 1, 1, 2, 7, 1, 10, 10, 6, 7, 6, 3, 5, 8, 9, 8, 1, 2, 10, 2, 1, 8, 10, 5, 1, 1, 10, 1, 8, 6, 1, 10, 1, 10, 9, 10, 3, 8, 5, 10, 10, 6, 8, 1, 8, 10, 3, 7, 8, 10, 7, 7, 2, 10, 10, 2, 10, 3, 8, 10, 8, 3, 4, 1, 7, 1, 10, 1, 1, 5, 9, 10, 3, 10, 5, 1, 5, 7, 7, 3, 10, 1, 1, 10, 9, 1, 5, 10, 9, 8, 10, 5, 10, 8, 10, 10, 8, 4, 4, 5, 10, 1, 10, 5, 3, 2, 8, 10, 9, 10, 10, 10, 8, 8, 9, 4, 2, 5, 9, 8, 4, 5, 1, 7, 10, 10, 10, 6, 9, 5, 10, 10, 10, 8, 10, 9, 8, 10, 10, 1, 9, 2, 7, 10, 10, 1, 10, 4, 7, 8, 5, 10, 1, 10, 9, 3, 6, 10, 3, 2, 1, 8, 4, 3, 5, 10, 2, 3, 10, 10, 3, 10, 10, 7, 1, 1, 10, 1, 9, 10, 9, 10, 8, 7, 8, 10, 10, 9, 10, 10, 5, 10, 10, 2, 3, 9, 10, 10, 10, 10, 4, 10, 6, 1, 1, 8, 5, 7, 1, 1, 2, 10, 9, 3, 8, 1, 2, 1, 10, 8, 8, 10, 9, 1, 10, 1, 1, 10, 8, 9, 3, 8, 10, 3, 9, 3, 10, 1, 3, 8, 10, 8, 10, 10, 6, 10, 10, 10, 7, 2, 3, 10, 6, 10, 6, 10, 8, 10, 5, 10, 10, 8, 1, 10, 9, 9, 9, 10, 1, 10, 10, 3, 10, 1, 9, 7, 10, 8, 4, 1, 2, 9, 5, 9, 5, 2, 3, 1, 8, 5, 10, 1, 3, 10, 10, 10, 10, 7, 9, 10, 1, 8, 9, 4, 10, 3, 7, 1, 6, 5, 4, 2, 10, 10, 1, 10, 2, 3, 7, 5, 3, 1, 1, 1, 3, 10, 1, 8, 8, 1, 1, 3, 7, 10, 10, 10, 8, 10, 3, 6, 8, 10, 3, 1, 10, 1, 10, 4, 10, 4, 7, 10, 3, 10, 5, 3, 10, 2, 10, 5, 7, 10, 2, 8, 10, 10, 1, 1, 1, 4, 10, 1, 10, 9, 1, 2, 8, 3, 9, 8, 10, 5, 10, 10, 10, 10, 8, 2, 3, 6, 10, 1, 5, 2, 3, 2, 3, 7, 8, 9, 10, 8, 5, 1, 8, 6, 3, 10, 5, 1, 9, 5, 1, 8, 10, 6, 3, 3, 10, 5, 1, 1, 3, 8, 5, 3, 8, 6, 10, 10, 1, 1, 1, 8, 10, 10, 9, 1, 2, 10, 10, 9, 7, 10, 4, 1, 5, 3, 1, 1, 10, 10, 10, 10, 9, 6, 5, 1, 10, 8, 10, 5, 9, 10, 10, 4, 6, 4, 10, 9, 3, 7, 9, 10, 5, 7, 2, 10, 1, 1, 7, 8, 4, 1, 10, 2, 10, 3, 3, 6, 5, 5, 10, 10, 8, 1, 9, 9, 9, 3, 3, 6, 1, 5, 8, 8, 10, 5, 1, 1, 1, 10, 3, 10, 9, 10, 10, 5, 10, 1, 1, 1, 9, 3, 10, 3, 6, 10, 10, 3, 10, 10, 7, 8, 8, 10, 5, 1, 1, 9, 10, 1, 10, 1, 8, 3, 1, 1, 7, 2, 5, 3, 4, 1, 9, 8, 8, 10, 1, 10, 10, 5, 4, 9, 7, 3, 10, 1, 3, 10, 1, 10, 6, 5, 10, 3, 5, 7, 7, 3, 4, 10, 10, 1, 2, 8, 10, 3, 5, 1, 5, 10, 8, 7, 2, 10, 10, 1, 9, 10, 8, 10, 2, 5, 10, 10, 10, 10, 1, 10, 10, 7, 10, 2, 7, 5, 5, 10, 10, 8, 3, 10, 3, 3, 10, 5, 1, 9, 10, 6, 9, 10, 1, 5, 8, 10, 10, 2, 4, 1, 5, 5, 9, 2, 1, 1, 7, 10, 10, 1, 10, 9, 9, 1, 10, 10, 4, 8, 1, 7, 1, 1, 1, 10, 2, 3, 5, 8, 8, 8, 7, 1, 3, 8, 1, 2, 10, 1, 2, 10, 5, 8, 5, 5, 9, 1, 8, 10, 10, 10, 10, 1, 5, 1, 10, 7, 5, 3, 6, 1, 5, 10, 5, 10, 1, 6, 1, 10, 4, 9, 3, 1, 1, 2, 9, 1, 2, 3, 7, 10, 1, 10, 1, 6, 10, 1, 4, 7, 1, 1, 9, 10, 7, 2, 8, 5, 9, 10, 10, 5, 1, 5, 7, 10, 10, 10, 2, 10, 1, 5, 10, 3, 5, 8, 3, 5, 8, 8, 7, 9, 1, 10, 1, 10, 1, 5, 3, 10, 4, 10, 10, 1, 10, 10, 3, 8, 10, 1, 10, 1, 8, 6, 10, 10, 10, 8, 8, 4, 7, 5, 8, 1, 3, 3, 3, 3, 9, 8, 1, 10, 10, 5, 10, 1, 10, 2, 2, 10, 10, 7, 3, 10, 8, 3, 5, 1, 10, 5, 10, 10, 10, 10, 10, 1, 10, 8, 8, 1, 9, 7, 3, 9, 3, 9, 4, 10, 8, 10, 4, 10, 5, 2, 10, 1, 10, 5, 1, 10, 1, 10, 10, 1, 5, 3, 10, 10, 10, 2, 3, 3, 1, 5, 3, 1, 3, 2, 1, 9, 4, 4, 1, 10, 1, 9, 3, 9, 1, 10, 10, 1, 8, 1, 3, 1, 1, 10, 10, 8, 10, 5, 1, 2, 10, 10, 1, 9, 1, 9, 8, 1, 3, 9, 10, 6, 10, 5, 5, 2, 3, 9, 10, 1, 2, 1, 10, 9, 3, 1, 5, 6, 9, 7, 2, 3, 8, 10, 1, 10, 1, 3, 10, 8, 10, 10, 10, 1, 10, 10, 9, 5, 3, 3, 9, 1, 10, 7, 7, 10, 10, 3, 10, 3, 10, 9, 8, 10, 4, 1, 10, 9, 1, 10, 8, 7, 1, 8, 10, 4, 3, 10, 7, 10, 6, 1, 3, 9, 1, 7, 3, 3, 8, 3, 9, 10, 10, 8, 10, 9, 7, 5, 9, 10, 7, 1, 1, 8, 10, 3, 9, 3, 1, 2, 1, 10, 3, 9, 10, 10, 9, 5, 7, 1, 2, 4, 7, 1, 2, 3, 1, 10, 9, 7, 1, 4, 6, 10, 1, 1, 1, 1, 10, 9, 8, 10, 3, 10, 3, 10, 10, 9, 7, 7, 7, 7, 5, 3, 1, 5, 7, 10, 10, 9, 8, 8, 8, 7, 10, 5, 9, 10, 1, 10, 10, 10, 10, 5, 10, 3, 10, 10, 10, 9, 10, 9, 8, 8, 8, 8, 7, 8, 10, 4, 10, 10, 10, 4, 10, 10, 10, 2, 5, 2, 2, 5, 10, 4, 10, 1, 10, 2, 3, 2, 8, 10, 1, 2, 8, 3, 1, 10, 2, 10, 10, 10, 10, 8, 9, 7, 8, 10, 9, 10, 1, 1, 10, 10, 3, 9, 10, 3, 7, 10, 9, 8, 2, 8, 7, 2, 10, 1, 8, 9, 10, 10, 10, 10, 5, 7, 1, 1, 8, 1, 10, 3, 8, 10, 10, 2, 6, 1, 1, 4, 7, 7, 3, 2, 8, 10, 1, 10, 10, 10, 8, 10, 10, 10, 5, 5, 1, 8, 4, 1, 10, 9, 3, 8, 1, 10, 9, 10, 9, 5, 8, 9, 3, 7, 10, 6, 5, 3, 1, 9, 1, 5, 10, 10, 1, 1, 1, 8, 2, 10, 3, 8, 9, 3, 1, 5, 8, 7, 10, 1, 3, 6, 5, 5, 1, 8, 1, 9, 10, 10, 1, 10, 10, 1, 1, 4, 10, 2, 2, 8, 1, 8, 10, 2, 8, 1, 3, 10, 8, 5, 2, 10, 4, 1, 4, 3, 9, 3, 3, 9, 4, 5, 10, 1, 6, 1, 1, 5, 10, 1, 2, 5, 1, 3, 1, 7, 8, 7, 9, 7, 10, 2, 1, 10, 3, 10, 6, 9, 7, 10, 10, 1, 8, 3, 10, 5, 3, 8, 3, 7, 10, 10, 10, 10, 9, 4, 10, 1, 9, 10, 1, 5, 8, 9, 8, 2, 8, 1, 10, 6, 10, 8, 1, 1, 7, 1, 10, 9, 3, 4, 9, 8, 10, 3, 10, 3, 10, 2, 1, 4, 6, 5, 10, 10, 10, 8, 9, 8, 10, 10, 9, 10, 10, 1, 1, 4, 8, 2, 9, 1, 8, 10, 1, 10, 10, 1, 10, 8, 9, 10, 10, 1, 3, 3, 1, 10, 10, 5, 10, 4, 4, 8, 3, 10, 5, 1, 10, 10, 3, 7, 8, 1, 5, 5, 7, 2, 2, 10, 5, 1, 2, 3, 2, 10, 9, 7, 9, 1, 5, 7, 10, 7, 1, 6, 3, 5, 3, 7, 1, 3, 1, 10, 1, 2, 1, 3, 9, 10, 7, 5, 2, 10, 6, 4, 1, 1, 9, 10, 9, 7, 2, 3, 6, 4, 8, 8, 10, 1, 2, 7, 10, 2, 10, 3, 1, 8, 1, 1, 1, 10, 9, 10, 10, 3, 3, 4, 3, 6, 5, 1, 7, 8, 1, 1, 10, 7, 1, 8, 6, 2, 9, 8, 1, 10, 7, 2, 3, 1, 9, 1, 6, 10, 10, 10, 5, 1, 2, 6, 10, 10, 10, 3, 4, 2, 10, 9, 10, 10, 10, 3, 9, 9, 3, 5, 1, 7, 10, 10, 9, 10, 1, 10, 10, 3, 6, 4, 5, 10, 10, 10, 1, 1, 6, 8, 10, 1, 7, 10, 8, 1, 5, 5, 2, 8, 10, 7, 2, 9, 3, 7, 2, 9, 8, 8, 1, 1, 1, 5, 10, 5, 1, 3, 8, 8, 9, 10, 5, 4, 2, 3, 10, 5, 10, 7, 8, 10, 8, 9, 7, 10, 8, 1, 10, 1, 7, 7, 1, 5, 3, 2, 8, 7, 10, 10, 10, 3, 6, 8, 10, 3, 10, 10, 9, 10, 1, 4, 10, 5, 8, 1, 3, 6, 10, 10, 8, 10, 10, 9, 9, 10, 1, 7, 5, 10, 4, 10, 1, 3, 1, 10, 10, 10, 10, 9, 7, 10, 2, 10, 10, 3, 10, 5, 10, 4, 8, 2, 5, 3, 3, 2, 2, 1, 10, 1, 10, 6, 3, 9, 10, 9, 5, 10, 9, 1, 4, 9, 3, 4, 7, 7, 8, 10, 2, 3, 6, 6, 1, 6, 3, 2, 1, 8, 5, 10, 5, 7, 4, 5, 10, 5, 2, 2, 4, 2, 8, 1, 2, 9, 9, 7, 1, 8, 10, 1, 8, 1, 8, 8, 8, 5, 10, 10, 1, 3, 10, 9, 8, 1, 3, 1, 10, 9, 10, 7, 6, 2, 8, 10, 1, 3, 3, 10, 10, 10, 1, 10, 10, 1, 10, 10, 8, 3, 7, 10, 7, 4, 5, 10, 2, 10, 1, 10, 1, 10, 10, 10, 1, 10, 5, 10, 10, 8, 3, 8, 8, 4, 3, 10, 10, 1, 10, 1, 1, 10, 1, 3, 1, 3, 4, 1, 10, 9, 6, 2, 9, 10, 1, 10, 10, 7, 3, 10, 7, 9, 10, 10, 7, 1, 1, 9, 10, 1, 9, 1, 10, 10, 9, 3, 3, 5, 1, 3, 10, 1, 1, 10, 10, 5, 10, 10, 3, 1, 10, 6, 1, 10, 4, 5, 10, 9, 2, 1, 9, 7, 8, 10, 10, 9, 9, 1, 4, 10, 7, 7, 5, 3, 10, 7, 10, 3, 10, 5, 8, 10, 5, 5, 10, 2, 9, 8, 1, 3, 3, 4, 7, 4, 3, 5, 3, 6, 1, 10, 10, 1, 1, 1, 10, 10, 10, 9, 1, 10, 10, 6, 1, 3, 4, 1, 4, 10, 8, 10, 7, 10, 10, 7, 6, 1, 7, 3, 5, 1, 9, 4, 6, 10, 10, 6, 10, 4, 9, 10, 3, 3, 10, 4, 1, 10, 10, 8, 1, 1, 10, 9, 9, 1, 10, 3, 10, 10, 10, 1, 2, 5, 6, 7, 10, 3, 3, 10, 3, 1, 8, 1, 3, 3, 3, 10, 10, 6, 9, 10, 1, 10, 8, 1, 10, 1, 10, 1, 1, 1, 3, 1, 9, 8, 8, 1, 10, 10, 3, 1, 10, 1, 10, 4, 5, 10, 8, 4, 9, 5, 10, 1, 10, 10, 1, 10, 3, 3, 10, 4, 4, 1, 9, 1, 9, 5, 5, 1, 1, 3, 3, 1, 8, 3, 2, 8, 10, 10, 3, 10, 7, 7, 1, 8, 4, 10, 6, 9, 9, 3, 10, 1, 2, 10, 1, 10, 4, 1, 6, 10, 3, 1, 2, 8, 7, 2, 5, 8, 1, 5, 10, 3, 10, 10, 10, 10, 1, 1, 6, 6, 4, 8, 10, 10, 7, 7, 9, 9, 10, 3, 3, 1, 1, 6, 10, 5, 10, 7, 9, 5, 1, 8, 2, 5, 3, 2, 3, 8, 1, 2, 7, 3, 6, 1, 10, 10, 10, 2, 7, 8, 10, 1, 1, 1, 5, 8, 8, 3, 6, 8, 8, 10, 10, 5, 10, 1, 3, 7, 9, 2, 2, 10, 3, 9, 1, 10, 8, 10, 4, 10, 9, 5, 8, 1, 3, 8, 9, 2, 10, 8, 3, 5, 8, 10, 10, 10, 10, 10, 9, 1, 9, 2, 1, 1, 1, 2, 9, 10, 6, 3, 3, 7, 1, 10, 3, 2, 8, 8, 10, 1, 10, 1, 3, 3, 10, 6, 6], \"y\": [83, 425, 485, 51, 68, 551, 220, 88, 132, 165, 88, 77, 112, 114, 104, 92, 827, 189, 57, 94, 52, 231, 113, 147, 60, 61, 357, 122, 110, 40, 29, 79, 53, 267, 91, 161, 84, 237, 877, 266, 72, 158, 66, 54, 60, 412, 55, 527, 40, 101, 107, 95, 149, 94, 613, 290, 257, 91, 79, 63, 218, 50, 807, 205, 68, 136, 211, 238, 616, 193, 116, 49, 80, 172, 361, 71, 415, 175, 69, 121, 33, 66, 403, 303, 50, 144, 108, 112, 206, 122, 184, 352, 161, 66, 54, 198, 228, 986, 392, 349, 94, 71, 92, 123, 77, 81, 45, 118, 36, 72, 89, 105, 205, 652, 76, 164, 85, 136, 84, 64, 71, 39, 35, 50, 88, 73, 223, 493, 47, 290, 171, 223, 97, 407, 290, 119, 127, 533, 84, 356, 253, 58, 93, 75, 102, 106, 118, 86, 268, 75, 35, 47, 62, 67, 320, 117, 162, 203, 120, 258, 136, 63, 295, 77, 67, 60, 182, 523, 125, 80, 67, 96, 113, 255, 47, 111, 57, 223, 253, 130, 58, 76, 650, 682, 69, 188, 199, 124, 72, 149, 35, 68, 71, 328, 67, 129, 143, 180, 127, 136, 248, 138, 700, 99, 63, 71, 134, 390, 1700, 148, 359, 123, 189, 104, 133, 675, 312, 81, 269, 164, 90, 62, 554, 70, 138, 104, 132, 98, 101, 612, 131, 398, 156, 119, 633, 131, 95, 440, 56, 66, 163, 154, 442, 397, 147, 72, 91, 182, 63, 126, 71, 58, 71, 260, 133, 67, 192, 81, 135, 143, 98, 90, 73, 110, 158, 111, 132, 638, 204, 132, 88, 116, 84, 50, 160, 49, 76, 59, 114, 97, 68, 84, 206, 76, 182, 74, 153, 109, 78, 144, 236, 258, 1663, 86, 78, 91, 117, 80, 69, 97, 239, 209, 91, 96, 93, 97, 153, 187, 751, 445, 66, 152, 106, 3141, 54, 50, 43, 58, 86, 391, 607, 44, 195, 149, 88, 191, 88, 319, 139, 92, 320, 268, 74, 316, 200, 1979, 108, 109, 74, 251, 327, 100, 82, 68, 119, 312, 229, 256, 271, 101, 63, 88, 59, 45, 151, 304, 159, 229, 48, 106, 57, 179, 241, 68, 100, 180, 65, 127, 64, 148, 171, 58, 176, 96, 155, 249, 194, 128, 133, 139, 90, 200, 91, 82, 80, 208, 57, 80, 131, 153, 94, 86, 557, 273, 92, 53, 62, 125, 119, 214, 70, 315, 90, 111, 145, 177, 46, 451, 147, 52, 88, 95, 52, 421, 57, 162, 430, 122, 373, 203, 364, 210, 43, 185, 138, 113, 39, 140, 104, 201, 107, 203, 76, 107, 222, 267, 407, 39, 108, 47, 51, 57, 78, 193, 108, 345, 175, 250, 91, 339, 191, 663, 89, 55, 107, 222, 145, 133, 168, 282, 105, 141, 92, 228, 181, 71, 145, 90, 48, 129, 172, 148, 228, 45, 49, 101, 62, 140, 400, 249, 171, 261, 101, 157, 71, 410, 47, 60, 145, 228, 354, 55, 259, 126, 78, 59, 117, 67, 103, 70, 76, 96, 57, 126, 76, 67, 67, 100, 301, 80, 124, 284, 169, 58, 197, 1691, 183, 156, 104, 268, 88, 147, 80, 54, 256, 522, 297, 47, 66, 63, 158, 63, 63, 91, 32, 46, 173, 217, 423, 26, 58, 992, 549, 91, 215, 110, 71, 252, 220, 118, 139, 107, 105, 236, 93, 119, 48, 82, 75, 87, 71, 75, 111, 282, 50, 241, 132, 86, 510, 67, 53, 51, 187, 122, 255, 79, 119, 187, 142, 46, 176, 168, 77, 164, 62, 309, 72, 189, 126, 68, 25, 174, 467, 123, 66, 486, 170, 137, 151, 69, 537, 331, 475, 306, 81, 65, 78, 244, 107, 62, 114, 36, 68, 64, 139, 134, 151, 71, 418, 210, 338, 382, 50, 92, 161, 161, 48, 78, 173, 85, 22, 170, 82, 423, 345, 245, 75, 117, 223, 357, 203, 149, 1260, 70, 358, 868, 139, 68, 106, 65, 186, 42, 461, 65, 125, 144, 200, 113, 162, 287, 80, 67, 58, 89, 97, 563, 67, 66, 101, 89, 601, 268, 179, 137, 293, 55, 68, 453, 99, 113, 58, 195, 69, 37, 230, 52, 80, 90, 551, 425, 528, 139, 278, 70, 108, 535, 214, 348, 118, 302, 69, 164, 559, 71, 174, 111, 205, 248, 50, 390, 98, 67, 260, 52, 77, 148, 1004, 67, 311, 845, 93, 72, 107, 1297, 186, 121, 44, 68, 96, 143, 98, 94, 83, 43, 55, 153, 159, 148, 167, 168, 106, 441, 102, 224, 66, 286, 45, 77, 100, 117, 344, 173, 32, 168, 434, 277, 77, 169, 284, 84, 128, 55, 95, 56, 91, 180, 86, 111, 231, 74, 57, 103, 167, 152, 154, 117, 174, 53, 134, 59, 192, 169, 114, 60, 97, 152, 160, 201, 85, 63, 351, 55, 132, 114, 644, 209, 89, 377, 777, 50, 125, 301, 45, 55, 91, 116, 289, 92, 82, 98, 288, 229, 133, 405, 66, 243, 102, 141, 338, 113, 94, 138, 145, 143, 287, 178, 55, 277, 189, 275, 108, 93, 133, 191, 174, 329, 186, 57, 149, 112, 68, 122, 52, 91, 203, 59, 89, 66, 354, 120, 44, 274, 65, 165, 82, 86, 95, 128, 124, 91, 269, 65, 72, 67, 129, 63, 82, 68, 143, 335, 62, 135, 253, 111, 113, 178, 64, 59, 505, 82, 302, 0, 91, 356, 187, 208, 2411, 279, 229, 121, 106, 92, 72, 73, 305, 48, 113, 151, 200, 189, 51, 351, 271, 259, 210, 855, 77, 59, 53, 93, 71, 98, 31, 36, 70, 82, 177, 83, 161, 67, 107, 221, 63, 66, 199, 124, 93, 42, 162, 154, 56, 83, 60, 122, 243, 50, 52, 102, 153, 59, 79, 98, 72, 198, 184, 47, 577, 43, 209, 114, 132, 161, 69, 81, 50, 172, 96, 84, 223, 118, 64, 2128, 437, 486, 115, 56, 245, 100, 59, 251, 75, 94, 150, 108, 84, 99, 136, 76, 171, 87, 296, 106, 137, 51, 155, 180, 175, 55, 564, 565, 161, 163, 85, 236, 68, 161, 109, 56, 130, 47, 106, 658, 86, 86, 207, 240, 216, 43, 227, 150, 249, 101, 79, 61, 107, 48, 58, 70, 64, 942, 111, 93, 42, 67, 224, 141, 177, 119, 125, 111, 114, 395, 169, 99, 84, 162, 717, 80, 64, 79, 77, 166, 198, 292, 79, 156, 76, 700, 138, 100, 517, 50, 111, 345, 66, 89, 54, 419, 472, 69, 58, 383, 49, 86, 78, 88, 524, 64, 83, 76, 251, 129, 226, 77, 166, 73, 102, 47, 86, 119, 297, 1463, 71, 159, 359, 2982, 50, 135, 79, 68, 214, 139, 296, 346, 156, 201, 437, 55, 65, 136, 249, 61, 231, 671, 171, 301, 97, 64, 111, 132, 60, 54, 181, 85, 64, 171, 44, 184, 119, 62, 679, 169, 67, 277, 207, 68, 396, 58, 95, 126, 80, 177, 65, 44, 105, 166, 649, 75, 45, 125, 141, 313, 248, 166, 38, 60, 151, 117, 203, 271, 307, 157, 70, 54, 356, 88, 180, 69, 117, 113, 58, 105, 77, 82, 137, 288, 115, 134, 116, 48, 1352, 69, 126, 54, 396, 86, 53, 81, 86, 229, 214, 61, 94, 112, 65, 44, 260, 429, 121, 54, 63, 45, 532, 95, 137, 110, 54, 81, 278, 127, 46, 220, 37, 109, 141, 120, 161, 484, 154, 418, 72, 220, 61, 157, 113, 88, 317, 135, 49, 60, 42, 150, 49, 136, 113, 177, 281, 94, 76, 173, 112, 72, 1150, 45, 202, 183, 84, 255, 225, 63, 85, 850, 723, 91, 225, 1156, 60, 46, 84, 44, 72, 207, 294, 104, 215, 88, 517, 113, 185, 103, 126, 327, 215, 60, 68, 67, 114, 134, 166, 97, 118, 85, 859, 121, 66, 168, 417, 74, 81, 136, 1061, 111, 64, 70, 77, 58, 60, 118, 115, 234, 99, 74, 72, 110, 92, 390, 101, 96, 39, 73, 70, 39, 72, 174, 82, 76, 160, 57, 224, 71, 130, 497, 399, 70, 169, 104, 162, 478, 112, 93, 508, 64, 64, 92, 112, 72, 34, 193, 62, 58, 101, 124, 92, 547, 138, 184, 182, 137, 250, 121, 191, 67, 56, 171, 107, 193, 653, 90, 1071, 97, 71, 151, 161, 105, 236, 134, 176, 96, 201, 230, 115, 82, 209, 314, 382, 276, 85, 166, 103, 90, 491, 135, 137, 66, 518, 73, 131, 123, 0, 221, 71, 291, 55, 233, 349, 198, 51, 106, 105, 141, 166, 78, 71, 76, 50, 61, 126, 171, 87, 114, 88, 36, 34, 80, 200, 258, 80, 454, 229, 96, 35, 136, 93, 63, 85, 146, 56, 189, 433, 59, 209, 74, 38, 243, 203, 120, 120, 44, 227, 60, 310, 212, 110, 146, 208, 98, 168, 87, 110, 80, 116, 48, 131, 165, 165, 101, 75, 51, 199, 258, 120, 106, 373, 79, 302, 51, 250, 154, 94, 185, 661, 110, 107, 84, 142, 321, 160, 770, 178, 79, 54, 85, 152, 123, 87, 193, 3093, 100, 798, 55, 59, 45, 91, 43, 229, 122, 246, 74, 166, 73, 51, 64, 409, 83, 60, 236, 150, 138, 115, 546, 355, 54, 97, 140, 141, 136, 76, 466, 151, 278, 103, 131, 294, 142, 52, 327, 100, 152, 485, 192, 122, 69, 63, 678, 50, 69, 344, 111, 214, 139, 187, 51, 71, 168, 260, 373, 158, 73, 64, 61, 322, 164, 167, 69, 149, 48, 94, 56, 257, 232, 338, 54, 291, 113, 166, 75, 287, 222, 118, 740, 85, 79, 182, 121, 138, 35, 72, 233, 76, 102, 116, 443, 283, 369, 126, 77, 84, 59, 209, 50, 184, 519, 277, 71, 74, 170, 60, 66, 100, 90, 189, 199, 2394, 150, 58, 292, 127, 169, 70, 171, 81, 1634, 83, 54, 66, 97, 608, 76, 57, 212, 137, 44, 74, 135, 118, 317, 70, 73, 104, 1012, 56, 82, 111, 36, 67, 119, 97, 73, 330, 60, 108, 152, 164, 265, 63, 1584, 83, 96, 47, 59, 85, 177, 119, 236, 192, 150, 321, 55, 110, 532, 70, 58, 69, 46, 65, 40, 150, 136, 235, 65, 81, 113, 48, 94, 71, 265, 131, 51, 101, 43, 146, 105, 211, 47, 54, 128, 102, 123, 557, 487, 1045, 47, 161, 99, 231, 173, 188, 88, 85, 77, 1446, 147, 213, 99, 83, 119, 169, 83, 69, 217, 157, 122, 82, 55, 97, 244, 71, 64, 74, 358, 44, 78, 142, 79, 56, 233, 106, 176, 92, 98, 41, 203, 213, 78, 221, 115, 168, 174, 47, 173, 611, 1150, 77, 134, 117, 186, 112, 162, 61, 35, 78, 48, 57, 188, 50, 224, 144, 60, 216, 988, 1122, 299, 63, 264, 80, 150, 73, 49, 284, 150, 37, 79, 122, 471, 338, 149, 199, 136, 97, 132, 811, 69, 145, 177, 97, 127, 308, 207, 80, 63, 70, 51, 86, 80, 111, 152, 112, 76, 119, 53, 103, 250, 89, 102, 75, 25, 366, 109, 82, 1345, 138, 380, 211, 109, 66, 114, 106, 127, 73, 630, 251, 109, 71, 83, 39, 127, 95, 79, 98, 321, 32, 621, 97, 162, 109, 103, 571, 160, 88, 319, 40, 100, 272, 553, 54, 128, 114, 162, 189, 165, 48, 97, 141, 296, 488, 181, 142, 345, 136, 69, 172, 131, 173, 831, 52, 50, 95, 188, 72, 329, 89, 97, 112, 246, 144, 103, 142, 190, 178, 97, 98, 66, 64, 71, 53, 141, 106, 787, 48, 156, 207, 115, 98, 63, 111, 54, 275, 473, 151, 117, 75, 165, 51, 55, 37, 170, 99, 2178, 209, 60, 85, 52, 143, 69, 55, 68, 68, 785, 104, 121, 100, 273, 96, 44, 57, 158, 199, 128, 246, 707, 1124, 196, 97, 2178, 118, 61, 136, 63, 136, 181, 112, 338, 71, 229, 62, 235, 58, 206, 1248, 150, 323, 85, 158, 68, 83, 182, 94, 306, 391, 77, 84, 152, 60, 499, 203, 111, 283, 126, 94, 75, 118, 567, 494, 168, 63, 97, 82, 55, 155, 36, 72, 146, 86, 48, 216, 130, 88, 60, 153, 97, 186, 86, 102, 75, 174, 172, 139, 66, 39, 282, 52, 80, 152, 139, 263, 138, 90, 49, 256, 95, 45, 152, 70, 37, 80, 103, 114, 141, 122, 100, 94, 328, 67, 306, 168, 510, 1618, 112, 311, 86, 169, 85, 59, 127, 90, 136, 83, 178, 87, 226, 73, 88, 66, 73, 66, 1048, 3471, 797, 208, 179, 296, 190, 200, 97, 747, 47, 386, 94, 84, 71, 1052, 387, 75, 130, 158, 64, 115, 141, 73, 525, 59, 293, 84, 849, 130, 149, 164, 73, 211, 201, 781, 82, 121, 68, 123, 159, 576, 117, 55, 343, 58, 357, 67, 119, 113, 415, 193, 156, 74, 1605, 79, 101, 63, 483, 90, 253, 53, 99, 133, 331, 209, 674, 146, 59, 104, 72, 44, 50, 215, 497, 66, 54, 53, 169, 228, 73, 85, 403, 90, 123, 207, 201, 174, 1373, 96, 54, 127, 278, 150, 83, 70, 92, 61, 208, 424, 259, 72, 72, 59, 340, 82, 131, 165, 1737, 55, 83, 236, 90, 140, 138, 187, 362, 1095, 87, 138, 82, 55, 83, 116, 71, 158, 130, 126, 139, 119, 45, 56, 63, 290, 120, 80, 66, 131, 1118, 62, 224, 60, 257, 79, 169, 333, 258, 257, 43, 256, 195, 62, 156, 64, 91, 62, 54, 81, 55, 213, 81, 47, 107, 125, 51, 131, 129, 68, 54, 206, 108, 538, 65, 119, 110, 100, 1810, 447, 69, 100, 85, 95, 1123, 524, 64, 155, 280, 428, 205, 144, 315, 62, 260, 158, 546, 168, 33, 112, 129, 50, 287, 79, 124, 102, 87, 88, 70, 254, 154, 35, 319, 161, 70, 376, 92, 43, 690, 114, 257, 75, 36, 39, 233, 67, 68, 735, 205, 156, 234, 55, 220, 188, 319, 65, 235, 257, 175, 104, 68, 109, 141, 40, 131, 121, 79, 777, 315, 288, 46, 202, 279, 129, 216, 340, 180, 443, 115, 123, 63, 40, 40, 380, 282, 125, 323, 150, 106, 90, 116, 2021, 74, 152, 1141, 207, 153, 117, 823, 207, 80, 137, 211, 101, 91, 174, 381, 70, 69, 190, 279, 149, 81, 619, 59, 76, 226, 323, 52, 164, 151, 330, 422, 426, 71, 137, 68, 229, 55, 143, 257, 53, 95, 72, 568, 36, 54, 64, 121, 250, 516, 160, 89, 59, 50, 1977, 128, 135, 2047, 352, 183, 182, 3202, 50, 113, 341, 78, 134, 249, 95, 216, 218, 304, 188, 74, 114, 52, 79, 40, 86, 104, 248, 57, 49, 87, 78, 485, 132, 45, 57, 170, 258, 582, 155, 57, 185, 216, 103, 271, 102, 155, 68, 96, 50, 209, 212, 162, 58, 401, 147, 96, 188, 191, 64, 308, 49, 88, 107, 416, 43, 669, 80, 76, 48, 138, 852, 51, 420, 95, 791, 115, 42, 225, 2295, 176, 134, 90, 253, 53, 526, 87, 99, 444, 92, 48, 135, 91, 98, 63, 524, 134, 137, 161, 134, 596, 192, 52, 149, 90, 99, 95, 112, 193, 165, 61, 52, 145, 143, 64, 1743, 89, 91, 141, 233, 129, 97, 99, 142, 62, 169, 203, 77, 1643, 77, 61, 495, 186, 694, 90, 127, 453, 166, 89, 76, 76, 241, 246, 1004, 142, 191, 64, 49, 156, 122, 1666, 127, 76, 77, 165, 67, 55, 62, 87, 139, 348, 84, 105, 84, 70, 101, 130, 74, 501, 46, 139, 118, 64, 53, 50, 61, 82, 279, 198, 110, 115, 137, 53, 104, 243, 84, 133, 105, 195, 74, 80, 118, 314, 63, 50, 101, 47, 80, 78, 112, 63, 140, 185, 70, 112, 188, 280, 66, 68, 252, 206, 185, 342, 81, 178, 2982, 61, 246, 58, 129, 170, 437, 163, 61, 238, 70, 55, 76, 196, 97, 48, 385, 272, 65, 292, 88, 40, 42, 245, 229, 179, 127, 66, 377, 207, 332, 113, 140, 42, 203, 80, 97, 329, 67, 416, 123, 48, 40, 62, 130, 86, 137, 198, 90, 89, 249, 144, 47, 103, 49, 351, 193, 65, 68, 70, 66, 78, 112, 173, 102, 179, 143, 67, 88, 124, 269, 97, 76, 90, 58, 135, 57, 138, 99, 77, 173, 164, 192, 946, 402, 160, 200, 100, 302, 122, 314, 49, 259, 126, 122, 39, 111, 44, 273, 44, 43, 96, 133, 166, 56, 113, 88, 55, 147, 240, 238, 168, 150, 214, 177, 620, 251, 84, 283, 270, 197, 236, 227, 52, 358, 631, 119, 343, 420, 37, 282, 181, 356, 437, 129, 414, 43, 176, 72, 61, 62, 281, 93, 1126, 267, 117, 313, 51, 87, 41, 95, 84, 268, 129, 231, 71, 379, 104, 125, 113, 67, 46, 74, 64, 118, 185, 61, 104, 273, 82, 72, 231, 184, 136, 218, 42, 55, 150, 75, 121, 140, 325, 101, 86, 546, 522, 63, 92, 39, 122, 97, 250, 135, 715, 205, 106, 164, 52, 87, 73, 380, 138, 113, 368, 150, 112, 494, 71, 296, 246, 73, 49, 362, 101, 70, 67, 52, 159, 49, 86, 58, 40, 94, 287, 71, 110, 44, 107, 63, 280, 291, 433, 321, 35, 71, 122, 96, 197, 495, 66, 206, 62, 128, 145, 156, 164, 42, 52, 87, 169, 515, 305, 46, 377, 253, 121, 76, 357, 193, 68, 336, 77, 130, 218, 194, 91, 73, 90, 69, 543, 73, 154, 318, 193, 91, 48, 159, 73, 473, 102, 47, 64, 95, 100, 119, 38, 67, 583, 775, 272, 58, 394, 72, 69, 105, 81, 88, 71, 83, 255, 307, 261, 31, 96, 68, 240, 840, 59, 253, 88, 151, 77, 1236, 85, 114, 53, 80, 78, 130, 324, 180, 97, 73, 84, 106, 146, 1407, 133, 45, 126, 190, 44, 84, 400, 86, 193, 96, 49, 71, 110, 643, 176, 67, 258, 54, 101, 887, 258, 128, 158, 88, 71, 101, 166, 336, 208, 2533, 168, 62, 210, 182, 69, 58, 39, 162, 134, 77, 239, 123, 865, 103, 61, 67, 105, 338, 270, 66, 108, 104, 50, 81, 51, 48, 106, 101, 104, 232, 53, 56, 65, 230, 866, 91, 96, 65, 135, 71, 68, 43, 236, 1229, 187, 1036, 279, 0, 104, 73, 154, 39, 690, 631, 256, 82, 225, 135, 82, 351, 115, 149, 336, 60, 215, 308, 72, 288, 1875, 133, 203, 1535, 87, 37, 539, 91, 194, 80, 134, 177, 35, 123, 193, 361, 100, 181, 52, 251, 60, 70, 92, 65, 95, 118, 111, 52, 425, 171, 170, 51, 124, 112, 30, 86, 109, 102, 684, 266, 164, 160, 71, 145, 43, 105, 196, 150, 273, 83, 289, 51, 114, 267, 109, 245, 304, 251, 109, 202, 156]}],\n",
              "                        {\"template\": {\"data\": {\"bar\": [{\"error_x\": {\"color\": \"#2a3f5f\"}, \"error_y\": {\"color\": \"#2a3f5f\"}, \"marker\": {\"line\": {\"color\": \"#E5ECF6\", \"width\": 0.5}}, \"type\": \"bar\"}], \"barpolar\": [{\"marker\": {\"line\": {\"color\": \"#E5ECF6\", \"width\": 0.5}}, \"type\": \"barpolar\"}], \"carpet\": [{\"aaxis\": {\"endlinecolor\": \"#2a3f5f\", \"gridcolor\": \"white\", \"linecolor\": \"white\", \"minorgridcolor\": \"white\", \"startlinecolor\": \"#2a3f5f\"}, \"baxis\": {\"endlinecolor\": \"#2a3f5f\", \"gridcolor\": \"white\", \"linecolor\": \"white\", \"minorgridcolor\": \"white\", \"startlinecolor\": \"#2a3f5f\"}, \"type\": \"carpet\"}], \"choropleth\": [{\"colorbar\": {\"outlinewidth\": 0, \"ticks\": \"\"}, \"type\": \"choropleth\"}], \"contour\": [{\"colorbar\": {\"outlinewidth\": 0, \"ticks\": \"\"}, \"colorscale\": [[0.0, \"#0d0887\"], [0.1111111111111111, \"#46039f\"], [0.2222222222222222, \"#7201a8\"], [0.3333333333333333, \"#9c179e\"], [0.4444444444444444, \"#bd3786\"], [0.5555555555555556, \"#d8576b\"], [0.6666666666666666, \"#ed7953\"], [0.7777777777777778, \"#fb9f3a\"], [0.8888888888888888, \"#fdca26\"], [1.0, \"#f0f921\"]], \"type\": \"contour\"}], \"contourcarpet\": [{\"colorbar\": {\"outlinewidth\": 0, \"ticks\": \"\"}, \"type\": \"contourcarpet\"}], \"heatmap\": [{\"colorbar\": {\"outlinewidth\": 0, \"ticks\": \"\"}, \"colorscale\": [[0.0, \"#0d0887\"], [0.1111111111111111, \"#46039f\"], [0.2222222222222222, \"#7201a8\"], [0.3333333333333333, \"#9c179e\"], [0.4444444444444444, \"#bd3786\"], [0.5555555555555556, \"#d8576b\"], [0.6666666666666666, \"#ed7953\"], [0.7777777777777778, \"#fb9f3a\"], [0.8888888888888888, \"#fdca26\"], [1.0, \"#f0f921\"]], \"type\": \"heatmap\"}], \"heatmapgl\": [{\"colorbar\": {\"outlinewidth\": 0, \"ticks\": \"\"}, \"colorscale\": [[0.0, \"#0d0887\"], [0.1111111111111111, \"#46039f\"], [0.2222222222222222, \"#7201a8\"], [0.3333333333333333, \"#9c179e\"], [0.4444444444444444, \"#bd3786\"], [0.5555555555555556, \"#d8576b\"], [0.6666666666666666, \"#ed7953\"], [0.7777777777777778, \"#fb9f3a\"], [0.8888888888888888, \"#fdca26\"], [1.0, \"#f0f921\"]], \"type\": \"heatmapgl\"}], \"histogram\": [{\"marker\": {\"colorbar\": {\"outlinewidth\": 0, \"ticks\": \"\"}}, \"type\": \"histogram\"}], \"histogram2d\": [{\"colorbar\": {\"outlinewidth\": 0, \"ticks\": \"\"}, \"colorscale\": [[0.0, \"#0d0887\"], [0.1111111111111111, \"#46039f\"], [0.2222222222222222, \"#7201a8\"], [0.3333333333333333, \"#9c179e\"], [0.4444444444444444, \"#bd3786\"], [0.5555555555555556, \"#d8576b\"], [0.6666666666666666, \"#ed7953\"], [0.7777777777777778, \"#fb9f3a\"], [0.8888888888888888, \"#fdca26\"], [1.0, \"#f0f921\"]], \"type\": \"histogram2d\"}], \"histogram2dcontour\": [{\"colorbar\": {\"outlinewidth\": 0, \"ticks\": \"\"}, \"colorscale\": [[0.0, \"#0d0887\"], [0.1111111111111111, \"#46039f\"], [0.2222222222222222, \"#7201a8\"], [0.3333333333333333, \"#9c179e\"], [0.4444444444444444, \"#bd3786\"], [0.5555555555555556, \"#d8576b\"], [0.6666666666666666, \"#ed7953\"], [0.7777777777777778, \"#fb9f3a\"], [0.8888888888888888, \"#fdca26\"], [1.0, \"#f0f921\"]], \"type\": \"histogram2dcontour\"}], \"mesh3d\": [{\"colorbar\": {\"outlinewidth\": 0, \"ticks\": \"\"}, \"type\": \"mesh3d\"}], \"parcoords\": [{\"line\": {\"colorbar\": {\"outlinewidth\": 0, \"ticks\": \"\"}}, \"type\": \"parcoords\"}], \"pie\": [{\"automargin\": true, \"type\": \"pie\"}], \"scatter\": [{\"marker\": {\"colorbar\": {\"outlinewidth\": 0, \"ticks\": \"\"}}, \"type\": \"scatter\"}], \"scatter3d\": [{\"line\": {\"colorbar\": {\"outlinewidth\": 0, \"ticks\": \"\"}}, \"marker\": {\"colorbar\": {\"outlinewidth\": 0, \"ticks\": \"\"}}, \"type\": \"scatter3d\"}], \"scattercarpet\": [{\"marker\": {\"colorbar\": {\"outlinewidth\": 0, \"ticks\": \"\"}}, \"type\": \"scattercarpet\"}], \"scattergeo\": [{\"marker\": {\"colorbar\": {\"outlinewidth\": 0, \"ticks\": \"\"}}, \"type\": \"scattergeo\"}], \"scattergl\": [{\"marker\": {\"colorbar\": {\"outlinewidth\": 0, \"ticks\": \"\"}}, \"type\": \"scattergl\"}], \"scattermapbox\": [{\"marker\": {\"colorbar\": {\"outlinewidth\": 0, \"ticks\": \"\"}}, \"type\": \"scattermapbox\"}], \"scatterpolar\": [{\"marker\": {\"colorbar\": {\"outlinewidth\": 0, \"ticks\": \"\"}}, \"type\": \"scatterpolar\"}], \"scatterpolargl\": [{\"marker\": {\"colorbar\": {\"outlinewidth\": 0, \"ticks\": \"\"}}, \"type\": \"scatterpolargl\"}], \"scatterternary\": [{\"marker\": {\"colorbar\": {\"outlinewidth\": 0, \"ticks\": \"\"}}, \"type\": \"scatterternary\"}], \"surface\": [{\"colorbar\": {\"outlinewidth\": 0, \"ticks\": \"\"}, \"colorscale\": [[0.0, \"#0d0887\"], [0.1111111111111111, \"#46039f\"], [0.2222222222222222, \"#7201a8\"], [0.3333333333333333, \"#9c179e\"], [0.4444444444444444, \"#bd3786\"], [0.5555555555555556, \"#d8576b\"], [0.6666666666666666, \"#ed7953\"], [0.7777777777777778, \"#fb9f3a\"], [0.8888888888888888, \"#fdca26\"], [1.0, \"#f0f921\"]], \"type\": \"surface\"}], \"table\": [{\"cells\": {\"fill\": {\"color\": \"#EBF0F8\"}, \"line\": {\"color\": \"white\"}}, \"header\": {\"fill\": {\"color\": \"#C8D4E3\"}, \"line\": {\"color\": \"white\"}}, \"type\": \"table\"}]}, \"layout\": {\"annotationdefaults\": {\"arrowcolor\": \"#2a3f5f\", \"arrowhead\": 0, \"arrowwidth\": 1}, \"coloraxis\": {\"colorbar\": {\"outlinewidth\": 0, \"ticks\": \"\"}}, \"colorscale\": {\"diverging\": [[0, \"#8e0152\"], [0.1, \"#c51b7d\"], [0.2, \"#de77ae\"], [0.3, \"#f1b6da\"], [0.4, \"#fde0ef\"], [0.5, \"#f7f7f7\"], [0.6, \"#e6f5d0\"], [0.7, \"#b8e186\"], [0.8, \"#7fbc41\"], [0.9, \"#4d9221\"], [1, \"#276419\"]], \"sequential\": [[0.0, \"#0d0887\"], [0.1111111111111111, \"#46039f\"], [0.2222222222222222, \"#7201a8\"], [0.3333333333333333, \"#9c179e\"], [0.4444444444444444, \"#bd3786\"], [0.5555555555555556, \"#d8576b\"], [0.6666666666666666, \"#ed7953\"], [0.7777777777777778, \"#fb9f3a\"], [0.8888888888888888, \"#fdca26\"], [1.0, \"#f0f921\"]], \"sequentialminus\": [[0.0, \"#0d0887\"], [0.1111111111111111, \"#46039f\"], [0.2222222222222222, \"#7201a8\"], [0.3333333333333333, \"#9c179e\"], [0.4444444444444444, \"#bd3786\"], [0.5555555555555556, \"#d8576b\"], [0.6666666666666666, \"#ed7953\"], [0.7777777777777778, \"#fb9f3a\"], [0.8888888888888888, \"#fdca26\"], [1.0, \"#f0f921\"]]}, \"colorway\": [\"#636efa\", \"#EF553B\", \"#00cc96\", \"#ab63fa\", \"#FFA15A\", \"#19d3f3\", \"#FF6692\", \"#B6E880\", \"#FF97FF\", \"#FECB52\"], \"font\": {\"color\": \"#2a3f5f\"}, \"geo\": {\"bgcolor\": \"white\", \"lakecolor\": \"white\", \"landcolor\": \"#E5ECF6\", \"showlakes\": true, \"showland\": true, \"subunitcolor\": \"white\"}, \"hoverlabel\": {\"align\": \"left\"}, \"hovermode\": \"closest\", \"mapbox\": {\"style\": \"light\"}, \"paper_bgcolor\": \"white\", \"plot_bgcolor\": \"#E5ECF6\", \"polar\": {\"angularaxis\": {\"gridcolor\": \"white\", \"linecolor\": \"white\", \"ticks\": \"\"}, \"bgcolor\": \"#E5ECF6\", \"radialaxis\": {\"gridcolor\": \"white\", \"linecolor\": \"white\", \"ticks\": \"\"}}, \"scene\": {\"xaxis\": {\"backgroundcolor\": \"#E5ECF6\", \"gridcolor\": \"white\", \"gridwidth\": 2, \"linecolor\": \"white\", \"showbackground\": true, \"ticks\": \"\", \"zerolinecolor\": \"white\"}, \"yaxis\": {\"backgroundcolor\": \"#E5ECF6\", \"gridcolor\": \"white\", \"gridwidth\": 2, \"linecolor\": \"white\", \"showbackground\": true, \"ticks\": \"\", \"zerolinecolor\": \"white\"}, \"zaxis\": {\"backgroundcolor\": \"#E5ECF6\", \"gridcolor\": \"white\", \"gridwidth\": 2, \"linecolor\": \"white\", \"showbackground\": true, \"ticks\": \"\", \"zerolinecolor\": \"white\"}}, \"shapedefaults\": {\"line\": {\"color\": \"#2a3f5f\"}}, \"ternary\": {\"aaxis\": {\"gridcolor\": \"white\", \"linecolor\": \"white\", \"ticks\": \"\"}, \"baxis\": {\"gridcolor\": \"white\", \"linecolor\": \"white\", \"ticks\": \"\"}, \"bgcolor\": \"#E5ECF6\", \"caxis\": {\"gridcolor\": \"white\", \"linecolor\": \"white\", \"ticks\": \"\"}}, \"title\": {\"x\": 0.05}, \"xaxis\": {\"automargin\": true, \"gridcolor\": \"white\", \"linecolor\": \"white\", \"ticks\": \"\", \"title\": {\"standoff\": 15}, \"zerolinecolor\": \"white\", \"zerolinewidth\": 2}, \"yaxis\": {\"automargin\": true, \"gridcolor\": \"white\", \"linecolor\": \"white\", \"ticks\": \"\", \"title\": {\"standoff\": 15}, \"zerolinecolor\": \"white\", \"zerolinewidth\": 2}}}, \"title\": {\"text\": \"\\u041a\\u043e\\u0440\\u0440\\u0435\\u043b\\u044f\\u0446\\u0438\\u044f \\u043e\\u0442\\u0432\\u0435\\u0442\\u043e\\u0432 \\u043f\\u043e\\u043b\\u044c\\u0437\\u043e\\u0432\\u0430\\u0442\\u0435\\u043b\\u0435\\u0439 \\u0438 Web Average TCP RTT(ms)\"}, \"xaxis\": {\"dtick\": 1, \"title\": {\"text\": \"\\u041e\\u0446\\u0435\\u043d\\u043a\\u0438\"}}, \"yaxis\": {\"title\": {\"text\": \"\\u041f\\u0438\\u043d\\u0433 \\u043f\\u0440\\u0438 \\u043f\\u0440\\u043e\\u0441\\u043c\\u043e\\u0442\\u0440\\u0435 web-\\u0441\\u0442\\u0440\\u0430\\u043d\\u0438\\u0446\"}}},\n",
              "                        {\"responsive\": true}\n",
              "                    ).then(function(){\n",
              "                            \n",
              "var gd = document.getElementById('6bc52e5d-79af-4c9b-b0e1-6d61a6f6176d');\n",
              "var x = new MutationObserver(function (mutations, observer) {{\n",
              "        var display = window.getComputedStyle(gd).display;\n",
              "        if (!display || display === 'none') {{\n",
              "            console.log([gd, 'removed!']);\n",
              "            Plotly.purge(gd);\n",
              "            observer.disconnect();\n",
              "        }}\n",
              "}});\n",
              "\n",
              "// Listen for the removal of the full notebook cells\n",
              "var notebookContainer = gd.closest('#notebook-container');\n",
              "if (notebookContainer) {{\n",
              "    x.observe(notebookContainer, {childList: true});\n",
              "}}\n",
              "\n",
              "// Listen for the clearing of the current output cell\n",
              "var outputEl = gd.closest('.output');\n",
              "if (outputEl) {{\n",
              "    x.observe(outputEl, {childList: true});\n",
              "}}\n",
              "\n",
              "                        })\n",
              "                };\n",
              "                \n",
              "            </script>\n",
              "        </div>\n",
              "</body>\n",
              "</html>"
            ]
          },
          "metadata": {
            "tags": []
          }
        }
      ]
    },
    {
      "cell_type": "markdown",
      "metadata": {
        "id": "YPFndvbO_N_C"
      },
      "source": [
        "Как следует из таблицы и полученного графика, высокий показатель пинга при просмотре web-страниц наблюдается среди пользователей, которые в дальнейшем поставили самые низкие оценки. Это может быть сигналом наличия взаимосвязи между показателями, для проверки которой необходимо применить статистические методы.\n",
        "\n",
        "*Статистический тест*\n",
        "\n",
        "Нулевая и альтернативная гипотезы:\n",
        "H0 - показатели независимы;\n",
        "H1 - существует зависимость между показателями\n",
        "\n",
        "Для проверки гипотезы об отсутсвии взаимосвязи подходит коэффициент корреляции Пирсона."
      ]
    },
    {
      "cell_type": "code",
      "metadata": {
        "colab": {
          "base_uri": "https://localhost:8080/"
        },
        "id": "XP4vdWjEABuT",
        "outputId": "41ef83b9-0262-4c00-fbd8-e7314aaa6298"
      },
      "source": [
        "pearson_coef, p_value = st.pearsonr(df['Q1'], df['Web Average TCP RTT(ms)'])\n",
        "print(\"Pearson Correlation Coefficient: \", pearson_coef, \"and a P-value of:\", p_value) \n",
        "\n",
        "if p_value < 0.05: \n",
        "   print(\" we are rejecting null hypothesis\")\n",
        "else:\n",
        "  print(\"we are accepting null hypothesis\")"
      ],
      "execution_count": 11,
      "outputs": [
        {
          "output_type": "stream",
          "text": [
            "Pearson Correlation Coefficient:  -0.11700181996382582 and a P-value of: 8.597298515431372e-11\n",
            " we are rejecting null hypothesis\n"
          ],
          "name": "stdout"
        }
      ]
    },
    {
      "cell_type": "markdown",
      "metadata": {
        "id": "SaotGIayAGMK"
      },
      "source": [
        "Коэффициент корреляции Пирсона равный -0.12 свидетельствует о слабой отрицательной связи между оценкой удовлетворенности клиента и пингом при загрузке web-страниц (Web Average TCP RTT(ms)).\n",
        "\n",
        "P-value меньше 0 и следовательно меньше 0,05. Можно сделать вывод о том, что при 5% уровне значимости нулевая гипотеза отвергается, зависимость есть.\n",
        "Таким образом, предположение о зависимости оценки пользователей от Web Average TCP RTT(ms) подтвердилось. Выявлена слабая отрицательная связь - при увеличении времени задержки в загрузке web-страниц растет недовольство пользователей и, как следствие, снижаются оценки."
      ]
    },
    {
      "cell_type": "markdown",
      "metadata": {
        "id": "yWVZyo3NJYMQ"
      },
      "source": [
        "# Часть 2"
      ]
    },
    {
      "cell_type": "markdown",
      "metadata": {
        "id": "zbny99WzJYMQ"
      },
      "source": [
        "Далее целесообразно рассмотреть соотношение довольных и недовольных клиентов. "
      ]
    },
    {
      "cell_type": "code",
      "metadata": {
        "id": "0tzX0WEzJYMR"
      },
      "source": [
        "df_marks['mark'] = df_marks.index\n",
        "df_marks['mark'] = df_marks['mark'].astype(int)\n",
        "df_marks['good'] = df_marks['mark'] >= 9\n",
        "df_marks['good'] = df_marks['good'].replace({True: 'Да', False: 'Нет'})\n",
        "df_marks = df_marks.groupby('good').agg({'user_id' : 'count'})"
      ],
      "execution_count": 12,
      "outputs": []
    },
    {
      "cell_type": "code",
      "metadata": {
        "colab": {
          "base_uri": "https://localhost:8080/",
          "height": 542
        },
        "id": "3jLFQqdAJYMR",
        "outputId": "688af9d3-7a20-40e8-aaa8-b1ddb0016504"
      },
      "source": [
        "fig = go.Figure(data=[go.Bar(x = df_marks.index, y = df_marks['user_id'], marker_color = 'royalblue', width = 0.5)])\n",
        "                \n",
        "fig.update_layout(title = 'Распределение ответов')\n",
        "fig.update_xaxes({'dtick' : 1}, title = 'Полностью удовлетворены качеством связи')\n",
        "fig.update_yaxes(title = 'Количество ответов') \n",
        "fig.show()"
      ],
      "execution_count": 13,
      "outputs": [
        {
          "output_type": "display_data",
          "data": {
            "text/html": [
              "<html>\n",
              "<head><meta charset=\"utf-8\" /></head>\n",
              "<body>\n",
              "    <div>\n",
              "            <script src=\"https://cdnjs.cloudflare.com/ajax/libs/mathjax/2.7.5/MathJax.js?config=TeX-AMS-MML_SVG\"></script><script type=\"text/javascript\">if (window.MathJax) {MathJax.Hub.Config({SVG: {font: \"STIX-Web\"}});}</script>\n",
              "                <script type=\"text/javascript\">window.PlotlyConfig = {MathJaxConfig: 'local'};</script>\n",
              "        <script src=\"https://cdn.plot.ly/plotly-latest.min.js\"></script>    \n",
              "            <div id=\"54aa8b79-9b7e-40fb-a79b-c6d2a2fd40f6\" class=\"plotly-graph-div\" style=\"height:525px; width:100%;\"></div>\n",
              "            <script type=\"text/javascript\">\n",
              "                \n",
              "                    window.PLOTLYENV=window.PLOTLYENV || {};\n",
              "                    \n",
              "                if (document.getElementById(\"54aa8b79-9b7e-40fb-a79b-c6d2a2fd40f6\")) {\n",
              "                    Plotly.newPlot(\n",
              "                        '54aa8b79-9b7e-40fb-a79b-c6d2a2fd40f6',\n",
              "                        [{\"marker\": {\"color\": \"royalblue\"}, \"type\": \"bar\", \"width\": 0.5, \"x\": [\"\\u0414\\u0430\", \"\\u041d\\u0435\\u0442\"], \"y\": [2, 8]}],\n",
              "                        {\"template\": {\"data\": {\"bar\": [{\"error_x\": {\"color\": \"#2a3f5f\"}, \"error_y\": {\"color\": \"#2a3f5f\"}, \"marker\": {\"line\": {\"color\": \"#E5ECF6\", \"width\": 0.5}}, \"type\": \"bar\"}], \"barpolar\": [{\"marker\": {\"line\": {\"color\": \"#E5ECF6\", \"width\": 0.5}}, \"type\": \"barpolar\"}], \"carpet\": [{\"aaxis\": {\"endlinecolor\": \"#2a3f5f\", \"gridcolor\": \"white\", \"linecolor\": \"white\", \"minorgridcolor\": \"white\", \"startlinecolor\": \"#2a3f5f\"}, \"baxis\": {\"endlinecolor\": \"#2a3f5f\", \"gridcolor\": \"white\", \"linecolor\": \"white\", \"minorgridcolor\": \"white\", \"startlinecolor\": \"#2a3f5f\"}, \"type\": \"carpet\"}], \"choropleth\": [{\"colorbar\": {\"outlinewidth\": 0, \"ticks\": \"\"}, \"type\": \"choropleth\"}], \"contour\": [{\"colorbar\": {\"outlinewidth\": 0, \"ticks\": \"\"}, \"colorscale\": [[0.0, \"#0d0887\"], [0.1111111111111111, \"#46039f\"], [0.2222222222222222, \"#7201a8\"], [0.3333333333333333, \"#9c179e\"], [0.4444444444444444, \"#bd3786\"], [0.5555555555555556, \"#d8576b\"], [0.6666666666666666, \"#ed7953\"], [0.7777777777777778, \"#fb9f3a\"], [0.8888888888888888, \"#fdca26\"], [1.0, \"#f0f921\"]], \"type\": \"contour\"}], \"contourcarpet\": [{\"colorbar\": {\"outlinewidth\": 0, \"ticks\": \"\"}, \"type\": \"contourcarpet\"}], \"heatmap\": [{\"colorbar\": {\"outlinewidth\": 0, \"ticks\": \"\"}, \"colorscale\": [[0.0, \"#0d0887\"], [0.1111111111111111, \"#46039f\"], [0.2222222222222222, \"#7201a8\"], [0.3333333333333333, \"#9c179e\"], [0.4444444444444444, \"#bd3786\"], [0.5555555555555556, \"#d8576b\"], [0.6666666666666666, \"#ed7953\"], [0.7777777777777778, \"#fb9f3a\"], [0.8888888888888888, \"#fdca26\"], [1.0, \"#f0f921\"]], \"type\": \"heatmap\"}], \"heatmapgl\": [{\"colorbar\": {\"outlinewidth\": 0, \"ticks\": \"\"}, \"colorscale\": [[0.0, \"#0d0887\"], [0.1111111111111111, \"#46039f\"], [0.2222222222222222, \"#7201a8\"], [0.3333333333333333, \"#9c179e\"], [0.4444444444444444, \"#bd3786\"], [0.5555555555555556, \"#d8576b\"], [0.6666666666666666, \"#ed7953\"], [0.7777777777777778, \"#fb9f3a\"], [0.8888888888888888, \"#fdca26\"], [1.0, \"#f0f921\"]], \"type\": \"heatmapgl\"}], \"histogram\": [{\"marker\": {\"colorbar\": {\"outlinewidth\": 0, \"ticks\": \"\"}}, \"type\": \"histogram\"}], \"histogram2d\": [{\"colorbar\": {\"outlinewidth\": 0, \"ticks\": \"\"}, \"colorscale\": [[0.0, \"#0d0887\"], [0.1111111111111111, \"#46039f\"], [0.2222222222222222, \"#7201a8\"], [0.3333333333333333, \"#9c179e\"], [0.4444444444444444, \"#bd3786\"], [0.5555555555555556, \"#d8576b\"], [0.6666666666666666, \"#ed7953\"], [0.7777777777777778, \"#fb9f3a\"], [0.8888888888888888, \"#fdca26\"], [1.0, \"#f0f921\"]], \"type\": \"histogram2d\"}], \"histogram2dcontour\": [{\"colorbar\": {\"outlinewidth\": 0, \"ticks\": \"\"}, \"colorscale\": [[0.0, \"#0d0887\"], [0.1111111111111111, \"#46039f\"], [0.2222222222222222, \"#7201a8\"], [0.3333333333333333, \"#9c179e\"], [0.4444444444444444, \"#bd3786\"], [0.5555555555555556, \"#d8576b\"], [0.6666666666666666, \"#ed7953\"], [0.7777777777777778, \"#fb9f3a\"], [0.8888888888888888, \"#fdca26\"], [1.0, \"#f0f921\"]], \"type\": \"histogram2dcontour\"}], \"mesh3d\": [{\"colorbar\": {\"outlinewidth\": 0, \"ticks\": \"\"}, \"type\": \"mesh3d\"}], \"parcoords\": [{\"line\": {\"colorbar\": {\"outlinewidth\": 0, \"ticks\": \"\"}}, \"type\": \"parcoords\"}], \"pie\": [{\"automargin\": true, \"type\": \"pie\"}], \"scatter\": [{\"marker\": {\"colorbar\": {\"outlinewidth\": 0, \"ticks\": \"\"}}, \"type\": \"scatter\"}], \"scatter3d\": [{\"line\": {\"colorbar\": {\"outlinewidth\": 0, \"ticks\": \"\"}}, \"marker\": {\"colorbar\": {\"outlinewidth\": 0, \"ticks\": \"\"}}, \"type\": \"scatter3d\"}], \"scattercarpet\": [{\"marker\": {\"colorbar\": {\"outlinewidth\": 0, \"ticks\": \"\"}}, \"type\": \"scattercarpet\"}], \"scattergeo\": [{\"marker\": {\"colorbar\": {\"outlinewidth\": 0, \"ticks\": \"\"}}, \"type\": \"scattergeo\"}], \"scattergl\": [{\"marker\": {\"colorbar\": {\"outlinewidth\": 0, \"ticks\": \"\"}}, \"type\": \"scattergl\"}], \"scattermapbox\": [{\"marker\": {\"colorbar\": {\"outlinewidth\": 0, \"ticks\": \"\"}}, \"type\": \"scattermapbox\"}], \"scatterpolar\": [{\"marker\": {\"colorbar\": {\"outlinewidth\": 0, \"ticks\": \"\"}}, \"type\": \"scatterpolar\"}], \"scatterpolargl\": [{\"marker\": {\"colorbar\": {\"outlinewidth\": 0, \"ticks\": \"\"}}, \"type\": \"scatterpolargl\"}], \"scatterternary\": [{\"marker\": {\"colorbar\": {\"outlinewidth\": 0, \"ticks\": \"\"}}, \"type\": \"scatterternary\"}], \"surface\": [{\"colorbar\": {\"outlinewidth\": 0, \"ticks\": \"\"}, \"colorscale\": [[0.0, \"#0d0887\"], [0.1111111111111111, \"#46039f\"], [0.2222222222222222, \"#7201a8\"], [0.3333333333333333, \"#9c179e\"], [0.4444444444444444, \"#bd3786\"], [0.5555555555555556, \"#d8576b\"], [0.6666666666666666, \"#ed7953\"], [0.7777777777777778, \"#fb9f3a\"], [0.8888888888888888, \"#fdca26\"], [1.0, \"#f0f921\"]], \"type\": \"surface\"}], \"table\": [{\"cells\": {\"fill\": {\"color\": \"#EBF0F8\"}, \"line\": {\"color\": \"white\"}}, \"header\": {\"fill\": {\"color\": \"#C8D4E3\"}, \"line\": {\"color\": \"white\"}}, \"type\": \"table\"}]}, \"layout\": {\"annotationdefaults\": {\"arrowcolor\": \"#2a3f5f\", \"arrowhead\": 0, \"arrowwidth\": 1}, \"coloraxis\": {\"colorbar\": {\"outlinewidth\": 0, \"ticks\": \"\"}}, \"colorscale\": {\"diverging\": [[0, \"#8e0152\"], [0.1, \"#c51b7d\"], [0.2, \"#de77ae\"], [0.3, \"#f1b6da\"], [0.4, \"#fde0ef\"], [0.5, \"#f7f7f7\"], [0.6, \"#e6f5d0\"], [0.7, \"#b8e186\"], [0.8, \"#7fbc41\"], [0.9, \"#4d9221\"], [1, \"#276419\"]], \"sequential\": [[0.0, \"#0d0887\"], [0.1111111111111111, \"#46039f\"], [0.2222222222222222, \"#7201a8\"], [0.3333333333333333, \"#9c179e\"], [0.4444444444444444, \"#bd3786\"], [0.5555555555555556, \"#d8576b\"], [0.6666666666666666, \"#ed7953\"], [0.7777777777777778, \"#fb9f3a\"], [0.8888888888888888, \"#fdca26\"], [1.0, \"#f0f921\"]], \"sequentialminus\": [[0.0, \"#0d0887\"], [0.1111111111111111, \"#46039f\"], [0.2222222222222222, \"#7201a8\"], [0.3333333333333333, \"#9c179e\"], [0.4444444444444444, \"#bd3786\"], [0.5555555555555556, \"#d8576b\"], [0.6666666666666666, \"#ed7953\"], [0.7777777777777778, \"#fb9f3a\"], [0.8888888888888888, \"#fdca26\"], [1.0, \"#f0f921\"]]}, \"colorway\": [\"#636efa\", \"#EF553B\", \"#00cc96\", \"#ab63fa\", \"#FFA15A\", \"#19d3f3\", \"#FF6692\", \"#B6E880\", \"#FF97FF\", \"#FECB52\"], \"font\": {\"color\": \"#2a3f5f\"}, \"geo\": {\"bgcolor\": \"white\", \"lakecolor\": \"white\", \"landcolor\": \"#E5ECF6\", \"showlakes\": true, \"showland\": true, \"subunitcolor\": \"white\"}, \"hoverlabel\": {\"align\": \"left\"}, \"hovermode\": \"closest\", \"mapbox\": {\"style\": \"light\"}, \"paper_bgcolor\": \"white\", \"plot_bgcolor\": \"#E5ECF6\", \"polar\": {\"angularaxis\": {\"gridcolor\": \"white\", \"linecolor\": \"white\", \"ticks\": \"\"}, \"bgcolor\": \"#E5ECF6\", \"radialaxis\": {\"gridcolor\": \"white\", \"linecolor\": \"white\", \"ticks\": \"\"}}, \"scene\": {\"xaxis\": {\"backgroundcolor\": \"#E5ECF6\", \"gridcolor\": \"white\", \"gridwidth\": 2, \"linecolor\": \"white\", \"showbackground\": true, \"ticks\": \"\", \"zerolinecolor\": \"white\"}, \"yaxis\": {\"backgroundcolor\": \"#E5ECF6\", \"gridcolor\": \"white\", \"gridwidth\": 2, \"linecolor\": \"white\", \"showbackground\": true, \"ticks\": \"\", \"zerolinecolor\": \"white\"}, \"zaxis\": {\"backgroundcolor\": \"#E5ECF6\", \"gridcolor\": \"white\", \"gridwidth\": 2, \"linecolor\": \"white\", \"showbackground\": true, \"ticks\": \"\", \"zerolinecolor\": \"white\"}}, \"shapedefaults\": {\"line\": {\"color\": \"#2a3f5f\"}}, \"ternary\": {\"aaxis\": {\"gridcolor\": \"white\", \"linecolor\": \"white\", \"ticks\": \"\"}, \"baxis\": {\"gridcolor\": \"white\", \"linecolor\": \"white\", \"ticks\": \"\"}, \"bgcolor\": \"#E5ECF6\", \"caxis\": {\"gridcolor\": \"white\", \"linecolor\": \"white\", \"ticks\": \"\"}}, \"title\": {\"x\": 0.05}, \"xaxis\": {\"automargin\": true, \"gridcolor\": \"white\", \"linecolor\": \"white\", \"ticks\": \"\", \"title\": {\"standoff\": 15}, \"zerolinecolor\": \"white\", \"zerolinewidth\": 2}, \"yaxis\": {\"automargin\": true, \"gridcolor\": \"white\", \"linecolor\": \"white\", \"ticks\": \"\", \"title\": {\"standoff\": 15}, \"zerolinecolor\": \"white\", \"zerolinewidth\": 2}}}, \"title\": {\"text\": \"\\u0420\\u0430\\u0441\\u043f\\u0440\\u0435\\u0434\\u0435\\u043b\\u0435\\u043d\\u0438\\u0435 \\u043e\\u0442\\u0432\\u0435\\u0442\\u043e\\u0432\"}, \"xaxis\": {\"dtick\": 1, \"title\": {\"text\": \"\\u041f\\u043e\\u043b\\u043d\\u043e\\u0441\\u0442\\u044c\\u044e \\u0443\\u0434\\u043e\\u0432\\u043b\\u0435\\u0442\\u0432\\u043e\\u0440\\u0435\\u043d\\u044b \\u043a\\u0430\\u0447\\u0435\\u0441\\u0442\\u0432\\u043e\\u043c \\u0441\\u0432\\u044f\\u0437\\u0438\"}}, \"yaxis\": {\"title\": {\"text\": \"\\u041a\\u043e\\u043b\\u0438\\u0447\\u0435\\u0441\\u0442\\u0432\\u043e \\u043e\\u0442\\u0432\\u0435\\u0442\\u043e\\u0432\"}}},\n",
              "                        {\"responsive\": true}\n",
              "                    ).then(function(){\n",
              "                            \n",
              "var gd = document.getElementById('54aa8b79-9b7e-40fb-a79b-c6d2a2fd40f6');\n",
              "var x = new MutationObserver(function (mutations, observer) {{\n",
              "        var display = window.getComputedStyle(gd).display;\n",
              "        if (!display || display === 'none') {{\n",
              "            console.log([gd, 'removed!']);\n",
              "            Plotly.purge(gd);\n",
              "            observer.disconnect();\n",
              "        }}\n",
              "}});\n",
              "\n",
              "// Listen for the removal of the full notebook cells\n",
              "var notebookContainer = gd.closest('#notebook-container');\n",
              "if (notebookContainer) {{\n",
              "    x.observe(notebookContainer, {childList: true});\n",
              "}}\n",
              "\n",
              "// Listen for the clearing of the current output cell\n",
              "var outputEl = gd.closest('.output');\n",
              "if (outputEl) {{\n",
              "    x.observe(outputEl, {childList: true});\n",
              "}}\n",
              "\n",
              "                        })\n",
              "                };\n",
              "                \n",
              "            </script>\n",
              "        </div>\n",
              "</body>\n",
              "</html>"
            ]
          },
          "metadata": {
            "tags": []
          }
        }
      ]
    },
    {
      "cell_type": "markdown",
      "metadata": {
        "id": "sXK1mVowJYMR"
      },
      "source": [
        "На графике видно, что количество недовольных клиентов значительно превышает количество довольных клиентов. Для того, чтобы разобраться с самыми распространенными жалобами клиентов, целесообразно проанализировать ответы на второй вопрос \"Что именно Вам не позволило поставить оценку выше?\" \n",
        "\n",
        "**Задача 2** Найти среднее значение среди ответов (жалоб) клиентов.\n",
        "\n",
        "*Разведочный анализ*"
      ]
    },
    {
      "cell_type": "code",
      "metadata": {
        "colab": {
          "base_uri": "https://localhost:8080/",
          "height": 435
        },
        "id": "9xKbkfXgJYMS",
        "outputId": "2aa3f9e2-5cc7-4d55-fa62-cdc0a9bd61ee"
      },
      "source": [
        "df = df.dropna()\n",
        "df = df[df['Q2'] != '0, 05, 2, 27, 7']\n",
        "df['Q2'] = df.Q2.apply(lambda x: ast.literal_eval(str(x)))\n",
        "df = df.explode('Q2')\n",
        "df['Q2'] = df['Q2'].astype(int)\n",
        "df"
      ],
      "execution_count": 14,
      "outputs": [
        {
          "output_type": "execute_result",
          "data": {
            "text/html": [
              "<div>\n",
              "<style scoped>\n",
              "    .dataframe tbody tr th:only-of-type {\n",
              "        vertical-align: middle;\n",
              "    }\n",
              "\n",
              "    .dataframe tbody tr th {\n",
              "        vertical-align: top;\n",
              "    }\n",
              "\n",
              "    .dataframe thead th {\n",
              "        text-align: right;\n",
              "    }\n",
              "</style>\n",
              "<table border=\"1\" class=\"dataframe\">\n",
              "  <thead>\n",
              "    <tr style=\"text-align: right;\">\n",
              "      <th></th>\n",
              "      <th>user_id</th>\n",
              "      <th>Q1</th>\n",
              "      <th>Q2</th>\n",
              "      <th>Total Traffic(MB)</th>\n",
              "      <th>Downlink Throughput(Kbps)</th>\n",
              "      <th>Uplink Throughput(Kbps)</th>\n",
              "      <th>Downlink TCP Retransmission Rate(%)</th>\n",
              "      <th>Video Streaming Download Throughput(Kbps)</th>\n",
              "      <th>Video Streaming xKB Start Delay(ms)</th>\n",
              "      <th>Web Page Download Throughput(Kbps)</th>\n",
              "      <th>Web Average TCP RTT(ms)</th>\n",
              "    </tr>\n",
              "  </thead>\n",
              "  <tbody>\n",
              "    <tr>\n",
              "      <th>1</th>\n",
              "      <td>2</td>\n",
              "      <td>5</td>\n",
              "      <td>4</td>\n",
              "      <td>861.96324</td>\n",
              "      <td>3023.54</td>\n",
              "      <td>411.18</td>\n",
              "      <td>1.27</td>\n",
              "      <td>667.47</td>\n",
              "      <td>2080</td>\n",
              "      <td>255.36</td>\n",
              "      <td>425</td>\n",
              "    </tr>\n",
              "    <tr>\n",
              "      <th>2</th>\n",
              "      <td>3</td>\n",
              "      <td>1</td>\n",
              "      <td>4</td>\n",
              "      <td>261.11860</td>\n",
              "      <td>790.96</td>\n",
              "      <td>34.20</td>\n",
              "      <td>1.79</td>\n",
              "      <td>1079.60</td>\n",
              "      <td>6367</td>\n",
              "      <td>535.85</td>\n",
              "      <td>485</td>\n",
              "    </tr>\n",
              "    <tr>\n",
              "      <th>3</th>\n",
              "      <td>4</td>\n",
              "      <td>8</td>\n",
              "      <td>3</td>\n",
              "      <td>179.18564</td>\n",
              "      <td>2590.97</td>\n",
              "      <td>325.88</td>\n",
              "      <td>0.80</td>\n",
              "      <td>7053.81</td>\n",
              "      <td>3218</td>\n",
              "      <td>1221.02</td>\n",
              "      <td>51</td>\n",
              "    </tr>\n",
              "    <tr>\n",
              "      <th>4</th>\n",
              "      <td>5</td>\n",
              "      <td>2</td>\n",
              "      <td>2</td>\n",
              "      <td>351.99208</td>\n",
              "      <td>731.61</td>\n",
              "      <td>223.54</td>\n",
              "      <td>1.15</td>\n",
              "      <td>4550.38</td>\n",
              "      <td>1767</td>\n",
              "      <td>2336.56</td>\n",
              "      <td>68</td>\n",
              "    </tr>\n",
              "    <tr>\n",
              "      <th>4</th>\n",
              "      <td>5</td>\n",
              "      <td>2</td>\n",
              "      <td>3</td>\n",
              "      <td>351.99208</td>\n",
              "      <td>731.61</td>\n",
              "      <td>223.54</td>\n",
              "      <td>1.15</td>\n",
              "      <td>4550.38</td>\n",
              "      <td>1767</td>\n",
              "      <td>2336.56</td>\n",
              "      <td>68</td>\n",
              "    </tr>\n",
              "    <tr>\n",
              "      <th>...</th>\n",
              "      <td>...</td>\n",
              "      <td>...</td>\n",
              "      <td>...</td>\n",
              "      <td>...</td>\n",
              "      <td>...</td>\n",
              "      <td>...</td>\n",
              "      <td>...</td>\n",
              "      <td>...</td>\n",
              "      <td>...</td>\n",
              "      <td>...</td>\n",
              "      <td>...</td>\n",
              "    </tr>\n",
              "    <tr>\n",
              "      <th>3108</th>\n",
              "      <td>3109</td>\n",
              "      <td>3</td>\n",
              "      <td>3</td>\n",
              "      <td>171.52629</td>\n",
              "      <td>670.32</td>\n",
              "      <td>40.94</td>\n",
              "      <td>2.35</td>\n",
              "      <td>1711.54</td>\n",
              "      <td>2780</td>\n",
              "      <td>954.91</td>\n",
              "      <td>251</td>\n",
              "    </tr>\n",
              "    <tr>\n",
              "      <th>3108</th>\n",
              "      <td>3109</td>\n",
              "      <td>3</td>\n",
              "      <td>4</td>\n",
              "      <td>171.52629</td>\n",
              "      <td>670.32</td>\n",
              "      <td>40.94</td>\n",
              "      <td>2.35</td>\n",
              "      <td>1711.54</td>\n",
              "      <td>2780</td>\n",
              "      <td>954.91</td>\n",
              "      <td>251</td>\n",
              "    </tr>\n",
              "    <tr>\n",
              "      <th>3108</th>\n",
              "      <td>3109</td>\n",
              "      <td>3</td>\n",
              "      <td>5</td>\n",
              "      <td>171.52629</td>\n",
              "      <td>670.32</td>\n",
              "      <td>40.94</td>\n",
              "      <td>2.35</td>\n",
              "      <td>1711.54</td>\n",
              "      <td>2780</td>\n",
              "      <td>954.91</td>\n",
              "      <td>251</td>\n",
              "    </tr>\n",
              "    <tr>\n",
              "      <th>3110</th>\n",
              "      <td>3111</td>\n",
              "      <td>6</td>\n",
              "      <td>1</td>\n",
              "      <td>827.74515</td>\n",
              "      <td>1841.90</td>\n",
              "      <td>373.53</td>\n",
              "      <td>1.21</td>\n",
              "      <td>5675.93</td>\n",
              "      <td>1905</td>\n",
              "      <td>2361.88</td>\n",
              "      <td>202</td>\n",
              "    </tr>\n",
              "    <tr>\n",
              "      <th>3110</th>\n",
              "      <td>3111</td>\n",
              "      <td>6</td>\n",
              "      <td>3</td>\n",
              "      <td>827.74515</td>\n",
              "      <td>1841.90</td>\n",
              "      <td>373.53</td>\n",
              "      <td>1.21</td>\n",
              "      <td>5675.93</td>\n",
              "      <td>1905</td>\n",
              "      <td>2361.88</td>\n",
              "      <td>202</td>\n",
              "    </tr>\n",
              "  </tbody>\n",
              "</table>\n",
              "<p>2484 rows × 11 columns</p>\n",
              "</div>"
            ],
            "text/plain": [
              "      user_id  Q1  ...  Web Page Download Throughput(Kbps)  Web Average TCP RTT(ms)\n",
              "1           2   5  ...                              255.36                      425\n",
              "2           3   1  ...                              535.85                      485\n",
              "3           4   8  ...                             1221.02                       51\n",
              "4           5   2  ...                             2336.56                       68\n",
              "4           5   2  ...                             2336.56                       68\n",
              "...       ...  ..  ...                                 ...                      ...\n",
              "3108     3109   3  ...                              954.91                      251\n",
              "3108     3109   3  ...                              954.91                      251\n",
              "3108     3109   3  ...                              954.91                      251\n",
              "3110     3111   6  ...                             2361.88                      202\n",
              "3110     3111   6  ...                             2361.88                      202\n",
              "\n",
              "[2484 rows x 11 columns]"
            ]
          },
          "metadata": {
            "tags": []
          },
          "execution_count": 14
        }
      ]
    },
    {
      "cell_type": "code",
      "metadata": {
        "colab": {
          "base_uri": "https://localhost:8080/",
          "height": 435
        },
        "id": "iPK7jBQ4JYMS",
        "outputId": "fbbafced-2daf-4425-c8a1-26b7f6b0ecd8"
      },
      "source": [
        "# Как и в предыдущей задаче остаются только релевантные ответы (предлагалось выбрать варианты ответов, представленные в виде чисел от 1 до 7)\n",
        "answers = ['1', '2', '3', '4', '5', '6', '7']\n",
        "df = df.loc[df['Q2'].isin(answers)]\n",
        "df"
      ],
      "execution_count": 15,
      "outputs": [
        {
          "output_type": "execute_result",
          "data": {
            "text/html": [
              "<div>\n",
              "<style scoped>\n",
              "    .dataframe tbody tr th:only-of-type {\n",
              "        vertical-align: middle;\n",
              "    }\n",
              "\n",
              "    .dataframe tbody tr th {\n",
              "        vertical-align: top;\n",
              "    }\n",
              "\n",
              "    .dataframe thead th {\n",
              "        text-align: right;\n",
              "    }\n",
              "</style>\n",
              "<table border=\"1\" class=\"dataframe\">\n",
              "  <thead>\n",
              "    <tr style=\"text-align: right;\">\n",
              "      <th></th>\n",
              "      <th>user_id</th>\n",
              "      <th>Q1</th>\n",
              "      <th>Q2</th>\n",
              "      <th>Total Traffic(MB)</th>\n",
              "      <th>Downlink Throughput(Kbps)</th>\n",
              "      <th>Uplink Throughput(Kbps)</th>\n",
              "      <th>Downlink TCP Retransmission Rate(%)</th>\n",
              "      <th>Video Streaming Download Throughput(Kbps)</th>\n",
              "      <th>Video Streaming xKB Start Delay(ms)</th>\n",
              "      <th>Web Page Download Throughput(Kbps)</th>\n",
              "      <th>Web Average TCP RTT(ms)</th>\n",
              "    </tr>\n",
              "  </thead>\n",
              "  <tbody>\n",
              "    <tr>\n",
              "      <th>1</th>\n",
              "      <td>2</td>\n",
              "      <td>5</td>\n",
              "      <td>4</td>\n",
              "      <td>861.96324</td>\n",
              "      <td>3023.54</td>\n",
              "      <td>411.18</td>\n",
              "      <td>1.27</td>\n",
              "      <td>667.47</td>\n",
              "      <td>2080</td>\n",
              "      <td>255.36</td>\n",
              "      <td>425</td>\n",
              "    </tr>\n",
              "    <tr>\n",
              "      <th>2</th>\n",
              "      <td>3</td>\n",
              "      <td>1</td>\n",
              "      <td>4</td>\n",
              "      <td>261.11860</td>\n",
              "      <td>790.96</td>\n",
              "      <td>34.20</td>\n",
              "      <td>1.79</td>\n",
              "      <td>1079.60</td>\n",
              "      <td>6367</td>\n",
              "      <td>535.85</td>\n",
              "      <td>485</td>\n",
              "    </tr>\n",
              "    <tr>\n",
              "      <th>3</th>\n",
              "      <td>4</td>\n",
              "      <td>8</td>\n",
              "      <td>3</td>\n",
              "      <td>179.18564</td>\n",
              "      <td>2590.97</td>\n",
              "      <td>325.88</td>\n",
              "      <td>0.80</td>\n",
              "      <td>7053.81</td>\n",
              "      <td>3218</td>\n",
              "      <td>1221.02</td>\n",
              "      <td>51</td>\n",
              "    </tr>\n",
              "    <tr>\n",
              "      <th>4</th>\n",
              "      <td>5</td>\n",
              "      <td>2</td>\n",
              "      <td>2</td>\n",
              "      <td>351.99208</td>\n",
              "      <td>731.61</td>\n",
              "      <td>223.54</td>\n",
              "      <td>1.15</td>\n",
              "      <td>4550.38</td>\n",
              "      <td>1767</td>\n",
              "      <td>2336.56</td>\n",
              "      <td>68</td>\n",
              "    </tr>\n",
              "    <tr>\n",
              "      <th>4</th>\n",
              "      <td>5</td>\n",
              "      <td>2</td>\n",
              "      <td>3</td>\n",
              "      <td>351.99208</td>\n",
              "      <td>731.61</td>\n",
              "      <td>223.54</td>\n",
              "      <td>1.15</td>\n",
              "      <td>4550.38</td>\n",
              "      <td>1767</td>\n",
              "      <td>2336.56</td>\n",
              "      <td>68</td>\n",
              "    </tr>\n",
              "    <tr>\n",
              "      <th>...</th>\n",
              "      <td>...</td>\n",
              "      <td>...</td>\n",
              "      <td>...</td>\n",
              "      <td>...</td>\n",
              "      <td>...</td>\n",
              "      <td>...</td>\n",
              "      <td>...</td>\n",
              "      <td>...</td>\n",
              "      <td>...</td>\n",
              "      <td>...</td>\n",
              "      <td>...</td>\n",
              "    </tr>\n",
              "    <tr>\n",
              "      <th>3108</th>\n",
              "      <td>3109</td>\n",
              "      <td>3</td>\n",
              "      <td>3</td>\n",
              "      <td>171.52629</td>\n",
              "      <td>670.32</td>\n",
              "      <td>40.94</td>\n",
              "      <td>2.35</td>\n",
              "      <td>1711.54</td>\n",
              "      <td>2780</td>\n",
              "      <td>954.91</td>\n",
              "      <td>251</td>\n",
              "    </tr>\n",
              "    <tr>\n",
              "      <th>3108</th>\n",
              "      <td>3109</td>\n",
              "      <td>3</td>\n",
              "      <td>4</td>\n",
              "      <td>171.52629</td>\n",
              "      <td>670.32</td>\n",
              "      <td>40.94</td>\n",
              "      <td>2.35</td>\n",
              "      <td>1711.54</td>\n",
              "      <td>2780</td>\n",
              "      <td>954.91</td>\n",
              "      <td>251</td>\n",
              "    </tr>\n",
              "    <tr>\n",
              "      <th>3108</th>\n",
              "      <td>3109</td>\n",
              "      <td>3</td>\n",
              "      <td>5</td>\n",
              "      <td>171.52629</td>\n",
              "      <td>670.32</td>\n",
              "      <td>40.94</td>\n",
              "      <td>2.35</td>\n",
              "      <td>1711.54</td>\n",
              "      <td>2780</td>\n",
              "      <td>954.91</td>\n",
              "      <td>251</td>\n",
              "    </tr>\n",
              "    <tr>\n",
              "      <th>3110</th>\n",
              "      <td>3111</td>\n",
              "      <td>6</td>\n",
              "      <td>1</td>\n",
              "      <td>827.74515</td>\n",
              "      <td>1841.90</td>\n",
              "      <td>373.53</td>\n",
              "      <td>1.21</td>\n",
              "      <td>5675.93</td>\n",
              "      <td>1905</td>\n",
              "      <td>2361.88</td>\n",
              "      <td>202</td>\n",
              "    </tr>\n",
              "    <tr>\n",
              "      <th>3110</th>\n",
              "      <td>3111</td>\n",
              "      <td>6</td>\n",
              "      <td>3</td>\n",
              "      <td>827.74515</td>\n",
              "      <td>1841.90</td>\n",
              "      <td>373.53</td>\n",
              "      <td>1.21</td>\n",
              "      <td>5675.93</td>\n",
              "      <td>1905</td>\n",
              "      <td>2361.88</td>\n",
              "      <td>202</td>\n",
              "    </tr>\n",
              "  </tbody>\n",
              "</table>\n",
              "<p>2479 rows × 11 columns</p>\n",
              "</div>"
            ],
            "text/plain": [
              "      user_id  Q1  ...  Web Page Download Throughput(Kbps)  Web Average TCP RTT(ms)\n",
              "1           2   5  ...                              255.36                      425\n",
              "2           3   1  ...                              535.85                      485\n",
              "3           4   8  ...                             1221.02                       51\n",
              "4           5   2  ...                             2336.56                       68\n",
              "4           5   2  ...                             2336.56                       68\n",
              "...       ...  ..  ...                                 ...                      ...\n",
              "3108     3109   3  ...                              954.91                      251\n",
              "3108     3109   3  ...                              954.91                      251\n",
              "3108     3109   3  ...                              954.91                      251\n",
              "3110     3111   6  ...                             2361.88                      202\n",
              "3110     3111   6  ...                             2361.88                      202\n",
              "\n",
              "[2479 rows x 11 columns]"
            ]
          },
          "metadata": {
            "tags": []
          },
          "execution_count": 15
        }
      ]
    },
    {
      "cell_type": "code",
      "metadata": {
        "colab": {
          "base_uri": "https://localhost:8080/",
          "height": 542
        },
        "id": "wtxJbXEyJYMT",
        "outputId": "015fe6c4-8ece-439a-b51a-d1430ea0da54"
      },
      "source": [
        "df_complains = df.groupby('Q2').agg({'user_id' : 'count'})\n",
        "\n",
        "fig = go.Figure(data=[go.Bar(x = df_complains.index, y = df_complains['user_id'], marker_color = 'royalblue', text=df_complains['user_id'], textposition='outside')])\n",
        "                \n",
        "fig.update_layout(title = 'Распределение жалоб')\n",
        "fig.update_xaxes({'dtick' : 1}, title = 'Жалобы')\n",
        "fig.update_yaxes(title = 'Количество') \n",
        "fig.show()"
      ],
      "execution_count": 16,
      "outputs": [
        {
          "output_type": "display_data",
          "data": {
            "text/html": [
              "<html>\n",
              "<head><meta charset=\"utf-8\" /></head>\n",
              "<body>\n",
              "    <div>\n",
              "            <script src=\"https://cdnjs.cloudflare.com/ajax/libs/mathjax/2.7.5/MathJax.js?config=TeX-AMS-MML_SVG\"></script><script type=\"text/javascript\">if (window.MathJax) {MathJax.Hub.Config({SVG: {font: \"STIX-Web\"}});}</script>\n",
              "                <script type=\"text/javascript\">window.PlotlyConfig = {MathJaxConfig: 'local'};</script>\n",
              "        <script src=\"https://cdn.plot.ly/plotly-latest.min.js\"></script>    \n",
              "            <div id=\"b2d506dc-d0f1-4849-bfee-1fbe3453b60b\" class=\"plotly-graph-div\" style=\"height:525px; width:100%;\"></div>\n",
              "            <script type=\"text/javascript\">\n",
              "                \n",
              "                    window.PLOTLYENV=window.PLOTLYENV || {};\n",
              "                    \n",
              "                if (document.getElementById(\"b2d506dc-d0f1-4849-bfee-1fbe3453b60b\")) {\n",
              "                    Plotly.newPlot(\n",
              "                        'b2d506dc-d0f1-4849-bfee-1fbe3453b60b',\n",
              "                        [{\"marker\": {\"color\": \"royalblue\"}, \"text\": [647.0, 183.0, 705.0, 625.0, 221.0, 13.0, 85.0], \"textposition\": \"outside\", \"type\": \"bar\", \"x\": [1, 2, 3, 4, 5, 6, 7], \"y\": [647, 183, 705, 625, 221, 13, 85]}],\n",
              "                        {\"template\": {\"data\": {\"bar\": [{\"error_x\": {\"color\": \"#2a3f5f\"}, \"error_y\": {\"color\": \"#2a3f5f\"}, \"marker\": {\"line\": {\"color\": \"#E5ECF6\", \"width\": 0.5}}, \"type\": \"bar\"}], \"barpolar\": [{\"marker\": {\"line\": {\"color\": \"#E5ECF6\", \"width\": 0.5}}, \"type\": \"barpolar\"}], \"carpet\": [{\"aaxis\": {\"endlinecolor\": \"#2a3f5f\", \"gridcolor\": \"white\", \"linecolor\": \"white\", \"minorgridcolor\": \"white\", \"startlinecolor\": \"#2a3f5f\"}, \"baxis\": {\"endlinecolor\": \"#2a3f5f\", \"gridcolor\": \"white\", \"linecolor\": \"white\", \"minorgridcolor\": \"white\", \"startlinecolor\": \"#2a3f5f\"}, \"type\": \"carpet\"}], \"choropleth\": [{\"colorbar\": {\"outlinewidth\": 0, \"ticks\": \"\"}, \"type\": \"choropleth\"}], \"contour\": [{\"colorbar\": {\"outlinewidth\": 0, \"ticks\": \"\"}, \"colorscale\": [[0.0, \"#0d0887\"], [0.1111111111111111, \"#46039f\"], [0.2222222222222222, \"#7201a8\"], [0.3333333333333333, \"#9c179e\"], [0.4444444444444444, \"#bd3786\"], [0.5555555555555556, \"#d8576b\"], [0.6666666666666666, \"#ed7953\"], [0.7777777777777778, \"#fb9f3a\"], [0.8888888888888888, \"#fdca26\"], [1.0, \"#f0f921\"]], \"type\": \"contour\"}], \"contourcarpet\": [{\"colorbar\": {\"outlinewidth\": 0, \"ticks\": \"\"}, \"type\": \"contourcarpet\"}], \"heatmap\": [{\"colorbar\": {\"outlinewidth\": 0, \"ticks\": \"\"}, \"colorscale\": [[0.0, \"#0d0887\"], [0.1111111111111111, \"#46039f\"], [0.2222222222222222, \"#7201a8\"], [0.3333333333333333, \"#9c179e\"], [0.4444444444444444, \"#bd3786\"], [0.5555555555555556, \"#d8576b\"], [0.6666666666666666, \"#ed7953\"], [0.7777777777777778, \"#fb9f3a\"], [0.8888888888888888, \"#fdca26\"], [1.0, \"#f0f921\"]], \"type\": \"heatmap\"}], \"heatmapgl\": [{\"colorbar\": {\"outlinewidth\": 0, \"ticks\": \"\"}, \"colorscale\": [[0.0, \"#0d0887\"], [0.1111111111111111, \"#46039f\"], [0.2222222222222222, \"#7201a8\"], [0.3333333333333333, \"#9c179e\"], [0.4444444444444444, \"#bd3786\"], [0.5555555555555556, \"#d8576b\"], [0.6666666666666666, \"#ed7953\"], [0.7777777777777778, \"#fb9f3a\"], [0.8888888888888888, \"#fdca26\"], [1.0, \"#f0f921\"]], \"type\": \"heatmapgl\"}], \"histogram\": [{\"marker\": {\"colorbar\": {\"outlinewidth\": 0, \"ticks\": \"\"}}, \"type\": \"histogram\"}], \"histogram2d\": [{\"colorbar\": {\"outlinewidth\": 0, \"ticks\": \"\"}, \"colorscale\": [[0.0, \"#0d0887\"], [0.1111111111111111, \"#46039f\"], [0.2222222222222222, \"#7201a8\"], [0.3333333333333333, \"#9c179e\"], [0.4444444444444444, \"#bd3786\"], [0.5555555555555556, \"#d8576b\"], [0.6666666666666666, \"#ed7953\"], [0.7777777777777778, \"#fb9f3a\"], [0.8888888888888888, \"#fdca26\"], [1.0, \"#f0f921\"]], \"type\": \"histogram2d\"}], \"histogram2dcontour\": [{\"colorbar\": {\"outlinewidth\": 0, \"ticks\": \"\"}, \"colorscale\": [[0.0, \"#0d0887\"], [0.1111111111111111, \"#46039f\"], [0.2222222222222222, \"#7201a8\"], [0.3333333333333333, \"#9c179e\"], [0.4444444444444444, \"#bd3786\"], [0.5555555555555556, \"#d8576b\"], [0.6666666666666666, \"#ed7953\"], [0.7777777777777778, \"#fb9f3a\"], [0.8888888888888888, \"#fdca26\"], [1.0, \"#f0f921\"]], \"type\": \"histogram2dcontour\"}], \"mesh3d\": [{\"colorbar\": {\"outlinewidth\": 0, \"ticks\": \"\"}, \"type\": \"mesh3d\"}], \"parcoords\": [{\"line\": {\"colorbar\": {\"outlinewidth\": 0, \"ticks\": \"\"}}, \"type\": \"parcoords\"}], \"pie\": [{\"automargin\": true, \"type\": \"pie\"}], \"scatter\": [{\"marker\": {\"colorbar\": {\"outlinewidth\": 0, \"ticks\": \"\"}}, \"type\": \"scatter\"}], \"scatter3d\": [{\"line\": {\"colorbar\": {\"outlinewidth\": 0, \"ticks\": \"\"}}, \"marker\": {\"colorbar\": {\"outlinewidth\": 0, \"ticks\": \"\"}}, \"type\": \"scatter3d\"}], \"scattercarpet\": [{\"marker\": {\"colorbar\": {\"outlinewidth\": 0, \"ticks\": \"\"}}, \"type\": \"scattercarpet\"}], \"scattergeo\": [{\"marker\": {\"colorbar\": {\"outlinewidth\": 0, \"ticks\": \"\"}}, \"type\": \"scattergeo\"}], \"scattergl\": [{\"marker\": {\"colorbar\": {\"outlinewidth\": 0, \"ticks\": \"\"}}, \"type\": \"scattergl\"}], \"scattermapbox\": [{\"marker\": {\"colorbar\": {\"outlinewidth\": 0, \"ticks\": \"\"}}, \"type\": \"scattermapbox\"}], \"scatterpolar\": [{\"marker\": {\"colorbar\": {\"outlinewidth\": 0, \"ticks\": \"\"}}, \"type\": \"scatterpolar\"}], \"scatterpolargl\": [{\"marker\": {\"colorbar\": {\"outlinewidth\": 0, \"ticks\": \"\"}}, \"type\": \"scatterpolargl\"}], \"scatterternary\": [{\"marker\": {\"colorbar\": {\"outlinewidth\": 0, \"ticks\": \"\"}}, \"type\": \"scatterternary\"}], \"surface\": [{\"colorbar\": {\"outlinewidth\": 0, \"ticks\": \"\"}, \"colorscale\": [[0.0, \"#0d0887\"], [0.1111111111111111, \"#46039f\"], [0.2222222222222222, \"#7201a8\"], [0.3333333333333333, \"#9c179e\"], [0.4444444444444444, \"#bd3786\"], [0.5555555555555556, \"#d8576b\"], [0.6666666666666666, \"#ed7953\"], [0.7777777777777778, \"#fb9f3a\"], [0.8888888888888888, \"#fdca26\"], [1.0, \"#f0f921\"]], \"type\": \"surface\"}], \"table\": [{\"cells\": {\"fill\": {\"color\": \"#EBF0F8\"}, \"line\": {\"color\": \"white\"}}, \"header\": {\"fill\": {\"color\": \"#C8D4E3\"}, \"line\": {\"color\": \"white\"}}, \"type\": \"table\"}]}, \"layout\": {\"annotationdefaults\": {\"arrowcolor\": \"#2a3f5f\", \"arrowhead\": 0, \"arrowwidth\": 1}, \"coloraxis\": {\"colorbar\": {\"outlinewidth\": 0, \"ticks\": \"\"}}, \"colorscale\": {\"diverging\": [[0, \"#8e0152\"], [0.1, \"#c51b7d\"], [0.2, \"#de77ae\"], [0.3, \"#f1b6da\"], [0.4, \"#fde0ef\"], [0.5, \"#f7f7f7\"], [0.6, \"#e6f5d0\"], [0.7, \"#b8e186\"], [0.8, \"#7fbc41\"], [0.9, \"#4d9221\"], [1, \"#276419\"]], \"sequential\": [[0.0, \"#0d0887\"], [0.1111111111111111, \"#46039f\"], [0.2222222222222222, \"#7201a8\"], [0.3333333333333333, \"#9c179e\"], [0.4444444444444444, \"#bd3786\"], [0.5555555555555556, \"#d8576b\"], [0.6666666666666666, \"#ed7953\"], [0.7777777777777778, \"#fb9f3a\"], [0.8888888888888888, \"#fdca26\"], [1.0, \"#f0f921\"]], \"sequentialminus\": [[0.0, \"#0d0887\"], [0.1111111111111111, \"#46039f\"], [0.2222222222222222, \"#7201a8\"], [0.3333333333333333, \"#9c179e\"], [0.4444444444444444, \"#bd3786\"], [0.5555555555555556, \"#d8576b\"], [0.6666666666666666, \"#ed7953\"], [0.7777777777777778, \"#fb9f3a\"], [0.8888888888888888, \"#fdca26\"], [1.0, \"#f0f921\"]]}, \"colorway\": [\"#636efa\", \"#EF553B\", \"#00cc96\", \"#ab63fa\", \"#FFA15A\", \"#19d3f3\", \"#FF6692\", \"#B6E880\", \"#FF97FF\", \"#FECB52\"], \"font\": {\"color\": \"#2a3f5f\"}, \"geo\": {\"bgcolor\": \"white\", \"lakecolor\": \"white\", \"landcolor\": \"#E5ECF6\", \"showlakes\": true, \"showland\": true, \"subunitcolor\": \"white\"}, \"hoverlabel\": {\"align\": \"left\"}, \"hovermode\": \"closest\", \"mapbox\": {\"style\": \"light\"}, \"paper_bgcolor\": \"white\", \"plot_bgcolor\": \"#E5ECF6\", \"polar\": {\"angularaxis\": {\"gridcolor\": \"white\", \"linecolor\": \"white\", \"ticks\": \"\"}, \"bgcolor\": \"#E5ECF6\", \"radialaxis\": {\"gridcolor\": \"white\", \"linecolor\": \"white\", \"ticks\": \"\"}}, \"scene\": {\"xaxis\": {\"backgroundcolor\": \"#E5ECF6\", \"gridcolor\": \"white\", \"gridwidth\": 2, \"linecolor\": \"white\", \"showbackground\": true, \"ticks\": \"\", \"zerolinecolor\": \"white\"}, \"yaxis\": {\"backgroundcolor\": \"#E5ECF6\", \"gridcolor\": \"white\", \"gridwidth\": 2, \"linecolor\": \"white\", \"showbackground\": true, \"ticks\": \"\", \"zerolinecolor\": \"white\"}, \"zaxis\": {\"backgroundcolor\": \"#E5ECF6\", \"gridcolor\": \"white\", \"gridwidth\": 2, \"linecolor\": \"white\", \"showbackground\": true, \"ticks\": \"\", \"zerolinecolor\": \"white\"}}, \"shapedefaults\": {\"line\": {\"color\": \"#2a3f5f\"}}, \"ternary\": {\"aaxis\": {\"gridcolor\": \"white\", \"linecolor\": \"white\", \"ticks\": \"\"}, \"baxis\": {\"gridcolor\": \"white\", \"linecolor\": \"white\", \"ticks\": \"\"}, \"bgcolor\": \"#E5ECF6\", \"caxis\": {\"gridcolor\": \"white\", \"linecolor\": \"white\", \"ticks\": \"\"}}, \"title\": {\"x\": 0.05}, \"xaxis\": {\"automargin\": true, \"gridcolor\": \"white\", \"linecolor\": \"white\", \"ticks\": \"\", \"title\": {\"standoff\": 15}, \"zerolinecolor\": \"white\", \"zerolinewidth\": 2}, \"yaxis\": {\"automargin\": true, \"gridcolor\": \"white\", \"linecolor\": \"white\", \"ticks\": \"\", \"title\": {\"standoff\": 15}, \"zerolinecolor\": \"white\", \"zerolinewidth\": 2}}}, \"title\": {\"text\": \"\\u0420\\u0430\\u0441\\u043f\\u0440\\u0435\\u0434\\u0435\\u043b\\u0435\\u043d\\u0438\\u0435 \\u0436\\u0430\\u043b\\u043e\\u0431\"}, \"xaxis\": {\"dtick\": 1, \"title\": {\"text\": \"\\u0416\\u0430\\u043b\\u043e\\u0431\\u044b\"}}, \"yaxis\": {\"title\": {\"text\": \"\\u041a\\u043e\\u043b\\u0438\\u0447\\u0435\\u0441\\u0442\\u0432\\u043e\"}}},\n",
              "                        {\"responsive\": true}\n",
              "                    ).then(function(){\n",
              "                            \n",
              "var gd = document.getElementById('b2d506dc-d0f1-4849-bfee-1fbe3453b60b');\n",
              "var x = new MutationObserver(function (mutations, observer) {{\n",
              "        var display = window.getComputedStyle(gd).display;\n",
              "        if (!display || display === 'none') {{\n",
              "            console.log([gd, 'removed!']);\n",
              "            Plotly.purge(gd);\n",
              "            observer.disconnect();\n",
              "        }}\n",
              "}});\n",
              "\n",
              "// Listen for the removal of the full notebook cells\n",
              "var notebookContainer = gd.closest('#notebook-container');\n",
              "if (notebookContainer) {{\n",
              "    x.observe(notebookContainer, {childList: true});\n",
              "}}\n",
              "\n",
              "// Listen for the clearing of the current output cell\n",
              "var outputEl = gd.closest('.output');\n",
              "if (outputEl) {{\n",
              "    x.observe(outputEl, {childList: true});\n",
              "}}\n",
              "\n",
              "                        })\n",
              "                };\n",
              "                \n",
              "            </script>\n",
              "        </div>\n",
              "</body>\n",
              "</html>"
            ]
          },
          "metadata": {
            "tags": []
          }
        }
      ]
    },
    {
      "cell_type": "code",
      "metadata": {
        "colab": {
          "base_uri": "https://localhost:8080/"
        },
        "id": "uO03phVuJYMT",
        "outputId": "a957ffc5-49f0-49d0-e0bc-0f54e34e015e"
      },
      "source": [
        "# Среднее значение ответов на второй вопрос\n",
        "df['Q2'].mean()"
      ],
      "execution_count": 17,
      "outputs": [
        {
          "output_type": "execute_result",
          "data": {
            "text/plain": [
              "2.9874949576442114"
            ]
          },
          "metadata": {
            "tags": []
          },
          "execution_count": 17
        }
      ]
    },
    {
      "cell_type": "markdown",
      "metadata": {
        "id": "9NAZbL3uJYMU"
      },
      "source": [
        "Чаще всего клиенты высказывали недовольство по пунктам 3 (плохое качество связи в зданиях, торговых центрах и т.д.) и 1 (недозвоны, обрывы при звонках). Предположим, что пункт 3 - средний ответ при вопросе о жалобах у всех клиентов МегаФон.\n",
        "\n",
        "\n",
        "*Статистический тест*\n",
        "\n",
        "Нулевая и альтернативная гипотезы:\n",
        "H0 - средний ответ на вопрос о жалобах равен 3;\n",
        "H1 - средний ответ на вопрос о жалобах не равен 3\n",
        "\n",
        "Для проверки гипотезы можно использовать t-test с одной выборкой."
      ]
    },
    {
      "cell_type": "code",
      "metadata": {
        "colab": {
          "base_uri": "https://localhost:8080/"
        },
        "id": "e4f-zF9rJYMU",
        "outputId": "00a47ff2-712b-428e-e8c3-b64756511d38"
      },
      "source": [
        "marks = df['Q2'].tolist()\n",
        "\n",
        "marks_mean = np.mean(marks)\n",
        "print(marks_mean)\n",
        "tset, pval = st.ttest_1samp(marks, 3)\n",
        "\n",
        "print('p-value',pval)\n",
        "\n",
        "if pval < 0.05: \n",
        "   print(\" we are rejecting null hypothesis\")\n",
        "else:\n",
        "  print(\"we are accepting null hypothesis\")"
      ],
      "execution_count": 18,
      "outputs": [
        {
          "output_type": "stream",
          "text": [
            "2.9874949576442114\n",
            "p-value 0.6829429431164097\n",
            "we are accepting null hypothesis\n"
          ],
          "name": "stdout"
        }
      ]
    },
    {
      "cell_type": "markdown",
      "metadata": {
        "id": "SW87ChYDJYMV"
      },
      "source": [
        "P-value больше α (при уровне значимости 5%), следовательно H0 не отвергается. \n",
        "\n",
        "Доверительный интервал:"
      ]
    },
    {
      "cell_type": "code",
      "metadata": {
        "id": "0gv2kxAnJYMV",
        "outputId": "d4b71f7c-d93a-4250-a857-b75b30e55683"
      },
      "source": [
        "st.t.interval(0.95, len(marks)-1, loc=np.mean(marks), scale=st.sem(marks))"
      ],
      "execution_count": null,
      "outputs": [
        {
          "output_type": "execute_result",
          "data": {
            "text/plain": [
              "(2.927466823057917, 3.047523092230506)"
            ]
          },
          "metadata": {
            "tags": []
          },
          "execution_count": 17
        }
      ]
    },
    {
      "cell_type": "markdown",
      "metadata": {
        "id": "VA5Xu7OXJYMW"
      },
      "source": [
        "На основании полученных данных можно сделать вывод, что самая вероятная жалоба клиентов - это плохое качество связи в зданиях, торговых центрах и т.п. (ответ № 3).\n",
        "Доверительный интервал для этой величины от 2.93 до 3.04.\n",
        "С учетом изложенного, можно порекомендовать компании обратить внимание на эту проблему."
      ]
    },
    {
      "cell_type": "markdown",
      "metadata": {
        "id": "eZYqoODPJYMW"
      },
      "source": [
        "# Часть 3"
      ]
    },
    {
      "cell_type": "markdown",
      "metadata": {
        "id": "RXdXMOe_JYMW"
      },
      "source": [
        "Для компании важно, что пользователи не только были довольны предоставляемыми услугами, но и как можно активнее ими пользовались. Например, увеличение трафика передачи данных демонстрирует насколько активно абонент использует интернет.\n",
        "Проверим, от чего зависит увеличение этого показателя.\n",
        "\n",
        "**Задача 3** Найти взаимосвязь между объемом трафика передачи данных и другими известными показателями.\n",
        "\n",
        "*Разведочный анализ*"
      ]
    },
    {
      "cell_type": "code",
      "metadata": {
        "id": "Xbp595KWJYMX",
        "outputId": "c11a503f-5687-4d83-c5ef-87dec2d8b15b"
      },
      "source": [
        "df_correlation['Total Traffic(MB)'].sort_values(ascending=False)"
      ],
      "execution_count": null,
      "outputs": [
        {
          "output_type": "execute_result",
          "data": {
            "text/plain": [
              "Total Traffic(MB)                            1.000000\n",
              "Downlink Throughput(Kbps)                    0.142469\n",
              "Video Streaming Download Throughput(Kbps)    0.038646\n",
              "Web Page Download Throughput(Kbps)           0.028740\n",
              "Uplink Throughput(Kbps)                      0.018312\n",
              "user_id                                     -0.002434\n",
              "Q1                                          -0.006246\n",
              "Video Streaming xKB Start Delay(ms)         -0.049636\n",
              "Web Average TCP RTT(ms)                     -0.074521\n",
              "Downlink TCP Retransmission Rate(%)         -0.092062\n",
              "Name: Total Traffic(MB), dtype: float64"
            ]
          },
          "metadata": {
            "tags": []
          },
          "execution_count": 152
        }
      ]
    },
    {
      "cell_type": "markdown",
      "metadata": {
        "id": "m5zcpt0vJYMX"
      },
      "source": [
        "Показатель средней скорости \"к абоненту\" (Downlink Throughput) предположительно оказывает наибольшее влияние на объем трафика (Total Traffic) - коэффициент корреляции 0.17. Представим эту взаимосвязь на графике.\n"
      ]
    },
    {
      "cell_type": "code",
      "metadata": {
        "scrolled": true,
        "colab": {
          "base_uri": "https://localhost:8080/",
          "height": 613
        },
        "id": "WuoxPZvwJYMX",
        "outputId": "f6aadf2d-9cce-47ff-f735-8bcc2ac79aa6"
      },
      "source": [
        "fig = px.scatter(df, x='Total Traffic(MB)', y='Downlink Throughput(Kbps)', trendline='ols', trendline_color_override='red', title='Взаимосвязь объема трафика и средней скорости \"к абоненту\"')\n",
        "fig.show()"
      ],
      "execution_count": 19,
      "outputs": [
        {
          "output_type": "stream",
          "text": [
            "/usr/local/lib/python3.7/dist-packages/statsmodels/tools/_testing.py:19: FutureWarning:\n",
            "\n",
            "pandas.util.testing is deprecated. Use the functions in the public API at pandas.testing instead.\n",
            "\n"
          ],
          "name": "stderr"
        },
        {
          "output_type": "display_data",
          "data": {
            "text/html": [
              "<html>\n",
              "<head><meta charset=\"utf-8\" /></head>\n",
              "<body>\n",
              "    <div>\n",
              "            <script src=\"https://cdnjs.cloudflare.com/ajax/libs/mathjax/2.7.5/MathJax.js?config=TeX-AMS-MML_SVG\"></script><script type=\"text/javascript\">if (window.MathJax) {MathJax.Hub.Config({SVG: {font: \"STIX-Web\"}});}</script>\n",
              "                <script type=\"text/javascript\">window.PlotlyConfig = {MathJaxConfig: 'local'};</script>\n",
              "        <script src=\"https://cdn.plot.ly/plotly-latest.min.js\"></script>    \n",
              "            <div id=\"41a3f180-68e1-4dfe-a592-fdbc5b26c1aa\" class=\"plotly-graph-div\" style=\"height:525px; width:100%;\"></div>\n",
              "            <script type=\"text/javascript\">\n",
              "                \n",
              "                    window.PLOTLYENV=window.PLOTLYENV || {};\n",
              "                    \n",
              "                if (document.getElementById(\"41a3f180-68e1-4dfe-a592-fdbc5b26c1aa\")) {\n",
              "                    Plotly.newPlot(\n",
              "                        '41a3f180-68e1-4dfe-a592-fdbc5b26c1aa',\n",
              "                        [{\"hoverlabel\": {\"namelength\": 0}, \"hovertemplate\": \"Total Traffic(MB)=%{x}<br>Downlink Throughput(Kbps)=%{y}\", \"legendgroup\": \"\", \"marker\": {\"color\": \"#636efa\", \"symbol\": \"circle\"}, \"mode\": \"markers\", \"name\": \"\", \"showlegend\": false, \"type\": \"scattergl\", \"x\": [861.96324, 261.1186, 179.18563999999998, 351.99208, 351.99208, 351.99208, 448.88412999999997, 448.88412999999997, 783.64464, 783.64464, 783.64464, 455.97369000000003, 455.97369000000003, 455.97369000000003, 455.97369000000003, 526.0865200000001, 526.0865200000001, 485.87565, 485.87565, 811.5561799999999, 256.01052000000004, 256.01052000000004, 844.863, 844.863, 172.40099999999998, 171.83432, 624.87826, 624.87826, 168.30615, 168.30615, 518.93045, 707.36385, 707.36385, 707.36385, 707.36385, 707.36385, 159.86636000000001, 159.86636000000001, 453.12793, 168.11047, 168.11047, 316.85435, 316.85435, 384.66811, 358.35124, 358.35124, 358.35124, 358.35124, 163.46258, 163.46258, 163.46258, 163.46258, 254.33322, 204.46809, 204.46809, 106.91202, 283.66389, 283.66389, 506.38998, 748.66653, 748.66653, 748.66653, 748.66653, 513.7896900000001, 223.01968, 286.58871, 520.899, 520.899, 520.899, 520.899, 568.15257, 568.15257, 568.15257, 568.15257, 670.4916599999999, 698.15865, 698.15865, 698.15865, 698.15865, 530.77703, 530.77703, 321.4876, 321.4876, 321.4876, 570.8553400000001, 434.32969, 219.43507000000002, 836.22982, 722.49427, 722.49427, 722.49427, 722.49427, 252.17192000000003, 252.17192000000003, 252.17192000000003, 252.17192000000003, 393.30712, 642.37716, 642.37716, 623.8138299999999, 623.8138299999999, 141.84354, 141.84354, 141.84354, 306.42266, 306.42266, 641.85847, 210.15486, 210.15486, 126.95618999999999, 126.95618999999999, 525.45815, 432.82045, 432.82045, 446.40484000000004, 158.23384, 790.46582, 134.13025, 248.91378999999998, 200.37793, 661.11584, 127.20035, 127.20035, 662.5874299999999, 539.2551900000001, 539.2551900000001, 755.47878, 162.99205, 162.99205, 707.04507, 707.04507, 707.04507, 325.62719, 325.62719, 325.62719, 231.7499, 410.42906, 373.58745, 825.3303900000001, 825.3303900000001, 128.54965, 504.89590999999996, 553.19073, 342.73753, 242.92678999999998, 131.03938, 298.91963, 363.02956, 385.69806, 385.69806, 717.16687, 717.16687, 449.07227, 449.07227, 184.87968999999998, 184.87968999999998, 184.87968999999998, 236.49097000000003, 814.81969, 254.24204, 254.24204, 254.24204, 254.24204, 118.71638999999999, 118.71638999999999, 118.71638999999999, 147.8762, 147.8762, 147.8762, 147.8762, 147.8762, 154.98348000000001, 154.98348000000001, 621.83723, 621.83723, 186.12718, 186.12718, 692.54495, 207.27389, 443.32777000000004, 443.32777000000004, 100.47952, 143.67331000000001, 143.67331000000001, 336.7862, 468.37611, 454.63951, 881.5381699999999, 578.79223, 578.79223, 578.79223, 459.24354000000005, 107.10073999999999, 107.10073999999999, 592.0788299999999, 210.36844, 210.36844, 336.92884, 336.92884, 336.92884, 336.92884, 360.26919, 175.75125, 175.75125, 247.60862999999998, 281.36482, 281.36482, 281.36482, 222.41037999999998, 222.41037999999998, 222.41037999999998, 795.1073700000001, 795.1073700000001, 185.51429, 116.84671999999999, 116.84671999999999, 116.84671999999999, 261.75046000000003, 767.9874900000001, 767.9874900000001, 767.9874900000001, 767.9874900000001, 802.65548, 299.30973, 299.30973, 453.52772000000004, 453.52772000000004, 453.52772000000004, 880.91946, 620.83208, 620.83208, 304.99332999999996, 192.32013, 541.1518900000001, 319.53442, 783.44606, 338.89114, 338.89114, 218.06342999999998, 218.06342999999998, 181.67576, 181.67576, 181.67576, 152.21668, 328.69298, 328.69298, 328.69298, 126.71798999999999, 171.32078, 245.39561, 216.88906, 216.88906, 216.88906, 151.76303000000001, 151.76303000000001, 151.76303000000001, 807.0233900000001, 807.0233900000001, 807.0233900000001, 824.62298, 368.76772, 411.54689, 358.21393, 247.52514, 247.52514, 247.52514, 550.8547599999999, 364.80717999999996, 141.50687, 141.50687, 158.95848999999998, 158.95848999999998, 169.52335, 745.1586599999999, 745.1586599999999, 133.18466, 625.6993200000001, 625.6993200000001, 270.15221, 270.15221, 638.056, 638.056, 454.56199999999995, 454.56199999999995, 454.56199999999995, 437.43224000000004, 437.43224000000004, 437.43224000000004, 162.86525, 162.86525, 119.07023999999998, 633.77997, 409.47932000000003, 409.47932000000003, 598.2205700000001, 598.2205700000001, 263.52902, 621.22535, 621.22535, 621.22535, 746.7529, 222.28747, 222.28747, 222.28747, 165.57878, 231.41964, 241.89495, 241.89495, 787.0303200000001, 286.05251, 286.05251, 221.74268999999998, 242.99767000000003, 297.09699, 297.09699, 101.88127, 101.88127, 456.31057000000004, 456.31057000000004, 428.12050999999997, 428.12050999999997, 428.12050999999997, 137.49353, 591.11877, 591.11877, 591.11877, 421.32557, 421.32557, 409.25994, 628.0523599999999, 432.63863, 432.63863, 432.63863, 432.63863, 338.2374, 338.2374, 331.04361, 331.04361, 331.04361, 331.04361, 489.65702000000005, 357.0484, 357.0484, 162.6634, 162.6634, 190.70115, 190.70115, 190.70115, 121.58627, 121.58627, 121.58627, 778.3127400000001, 477.46990999999997, 477.46990999999997, 477.46990999999997, 407.90592000000004, 407.90592000000004, 407.90592000000004, 860.62615, 332.4124, 332.4124, 332.4124, 468.40499000000005, 255.09862, 479.69617999999997, 589.02828, 589.02828, 589.02828, 101.75285, 101.75285, 101.75285, 101.75285, 101.75285, 566.9680000000001, 494.71064, 394.17707, 161.59232, 161.59232, 161.59232, 433.76435999999995, 561.98721, 173.8687, 173.8687, 173.8687, 173.8687, 173.8687, 173.8687, 144.63675, 558.4205099999999, 837.38908, 238.34815, 238.34815, 107.7545, 222.88889, 222.88889, 222.88889, 428.0624, 428.0624, 421.03055, 421.03055, 421.03055, 421.03055, 421.03055, 556.61197, 644.3503900000001, 644.3503900000001, 644.3503900000001, 340.13613, 602.48397, 602.48397, 264.9913, 264.9913, 158.23136, 494.01547, 369.78686, 369.78686, 369.78686, 369.78686, 369.78686, 811.1621700000001, 811.1621700000001, 495.35912, 327.69114, 215.26879, 474.5106, 166.57112, 166.57112, 329.7881, 329.7881, 275.02881, 275.02881, 411.5314, 411.5314, 292.00501, 292.00501, 292.00501, 378.04925, 786.3593900000001, 786.3593900000001, 485.03657000000004, 485.03657000000004, 485.03657000000004, 306.94617, 172.8702, 172.8702, 172.8702, 172.8702, 723.78181, 648.3837900000001, 648.3837900000001, 648.3837900000001, 238.0177, 812.97758, 812.97758, 716.3152299999999, 267.03604, 267.03604, 267.03604, 373.38584, 386.07804, 386.07804, 386.07804, 386.07804, 386.07804, 317.10832999999997, 146.67678, 533.80822, 131.89206000000001, 656.30803, 656.30803, 656.30803, 557.32381, 557.32381, 557.32381, 720.1492099999999, 720.1492099999999, 720.1492099999999, 627.27418, 627.27418, 627.27418, 627.27418, 186.92655, 758.91706, 758.91706, 758.91706, 176.36705, 355.31428, 291.27821, 746.95255, 117.76711, 115.42843, 115.42843, 115.42843, 565.9816, 565.9816, 565.9816, 203.25556, 323.16504, 323.16504, 323.16504, 323.16504, 413.50985, 413.50985, 413.50985, 235.32473, 235.32473, 190.39998, 536.88441, 536.88441, 536.88441, 183.65601999999998, 183.65601999999998, 183.65601999999998, 814.2884799999999, 814.2884799999999, 814.2884799999999, 611.23381, 563.6111, 508.25850999999994, 223.4703, 206.34384, 206.34384, 350.55086, 597.61609, 597.61609, 359.80489, 359.80489, 716.93992, 716.93992, 716.93992, 522.2726299999999, 854.66262, 854.66262, 270.11607999999995, 253.9713, 500.48015, 500.48015, 500.48015, 198.4273, 198.4273, 198.4273, 227.52691000000002, 193.84999, 480.4988, 480.4988, 480.4988, 231.80274, 231.80274, 229.07818999999998, 229.07818999999998, 244.06824, 244.06824, 244.06824, 181.27976999999998, 686.74589, 686.74589, 686.74589, 865.9369800000001, 666.2988799999999, 666.2988799999999, 859.85058, 859.85058, 859.85058, 147.99127, 147.99127, 296.92524, 873.87306, 873.87306, 873.87306, 873.87306, 873.87306, 291.24048999999997, 291.24048999999997, 291.24048999999997, 772.59978, 656.8822299999999, 432.75269000000003, 432.75269000000003, 329.24119, 329.24119, 510.934, 510.934, 510.934, 454.9081, 845.83484, 396.74996, 396.74996, 396.74996, 396.74996, 396.74996, 472.75867999999997, 336.2917, 336.2917, 336.2917, 337.32601, 164.42332, 164.42332, 802.18929, 802.18929, 513.33838, 678.98647, 183.46591999999998, 183.46591999999998, 885.25678, 776.5826400000001, 211.2701, 448.92253, 167.19301000000002, 167.19301000000002, 515.90439, 770.99306, 177.54936999999998, 177.54936999999998, 177.54936999999998, 532.4386599999999, 532.4386599999999, 771.28535, 771.28535, 168.05886, 517.90409, 517.90409, 658.19785, 199.48866999999998, 199.48866999999998, 485.40758, 621.9966400000001, 621.9966400000001, 621.9966400000001, 621.9966400000001, 621.9966400000001, 679.5169400000001, 679.5169400000001, 122.83561999999999, 347.45164, 102.31059, 102.31059, 452.12182, 452.12182, 452.12182, 452.12182, 452.12182, 487.84487, 487.84487, 839.72918, 405.69635, 116.7708, 422.64457999999996, 325.77927999999997, 325.77927999999997, 325.77927999999997, 299.58615, 299.58615, 798.19103, 798.19103, 798.19103, 220.18176, 220.18176, 220.18176, 220.18176, 466.11422000000005, 114.44455, 114.44455, 384.73158, 800.08137, 212.64817999999997, 185.18777, 216.17856, 796.64018, 796.64018, 796.64018, 796.64018, 519.4543, 122.50055, 280.48658, 280.48658, 776.94869, 776.94869, 103.84193, 328.48677000000004, 328.48677000000004, 604.7394400000001, 567.98407, 584.2587599999999, 584.2587599999999, 467.74767, 467.74767, 102.56188, 102.56188, 437.77885999999995, 437.77885999999995, 437.77885999999995, 437.77885999999995, 346.70299, 346.70299, 346.70299, 757.48718, 757.48718, 757.48718, 716.02075, 716.02075, 315.5149, 315.5149, 315.5149, 315.5149, 315.5149, 513.79418, 421.5146, 553.42463, 553.42463, 756.76013, 756.76013, 712.1814400000001, 463.60508, 463.60508, 653.44981, 653.44981, 653.44981, 128.43556, 128.43556, 635.30735, 635.30735, 635.30735, 653.99646, 732.04895, 550.1862, 544.1408, 180.33773, 180.33773, 137.58764, 137.58764, 137.58764, 694.09947, 670.26112, 670.26112, 112.95188999999999, 480.10888, 757.6551099999999, 175.23682, 639.78157, 105.98418999999998, 105.98418999999998, 240.35012000000003, 423.73355, 650.2873099999999, 137.74246000000002, 137.74246000000002, 349.78256, 406.50774, 406.50774, 406.50774, 774.2488099999999, 314.11757, 141.29901, 275.25647000000004, 275.25647000000004, 521.52135, 626.22893, 626.22893, 155.04128, 661.1603299999999, 154.70814, 156.04963999999998, 156.04963999999998, 369.01779, 369.01779, 369.01779, 605.1715, 102.71885999999999, 102.71885999999999, 740.06353, 740.06353, 649.03238, 649.03238, 720.88861, 404.79797, 116.41548, 116.41548, 134.453, 139.52943, 148.36721, 148.36721, 734.9590599999999, 734.9590599999999, 672.56405, 795.41433, 355.95977, 637.35811, 637.35811, 637.35811, 429.76537, 429.76537, 462.62805999999995, 165.38821000000002, 165.38821000000002, 165.38821000000002, 777.07327, 777.07327, 105.24746, 496.55412, 189.56471000000002, 562.8624900000001, 684.93616, 684.93616, 196.99754, 196.99754, 261.64275, 261.64275, 170.21759, 170.21759, 170.21759, 655.76657, 655.76657, 128.82901, 128.82901, 425.23708, 425.23708, 425.23708, 492.68454, 492.68454, 492.68454, 211.7548, 500.10760999999997, 709.5015599999999, 709.5015599999999, 560.68898, 560.68898, 560.68898, 222.77443, 426.32157, 138.07083, 138.07083, 138.07083, 343.48967999999996, 343.48967999999996, 343.48967999999996, 354.25699999999995, 359.88912999999997, 746.41632, 746.41632, 762.98267, 762.98267, 762.98267, 158.90235, 158.90235, 158.90235, 158.90235, 393.50192999999996, 393.50192999999996, 393.50192999999996, 536.2817200000001, 536.2817200000001, 536.2817200000001, 376.0853, 376.0853, 585.87051, 404.62526, 404.62526, 404.62526, 349.67214, 468.45928, 259.26344, 259.26344, 214.6195, 214.6195, 222.37639, 186.19035, 186.19035, 186.19035, 548.36244, 548.36244, 169.98832, 169.98832, 314.30245, 314.30245, 701.88129, 191.29585, 519.8208, 182.20476000000002, 182.20476000000002, 313.21809, 488.21873, 488.21873, 118.98161999999999, 406.93197999999995, 209.30937, 368.10889, 325.81003, 276.4748, 564.63252, 564.63252, 357.30232, 184.10156, 184.10156, 184.10156, 257.04097, 835.8458, 835.8458, 528.28021, 528.28021, 132.61977, 132.61977, 113.965, 151.41865, 151.41865, 142.81877, 142.81877, 142.81877, 769.08098, 223.50687000000002, 223.50687000000002, 707.0845400000001, 725.22677, 450.30470999999994, 450.30470999999994, 450.30470999999994, 251.65497000000002, 251.65497000000002, 350.12871, 607.70376, 151.69673999999998, 151.69673999999998, 448.27785, 448.27785, 184.89084, 746.71507, 269.54058, 269.54058, 560.7588099999999, 560.7588099999999, 560.7588099999999, 184.81066, 184.81066, 110.4546, 110.4546, 101.40295, 101.40295, 517.26982, 491.04375999999996, 593.4243799999999, 593.4243799999999, 593.4243799999999, 593.4243799999999, 273.15877, 618.53877, 618.53877, 260.25482, 260.25482, 172.56192, 802.3158900000001, 802.3158900000001, 802.3158900000001, 802.3158900000001, 802.3158900000001, 164.13179, 164.13179, 164.13179, 393.24542, 353.37127999999996, 869.16718, 430.63086, 430.63086, 430.63086, 430.63086, 430.63086, 510.22589000000005, 510.22589000000005, 377.63385, 497.94667000000004, 497.94667000000004, 497.94667000000004, 440.97172, 440.97172, 676.32075, 676.32075, 102.3012, 711.41875, 711.41875, 772.70253, 262.36972000000003, 262.36972000000003, 562.8068099999999, 562.8068099999999, 219.4169, 625.86596, 625.86596, 112.09796000000001, 112.09796000000001, 112.09796000000001, 390.69908, 390.69908, 390.69908, 731.3310700000001, 731.3310700000001, 534.65902, 151.55553999999998, 579.63771, 579.63771, 579.63771, 312.60335, 137.98295, 153.36485, 153.36485, 476.44197, 476.44197, 476.44197, 154.26164, 154.26164, 154.26164, 185.25647, 198.25206, 260.04975, 260.04975, 260.04975, 260.04975, 260.04975, 260.04975, 568.1709400000001, 568.1709400000001, 498.75375, 498.75375, 226.95987999999997, 226.95987999999997, 142.15515, 178.51667, 178.51667, 234.36462999999998, 234.36462999999998, 212.92721, 263.41188999999997, 263.41188999999997, 484.41396, 205.06524, 248.47142000000002, 248.47142000000002, 248.47142000000002, 248.47142000000002, 116.26225, 827.54534, 306.55908, 306.55908, 394.36800000000005, 394.36800000000005, 186.32656, 376.58272999999997, 376.58272999999997, 376.58272999999997, 376.58272999999997, 404.58127, 404.58127, 384.94413, 497.42545, 470.40525, 470.40525, 515.48937, 108.06621000000001, 108.06621000000001, 108.06621000000001, 666.76841, 642.9249900000001, 642.9249900000001, 642.9249900000001, 768.71236, 349.16962, 349.16962, 349.16962, 833.92476, 388.18967999999995, 232.44612, 232.44612, 232.44612, 585.04945, 585.04945, 585.04945, 561.96525, 205.33319, 241.73197000000002, 185.45008, 190.65861999999998, 101.09525, 101.09525, 811.34523, 811.34523, 651.06505, 192.94581000000002, 254.58526, 850.6932699999999, 289.18523999999996, 250.7925, 250.7925, 250.7925, 479.03362999999996, 479.03362999999996, 313.243, 313.243, 205.70801, 345.20426000000003, 345.20426000000003, 345.20426000000003, 345.20426000000003, 769.27097, 786.6263299999999, 786.6263299999999, 786.6263299999999, 163.71951, 163.71951, 163.71951, 378.7188, 412.43452, 204.11442, 415.05781, 415.05781, 159.99659, 879.6678, 697.96344, 265.56754, 265.56754, 265.56754, 109.90961999999999, 109.90961999999999, 535.8813, 366.2516, 366.2516, 264.7258, 217.0139, 217.0139, 217.0139, 546.23692, 661.67966, 661.67966, 244.15472999999997, 115.23681, 115.23681, 551.17583, 734.95618, 734.95618, 429.67762999999997, 198.44581000000002, 198.44581000000002, 381.22002000000003, 381.22002000000003, 201.4436, 201.4436, 367.84987, 536.54162, 156.34585, 156.34585, 156.34585, 297.28471, 297.28471, 314.59886, 106.14556999999999, 106.14556999999999, 588.23864, 588.23864, 327.27087, 327.27087, 327.27087, 327.27087, 250.95931000000002, 250.95931000000002, 250.95931000000002, 321.76896, 486.78714, 486.78714, 486.78714, 486.78714, 486.78714, 298.66854, 298.66854, 551.96028, 551.96028, 463.84425, 463.84425, 126.97605, 126.97605, 126.97605, 311.68352999999996, 602.03444, 122.6504, 122.6504, 251.55598999999998, 251.55598999999998, 584.0289700000001, 584.0289700000001, 178.72384, 178.72384, 178.72384, 178.72384, 284.31019, 284.91835, 284.91835, 410.8971, 410.8971, 410.8971, 410.8971, 383.18039, 256.54675, 681.02367, 547.5484, 543.7012900000001, 139.47141000000002, 139.47141000000002, 139.47141000000002, 508.22687, 508.22687, 120.93468999999999, 120.93468999999999, 857.73655, 526.7451599999999, 598.6619, 158.20372, 486.78278, 274.41442, 274.41442, 274.41442, 856.38455, 592.06969, 533.81172, 533.81172, 533.81172, 275.16686, 275.16686, 163.52283, 163.52283, 163.52283, 347.49817, 180.32557, 180.32557, 180.32557, 475.40567999999996, 117.98414, 160.90475, 465.76574000000005, 615.91557, 615.91557, 338.70217, 338.70217, 338.70217, 347.87023999999997, 568.7893, 568.7893, 568.7893, 108.93928000000001, 108.93928000000001, 108.93928000000001, 132.21813999999998, 237.17663, 289.381, 289.381, 248.10202, 248.10202, 782.7744799999999, 121.3071, 121.3071, 121.3071, 409.10925, 409.10925, 409.10925, 500.75569, 500.75569, 500.75569, 218.60126, 801.9841200000001, 801.9841200000001, 801.9841200000001, 588.19689, 282.24249, 450.57249, 778.9205400000001, 778.9205400000001, 456.88907, 762.21596, 527.18148, 332.96816, 336.49643, 432.23204000000004, 545.0797299999999, 545.0797299999999, 335.41289, 370.57156000000003, 370.57156000000003, 662.77107, 662.77107, 662.77107, 871.03314, 299.55057, 423.2975, 757.90174, 757.90174, 252.49894, 518.18385, 257.66161, 257.66161, 158.8678, 837.8535099999999, 258.71375, 258.71375, 258.71375, 430.6116, 199.80601000000001, 594.94474, 432.70142999999996, 594.46161, 594.46161, 594.46161, 637.79715, 637.79715, 311.57116, 311.57116, 570.12717, 108.14246000000001, 108.14246000000001, 101.50591999999999, 863.4074400000001, 640.71339, 640.71339, 640.71339, 335.63046, 335.63046, 335.63046, 335.63046, 535.45842, 535.45842, 535.45842, 650.45277, 650.45277, 650.45277, 316.11266, 316.11266, 316.11266, 708.55258, 708.55258, 527.32326, 527.32326, 180.24737, 729.54642, 729.54642, 729.54642, 729.54642, 680.0673400000001, 243.54373999999999, 243.54373999999999, 243.54373999999999, 677.4651200000001, 831.87657, 640.5890400000001, 640.5890400000001, 726.67652, 726.67652, 726.67652, 726.67652, 127.12037, 879.5967800000001, 879.5967800000001, 879.5967800000001, 219.10532, 188.13978, 405.38196, 464.84975999999995, 464.84975999999995, 674.74364, 674.74364, 674.74364, 765.63597, 765.63597, 107.39098999999999, 502.93369, 502.93369, 502.93369, 412.64479, 412.64479, 412.64479, 412.64479, 412.64479, 380.39056, 498.36795, 498.36795, 362.04962, 334.57291000000004, 334.57291000000004, 307.69746000000004, 433.07721, 433.07721, 433.07721, 599.73459, 599.73459, 599.73459, 258.95653, 258.95653, 417.16457, 546.81503, 188.46468000000002, 188.46468000000002, 188.46468000000002, 328.34619, 328.34619, 328.34619, 693.8715599999999, 235.43302999999997, 235.43302999999997, 327.11393, 327.11393, 521.98824, 521.98824, 357.44536, 357.44536, 357.44536, 124.67522, 281.60378, 281.60378, 281.60378, 281.60378, 352.76626, 661.57623, 599.16751, 244.2916, 244.2916, 382.21221, 382.21221, 382.21221, 739.5418400000001, 100.06532, 578.4014099999999, 406.1231, 406.1231, 406.1231, 406.1231, 234.4486, 234.4486, 828.89642, 828.89642, 799.9067200000001, 170.45082, 136.05557, 136.05557, 136.05557, 251.24005, 251.24005, 251.24005, 445.20215, 285.20399, 745.1231, 745.1231, 155.5733, 648.52901, 648.52901, 182.91024, 182.91024, 551.0496099999999, 739.57344, 739.57344, 183.21712, 352.93059, 352.93059, 352.93059, 606.1697, 737.57683, 430.8311, 430.8311, 430.8311, 430.8311, 502.81592, 502.81592, 502.81592, 502.81592, 239.42316, 239.42316, 239.42316, 164.02209, 164.02209, 674.20988, 466.16128, 386.73287999999997, 262.27846, 414.28997000000004, 414.28997000000004, 414.28997000000004, 414.28997000000004, 414.28997000000004, 108.13693, 108.13693, 108.13693, 108.13693, 108.13693, 505.99575999999996, 245.98065, 593.62245, 593.62245, 168.40668, 258.01425, 258.01425, 258.01425, 846.35555, 846.35555, 846.35555, 156.67412, 462.45687000000004, 462.45687000000004, 238.85907999999998, 238.85907999999998, 591.97926, 591.97926, 591.97926, 591.97926, 429.27398, 429.27398, 429.27398, 429.27398, 229.79055, 229.79055, 229.79055, 229.79055, 487.14453, 123.11528, 123.11528, 123.11528, 833.18898, 584.95355, 554.31122, 704.95827, 704.95827, 159.03486999999998, 159.03486999999998, 159.03486999999998, 150.41176000000002, 150.41176000000002, 806.50482, 293.03503, 880.9011, 880.9011, 373.77325, 650.2569599999999, 650.2569599999999, 650.2569599999999, 100.03538, 209.1278, 158.93711000000002, 158.93711000000002, 158.93711000000002, 229.27473999999998, 229.27473999999998, 229.27473999999998, 229.27473999999998, 156.28149, 381.39833, 317.74152999999995, 317.74152999999995, 317.74152999999995, 441.18252, 441.18252, 441.18252, 287.36782, 287.36782, 232.51256, 232.51256, 232.51256, 559.1951799999999, 147.64027, 147.64027, 126.47944, 126.47944, 646.75986, 198.30571, 198.30571, 198.30571, 198.30571, 436.4765, 436.4765, 263.39626, 263.39626, 263.39626, 293.12581, 293.12581, 293.12581, 178.63458, 330.33803, 824.60775, 824.60775, 824.60775, 824.60775, 146.48271, 328.77016000000003, 281.24429, 262.05515, 534.91121, 534.91121, 534.91121, 534.91121, 458.11963, 485.9225, 485.9225, 887.07827, 423.96449, 423.96449, 423.96449, 518.52607, 518.52607, 761.32074, 761.32074, 579.20718, 116.70786000000001, 116.70786000000001, 116.70786000000001, 246.60996, 246.60996, 509.48377, 509.48377, 180.81661, 787.92988, 245.3181, 191.84033, 636.1793, 636.1793, 636.1793, 636.1793, 636.1793, 785.8193, 785.8193, 785.8193, 134.80716, 172.11738, 345.81125, 319.39827, 319.39827, 319.39827, 363.95589, 240.67526, 240.67526, 152.21425, 152.21425, 152.21425, 427.41482, 427.41482, 427.41482, 427.41482, 375.73429, 147.28551000000002, 355.62052, 231.77329, 177.31073, 177.31073, 103.37308, 103.37308, 103.37308, 109.02618000000001, 109.02618000000001, 649.45424, 756.65595, 756.65595, 209.52795, 209.52795, 616.2912299999999, 366.00002, 622.54922, 141.32514, 473.60645999999997, 473.60645999999997, 439.18685, 439.18685, 439.18685, 266.04703, 603.24401, 819.90182, 122.18007, 702.12424, 702.12424, 702.12424, 702.12424, 258.74278, 258.74278, 878.99992, 136.92803999999998, 136.92803999999998, 134.29005, 134.29005, 134.29005, 207.58653, 207.58653, 207.58653, 207.58653, 207.58653, 820.47197, 820.47197, 212.30139, 212.30139, 212.30139, 212.30139, 368.72961000000004, 368.72961000000004, 231.19712, 453.51568, 836.16608, 836.16608, 836.16608, 836.16608, 389.34529, 268.09697, 604.90925, 604.90925, 604.90925, 604.90925, 491.38988, 214.53707000000003, 214.53707000000003, 214.53707000000003, 500.58025999999995, 829.59766, 829.59766, 248.81677000000002, 286.59029, 242.45826, 242.45826, 242.45826, 242.45826, 236.0986, 236.0986, 555.77928, 448.42078, 753.50342, 753.50342, 753.50342, 753.50342, 770.95196, 770.95196, 770.95196, 770.95196, 770.95196, 405.41362999999996, 405.41362999999996, 405.41362999999996, 303.60156, 734.02495, 734.02495, 793.04989, 171.12153, 171.12153, 171.12153, 171.12153, 171.12153, 106.82956999999999, 106.82956999999999, 106.82956999999999, 548.81532, 135.63496, 135.63496, 135.63496, 135.63496, 352.5953, 352.5953, 627.99455, 363.55152000000004, 446.04085999999995, 107.48853999999999, 107.48853999999999, 107.48853999999999, 314.02747999999997, 314.02747999999997, 314.02747999999997, 709.29022, 709.29022, 134.11205, 134.11205, 270.00804, 270.00804, 270.00804, 270.00804, 270.00804, 516.8171, 534.02387, 479.81043, 479.81043, 175.28236, 613.28043, 260.48474, 222.03248, 241.97637000000003, 241.97637000000003, 241.97637000000003, 218.69914, 101.796, 272.26574, 272.26574, 494.16965999999996, 494.16965999999996, 494.16965999999996, 330.86975, 330.86975, 858.29174, 255.9787, 206.9152, 206.9152, 206.9152, 206.9152, 120.74066, 113.47081000000001, 152.72114, 152.72114, 152.72114, 211.12932999999998, 237.66631, 291.6478, 763.3485400000001, 763.3485400000001, 763.3485400000001, 190.60804, 190.60804, 350.8766, 200.76766999999998, 200.76766999999998, 200.76766999999998, 213.9184, 103.23565, 103.23565, 103.23565, 106.12708, 198.7028, 198.7028, 198.7028, 521.52031, 521.52031, 184.96187, 612.81736, 302.37864, 334.28825, 334.28825, 582.74947, 231.73442000000003, 231.73442000000003, 231.73442000000003, 870.31348, 398.20591, 471.73104000000006, 743.0935900000001, 369.34794, 319.7114, 431.22799000000003, 431.22799000000003, 431.22799000000003, 112.4083, 112.4083, 188.92628, 188.92628, 188.92628, 188.92628, 133.50198, 370.92469, 370.92469, 193.38557, 193.38557, 687.04476, 448.11116, 448.11116, 448.11116, 335.69487000000004, 335.69487000000004, 238.27531000000002, 238.27531000000002, 238.27531000000002, 279.36115, 279.36115, 279.36115, 121.63748000000001, 382.15817999999996, 353.61071, 353.61071, 353.61071, 213.94666, 698.85361, 698.85361, 698.85361, 709.99968, 709.99968, 709.99968, 709.99968, 386.67177999999996, 363.02795, 363.02795, 363.02795, 742.10125, 742.10125, 742.10125, 742.10125, 742.10125, 321.85292999999996, 321.85292999999996, 723.4975599999999, 184.46264, 184.46264, 222.08142, 143.51058, 143.51058, 742.48275, 140.64377, 724.0939900000001, 724.0939900000001, 724.0939900000001, 197.42207, 310.64249, 728.67174, 728.67174, 768.4429200000001, 768.4429200000001, 768.4429200000001, 781.41832, 282.53295, 282.53295, 282.53295, 193.26011, 720.0571, 720.0571, 162.33489, 556.18048, 556.18048, 854.78178, 854.78178, 447.78988, 447.78988, 129.35225, 129.35225, 378.11242000000004, 277.0068, 277.0068, 269.05585, 110.77216999999999, 110.77216999999999, 110.77216999999999, 110.77216999999999, 551.81121, 144.02868999999998, 144.02868999999998, 144.02868999999998, 277.20068, 277.20068, 400.1566, 400.1566, 436.81580999999994, 436.81580999999994, 612.74058, 612.74058, 489.1822, 489.1822, 489.1822, 330.19582, 330.19582, 330.19582, 330.19582, 608.11243, 522.94662, 522.94662, 483.36885, 153.67163, 153.67163, 781.39805, 146.39043999999998, 674.7339, 674.7339, 674.7339, 640.30248, 640.30248, 640.30248, 299.01602, 299.01602, 299.01602, 195.73594, 195.73594, 484.3187, 582.82006, 582.82006, 582.82006, 582.82006, 582.82006, 804.65732, 160.11502, 220.49431, 287.04014, 287.04014, 287.04014, 287.04014, 114.94044, 127.53228999999999, 688.2696900000001, 688.2696900000001, 237.9003, 214.36061, 353.99171, 353.99171, 391.5999, 391.5999, 766.97705, 766.97705, 766.97705, 766.97705, 296.7939, 131.48066, 518.16562, 220.70208, 617.53188, 617.53188, 315.31416, 835.44209, 414.95572000000004, 435.46130999999997, 435.46130999999997, 342.72099, 342.72099, 128.5407, 432.45437999999996, 421.51050999999995, 421.51050999999995, 850.26705, 201.70057, 468.81122, 468.81122, 468.81122, 468.81122, 309.79143999999997, 135.06423, 360.2029, 360.2029, 360.2029, 207.8103, 148.26722, 172.99226000000002, 172.99226000000002, 273.38503, 273.38503, 290.33287, 225.59642000000002, 498.53102, 498.53102, 678.52451, 678.52451, 376.71377, 208.81963000000002, 208.81963000000002, 208.81963000000002, 218.86756, 218.86756, 169.77076, 469.98748, 469.98748, 606.99242, 606.99242, 606.99242, 147.63921000000002, 147.63921000000002, 356.8614, 356.8614, 423.03565, 423.03565, 423.03565, 588.37848, 460.49195999999995, 388.80695, 388.80695, 388.80695, 714.0074400000001, 765.7309, 765.7309, 765.7309, 765.7309, 765.7309, 862.55832, 294.11704, 294.11704, 294.11704, 392.13042, 460.22916, 520.1669099999999, 520.1669099999999, 520.1669099999999, 428.62944000000005, 428.62944000000005, 184.60314, 184.60314, 760.41182, 760.41182, 345.9211, 345.9211, 345.9211, 614.2483, 614.2483, 309.92586, 104.76864, 104.41158, 576.84736, 350.69092, 481.61578, 481.61578, 481.61578, 481.61578, 481.61578, 764.01828, 510.53605999999996, 510.53605999999996, 305.54284, 849.12424, 393.67426, 368.1728, 368.1728, 368.1728, 817.11975, 318.59317999999996, 318.59317999999996, 191.71001, 191.71001, 127.07378999999999, 665.4392799999999, 776.1472200000001, 456.28249000000005, 456.28249000000005, 456.28249000000005, 456.28249000000005, 424.43829000000005, 424.43829000000005, 424.43829000000005, 137.96625, 137.96625, 137.96625, 150.89109, 150.89109, 150.89109, 150.89109, 127.53258000000001, 127.53258000000001, 653.2171099999999, 653.2171099999999, 244.97312000000002, 244.97312000000002, 561.64301, 634.71639, 606.76756, 120.87993999999999, 120.87993999999999, 104.44086999999999, 543.2091, 543.2091, 543.2091, 558.40745, 558.40745, 304.01657, 304.01657, 304.01657, 315.21897, 434.94945, 434.94945, 330.81281, 126.91491, 126.91491, 126.91491, 126.91491, 507.26032000000004, 144.7274, 144.7274, 144.7274, 118.38781999999999, 118.38781999999999, 783.82299, 446.97659000000004, 446.97659000000004, 688.48247, 688.48247, 688.48247, 157.72807, 157.72807, 694.6182299999999, 694.6182299999999, 830.27687, 830.27687, 830.27687, 128.50055, 128.50055, 128.50055, 297.32016, 297.32016, 297.32016, 297.32016, 833.21684, 833.21684, 707.37828, 198.08061999999998, 118.4088, 118.4088, 118.4088, 672.90031, 672.90031, 672.90031, 672.90031, 288.16204, 192.38761, 470.1293, 470.1293, 470.1293, 271.66967, 271.66967, 271.66967, 131.99836000000002, 404.07541000000003, 404.07541000000003, 404.07541000000003, 320.75538, 320.75538, 320.75538, 247.41914, 247.41914, 247.41914, 247.41914, 233.06377999999998, 233.06377999999998, 215.2088, 326.22412, 326.22412, 257.13942000000003, 257.13942000000003, 257.13942000000003, 257.13942000000003, 807.99629, 807.99629, 807.99629, 126.18478, 126.18478, 203.32202, 203.32202, 390.28137000000004, 390.28137000000004, 348.41497000000004, 227.24308, 561.82143, 271.67445, 271.67445, 162.07995, 162.07995, 286.39533, 286.39533, 123.77832, 364.64592000000005, 579.2782599999999, 231.08107, 209.03518, 209.03518, 209.03518, 567.8996599999999, 567.8996599999999, 567.8996599999999, 567.8996599999999, 191.02495, 632.03798, 615.39359, 336.72443, 336.72443, 336.72443, 378.8113, 378.8113, 378.8113, 378.8113, 734.2312099999999, 734.2312099999999, 194.59606000000002, 194.59606000000002, 584.33069, 125.53661000000001, 387.36818999999997, 387.36818999999997, 387.36818999999997, 646.08657, 465.06586, 337.2527, 337.2527, 512.57458, 512.57458, 512.57458, 743.5060599999999, 539.12729, 539.12729, 462.18219000000005, 132.47012, 543.29067, 164.20666, 164.20666, 164.20666, 164.20666, 880.13632, 233.82757, 796.80209, 796.80209, 796.80209, 796.80209, 565.0398700000001, 731.6567200000001, 731.6567200000001, 731.6567200000001, 712.1922900000001, 316.78874, 316.78874, 316.78874, 254.87431, 254.87431, 254.87431, 254.87431, 254.87431, 488.40065, 165.35873999999998, 165.35873999999998, 138.4974, 180.77999, 481.68657, 481.68657, 173.64364, 173.64364, 827.89738, 162.70293, 556.6658, 299.42627000000005, 299.42627000000005, 299.42627000000005, 372.3033, 372.3033, 550.5646, 550.5646, 550.5646, 550.5646, 550.5646, 532.68182, 532.68182, 244.01425, 244.01425, 776.04034, 301.04357000000005, 301.04357000000005, 301.04357000000005, 235.74037, 511.92965, 511.92965, 511.92965, 813.6589, 813.6589, 813.6589, 272.5351, 272.5351, 272.5351, 276.13981, 154.56286, 173.87672, 169.39749, 841.10269, 154.01688000000001, 154.01688000000001, 101.61440999999999, 531.45307, 380.91614, 380.91614, 297.77137999999997, 297.77137999999997, 297.77137999999997, 131.68941, 131.68941, 131.68941, 738.9078900000001, 738.9078900000001, 708.2664599999999, 708.2664599999999, 160.3746, 814.67089, 814.67089, 814.67089, 814.67089, 113.02552, 492.50209, 492.50209, 466.7278, 415.86469, 415.86469, 415.86469, 415.86469, 121.32359, 552.8842400000001, 736.46207, 312.10785, 312.10785, 312.10785, 563.63145, 812.27067, 812.27067, 310.96238, 310.96238, 686.4825599999999, 686.4825599999999, 686.4825599999999, 703.07448, 703.07448, 198.81621, 245.78482999999997, 306.39397, 306.39397, 306.39397, 306.39397, 306.39397, 183.32329, 183.32329, 183.32329, 450.25201, 300.16931, 300.16931, 300.16931, 507.9122, 189.73568, 101.14381999999999, 101.14381999999999, 101.14381999999999, 101.14381999999999, 299.40336, 541.51854, 541.51854, 541.51854, 295.08117000000004, 662.01591, 662.01591, 662.01591, 662.01591, 112.7152, 502.18652000000003, 502.18652000000003, 377.41168, 552.82857, 552.82857, 868.01465, 868.01465, 385.61467000000005, 385.61467000000005, 136.63347, 136.63347, 116.38125, 671.4875099999999, 671.4875099999999, 671.4875099999999, 629.2581799999999, 629.2581799999999, 741.69656, 358.7958, 197.9781, 144.43657, 144.43657, 789.61393, 789.61393, 440.04470999999995, 440.04470999999995, 775.73132, 775.73132, 398.96519, 398.96519, 566.73519, 764.74168, 288.36161, 288.36161, 288.36161, 288.36161, 833.11345, 335.82509, 335.82509, 335.82509, 335.82509, 335.82509, 248.99905, 248.99905, 248.99905, 189.1415, 413.99008, 206.28181, 206.28181, 206.28181, 519.96475, 519.96475, 519.96475, 171.52629, 171.52629, 171.52629, 171.52629, 827.74515, 827.74515], \"xaxis\": \"x\", \"y\": [3023.54, 790.96, 2590.97, 731.61, 731.61, 731.61, 438.27, 438.27, 1786.99, 1786.99, 1786.99, 610.43, 610.43, 610.43, 610.43, 535.54, 535.54, 1700.86, 1700.86, 460.32, 2195.75, 2195.75, 1167.36, 1167.36, 5474.84, 4675.78, 9629.02, 9629.02, 205.13, 205.13, 256.96, 996.38, 996.38, 996.38, 996.38, 996.38, 266.84, 266.84, 3325.86, 2031.2, 2031.2, 208.64, 208.64, 415.38, 1626.41, 1626.41, 1626.41, 1626.41, 2117.83, 2117.83, 2117.83, 2117.83, 1992.86, 1109.97, 1109.97, 613.8, 257.67, 257.67, 1146.53, 9393.75, 9393.75, 9393.75, 9393.75, 2169.93, 1702.71, 3351.44, 886.86, 886.86, 886.86, 886.86, 1160.22, 1160.22, 1160.22, 1160.22, 427.31, 2114.86, 2114.86, 2114.86, 2114.86, 4973.39, 4973.39, 4638.15, 4638.15, 4638.15, 1626.01, 2911.12, 2977.72, 4014.24, 1966.98, 1966.98, 1966.98, 1966.98, 169.07, 169.07, 169.07, 169.07, 763.51, 2110.33, 2110.33, 2588.4, 2588.4, 410.68, 410.68, 410.68, 1527.98, 1527.98, 4410.52, 811.02, 811.02, 3557.73, 3557.73, 740.18, 901.81, 901.81, 4186.5, 2533.27, 1646.96, 685.28, 1499.15, 851.11, 1057.29, 1743.78, 1743.78, 1190.57, 420.27, 420.27, 424.65, 970.73, 970.73, 281.43, 281.43, 281.43, 207.94, 207.94, 207.94, 371.53, 584.55, 1921.92, 832.71, 832.71, 658.89, 1202.62, 17059.56, 7238.46, 2582.21, 2319.17, 316.03, 62.98, 383.06, 383.06, 1732.61, 1732.61, 115.41, 115.41, 1051.22, 1051.22, 1051.22, 754.91, 3789.56, 3154.08, 3154.08, 3154.08, 3154.08, 1115.48, 1115.48, 1115.48, 35.51, 35.51, 35.51, 35.51, 35.51, 164.9, 164.9, 2192.37, 2192.37, 178.52, 178.52, 3773.11, 7233.92, 416.97, 416.97, 265.43, 1082.58, 1082.58, 1314.03, 4629.74, 1279.38, 1148.53, 11746.28, 11746.28, 11746.28, 571.91, 1132.86, 1132.86, 5918.64, 1071.55, 1071.55, 712.61, 712.61, 712.61, 712.61, 210.18, 1081.65, 1081.65, 5204.18, 1078.62, 1078.62, 1078.62, 3374.35, 3374.35, 3374.35, 18573.35, 18573.35, 326.72, 771.69, 771.69, 771.69, 2936.23, 1106.41, 1106.41, 1106.41, 1106.41, 6777.85, 361.74, 361.74, 3184.88, 3184.88, 3184.88, 2100.88, 1026.6, 1026.6, 1851.01, 376.96, 8352.41, 585.96, 3318.38, 4446.41, 4446.41, 194.58, 194.58, 67.72, 67.72, 67.72, 2091.94, 929.37, 929.37, 929.37, 73.27, 3710.53, 3508.29, 122.78, 122.78, 122.78, 557.51, 557.51, 557.51, 2814.84, 2814.84, 2814.84, 461.6, 2105.47, 748.36, 2067.65, 44.44, 44.44, 44.44, 1078.6, 1960.71, 1454.01, 1454.01, 829.81, 829.81, 386.36, 3142.07, 3142.07, 512.42, 4285.42, 4285.42, 277.27, 277.27, 2214.88, 2214.88, 281.36, 281.36, 281.36, 118.07, 118.07, 118.07, 683.53, 683.53, 3676.88, 1331.85, 1435.22, 1435.22, 2945.99, 2945.99, 543.79, 1473.45, 1473.45, 1473.45, 1010.77, 538.98, 538.98, 538.98, 163.6, 2526.37, 1483.21, 1483.21, 1191.26, 428.43, 428.43, 330.24, 1735.4, 532.31, 532.31, 111.1, 111.1, 3403.77, 3403.77, 1237.55, 1237.55, 1237.55, 1382.71, 1128.05, 1128.05, 1128.05, 4259.33, 4259.33, 508.43, 1393.29, 221.57, 221.57, 221.57, 221.57, 2136.25, 2136.25, 443.33, 443.33, 443.33, 443.33, 1781.9, 152.22, 152.22, 869.17, 869.17, 2518.9, 2518.9, 2518.9, 6286.36, 6286.36, 6286.36, 1102.28, 951.44, 951.44, 951.44, 367.47, 367.47, 367.47, 6029.09, 878.47, 878.47, 878.47, 1539.65, 1123.47, 5784.19, 1479.98, 1479.98, 1479.98, 3157.03, 3157.03, 3157.03, 3157.03, 3157.03, 2677.88, 6090.77, 4067.88, 374.82, 374.82, 374.82, 1384.58, 3264.98, 938.37, 938.37, 938.37, 938.37, 938.37, 938.37, 1196.4, 3735.76, 3203.14, 394.19, 394.19, 611.1, 19112.75, 19112.75, 19112.75, 4319.38, 4319.38, 515.54, 515.54, 515.54, 515.54, 515.54, 298.56, 2653.42, 2653.42, 2653.42, 1748.86, 1041.55, 1041.55, 1345.8, 1345.8, 795.38, 1269.64, 729.44, 729.44, 729.44, 729.44, 729.44, 1195.8, 1195.8, 3818.44, 1505.91, 490.33, 5571.45, 1248.12, 1248.12, 389.62, 389.62, 2070.38, 2070.38, 67.99, 67.99, 3149.18, 3149.18, 3149.18, 5829.4, 1122.78, 1122.78, 474.59, 474.59, 474.59, 632.56, 5182.66, 5182.66, 5182.66, 5182.66, 666.09, 2794.75, 2794.75, 2794.75, 1517.55, 1134.97, 1134.97, 1775.74, 503.28, 503.28, 503.28, 125.97, 265.74, 265.74, 265.74, 265.74, 265.74, 1414.48, 579.96, 756.51, 1118.61, 1395.28, 1395.28, 1395.28, 5498.68, 5498.68, 5498.68, 4957.26, 4957.26, 4957.26, 618.07, 618.07, 618.07, 618.07, 1021.26, 1294.66, 1294.66, 1294.66, 2709.52, 4728.55, 825.79, 5724.53, 3418.03, 1025.7, 1025.7, 1025.7, 554.35, 554.35, 554.35, 1361.3, 1843.18, 1843.18, 1843.18, 1843.18, 172.01, 172.01, 172.01, 2970.47, 2970.47, 641.99, 228.94, 228.94, 228.94, 270.32, 270.32, 270.32, 3145.15, 3145.15, 3145.15, 1863.55, 2829.99, 486.91, 617.19, 285.08, 285.08, 784.31, 7577.94, 7577.94, 873.74, 873.74, 72.56, 72.56, 72.56, 10719.02, 349.62, 349.62, 969.05, 931.73, 184.0, 184.0, 184.0, 2291.27, 2291.27, 2291.27, 487.66, 227.61, 1099.44, 1099.44, 1099.44, 4339.6, 4339.6, 1617.92, 1617.92, 482.27, 482.27, 482.27, 1266.58, 3971.66, 3971.66, 3971.66, 767.61, 1380.5, 1380.5, 1419.03, 1419.03, 1419.03, 91.71, 91.71, 3428.48, 3013.91, 3013.91, 3013.91, 3013.91, 3013.91, 2873.11, 2873.11, 2873.11, 7484.68, 3219.59, 1403.95, 1403.95, 470.84, 470.84, 3385.92, 3385.92, 3385.92, 10361.47, 5236.73, 207.6, 207.6, 207.6, 207.6, 207.6, 928.97, 280.55, 280.55, 280.55, 2964.06, 854.12, 854.12, 514.44, 514.44, 4288.46, 4725.82, 1155.32, 1155.32, 1922.37, 1579.82, 143.51, 1572.05, 2996.75, 2996.75, 1296.59, 5637.05, 667.24, 667.24, 667.24, 1760.14, 1760.14, 1828.19, 1828.19, 180.47, 970.16, 970.16, 2156.3, 958.43, 958.43, 1979.5, 685.1, 685.1, 685.1, 685.1, 685.1, 1019.5, 1019.5, 573.6, 5316.54, 732.46, 732.46, 1058.92, 1058.92, 1058.92, 1058.92, 1058.92, 920.41, 920.41, 6011.11, 3802.7, 236.3, 1373.46, 650.65, 650.65, 650.65, 3992.4, 3992.4, 5224.25, 5224.25, 5224.25, 1737.79, 1737.79, 1737.79, 1737.79, 1705.11, 289.2, 289.2, 798.26, 904.53, 602.73, 947.61, 156.93, 1531.18, 1531.18, 1531.18, 1531.18, 5648.36, 2326.17, 736.63, 736.63, 2645.02, 2645.02, 1584.06, 268.42, 268.42, 1466.08, 3707.45, 8076.79, 8076.79, 1498.69, 1498.69, 102.05, 102.05, 5295.3, 5295.3, 5295.3, 5295.3, 1619.43, 1619.43, 1619.43, 2678.7, 2678.7, 2678.7, 820.26, 820.26, 439.49, 439.49, 439.49, 439.49, 439.49, 3531.7, 1310.42, 1555.18, 1555.18, 1562.68, 1562.68, 1502.22, 1712.47, 1712.47, 2264.87, 2264.87, 2264.87, 346.19, 346.19, 1787.31, 1787.31, 1787.31, 717.57, 538.08, 1018.88, 2087.95, 3002.24, 3002.24, 46.89, 46.89, 46.89, 7782.46, 2147.18, 2147.18, 13636.42, 1028.95, 2654.76, 937.53, 1511.87, 1333.92, 1333.92, 696.8, 4518.53, 4193.74, 429.52, 429.52, 595.43, 5949.19, 5949.19, 5949.19, 1693.54, 734.87, 3116.46, 1824.07, 1824.07, 2903.74, 972.49, 972.49, 2560.88, 5763.74, 644.11, 508.68, 508.68, 325.16, 325.16, 325.16, 4075.03, 4149.99, 4149.99, 703.44, 703.44, 826.64, 826.64, 5148.97, 2715.65, 38.59, 38.59, 3925.68, 438.69, 631.33, 631.33, 112.64, 112.64, 563.49, 539.03, 690.42, 7581.95, 7581.95, 7581.95, 5835.91, 5835.91, 1969.1, 323.64, 323.64, 323.64, 3459.22, 3459.22, 298.36, 238.68, 1086.94, 4554.99, 1708.72, 1708.72, 1524.35, 1524.35, 1452.71, 1452.71, 2687.74, 2687.74, 2687.74, 910.38, 910.38, 2266.35, 2266.35, 229.88, 229.88, 229.88, 2049.42, 2049.42, 2049.42, 3554.48, 2138.31, 7083.3, 7083.3, 877.65, 877.65, 877.65, 979.6, 497.74, 485.12, 485.12, 485.12, 463.09, 463.09, 463.09, 567.71, 686.35, 2118.97, 2118.97, 4292.71, 4292.71, 4292.71, 227.9, 227.9, 227.9, 227.9, 8725.0, 8725.0, 8725.0, 4428.66, 4428.66, 4428.66, 294.48, 294.48, 5991.69, 5157.5, 5157.5, 5157.5, 151.42, 6915.79, 2149.12, 2149.12, 2512.63, 2512.63, 1423.66, 284.53, 284.53, 284.53, 3289.73, 3289.73, 177.4, 177.4, 1111.46, 1111.46, 3916.2, 1132.16, 1124.76, 1216.75, 1216.75, 701.34, 240.96, 240.96, 1888.01, 3936.96, 3798.32, 1482.95, 2304.07, 521.11, 2394.54, 2394.54, 1295.1, 721.98, 721.98, 721.98, 700.41, 1090.83, 1090.83, 2108.0, 2108.0, 1493.77, 1493.77, 207.94, 129.64, 129.64, 3782.03, 3782.03, 3782.03, 2059.8, 2274.64, 2274.64, 2012.84, 3493.84, 435.8, 435.8, 435.8, 869.14, 869.14, 2360.06, 10421.38, 2396.16, 2396.16, 3283.1, 3283.1, 7041.45, 1587.6, 551.85, 551.85, 960.52, 960.52, 960.52, 1097.03, 1097.03, 433.68, 433.68, 177.28, 177.28, 2448.81, 554.18, 1805.26, 1805.26, 1805.26, 1805.26, 1622.73, 4984.05, 4984.05, 201.56, 201.56, 768.46, 588.57, 588.57, 588.57, 588.57, 588.57, 1094.06, 1094.06, 1094.06, 1239.92, 2612.53, 2520.66, 965.71, 965.71, 965.71, 965.71, 965.71, 1295.14, 1295.14, 1015.84, 341.82, 341.82, 341.82, 2388.69, 2388.69, 2039.5, 2039.5, 257.09, 3744.3, 3744.3, 164.19, 3323.8, 3323.8, 2722.52, 2722.52, 346.24, 154.05, 154.05, 77.17, 77.17, 77.17, 906.18, 906.18, 906.18, 8290.89, 8290.89, 979.09, 964.27, 1225.69, 1225.69, 1225.69, 1272.66, 3944.52, 2526.64, 2526.64, 2889.0, 2889.0, 2889.0, 864.03, 864.03, 864.03, 3463.05, 4044.18, 993.27, 993.27, 993.27, 993.27, 993.27, 993.27, 1453.72, 1453.72, 90.99, 90.99, 2966.43, 2966.43, 2411.01, 456.71, 456.71, 1625.52, 1625.52, 1053.21, 720.73, 720.73, 3916.25, 2139.91, 647.47, 647.47, 647.47, 647.47, 4620.52, 2142.13, 703.14, 703.14, 293.53, 293.53, 16510.6, 955.61, 955.61, 955.61, 955.61, 264.58, 264.58, 646.11, 2626.45, 4783.9, 4783.9, 3081.98, 233.78, 233.78, 233.78, 441.08, 280.39, 280.39, 280.39, 4168.06, 1985.55, 1985.55, 1985.55, 418.16, 1062.27, 1171.66, 1171.66, 1171.66, 2269.52, 2269.52, 2269.52, 645.45, 4695.7, 286.7, 857.23, 878.58, 210.3, 210.3, 1918.78, 1918.78, 5369.99, 1021.93, 3261.85, 2755.05, 930.17, 2271.45, 2271.45, 2271.45, 1290.45, 1290.45, 140.95, 140.95, 957.33, 1605.56, 1605.56, 1605.56, 1605.56, 2069.95, 255.57, 255.57, 255.57, 2524.36, 2524.36, 2524.36, 2837.84, 1546.38, 1725.79, 317.99, 317.99, 2233.5, 3467.16, 4849.19, 769.96, 769.96, 769.96, 549.64, 549.64, 13395.95, 236.51, 236.51, 2511.02, 3462.01, 3462.01, 3462.01, 4949.63, 1051.85, 1051.85, 1418.35, 1424.2, 1424.2, 1999.51, 2802.18, 2802.18, 1104.77, 1419.27, 1419.27, 462.43, 462.43, 629.34, 629.34, 4118.54, 5032.04, 984.3, 984.3, 984.3, 144.44, 144.44, 1021.82, 1953.59, 1953.59, 2156.49, 2156.49, 7552.68, 7552.68, 7552.68, 7552.68, 1174.85, 1174.85, 1174.85, 4282.24, 473.54, 473.54, 473.54, 473.54, 473.54, 1939.89, 1939.89, 2502.97, 2502.97, 1202.11, 1202.11, 5623.93, 5623.93, 5623.93, 6042.71, 2305.15, 207.89, 207.89, 1561.94, 1561.94, 2868.89, 2868.89, 885.71, 885.71, 885.71, 885.71, 2125.74, 1282.85, 1282.85, 342.51, 342.51, 342.51, 342.51, 3364.56, 626.41, 790.24, 4514.25, 4801.11, 600.22, 600.22, 600.22, 1858.31, 1858.31, 375.43, 375.43, 2098.44, 4268.76, 1066.72, 1471.22, 49.54, 3317.06, 3317.06, 3317.06, 1790.49, 895.32, 4495.71, 4495.71, 4495.71, 584.62, 584.62, 3912.89, 3912.89, 3912.89, 585.82, 531.89, 531.89, 531.89, 2584.24, 2513.23, 1520.17, 1412.75, 591.12, 591.12, 385.07, 385.07, 385.07, 4505.21, 6467.75, 6467.75, 6467.75, 198.28, 198.28, 198.28, 364.22, 335.13, 1496.28, 1496.28, 764.37, 764.37, 1233.19, 665.66, 665.66, 665.66, 1344.58, 1344.58, 1344.58, 3208.18, 3208.18, 3208.18, 1916.71, 1275.08, 1275.08, 1275.08, 2355.54, 124.01, 2160.25, 1093.43, 1093.43, 661.29, 1350.17, 11341.58, 2686.86, 5075.91, 682.22, 1578.42, 1578.42, 761.49, 3596.0, 3596.0, 3374.11, 3374.11, 3374.11, 851.01, 1789.17, 1366.61, 1047.56, 1047.56, 877.35, 3671.13, 533.13, 533.13, 851.53, 813.26, 9167.49, 9167.49, 9167.49, 8433.4, 480.65, 4704.53, 1912.02, 3399.66, 3399.66, 3399.66, 718.46, 718.46, 871.14, 871.14, 5188.62, 312.57, 312.57, 653.72, 9531.91, 3216.66, 3216.66, 3216.66, 1676.8, 1676.8, 1676.8, 1676.8, 223.18, 223.18, 223.18, 494.03, 494.03, 494.03, 1252.65, 1252.65, 1252.65, 5430.13, 5430.13, 228.05, 228.05, 4018.14, 2063.91, 2063.91, 2063.91, 2063.91, 473.08, 1140.77, 1140.77, 1140.77, 790.15, 3117.35, 1339.43, 1339.43, 1408.8, 1408.8, 1408.8, 1408.8, 1457.39, 7950.39, 7950.39, 7950.39, 3338.35, 2580.07, 3218.59, 36446.0, 36446.0, 1142.47, 1142.47, 1142.47, 1142.34, 1142.34, 2496.62, 12166.14, 12166.14, 12166.14, 234.98, 234.98, 234.98, 234.98, 234.98, 1218.06, 2124.94, 2124.94, 93.07, 494.7, 494.7, 2479.21, 1584.89, 1584.89, 1584.89, 415.39, 415.39, 415.39, 1978.45, 1978.45, 1869.9, 1891.46, 768.63, 768.63, 768.63, 3806.38, 3806.38, 3806.38, 5307.57, 574.14, 574.14, 9420.41, 9420.41, 6106.77, 6106.77, 1150.73, 1150.73, 1150.73, 2021.03, 502.37, 502.37, 502.37, 502.37, 2500.77, 1176.06, 2714.13, 1902.36, 1902.36, 1779.77, 1779.77, 1779.77, 1858.12, 7266.96, 2157.55, 291.94, 291.94, 291.94, 291.94, 483.43, 483.43, 2658.83, 2658.83, 6419.77, 1078.46, 65.56, 65.56, 65.56, 1446.42, 1446.42, 1446.42, 1878.82, 682.43, 2442.77, 2442.77, 378.23, 536.71, 536.71, 254.09, 254.09, 3653.24, 748.25, 748.25, 558.08, 780.54, 780.54, 780.54, 2000.93, 6787.67, 897.75, 897.75, 897.75, 897.75, 913.26, 913.26, 913.26, 913.26, 1918.6, 1918.6, 1918.6, 218.23, 218.23, 1578.26, 6665.63, 1138.83, 2434.29, 2155.56, 2155.56, 2155.56, 2155.56, 2155.56, 193.37, 193.37, 193.37, 193.37, 193.37, 1129.86, 5993.72, 2945.72, 2945.72, 1633.03, 1085.66, 1085.66, 1085.66, 677.78, 677.78, 677.78, 2628.88, 3962.21, 3962.21, 381.74, 381.74, 1621.62, 1621.62, 1621.62, 1621.62, 817.76, 817.76, 817.76, 817.76, 5760.45, 5760.45, 5760.45, 5760.45, 1178.19, 485.09, 485.09, 485.09, 2247.43, 1168.88, 525.62, 2723.55, 2723.55, 1386.84, 1386.84, 1386.84, 1799.25, 1799.25, 1303.25, 781.43, 4469.64, 4469.64, 821.72, 2194.0, 2194.0, 2194.0, 79.56, 2083.31, 70.31, 70.31, 70.31, 647.4, 647.4, 647.4, 647.4, 2485.28, 1639.96, 363.92, 363.92, 363.92, 1184.56, 1184.56, 1184.56, 2232.45, 2232.45, 1095.05, 1095.05, 1095.05, 818.55, 1004.37, 1004.37, 820.07, 820.07, 1697.37, 251.24, 251.24, 251.24, 251.24, 1579.07, 1579.07, 1453.08, 1453.08, 1453.08, 453.68, 453.68, 453.68, 2776.68, 726.99, 4880.01, 4880.01, 4880.01, 4880.01, 11844.14, 1096.4, 256.76, 1061.02, 287.09, 287.09, 287.09, 287.09, 1662.2, 4547.1, 4547.1, 12430.07, 70.16, 70.16, 70.16, 1101.37, 1101.37, 2492.59, 2492.59, 1880.21, 314.4, 314.4, 314.4, 1970.56, 1970.56, 3434.18, 3434.18, 1007.03, 430.26, 1145.63, 5687.84, 5201.5, 5201.5, 5201.5, 5201.5, 5201.5, 780.08, 780.08, 780.08, 5416.68, 321.52, 256.89, 6446.52, 6446.52, 6446.52, 1645.02, 228.81, 228.81, 2860.78, 2860.78, 2860.78, 3970.1, 3970.1, 3970.1, 3970.1, 41.56, 379.35, 150.84, 517.66, 2451.15, 2451.15, 811.98, 811.98, 811.98, 641.98, 641.98, 1648.37, 612.66, 612.66, 305.09, 305.09, 1060.45, 281.64, 280.32, 103.97, 1064.07, 1064.07, 131.93, 131.93, 131.93, 553.92, 3390.35, 11106.86, 3041.23, 5583.29, 5583.29, 5583.29, 5583.29, 3824.48, 3824.48, 1556.63, 561.73, 561.73, 1093.7, 1093.7, 1093.7, 652.02, 652.02, 652.02, 652.02, 652.02, 2657.02, 2657.02, 773.73, 773.73, 773.73, 773.73, 20.38, 20.38, 613.15, 1780.52, 259.97, 259.97, 259.97, 259.97, 1435.76, 426.76, 2662.92, 2662.92, 2662.92, 2662.92, 2858.65, 654.42, 654.42, 654.42, 727.95, 4667.57, 4667.57, 1527.36, 579.54, 4767.7, 4767.7, 4767.7, 4767.7, 1184.18, 1184.18, 139.23, 1431.97, 204.94, 204.94, 204.94, 204.94, 1361.47, 1361.47, 1361.47, 1361.47, 1361.47, 2283.61, 2283.61, 2283.61, 711.09, 643.63, 643.63, 2075.7, 314.92, 314.92, 314.92, 314.92, 314.92, 1545.31, 1545.31, 1545.31, 1118.02, 393.43, 393.43, 393.43, 393.43, 153.6, 153.6, 3545.43, 1004.32, 1528.18, 309.28, 309.28, 309.28, 2349.07, 2349.07, 2349.07, 2541.47, 2541.47, 109.47, 109.47, 1030.77, 1030.77, 1030.77, 1030.77, 1030.77, 732.16, 545.66, 1588.64, 1588.64, 301.55, 5287.7, 1105.1, 1070.45, 133.73, 133.73, 133.73, 1156.71, 914.03, 186.07, 186.07, 258.55, 258.55, 258.55, 3751.6, 3751.6, 2005.38, 1122.26, 2596.03, 2596.03, 2596.03, 2596.03, 470.53, 3895.88, 657.3, 657.3, 657.3, 1093.4, 1471.23, 1680.26, 4119.16, 4119.16, 4119.16, 89.72, 89.72, 386.07, 1227.44, 1227.44, 1227.44, 1367.53, 746.49, 746.49, 746.49, 193.69, 1400.57, 1400.57, 1400.57, 1007.19, 1007.19, 977.14, 1606.82, 598.98, 2138.1, 2138.1, 2477.58, 256.71, 256.71, 256.71, 3930.18, 1035.42, 2434.6, 1766.13, 1319.37, 1567.44, 2184.98, 2184.98, 2184.98, 686.65, 686.65, 1440.06, 1440.06, 1440.06, 1440.06, 1103.33, 1411.41, 1411.41, 362.81, 362.81, 2969.72, 701.57, 701.57, 701.57, 561.53, 561.53, 958.36, 958.36, 958.36, 2702.62, 2702.62, 2702.62, 1334.13, 3565.53, 3253.19, 3253.19, 3253.19, 608.72, 813.12, 813.12, 813.12, 1189.43, 1189.43, 1189.43, 1189.43, 279.47, 2589.98, 2589.98, 2589.98, 824.74, 824.74, 824.74, 824.74, 824.74, 467.49, 467.49, 1093.96, 2980.42, 2980.42, 1011.53, 740.52, 740.52, 1906.19, 187.93, 3379.74, 3379.74, 3379.74, 2175.56, 1640.35, 1301.36, 1301.36, 3297.7, 3297.7, 3297.7, 461.17, 77.21, 77.21, 77.21, 2629.21, 2425.25, 2425.25, 536.63, 172.04, 172.04, 4001.5, 4001.5, 12359.18, 12359.18, 97.0, 97.0, 9667.29, 457.74, 457.74, 1622.64, 19.9, 19.9, 19.9, 19.9, 6313.07, 1170.37, 1170.37, 1170.37, 255.84, 255.84, 1125.56, 1125.56, 1302.05, 1302.05, 6952.07, 6952.07, 2511.06, 2511.06, 2511.06, 929.86, 929.86, 929.86, 929.86, 2137.99, 2406.72, 2406.72, 1706.55, 602.17, 602.17, 6869.86, 1452.07, 43.31, 43.31, 43.31, 1144.93, 1144.93, 1144.93, 362.16, 362.16, 362.16, 1129.78, 1129.78, 657.43, 212.42, 212.42, 212.42, 212.42, 212.42, 6877.21, 3614.67, 145.26, 2040.91, 2040.91, 2040.91, 2040.91, 196.38, 1845.04, 2726.44, 2726.44, 574.49, 128.4, 963.85, 963.85, 3392.7, 3392.7, 483.15, 483.15, 483.15, 483.15, 536.01, 1175.02, 487.33, 368.85, 1802.67, 1802.67, 473.04, 1696.22, 1858.8, 1910.82, 1910.82, 3585.57, 3585.57, 1105.32, 695.61, 2008.15, 2008.15, 1424.11, 3127.76, 3904.3, 3904.3, 3904.3, 3904.3, 194.75, 139.6, 246.43, 246.43, 246.43, 298.37, 620.69, 803.02, 803.02, 1036.44, 1036.44, 335.94, 4233.94, 12486.09, 12486.09, 509.98, 509.98, 2163.65, 1613.8, 1613.8, 1613.8, 3031.0, 3031.0, 308.71, 398.24, 398.24, 4000.04, 4000.04, 4000.04, 1398.32, 1398.32, 2229.61, 2229.61, 554.89, 554.89, 554.89, 199.12, 2562.58, 892.18, 892.18, 892.18, 5969.1, 1481.07, 1481.07, 1481.07, 1481.07, 1481.07, 3672.34, 867.18, 867.18, 867.18, 741.23, 2501.19, 756.97, 756.97, 756.97, 656.98, 656.98, 195.43, 195.43, 240.58, 240.58, 309.92, 309.92, 309.92, 2863.45, 2863.45, 7141.36, 821.34, 3994.33, 2151.86, 3266.33, 2680.56, 2680.56, 2680.56, 2680.56, 2680.56, 4174.26, 580.55, 580.55, 33.5, 2386.91, 1179.33, 601.9, 601.9, 601.9, 2210.86, 3646.5, 3646.5, 3825.59, 3825.59, 696.9, 6314.27, 551.41, 2179.34, 2179.34, 2179.34, 2179.34, 1703.21, 1703.21, 1703.21, 150.93, 150.93, 150.93, 672.02, 672.02, 672.02, 672.02, 3903.36, 3903.36, 1318.39, 1318.39, 1603.2, 1603.2, 664.39, 5402.11, 980.85, 858.17, 858.17, 659.19, 510.05, 510.05, 510.05, 14.23, 14.23, 774.0, 774.0, 774.0, 3011.15, 1818.67, 1818.67, 758.58, 1700.91, 1700.91, 1700.91, 1700.91, 7464.06, 1831.33, 1831.33, 1831.33, 374.71, 374.71, 3997.53, 405.77, 405.77, 2498.96, 2498.96, 2498.96, 598.84, 598.84, 5429.77, 5429.77, 1894.49, 1894.49, 1894.49, 1154.05, 1154.05, 1154.05, 1356.12, 1356.12, 1356.12, 1356.12, 786.7, 786.7, 601.34, 71.85, 1433.76, 1433.76, 1433.76, 1203.37, 1203.37, 1203.37, 1203.37, 9409.06, 750.03, 587.72, 587.72, 587.72, 372.13, 372.13, 372.13, 159.63, 1556.99, 1556.99, 1556.99, 6287.68, 6287.68, 6287.68, 267.82, 267.82, 267.82, 267.82, 1990.43, 1990.43, 222.45, 804.79, 804.79, 1276.1, 1276.1, 1276.1, 1276.1, 711.16, 711.16, 711.16, 459.56, 459.56, 74.93, 74.93, 4463.2, 4463.2, 318.8, 3388.07, 2405.87, 217.82, 217.82, 177.13, 177.13, 3156.12, 3156.12, 2041.49, 194.76, 9476.36, 401.74, 1433.41, 1433.41, 1433.41, 1813.87, 1813.87, 1813.87, 1813.87, 538.84, 2469.04, 8556.26, 3172.37, 3172.37, 3172.37, 513.14, 513.14, 513.14, 513.14, 3294.18, 3294.18, 1885.74, 1885.74, 4148.82, 18288.32, 202.9, 202.9, 202.9, 3736.18, 5842.49, 199.74, 199.74, 2660.53, 2660.53, 2660.53, 1319.17, 2917.27, 2917.27, 878.5, 647.93, 1469.44, 151.11, 151.11, 151.11, 151.11, 1062.13, 197.1, 2185.5, 2185.5, 2185.5, 2185.5, 5994.5, 1246.65, 1246.65, 1246.65, 1838.97, 1084.02, 1084.02, 1084.02, 3850.24, 3850.24, 3850.24, 3850.24, 3850.24, 12498.65, 1140.21, 1140.21, 641.19, 1165.88, 274.18, 274.18, 3890.81, 3890.81, 1157.93, 1951.09, 1546.81, 1562.27, 1562.27, 1562.27, 10441.2, 10441.2, 229.36, 229.36, 229.36, 229.36, 229.36, 972.31, 972.31, 1160.85, 1160.85, 4349.05, 542.99, 542.99, 542.99, 13.26, 2386.37, 2386.37, 2386.37, 5653.9, 5653.9, 5653.9, 1883.09, 1883.09, 1883.09, 1886.57, 587.17, 1340.74, 1183.47, 1715.12, 1253.61, 1253.61, 317.39, 1735.32, 2859.02, 2859.02, 3385.86, 3385.86, 3385.86, 2204.0, 2204.0, 2204.0, 2058.59, 2058.59, 2448.03, 2448.03, 1081.52, 1311.09, 1311.09, 1311.09, 1311.09, 291.62, 716.33, 716.33, 1620.3, 3222.77, 3222.77, 3222.77, 3222.77, 782.96, 2045.29, 3182.13, 5681.34, 5681.34, 5681.34, 829.05, 2661.79, 2661.79, 1914.2, 1914.2, 2964.34, 2964.34, 2964.34, 1330.79, 1330.79, 4838.99, 625.61, 1850.66, 1850.66, 1850.66, 1850.66, 1850.66, 1295.48, 1295.48, 1295.48, 1477.32, 568.49, 568.49, 568.49, 6446.32, 223.87, 277.87, 277.87, 277.87, 277.87, 3036.91, 1490.73, 1490.73, 1490.73, 12084.75, 598.08, 598.08, 598.08, 598.08, 1226.29, 47.82, 47.82, 874.1, 88.42, 88.42, 1116.18, 1116.18, 2560.58, 2560.58, 1272.06, 1272.06, 6924.93, 1375.46, 1375.46, 1375.46, 1710.87, 1710.87, 498.88, 1604.98, 769.05, 781.4, 781.4, 1588.56, 1588.56, 273.96, 273.96, 420.91, 420.91, 6321.71, 6321.71, 3477.18, 5591.89, 4975.96, 4975.96, 4975.96, 4975.96, 731.93, 457.8, 457.8, 457.8, 457.8, 457.8, 2347.42, 2347.42, 2347.42, 2432.18, 908.59, 105.24, 105.24, 105.24, 1045.7, 1045.7, 1045.7, 670.32, 670.32, 670.32, 670.32, 1841.9, 1841.9], \"yaxis\": \"y\"}, {\"hoverlabel\": {\"namelength\": 0}, \"hovertemplate\": \"<b>OLS trendline</b><br>Downlink Throughput(Kbps) = 1.896226 * Total Traffic(MB) + 1161.902342<br>R<sup>2</sup>=0.030030<br><br>Total Traffic(MB)=%{x}<br>Downlink Throughput(Kbps)=%{y} <b>(trend)</b>\", \"legendgroup\": \"\", \"line\": {\"color\": \"red\"}, \"marker\": {\"color\": \"#636efa\", \"symbol\": \"circle\"}, \"mode\": \"lines\", \"name\": \"\", \"showlegend\": false, \"type\": \"scattergl\", \"x\": [100.03538, 100.06532, 100.47952, 101.09525, 101.09525, 101.14381999999999, 101.14381999999999, 101.14381999999999, 101.14381999999999, 101.40295, 101.40295, 101.50591999999999, 101.61440999999999, 101.75285, 101.75285, 101.75285, 101.75285, 101.75285, 101.796, 101.88127, 101.88127, 102.3012, 102.31059, 102.31059, 102.56188, 102.56188, 102.71885999999999, 102.71885999999999, 103.23565, 103.23565, 103.23565, 103.37308, 103.37308, 103.37308, 103.84193, 104.41158, 104.44086999999999, 104.76864, 105.24746, 105.98418999999998, 105.98418999999998, 106.12708, 106.14556999999999, 106.14556999999999, 106.82956999999999, 106.82956999999999, 106.82956999999999, 106.91202, 107.10073999999999, 107.10073999999999, 107.39098999999999, 107.48853999999999, 107.48853999999999, 107.48853999999999, 107.7545, 108.06621000000001, 108.06621000000001, 108.06621000000001, 108.13693, 108.13693, 108.13693, 108.13693, 108.13693, 108.14246000000001, 108.14246000000001, 108.93928000000001, 108.93928000000001, 108.93928000000001, 109.02618000000001, 109.02618000000001, 109.90961999999999, 109.90961999999999, 110.4546, 110.4546, 110.77216999999999, 110.77216999999999, 110.77216999999999, 110.77216999999999, 112.09796000000001, 112.09796000000001, 112.09796000000001, 112.4083, 112.4083, 112.7152, 112.95188999999999, 113.02552, 113.47081000000001, 113.965, 114.44455, 114.44455, 114.94044, 115.23681, 115.23681, 115.42843, 115.42843, 115.42843, 116.26225, 116.38125, 116.41548, 116.41548, 116.70786000000001, 116.70786000000001, 116.70786000000001, 116.7708, 116.84671999999999, 116.84671999999999, 116.84671999999999, 117.76711, 117.98414, 118.38781999999999, 118.38781999999999, 118.4088, 118.4088, 118.4088, 118.71638999999999, 118.71638999999999, 118.71638999999999, 118.98161999999999, 119.07023999999998, 120.74066, 120.87993999999999, 120.87993999999999, 120.93468999999999, 120.93468999999999, 121.3071, 121.3071, 121.3071, 121.32359, 121.58627, 121.58627, 121.58627, 121.63748000000001, 122.18007, 122.50055, 122.6504, 122.6504, 122.83561999999999, 123.11528, 123.11528, 123.11528, 123.77832, 124.67522, 125.53661000000001, 126.18478, 126.18478, 126.47944, 126.47944, 126.71798999999999, 126.91491, 126.91491, 126.91491, 126.91491, 126.95618999999999, 126.95618999999999, 126.97605, 126.97605, 126.97605, 127.07378999999999, 127.12037, 127.20035, 127.20035, 127.53228999999999, 127.53258000000001, 127.53258000000001, 128.43556, 128.43556, 128.50055, 128.50055, 128.50055, 128.5407, 128.54965, 128.82901, 128.82901, 129.35225, 129.35225, 131.03938, 131.48066, 131.68941, 131.68941, 131.68941, 131.89206000000001, 131.99836000000002, 132.21813999999998, 132.47012, 132.61977, 132.61977, 133.18466, 133.50198, 134.11205, 134.11205, 134.13025, 134.29005, 134.29005, 134.29005, 134.453, 134.80716, 135.06423, 135.63496, 135.63496, 135.63496, 135.63496, 136.05557, 136.05557, 136.05557, 136.63347, 136.63347, 136.92803999999998, 136.92803999999998, 137.49353, 137.58764, 137.58764, 137.58764, 137.74246000000002, 137.74246000000002, 137.96625, 137.96625, 137.96625, 137.98295, 138.07083, 138.07083, 138.07083, 138.4974, 139.47141000000002, 139.47141000000002, 139.47141000000002, 139.52943, 140.64377, 141.29901, 141.32514, 141.50687, 141.50687, 141.84354, 141.84354, 141.84354, 142.15515, 142.81877, 142.81877, 142.81877, 143.51058, 143.51058, 143.67331000000001, 143.67331000000001, 144.02868999999998, 144.02868999999998, 144.02868999999998, 144.43657, 144.43657, 144.63675, 144.7274, 144.7274, 144.7274, 146.39043999999998, 146.48271, 146.67678, 147.28551000000002, 147.63921000000002, 147.63921000000002, 147.64027, 147.64027, 147.8762, 147.8762, 147.8762, 147.8762, 147.8762, 147.99127, 147.99127, 148.26722, 148.36721, 148.36721, 150.41176000000002, 150.41176000000002, 150.89109, 150.89109, 150.89109, 150.89109, 151.41865, 151.41865, 151.55553999999998, 151.69673999999998, 151.69673999999998, 151.76303000000001, 151.76303000000001, 151.76303000000001, 152.21425, 152.21425, 152.21425, 152.21668, 152.72114, 152.72114, 152.72114, 153.36485, 153.36485, 153.67163, 153.67163, 154.01688000000001, 154.01688000000001, 154.26164, 154.26164, 154.26164, 154.56286, 154.70814, 154.98348000000001, 154.98348000000001, 155.04128, 155.5733, 156.04963999999998, 156.04963999999998, 156.28149, 156.34585, 156.34585, 156.34585, 156.67412, 157.72807, 157.72807, 158.20372, 158.23136, 158.23384, 158.8678, 158.90235, 158.90235, 158.90235, 158.90235, 158.93711000000002, 158.93711000000002, 158.93711000000002, 158.95848999999998, 158.95848999999998, 159.03486999999998, 159.03486999999998, 159.03486999999998, 159.86636000000001, 159.86636000000001, 159.99659, 160.11502, 160.3746, 160.90475, 161.59232, 161.59232, 161.59232, 162.07995, 162.07995, 162.33489, 162.6634, 162.6634, 162.70293, 162.86525, 162.86525, 162.99205, 162.99205, 163.46258, 163.46258, 163.46258, 163.46258, 163.52283, 163.52283, 163.52283, 163.71951, 163.71951, 163.71951, 164.02209, 164.02209, 164.13179, 164.13179, 164.13179, 164.20666, 164.20666, 164.20666, 164.20666, 164.42332, 164.42332, 165.35873999999998, 165.35873999999998, 165.38821000000002, 165.38821000000002, 165.38821000000002, 165.57878, 166.57112, 166.57112, 167.19301000000002, 167.19301000000002, 168.05886, 168.11047, 168.11047, 168.30615, 168.30615, 168.40668, 169.39749, 169.52335, 169.77076, 169.98832, 169.98832, 170.21759, 170.21759, 170.21759, 170.45082, 171.12153, 171.12153, 171.12153, 171.12153, 171.12153, 171.32078, 171.52629, 171.52629, 171.52629, 171.52629, 171.83432, 172.11738, 172.40099999999998, 172.56192, 172.8702, 172.8702, 172.8702, 172.8702, 172.99226000000002, 172.99226000000002, 173.64364, 173.64364, 173.8687, 173.8687, 173.8687, 173.8687, 173.8687, 173.8687, 173.87672, 175.23682, 175.28236, 175.75125, 175.75125, 176.36705, 177.31073, 177.31073, 177.54936999999998, 177.54936999999998, 177.54936999999998, 178.51667, 178.51667, 178.63458, 178.72384, 178.72384, 178.72384, 178.72384, 179.18563999999998, 180.24737, 180.32557, 180.32557, 180.32557, 180.33773, 180.33773, 180.77999, 180.81661, 181.27976999999998, 181.67576, 181.67576, 181.67576, 182.20476000000002, 182.20476000000002, 182.91024, 182.91024, 183.21712, 183.32329, 183.32329, 183.32329, 183.46591999999998, 183.46591999999998, 183.65601999999998, 183.65601999999998, 183.65601999999998, 184.10156, 184.10156, 184.10156, 184.46264, 184.46264, 184.60314, 184.60314, 184.81066, 184.81066, 184.87968999999998, 184.87968999999998, 184.87968999999998, 184.89084, 184.96187, 185.18777, 185.25647, 185.45008, 185.51429, 186.12718, 186.12718, 186.19035, 186.19035, 186.19035, 186.32656, 186.92655, 188.13978, 188.46468000000002, 188.46468000000002, 188.46468000000002, 188.92628, 188.92628, 188.92628, 188.92628, 189.1415, 189.56471000000002, 189.73568, 190.39998, 190.60804, 190.60804, 190.65861999999998, 190.70115, 190.70115, 190.70115, 191.02495, 191.29585, 191.71001, 191.71001, 191.84033, 192.32013, 192.38761, 192.94581000000002, 193.26011, 193.38557, 193.38557, 193.84999, 194.59606000000002, 194.59606000000002, 195.73594, 195.73594, 196.99754, 196.99754, 197.42207, 197.9781, 198.08061999999998, 198.25206, 198.30571, 198.30571, 198.30571, 198.30571, 198.4273, 198.4273, 198.4273, 198.44581000000002, 198.44581000000002, 198.7028, 198.7028, 198.7028, 198.81621, 199.48866999999998, 199.48866999999998, 199.80601000000001, 200.37793, 200.76766999999998, 200.76766999999998, 200.76766999999998, 201.4436, 201.4436, 201.70057, 203.25556, 203.32202, 203.32202, 204.11442, 204.46809, 204.46809, 205.06524, 205.33319, 205.70801, 206.28181, 206.28181, 206.28181, 206.34384, 206.34384, 206.9152, 206.9152, 206.9152, 206.9152, 207.27389, 207.58653, 207.58653, 207.58653, 207.58653, 207.58653, 207.8103, 208.81963000000002, 208.81963000000002, 208.81963000000002, 209.03518, 209.03518, 209.03518, 209.1278, 209.30937, 209.52795, 209.52795, 210.15486, 210.15486, 210.36844, 210.36844, 211.12932999999998, 211.2701, 211.7548, 212.30139, 212.30139, 212.30139, 212.30139, 212.64817999999997, 212.92721, 213.9184, 213.94666, 214.36061, 214.53707000000003, 214.53707000000003, 214.53707000000003, 214.6195, 214.6195, 215.2088, 215.26879, 216.17856, 216.88906, 216.88906, 216.88906, 217.0139, 217.0139, 217.0139, 218.06342999999998, 218.06342999999998, 218.60126, 218.69914, 218.86756, 218.86756, 219.10532, 219.4169, 219.43507000000002, 220.18176, 220.18176, 220.18176, 220.18176, 220.49431, 220.70208, 221.74268999999998, 222.03248, 222.08142, 222.28747, 222.28747, 222.28747, 222.37639, 222.41037999999998, 222.41037999999998, 222.41037999999998, 222.77443, 222.88889, 222.88889, 222.88889, 223.01968, 223.4703, 223.50687000000002, 223.50687000000002, 225.59642000000002, 226.95987999999997, 226.95987999999997, 227.24308, 227.52691000000002, 229.07818999999998, 229.07818999999998, 229.27473999999998, 229.27473999999998, 229.27473999999998, 229.27473999999998, 229.79055, 229.79055, 229.79055, 229.79055, 231.08107, 231.19712, 231.41964, 231.73442000000003, 231.73442000000003, 231.73442000000003, 231.7499, 231.77329, 231.80274, 231.80274, 232.44612, 232.44612, 232.44612, 232.51256, 232.51256, 232.51256, 233.06377999999998, 233.06377999999998, 233.82757, 234.36462999999998, 234.36462999999998, 234.4486, 234.4486, 235.32473, 235.32473, 235.43302999999997, 235.43302999999997, 235.74037, 236.0986, 236.0986, 236.49097000000003, 237.17663, 237.66631, 237.9003, 238.0177, 238.27531000000002, 238.27531000000002, 238.27531000000002, 238.34815, 238.34815, 238.85907999999998, 238.85907999999998, 239.42316, 239.42316, 239.42316, 240.35012000000003, 240.67526, 240.67526, 241.73197000000002, 241.89495, 241.89495, 241.97637000000003, 241.97637000000003, 241.97637000000003, 242.45826, 242.45826, 242.45826, 242.45826, 242.92678999999998, 242.99767000000003, 243.54373999999999, 243.54373999999999, 243.54373999999999, 244.01425, 244.01425, 244.06824, 244.06824, 244.06824, 244.15472999999997, 244.2916, 244.2916, 244.97312000000002, 244.97312000000002, 245.3181, 245.39561, 245.78482999999997, 245.98065, 246.60996, 246.60996, 247.41914, 247.41914, 247.41914, 247.41914, 247.52514, 247.52514, 247.52514, 247.60862999999998, 248.10202, 248.10202, 248.47142000000002, 248.47142000000002, 248.47142000000002, 248.47142000000002, 248.81677000000002, 248.91378999999998, 248.99905, 248.99905, 248.99905, 250.7925, 250.7925, 250.7925, 250.95931000000002, 250.95931000000002, 250.95931000000002, 251.24005, 251.24005, 251.24005, 251.55598999999998, 251.55598999999998, 251.65497000000002, 251.65497000000002, 252.17192000000003, 252.17192000000003, 252.17192000000003, 252.17192000000003, 252.49894, 253.9713, 254.24204, 254.24204, 254.24204, 254.24204, 254.33322, 254.58526, 254.87431, 254.87431, 254.87431, 254.87431, 254.87431, 255.09862, 255.9787, 256.01052000000004, 256.01052000000004, 256.54675, 257.04097, 257.13942000000003, 257.13942000000003, 257.13942000000003, 257.13942000000003, 257.66161, 257.66161, 258.01425, 258.01425, 258.01425, 258.71375, 258.71375, 258.71375, 258.74278, 258.74278, 258.95653, 258.95653, 259.26344, 259.26344, 260.04975, 260.04975, 260.04975, 260.04975, 260.04975, 260.04975, 260.25482, 260.25482, 260.48474, 261.1186, 261.64275, 261.64275, 261.75046000000003, 262.05515, 262.27846, 262.36972000000003, 262.36972000000003, 263.39626, 263.39626, 263.39626, 263.41188999999997, 263.41188999999997, 263.52902, 264.7258, 264.9913, 264.9913, 265.56754, 265.56754, 265.56754, 266.04703, 267.03604, 267.03604, 267.03604, 268.09697, 269.05585, 269.54058, 269.54058, 270.00804, 270.00804, 270.00804, 270.00804, 270.00804, 270.11607999999995, 270.15221, 270.15221, 271.66967, 271.66967, 271.66967, 271.67445, 271.67445, 272.26574, 272.26574, 272.5351, 272.5351, 272.5351, 273.15877, 273.38503, 273.38503, 274.41442, 274.41442, 274.41442, 275.02881, 275.02881, 275.16686, 275.16686, 275.25647000000004, 275.25647000000004, 276.13981, 276.4748, 277.0068, 277.0068, 277.20068, 277.20068, 279.36115, 279.36115, 279.36115, 280.48658, 280.48658, 281.24429, 281.36482, 281.36482, 281.36482, 281.60378, 281.60378, 281.60378, 281.60378, 282.24249, 282.53295, 282.53295, 282.53295, 283.66389, 283.66389, 284.31019, 284.91835, 284.91835, 285.20399, 286.05251, 286.05251, 286.39533, 286.39533, 286.58871, 286.59029, 287.04014, 287.04014, 287.04014, 287.04014, 287.36782, 287.36782, 288.16204, 288.36161, 288.36161, 288.36161, 288.36161, 289.18523999999996, 289.381, 289.381, 290.33287, 291.24048999999997, 291.24048999999997, 291.24048999999997, 291.27821, 291.6478, 292.00501, 292.00501, 292.00501, 293.03503, 293.12581, 293.12581, 293.12581, 294.11704, 294.11704, 294.11704, 295.08117000000004, 296.7939, 296.92524, 297.09699, 297.09699, 297.28471, 297.28471, 297.32016, 297.32016, 297.32016, 297.32016, 297.77137999999997, 297.77137999999997, 297.77137999999997, 298.66854, 298.66854, 298.91963, 299.01602, 299.01602, 299.01602, 299.30973, 299.30973, 299.40336, 299.42627000000005, 299.42627000000005, 299.42627000000005, 299.55057, 299.58615, 299.58615, 300.16931, 300.16931, 300.16931, 301.04357000000005, 301.04357000000005, 301.04357000000005, 302.37864, 303.60156, 304.01657, 304.01657, 304.01657, 304.99332999999996, 305.54284, 306.39397, 306.39397, 306.39397, 306.39397, 306.39397, 306.42266, 306.42266, 306.55908, 306.55908, 306.94617, 307.69746000000004, 309.79143999999997, 309.92586, 310.64249, 310.96238, 310.96238, 311.57116, 311.57116, 311.68352999999996, 312.10785, 312.10785, 312.10785, 312.60335, 313.21809, 313.243, 313.243, 314.02747999999997, 314.02747999999997, 314.02747999999997, 314.11757, 314.30245, 314.30245, 314.59886, 315.21897, 315.31416, 315.5149, 315.5149, 315.5149, 315.5149, 315.5149, 316.11266, 316.11266, 316.11266, 316.78874, 316.78874, 316.78874, 316.85435, 316.85435, 317.10832999999997, 317.74152999999995, 317.74152999999995, 317.74152999999995, 318.59317999999996, 318.59317999999996, 319.39827, 319.39827, 319.39827, 319.53442, 319.7114, 320.75538, 320.75538, 320.75538, 321.4876, 321.4876, 321.4876, 321.76896, 321.85292999999996, 321.85292999999996, 323.16504, 323.16504, 323.16504, 323.16504, 325.62719, 325.62719, 325.62719, 325.77927999999997, 325.77927999999997, 325.77927999999997, 325.81003, 326.22412, 326.22412, 327.11393, 327.11393, 327.27087, 327.27087, 327.27087, 327.27087, 327.69114, 328.34619, 328.34619, 328.34619, 328.48677000000004, 328.48677000000004, 328.69298, 328.69298, 328.69298, 328.77016000000003, 329.24119, 329.24119, 329.7881, 329.7881, 330.19582, 330.19582, 330.19582, 330.19582, 330.33803, 330.81281, 330.86975, 330.86975, 331.04361, 331.04361, 331.04361, 331.04361, 332.4124, 332.4124, 332.4124, 332.96816, 334.28825, 334.28825, 334.57291000000004, 334.57291000000004, 335.41289, 335.63046, 335.63046, 335.63046, 335.63046, 335.69487000000004, 335.69487000000004, 335.82509, 335.82509, 335.82509, 335.82509, 335.82509, 336.2917, 336.2917, 336.2917, 336.49643, 336.72443, 336.72443, 336.72443, 336.7862, 336.92884, 336.92884, 336.92884, 336.92884, 337.2527, 337.2527, 337.32601, 338.2374, 338.2374, 338.70217, 338.70217, 338.70217, 338.89114, 338.89114, 340.13613, 342.72099, 342.72099, 342.73753, 343.48967999999996, 343.48967999999996, 343.48967999999996, 345.20426000000003, 345.20426000000003, 345.20426000000003, 345.20426000000003, 345.81125, 345.9211, 345.9211, 345.9211, 346.70299, 346.70299, 346.70299, 347.45164, 347.49817, 347.87023999999997, 348.41497000000004, 349.16962, 349.16962, 349.16962, 349.67214, 349.78256, 350.12871, 350.55086, 350.69092, 350.8766, 351.99208, 351.99208, 351.99208, 352.5953, 352.5953, 352.76626, 352.93059, 352.93059, 352.93059, 353.37127999999996, 353.61071, 353.61071, 353.61071, 353.99171, 353.99171, 354.25699999999995, 355.31428, 355.62052, 355.95977, 356.8614, 356.8614, 357.0484, 357.0484, 357.30232, 357.44536, 357.44536, 357.44536, 358.21393, 358.35124, 358.35124, 358.35124, 358.35124, 358.7958, 359.80489, 359.80489, 359.88912999999997, 360.2029, 360.2029, 360.2029, 360.26919, 362.04962, 363.02795, 363.02795, 363.02795, 363.02956, 363.55152000000004, 363.95589, 364.64592000000005, 364.80717999999996, 366.00002, 366.2516, 366.2516, 367.84987, 368.10889, 368.1728, 368.1728, 368.1728, 368.72961000000004, 368.72961000000004, 368.76772, 369.01779, 369.01779, 369.01779, 369.34794, 369.78686, 369.78686, 369.78686, 369.78686, 369.78686, 370.57156000000003, 370.57156000000003, 370.92469, 370.92469, 372.3033, 372.3033, 373.38584, 373.58745, 373.77325, 375.73429, 376.0853, 376.0853, 376.58272999999997, 376.58272999999997, 376.58272999999997, 376.58272999999997, 376.71377, 377.41168, 377.63385, 378.04925, 378.11242000000004, 378.7188, 378.8113, 378.8113, 378.8113, 378.8113, 380.39056, 380.91614, 380.91614, 381.22002000000003, 381.22002000000003, 381.39833, 382.15817999999996, 382.21221, 382.21221, 382.21221, 383.18039, 384.66811, 384.73158, 384.94413, 385.61467000000005, 385.61467000000005, 385.69806, 385.69806, 386.07804, 386.07804, 386.07804, 386.07804, 386.07804, 386.67177999999996, 386.73287999999997, 387.36818999999997, 387.36818999999997, 387.36818999999997, 388.18967999999995, 388.80695, 388.80695, 388.80695, 389.34529, 390.28137000000004, 390.28137000000004, 390.69908, 390.69908, 390.69908, 391.5999, 391.5999, 392.13042, 393.24542, 393.30712, 393.50192999999996, 393.50192999999996, 393.50192999999996, 393.67426, 394.17707, 394.36800000000005, 394.36800000000005, 396.74996, 396.74996, 396.74996, 396.74996, 396.74996, 398.20591, 398.96519, 398.96519, 400.1566, 400.1566, 404.07541000000003, 404.07541000000003, 404.07541000000003, 404.58127, 404.58127, 404.62526, 404.62526, 404.62526, 404.79797, 405.38196, 405.41362999999996, 405.41362999999996, 405.41362999999996, 405.69635, 406.1231, 406.1231, 406.1231, 406.1231, 406.50774, 406.50774, 406.50774, 406.93197999999995, 407.90592000000004, 407.90592000000004, 407.90592000000004, 409.10925, 409.10925, 409.10925, 409.25994, 409.47932000000003, 409.47932000000003, 410.42906, 410.8971, 410.8971, 410.8971, 410.8971, 411.5314, 411.5314, 411.54689, 412.43452, 412.64479, 412.64479, 412.64479, 412.64479, 412.64479, 413.50985, 413.50985, 413.50985, 413.99008, 414.28997000000004, 414.28997000000004, 414.28997000000004, 414.28997000000004, 414.28997000000004, 414.95572000000004, 415.05781, 415.05781, 415.86469, 415.86469, 415.86469, 415.86469, 417.16457, 421.03055, 421.03055, 421.03055, 421.03055, 421.03055, 421.32557, 421.32557, 421.51050999999995, 421.51050999999995, 421.5146, 422.64457999999996, 423.03565, 423.03565, 423.03565, 423.2975, 423.73355, 423.96449, 423.96449, 423.96449, 424.43829000000005, 424.43829000000005, 424.43829000000005, 425.23708, 425.23708, 425.23708, 426.32157, 427.41482, 427.41482, 427.41482, 427.41482, 428.0624, 428.0624, 428.12050999999997, 428.12050999999997, 428.12050999999997, 428.62944000000005, 428.62944000000005, 429.27398, 429.27398, 429.27398, 429.27398, 429.67762999999997, 429.76537, 429.76537, 430.6116, 430.63086, 430.63086, 430.63086, 430.63086, 430.63086, 430.8311, 430.8311, 430.8311, 430.8311, 431.22799000000003, 431.22799000000003, 431.22799000000003, 432.23204000000004, 432.45437999999996, 432.63863, 432.63863, 432.63863, 432.63863, 432.70142999999996, 432.75269000000003, 432.75269000000003, 432.82045, 432.82045, 433.07721, 433.07721, 433.07721, 433.76435999999995, 434.32969, 434.94945, 434.94945, 435.46130999999997, 435.46130999999997, 436.4765, 436.4765, 436.81580999999994, 436.81580999999994, 437.43224000000004, 437.43224000000004, 437.43224000000004, 437.77885999999995, 437.77885999999995, 437.77885999999995, 437.77885999999995, 439.18685, 439.18685, 439.18685, 440.04470999999995, 440.04470999999995, 440.97172, 440.97172, 441.18252, 441.18252, 441.18252, 443.32777000000004, 443.32777000000004, 445.20215, 446.04085999999995, 446.40484000000004, 446.97659000000004, 446.97659000000004, 447.78988, 447.78988, 448.11116, 448.11116, 448.11116, 448.27785, 448.27785, 448.42078, 448.88412999999997, 448.88412999999997, 448.92253, 449.07227, 449.07227, 450.25201, 450.30470999999994, 450.30470999999994, 450.30470999999994, 450.57249, 452.12182, 452.12182, 452.12182, 452.12182, 452.12182, 453.12793, 453.51568, 453.52772000000004, 453.52772000000004, 453.52772000000004, 454.56199999999995, 454.56199999999995, 454.56199999999995, 454.63951, 454.9081, 455.97369000000003, 455.97369000000003, 455.97369000000003, 455.97369000000003, 456.28249000000005, 456.28249000000005, 456.28249000000005, 456.28249000000005, 456.31057000000004, 456.31057000000004, 456.88907, 458.11963, 459.24354000000005, 460.22916, 460.49195999999995, 462.18219000000005, 462.45687000000004, 462.45687000000004, 462.62805999999995, 463.60508, 463.60508, 463.84425, 463.84425, 464.84975999999995, 464.84975999999995, 465.06586, 465.76574000000005, 466.11422000000005, 466.16128, 466.7278, 467.74767, 467.74767, 468.37611, 468.40499000000005, 468.45928, 468.81122, 468.81122, 468.81122, 468.81122, 469.98748, 469.98748, 470.1293, 470.1293, 470.1293, 470.40525, 470.40525, 471.73104000000006, 472.75867999999997, 473.60645999999997, 473.60645999999997, 474.5106, 475.40567999999996, 476.44197, 476.44197, 476.44197, 477.46990999999997, 477.46990999999997, 477.46990999999997, 479.03362999999996, 479.03362999999996, 479.69617999999997, 479.81043, 479.81043, 480.10888, 480.4988, 480.4988, 480.4988, 481.61578, 481.61578, 481.61578, 481.61578, 481.61578, 481.68657, 481.68657, 483.36885, 484.3187, 484.41396, 485.03657000000004, 485.03657000000004, 485.03657000000004, 485.40758, 485.87565, 485.87565, 485.9225, 485.9225, 486.78278, 486.78714, 486.78714, 486.78714, 486.78714, 486.78714, 487.14453, 487.84487, 487.84487, 488.21873, 488.21873, 488.40065, 489.1822, 489.1822, 489.1822, 489.65702000000005, 491.04375999999996, 491.38988, 492.50209, 492.50209, 492.68454, 492.68454, 492.68454, 494.01547, 494.16965999999996, 494.16965999999996, 494.16965999999996, 494.71064, 495.35912, 496.55412, 497.42545, 497.94667000000004, 497.94667000000004, 497.94667000000004, 498.36795, 498.36795, 498.53102, 498.53102, 498.75375, 498.75375, 500.10760999999997, 500.48015, 500.48015, 500.48015, 500.58025999999995, 500.75569, 500.75569, 500.75569, 502.18652000000003, 502.18652000000003, 502.81592, 502.81592, 502.81592, 502.81592, 502.93369, 502.93369, 502.93369, 504.89590999999996, 505.99575999999996, 506.38998, 507.26032000000004, 507.9122, 508.22687, 508.22687, 508.25850999999994, 509.48377, 509.48377, 510.22589000000005, 510.22589000000005, 510.53605999999996, 510.53605999999996, 510.934, 510.934, 510.934, 511.92965, 511.92965, 511.92965, 512.57458, 512.57458, 512.57458, 513.33838, 513.7896900000001, 513.79418, 515.48937, 515.90439, 516.8171, 517.26982, 517.90409, 517.90409, 518.16562, 518.18385, 518.52607, 518.52607, 518.93045, 519.4543, 519.8208, 519.96475, 519.96475, 519.96475, 520.1669099999999, 520.1669099999999, 520.1669099999999, 520.899, 520.899, 520.899, 520.899, 521.52031, 521.52031, 521.52135, 521.98824, 521.98824, 522.2726299999999, 522.94662, 522.94662, 525.45815, 526.0865200000001, 526.0865200000001, 526.7451599999999, 527.18148, 527.32326, 527.32326, 528.28021, 528.28021, 530.77703, 530.77703, 531.45307, 532.4386599999999, 532.4386599999999, 532.68182, 532.68182, 533.80822, 533.81172, 533.81172, 533.81172, 534.02387, 534.65902, 534.91121, 534.91121, 534.91121, 534.91121, 535.45842, 535.45842, 535.45842, 535.8813, 536.2817200000001, 536.2817200000001, 536.2817200000001, 536.54162, 536.88441, 536.88441, 536.88441, 539.12729, 539.12729, 539.2551900000001, 539.2551900000001, 541.1518900000001, 541.51854, 541.51854, 541.51854, 543.2091, 543.2091, 543.2091, 543.29067, 543.7012900000001, 544.1408, 545.0797299999999, 545.0797299999999, 546.23692, 546.81503, 547.5484, 548.36244, 548.36244, 548.81532, 550.1862, 550.5646, 550.5646, 550.5646, 550.5646, 550.5646, 550.8547599999999, 551.0496099999999, 551.17583, 551.81121, 551.96028, 551.96028, 552.82857, 552.82857, 552.8842400000001, 553.19073, 553.42463, 553.42463, 554.31122, 555.77928, 556.18048, 556.18048, 556.61197, 556.6658, 557.32381, 557.32381, 557.32381, 558.40745, 558.40745, 558.4205099999999, 559.1951799999999, 560.68898, 560.68898, 560.68898, 560.7588099999999, 560.7588099999999, 560.7588099999999, 561.64301, 561.82143, 561.96525, 561.98721, 562.8068099999999, 562.8068099999999, 562.8624900000001, 563.6111, 563.63145, 564.63252, 564.63252, 565.0398700000001, 565.9816, 565.9816, 565.9816, 566.73519, 566.9680000000001, 567.8996599999999, 567.8996599999999, 567.8996599999999, 567.8996599999999, 567.98407, 568.15257, 568.15257, 568.15257, 568.15257, 568.1709400000001, 568.1709400000001, 568.7893, 568.7893, 568.7893, 570.12717, 570.8553400000001, 576.84736, 578.4014099999999, 578.79223, 578.79223, 578.79223, 579.20718, 579.2782599999999, 579.63771, 579.63771, 579.63771, 582.74947, 582.82006, 582.82006, 582.82006, 582.82006, 582.82006, 584.0289700000001, 584.0289700000001, 584.2587599999999, 584.2587599999999, 584.33069, 584.95355, 585.04945, 585.04945, 585.04945, 585.87051, 588.19689, 588.23864, 588.23864, 588.37848, 589.02828, 589.02828, 589.02828, 591.11877, 591.11877, 591.11877, 591.97926, 591.97926, 591.97926, 591.97926, 592.06969, 592.0788299999999, 593.4243799999999, 593.4243799999999, 593.4243799999999, 593.4243799999999, 593.62245, 593.62245, 594.46161, 594.46161, 594.46161, 594.94474, 597.61609, 597.61609, 598.2205700000001, 598.2205700000001, 598.6619, 599.16751, 599.73459, 599.73459, 599.73459, 602.03444, 602.48397, 602.48397, 603.24401, 604.7394400000001, 604.90925, 604.90925, 604.90925, 604.90925, 605.1715, 606.1697, 606.76756, 606.99242, 606.99242, 606.99242, 607.70376, 608.11243, 611.23381, 612.74058, 612.74058, 612.81736, 613.28043, 614.2483, 614.2483, 615.39359, 615.91557, 615.91557, 616.2912299999999, 617.53188, 617.53188, 618.53877, 618.53877, 620.83208, 620.83208, 621.22535, 621.22535, 621.22535, 621.83723, 621.83723, 621.9966400000001, 621.9966400000001, 621.9966400000001, 621.9966400000001, 621.9966400000001, 622.54922, 623.8138299999999, 623.8138299999999, 624.87826, 624.87826, 625.6993200000001, 625.6993200000001, 625.86596, 625.86596, 626.22893, 626.22893, 627.27418, 627.27418, 627.27418, 627.27418, 627.99455, 628.0523599999999, 629.2581799999999, 629.2581799999999, 632.03798, 633.77997, 634.71639, 635.30735, 635.30735, 635.30735, 636.1793, 636.1793, 636.1793, 636.1793, 636.1793, 637.35811, 637.35811, 637.35811, 637.79715, 637.79715, 638.056, 638.056, 639.78157, 640.30248, 640.30248, 640.30248, 640.5890400000001, 640.5890400000001, 640.71339, 640.71339, 640.71339, 641.85847, 642.37716, 642.37716, 642.9249900000001, 642.9249900000001, 642.9249900000001, 644.3503900000001, 644.3503900000001, 644.3503900000001, 646.08657, 646.75986, 648.3837900000001, 648.3837900000001, 648.3837900000001, 648.52901, 648.52901, 649.03238, 649.03238, 649.45424, 650.2569599999999, 650.2569599999999, 650.2569599999999, 650.2873099999999, 650.45277, 650.45277, 650.45277, 651.06505, 653.2171099999999, 653.2171099999999, 653.44981, 653.44981, 653.44981, 653.99646, 655.76657, 655.76657, 656.30803, 656.30803, 656.30803, 656.8822299999999, 658.19785, 661.11584, 661.1603299999999, 661.57623, 661.67966, 661.67966, 662.01591, 662.01591, 662.01591, 662.01591, 662.5874299999999, 662.77107, 662.77107, 662.77107, 665.4392799999999, 666.2988799999999, 666.2988799999999, 666.76841, 670.26112, 670.26112, 670.4916599999999, 671.4875099999999, 671.4875099999999, 671.4875099999999, 672.56405, 672.90031, 672.90031, 672.90031, 672.90031, 674.20988, 674.7339, 674.7339, 674.7339, 674.74364, 674.74364, 674.74364, 676.32075, 676.32075, 677.4651200000001, 678.52451, 678.52451, 678.98647, 679.5169400000001, 679.5169400000001, 680.0673400000001, 681.02367, 684.93616, 684.93616, 686.4825599999999, 686.4825599999999, 686.4825599999999, 686.74589, 686.74589, 686.74589, 687.04476, 688.2696900000001, 688.2696900000001, 688.48247, 688.48247, 688.48247, 692.54495, 693.8715599999999, 694.09947, 694.6182299999999, 694.6182299999999, 697.96344, 698.15865, 698.15865, 698.15865, 698.15865, 698.85361, 698.85361, 698.85361, 701.88129, 702.12424, 702.12424, 702.12424, 702.12424, 703.07448, 703.07448, 704.95827, 704.95827, 707.04507, 707.04507, 707.04507, 707.0845400000001, 707.36385, 707.36385, 707.36385, 707.36385, 707.36385, 707.37828, 708.2664599999999, 708.2664599999999, 708.55258, 708.55258, 709.29022, 709.29022, 709.5015599999999, 709.5015599999999, 709.99968, 709.99968, 709.99968, 709.99968, 711.41875, 711.41875, 712.1814400000001, 712.1922900000001, 714.0074400000001, 716.02075, 716.02075, 716.3152299999999, 716.93992, 716.93992, 716.93992, 717.16687, 717.16687, 720.0571, 720.0571, 720.1492099999999, 720.1492099999999, 720.1492099999999, 720.88861, 722.49427, 722.49427, 722.49427, 722.49427, 723.4975599999999, 723.78181, 724.0939900000001, 724.0939900000001, 724.0939900000001, 725.22677, 726.67652, 726.67652, 726.67652, 726.67652, 728.67174, 728.67174, 729.54642, 729.54642, 729.54642, 729.54642, 731.3310700000001, 731.3310700000001, 731.6567200000001, 731.6567200000001, 731.6567200000001, 732.04895, 734.02495, 734.02495, 734.2312099999999, 734.2312099999999, 734.95618, 734.95618, 734.9590599999999, 734.9590599999999, 736.46207, 737.57683, 738.9078900000001, 738.9078900000001, 739.5418400000001, 739.57344, 739.57344, 740.06353, 740.06353, 741.69656, 742.10125, 742.10125, 742.10125, 742.10125, 742.10125, 742.48275, 743.0935900000001, 743.5060599999999, 745.1231, 745.1231, 745.1586599999999, 745.1586599999999, 746.41632, 746.41632, 746.71507, 746.7529, 746.95255, 748.66653, 748.66653, 748.66653, 748.66653, 753.50342, 753.50342, 753.50342, 753.50342, 755.47878, 756.65595, 756.65595, 756.76013, 756.76013, 757.48718, 757.48718, 757.48718, 757.6551099999999, 757.90174, 757.90174, 758.91706, 758.91706, 758.91706, 760.41182, 760.41182, 761.32074, 761.32074, 762.21596, 762.98267, 762.98267, 762.98267, 763.3485400000001, 763.3485400000001, 763.3485400000001, 764.01828, 764.74168, 765.63597, 765.63597, 765.7309, 765.7309, 765.7309, 765.7309, 765.7309, 766.97705, 766.97705, 766.97705, 766.97705, 767.9874900000001, 767.9874900000001, 767.9874900000001, 767.9874900000001, 768.4429200000001, 768.4429200000001, 768.4429200000001, 768.71236, 769.08098, 769.27097, 770.95196, 770.95196, 770.95196, 770.95196, 770.95196, 770.99306, 771.28535, 771.28535, 772.59978, 772.70253, 774.2488099999999, 775.73132, 775.73132, 776.04034, 776.1472200000001, 776.5826400000001, 776.94869, 776.94869, 777.07327, 777.07327, 778.3127400000001, 778.9205400000001, 778.9205400000001, 781.39805, 781.41832, 782.7744799999999, 783.44606, 783.64464, 783.64464, 783.64464, 783.82299, 785.8193, 785.8193, 785.8193, 786.3593900000001, 786.3593900000001, 786.6263299999999, 786.6263299999999, 786.6263299999999, 787.0303200000001, 787.92988, 789.61393, 789.61393, 790.46582, 793.04989, 795.1073700000001, 795.1073700000001, 795.41433, 796.64018, 796.64018, 796.64018, 796.64018, 796.80209, 796.80209, 796.80209, 796.80209, 798.19103, 798.19103, 798.19103, 799.9067200000001, 800.08137, 801.9841200000001, 801.9841200000001, 801.9841200000001, 802.18929, 802.18929, 802.3158900000001, 802.3158900000001, 802.3158900000001, 802.3158900000001, 802.3158900000001, 802.65548, 804.65732, 806.50482, 807.0233900000001, 807.0233900000001, 807.0233900000001, 807.99629, 807.99629, 807.99629, 811.1621700000001, 811.1621700000001, 811.34523, 811.34523, 811.5561799999999, 812.27067, 812.27067, 812.97758, 812.97758, 813.6589, 813.6589, 813.6589, 814.2884799999999, 814.2884799999999, 814.2884799999999, 814.67089, 814.67089, 814.67089, 814.67089, 814.81969, 817.11975, 819.90182, 820.47197, 820.47197, 824.60775, 824.60775, 824.60775, 824.60775, 824.62298, 825.3303900000001, 825.3303900000001, 827.54534, 827.74515, 827.74515, 827.89738, 828.89642, 828.89642, 829.59766, 829.59766, 830.27687, 830.27687, 830.27687, 831.87657, 833.11345, 833.18898, 833.21684, 833.21684, 833.92476, 835.44209, 835.8458, 835.8458, 836.16608, 836.16608, 836.16608, 836.16608, 836.22982, 837.38908, 837.8535099999999, 839.72918, 841.10269, 844.863, 844.863, 845.83484, 846.35555, 846.35555, 846.35555, 849.12424, 850.26705, 850.6932699999999, 854.66262, 854.66262, 854.78178, 854.78178, 856.38455, 857.73655, 858.29174, 859.85058, 859.85058, 859.85058, 860.62615, 861.96324, 862.55832, 863.4074400000001, 865.9369800000001, 868.01465, 868.01465, 869.16718, 870.31348, 871.03314, 873.87306, 873.87306, 873.87306, 873.87306, 873.87306, 878.99992, 879.5967800000001, 879.5967800000001, 879.5967800000001, 879.6678, 880.13632, 880.9011, 880.9011, 880.91946, 881.5381699999999, 885.25678, 887.07827], \"xaxis\": \"x\", \"y\": [1351.5920016889816, 1351.64877468691, 1352.434191378358, 1353.6017544382937, 1353.6017544382937, 1353.6938541213058, 1353.6938541213058, 1353.6938541213058, 1353.6938541213058, 1354.1852230910183, 1354.1852230910183, 1354.3804774529654, 1354.586198980863, 1354.8487124689461, 1354.8487124689461, 1354.8487124689461, 1354.8487124689461, 1354.8487124689461, 1354.9305346085791, 1355.092225775358, 1355.092225775358, 1355.8885078401572, 1355.9063133996276, 1355.9063133996276, 1356.382815959729, 1356.382815959729, 1356.6804854725815, 1356.6804854725815, 1357.6604359602047, 1357.6604359602047, 1357.6604359602047, 1357.921034260315, 1357.921034260315, 1357.921034260315, 1358.8100796871267, 1359.8902646660824, 1359.9458051172955, 1360.5673310201346, 1361.4752818173322, 1362.8722881888689, 1362.8722881888689, 1363.143239881387, 1363.1783010948707, 1363.1783010948707, 1364.475319484418, 1364.475319484418, 1364.475319484418, 1364.6316632946784, 1364.9895190117477, 1364.9895190117477, 1365.5398985257332, 1365.724875344301, 1365.724875344301, 1365.724875344301, 1366.2291955356518, 1366.8202680534966, 1366.8202680534966, 1366.8202680534966, 1366.9543691361118, 1366.9543691361118, 1366.9543691361118, 1366.9543691361118, 1366.9543691361118, 1366.9648552643196, 1366.9648552643196, 1368.4758058391137, 1368.4758058391137, 1368.4758058391137, 1368.6405878538092, 1368.6405878538092, 1370.3157895000982, 1370.3157895000982, 1371.3491945906471, 1371.3491945906471, 1371.9513789911857, 1371.9513789911857, 1371.9513789911857, 1371.9513789911857, 1374.4653760828203, 1374.4653760828203, 1374.4653760828203, 1375.0538507714346, 1375.0538507714346, 1375.6358024435867, 1376.0846201082386, 1376.2242392076864, 1377.0686095566361, 1378.005705343084, 1378.915040385054, 1378.915040385054, 1379.8553597552186, 1380.4173441705843, 1380.4173441705843, 1380.780698942229, 1380.780698942229, 1380.780698942229, 1382.3618098685045, 1382.5874607286742, 1382.652368534923, 1382.652368534923, 1383.206787009683, 1383.206787009683, 1383.206787009683, 1383.32613545623, 1383.470096912567, 1383.470096912567, 1383.470096912567, 1385.2153640990516, 1385.6269019661327, 1386.3923703630514, 1386.3923703630514, 1386.432153178567, 1386.432153178567, 1386.432153178567, 1387.015413246463, 1387.015413246463, 1387.015413246463, 1387.5183491930413, 1387.686392715968, 1390.8538860760082, 1391.1179923936927, 1391.1179923936927, 1391.221810751628, 1391.221810751628, 1391.9279841704165, 1391.9279841704165, 1391.9279841704165, 1391.9592529324686, 1392.457353503472, 1392.457353503472, 1392.457353503472, 1392.5544592223735, 1393.5833323334618, 1394.1910347508335, 1394.475184174333, 1394.475184174333, 1394.8264031013973, 1395.3567015850533, 1395.3567015850533, 1395.3567015850533, 1396.6139750835994, 1398.3146999280218, 1399.9480897972794, 1401.1771664194328, 1401.1771664194328, 1401.7359082888247, 1401.7359082888247, 1402.1882529333077, 1402.5616577012458, 1402.5616577012458, 1402.5616577012458, 1402.5616577012458, 1402.6399338987906, 1402.6399338987906, 1402.6775929415046, 1402.6775929415046, 1402.6775929415046, 1402.8629300429584, 1402.951256236796, 1403.102916369539, 1403.102916369539, 1403.7323495336125, 1403.73289943907, 1403.73289943907, 1405.445153335844, 1405.445153335844, 1405.5683890451082, 1405.5683890451082, 1405.5683890451082, 1405.644522507594, 1405.6614937277498, 1406.191223343691, 1406.191223343691, 1407.1834044871805, 1407.1834044871805, 1410.3825837789304, 1411.2193502627601, 1411.615187380915, 1411.615187380915, 1411.615187380915, 1411.9994575222042, 1412.2010263157845, 1412.6177788035836, 1413.095589759429, 1413.3793599377852, 1413.3793599377852, 1414.450518882334, 1415.052229226444, 1416.2090596488288, 1416.2090596488288, 1416.2435709568545, 1416.5465878262255, 1416.5465878262255, 1416.5465878262255, 1416.8555778066009, 1417.5271451060776, 1418.0146078508158, 1419.0968407535443, 1419.0968407535443, 1419.0968407535443, 1419.0968407535443, 1419.89441225183, 1419.89441225183, 1419.89441225183, 1420.9902410929403, 1420.9902410929403, 1421.5488123020177, 1421.5488123020177, 1422.621108981996, 1422.7995627841017, 1422.7995627841017, 1422.7995627841017, 1423.0931364494083, 1423.0931364494083, 1423.5174928023275, 1423.5174928023275, 1423.5174928023275, 1423.54915977178, 1423.7158000876768, 1423.7158000876768, 1423.7158000876768, 1424.5246730912281, 1426.3716159005894, 1426.3716159005894, 1426.3716159005894, 1426.481634916615, 1428.594675080662, 1429.8371580186254, 1429.886706396577, 1430.2313074958934, 1430.2313074958934, 1430.8697098076022, 1430.8697098076022, 1430.8697098076022, 1431.4605927028754, 1432.7189660123365, 1432.7189660123365, 1432.7189660123365, 1434.0307939247236, 1434.0307939247236, 1434.3393667354414, 1434.3393667354414, 1435.0132474302914, 1435.0132474302914, 1435.0132474302914, 1435.7866799752162, 1435.7866799752162, 1436.1662664389876, 1436.3381593001168, 1436.3381593001168, 1436.3381593001168, 1439.491658514375, 1439.666623261164, 1440.0346237858125, 1441.188913265738, 1441.8596083013856, 1441.8596083013856, 1441.861618300644, 1441.861618300644, 1442.3089948337522, 1442.3089948337522, 1442.3089948337522, 1442.3089948337522, 1442.3089948337522, 1442.5271935268593, 1442.5271935268593, 1443.0504570131102, 1443.2400606224242, 1443.2400606224242, 1447.116988909484, 1447.116988909484, 1448.0259067817965, 1448.0259067817965, 1448.0259067817965, 1448.0259067817965, 1449.0262796203779, 1449.0262796203779, 1449.2858539586016, 1449.5536010296603, 1449.5536010296603, 1449.679301832355, 1449.679301832355, 1449.679301832355, 1450.5349167997986, 1450.5349167997986, 1450.5349167997986, 1450.5395246282878, 1451.496094652836, 1451.496094652836, 1451.496094652836, 1452.7167141082973, 1452.7167141082973, 1453.2984382333636, 1453.2984382333636, 1453.9531101617133, 1453.9531101617133, 1454.417230367891, 1454.417230367891, 1454.417230367891, 1454.988411477978, 1455.2638951499566, 1455.7860019385212, 1455.7860019385212, 1455.8956037848893, 1456.9044337901626, 1457.807681947585, 1457.807681947585, 1458.247321879773, 1458.3693629668362, 1458.3693629668362, 1458.3693629668362, 1458.9918369825332, 1460.9903640756083, 1460.9903640756083, 1461.8923038372868, 1461.9447155160692, 1461.9494181558441, 1463.1515494105772, 1463.217064009055, 1463.217064009055, 1463.217064009055, 1463.217064009055, 1463.2829768149334, 1463.2829768149334, 1463.2829768149334, 1463.3235181207351, 1463.3235181207351, 1463.4683518409013, 1463.4683518409013, 1463.4683518409013, 1465.0450445612591, 1465.0450445612591, 1465.2919900362162, 1465.516560047728, 1466.0087823190127, 1467.0140663821976, 1468.3178542975502, 1468.3178542975502, 1468.3178542975502, 1469.242510843303, 1469.242510843303, 1469.7259346272667, 1470.3488637371354, 1470.3488637371354, 1470.4238215396776, 1470.731616897852, 1470.731616897852, 1470.9720583186042, 1470.9720583186042, 1471.8642894046184, 1471.8642894046184, 1471.8642894046184, 1471.8642894046184, 1471.9785370039901, 1471.9785370039901, 1471.9785370039901, 1472.3514866777564, 1472.3514866777564, 1472.3514866777564, 1472.9252466548169, 1472.9252466548169, 1473.1332626158305, 1473.1332626158305, 1473.1332626158305, 1473.275233035166, 1473.275233035166, 1473.275233035166, 1473.275233035166, 1473.686069298732, 1473.686069298732, 1475.4598367577237, 1475.4598367577237, 1475.515718529566, 1475.515718529566, 1475.515718529566, 1475.877082264209, 1477.7587828909393, 1477.7587828909393, 1478.9380267012837, 1478.9380267012837, 1480.5798737372334, 1480.6777379464213, 1480.6777379464213, 1481.048791394472, 1481.048791394472, 1481.2394189656725, 1483.1182183670576, 1483.3568773356371, 1483.8260225399615, 1484.2385654066718, 1484.2385654066718, 1484.6733130765133, 1484.6733130765133, 1484.6733130765133, 1485.115569800189, 1486.3873873499745, 1486.3873873499745, 1486.3873873499745, 1486.3873873499745, 1486.3873873499745, 1486.7652103238302, 1487.154903670666, 1487.154903670666, 1487.154903670666, 1487.154903670666, 1487.738998077877, 1488.2757437289665, 1488.813551266457, 1489.1186919086294, 1489.7032603722694, 1489.7032603722694, 1489.7032603722694, 1489.7032603722694, 1489.9347136831293, 1489.9347136831293, 1491.16987718983, 1491.16987718983, 1491.5966417494083, 1491.5966417494083, 1491.5966417494083, 1491.5966417494083, 1491.5966417494083, 1491.5966417494083, 1491.6118494796483, 1494.1909060755888, 1494.2772601946822, 1495.1663814705225, 1495.1663814705225, 1496.3340772662584, 1498.123507549662, 1498.123507549662, 1498.5760228544596, 1498.5760228544596, 1498.5760228544596, 1500.4102419892683, 1500.4102419892683, 1500.6338259634078, 1500.8030830707924, 1500.8030830707924, 1500.8030830707924, 1500.8030830707924, 1501.6787601063083, 1503.6920398354519, 1503.8403246864204, 1503.8403246864204, 1503.8403246864204, 1503.8633827911235, 1503.8633827911235, 1504.7020075761545, 1504.771447361864, 1505.6497032643533, 1506.4005896855183, 1506.4005896855183, 1506.4005896855183, 1507.4036930891302, 1507.4036930891302, 1508.741442407051, 1508.741442407051, 1509.3233561546888, 1509.524678438926, 1509.524678438926, 1509.524678438926, 1509.795137112758, 1509.795137112758, 1510.1556096213149, 1510.1556096213149, 1510.1556096213149, 1511.0004540266937, 1511.0004540266937, 1511.0004540266937, 1511.685143208123, 1511.685143208123, 1511.9515629211805, 1511.9515629211805, 1512.3450676817051, 1512.3450676817051, 1512.475964142861, 1512.475964142861, 1512.475964142861, 1512.4971070595911, 1512.6317959721782, 1513.0601533613576, 1513.190424068027, 1513.5575523288462, 1513.679308982052, 1514.841486760955, 1514.841486760955, 1514.9612713394165, 1514.9612713394165, 1514.9612713394165, 1515.2195562441539, 1516.357272711324, 1518.6578306363979, 1519.273914371433, 1519.273914371433, 1519.273914371433, 1520.1492121618057, 1520.1492121618057, 1520.1492121618057, 1520.1492121618057, 1520.5573178603413, 1521.359819545488, 1521.6840172561033, 1522.9436799990513, 1523.3382087214623, 1523.3382087214623, 1523.434119818163, 1523.5147662978522, 1523.5147662978522, 1523.5147662978522, 1524.1287641846, 1524.6424517309865, 1525.427792573406, 1525.427792573406, 1525.6749087086775, 1526.5847178070765, 1526.7126751183728, 1527.7711483128835, 1528.3671320553317, 1528.605032533625, 1528.605032533625, 1529.4856776805163, 1530.9003948002378, 1530.9003948002378, 1533.0618645690643, 1533.0618645690643, 1535.454142932007, 1535.454142932007, 1536.2591476350985, 1537.313506019806, 1537.5079070801808, 1537.8329960168826, 1537.9347285265305, 1537.9347285265305, 1537.9347285265305, 1537.9347285265305, 1538.165290611304, 1538.165290611304, 1538.165290611304, 1538.2003897493018, 1538.2003897493018, 1538.687700795983, 1538.687700795983, 1538.687700795983, 1538.9027517544018, 1540.1778876991898, 1540.1778876991898, 1540.779635967814, 1541.8641253791443, 1542.603160389586, 1542.603160389586, 1542.603160389586, 1543.8848762376076, 1543.8848762376076, 1544.372149359774, 1547.32076138545, 1547.446784546516, 1547.446784546516, 1548.9493538036468, 1549.6199919525227, 1549.6199919525227, 1550.7523231386604, 1551.2604168191856, 1551.971160141949, 1553.0592144576246, 1553.0592144576246, 1553.0592144576246, 1553.1768373387704, 1553.1768373387704, 1554.2602648636998, 1554.2602648636998, 1554.2602648636998, 1554.2602648636998, 1554.9404220656688, 1555.5332580734291, 1555.5332580734291, 1555.5332580734291, 1555.5332580734291, 1555.5332580734291, 1555.957576501834, 1557.871494003474, 1557.871494003474, 1557.871494003474, 1558.2802254564958, 1558.2802254564958, 1558.2802254564958, 1558.4558538822853, 1558.8001515854871, 1559.2146286024276, 1559.2146286024276, 1560.4033914658648, 1560.4033914658648, 1560.8083873542266, 1560.8083873542266, 1562.2512065390551, 1562.518138233056, 1563.4372388374618, 1564.473696851413, 1564.473696851413, 1564.473696851413, 1564.473696851413, 1565.131288967365, 1565.6603928288202, 1567.5399127959772, 1567.5935001347034, 1568.3784427697224, 1568.713050759517, 1568.713050759517, 1568.713050759517, 1568.8693566452632, 1568.8693566452632, 1569.9868024595326, 1570.100557040218, 1571.825686309602, 1573.1729546806155, 1573.1729546806155, 1573.1729546806155, 1573.409679498965, 1573.409679498965, 1573.409679498965, 1575.3998252743768, 1575.3998252743768, 1576.4196723510586, 1576.6052749241123, 1576.9246372591526, 1576.9246372591526, 1577.3754838853206, 1577.9663098938222, 1578.0007643150766, 1579.416657094742, 1579.416657094742, 1579.416657094742, 1579.416657094742, 1580.009322442188, 1580.4033012591415, 1582.376532701169, 1582.9260399513255, 1583.0188412378525, 1583.4095585465748, 1583.4095585465748, 1583.4095585465748, 1583.5781709372159, 1583.642623649293, 1583.642623649293, 1583.642623649293, 1584.3329446210982, 1584.5499866165187, 1584.5499866165187, 1584.5499866165187, 1584.7979939778766, 1585.652471209891, 1585.7218161843148, 1585.7218161843148, 1589.6840746285816, 1592.2695025429268, 1592.2695025429268, 1592.8065136656166, 1593.3447194105074, 1596.2862964387778, 1596.2862964387778, 1596.658999603201, 1596.658999603201, 1596.658999603201, 1596.658999603201, 1597.6370917896227, 1597.6370917896227, 1597.6370917896227, 1597.6370917896227, 1600.0842090002639, 1600.3042659945725, 1600.7262141408328, 1601.3231080716246, 1601.3231080716246, 1601.3231080716246, 1601.352461645704, 1601.3968143651944, 1601.4526582125222, 1601.4526582125222, 1602.6726519134972, 1602.6726519134972, 1602.6726519134972, 1602.7986371500492, 1602.7986371500492, 1602.7986371500492, 1603.8438746890643, 1603.8438746890643, 1605.2921929284682, 1606.3105799113487, 1606.3105799113487, 1606.4698059846971, 1606.4698059846971, 1608.1311462210042, 1608.1311462210042, 1608.336507466016, 1608.336507466016, 1608.919293477483, 1609.5985784156226, 1609.5985784156226, 1610.3426004996968, 1611.6427666239322, 1612.5713104324022, 1613.0150082876216, 1613.2376251866463, 1613.726111893271, 1613.726111893271, 1613.726111893271, 1613.8642329744036, 1613.8642329744036, 1614.8330715793325, 1614.8330715793325, 1615.9026945810515, 1615.9026945810515, 1615.9026945810515, 1617.6604199704884, 1618.2769587996952, 1618.2769587996952, 1620.2807194757456, 1620.5897663428925, 1620.5897663428925, 1620.7441570406659, 1620.7441570406659, 1620.7441570406659, 1621.6579292508104, 1621.6579292508104, 1621.6579292508104, 1621.6579292508104, 1622.5463678853932, 1622.680772364123, 1623.716244340702, 1623.716244340702, 1623.716244340702, 1624.608437502202, 1624.608437502202, 1624.7108147285933, 1624.7108147285933, 1624.7108147285933, 1624.874819290745, 1625.1343557044547, 1625.1343557044547, 1626.4266714542273, 1626.4266714542273, 1627.0808314016335, 1627.2278078568584, 1627.965856829928, 1628.3371757495788, 1629.5304895547338, 1629.5304895547338, 1631.064877479374, 1631.064877479374, 1631.064877479374, 1631.064877479374, 1631.2658774052397, 1631.2658774052397, 1631.2658774052397, 1631.4241932902444, 1632.3597720961197, 1632.3597720961197, 1633.060237875504, 1633.060237875504, 1633.060237875504, 1633.060237875504, 1633.7150994264252, 1633.8990712453638, 1634.0607434498854, 1634.0607434498854, 1634.0607434498854, 1637.4615294597297, 1637.4615294597297, 1637.4615294597297, 1637.7778388713677, 1637.7778388713677, 1637.7778388713677, 1638.310185278797, 1638.310185278797, 1638.310185278797, 1638.9092788314192, 1638.9092788314192, 1639.0969672527604, 1639.0969672527604, 1640.0772211364979, 1640.0772211364979, 1640.0772211364979, 1640.0772211364979, 1640.6973248700501, 1643.4892517648366, 1644.0026359151086, 1644.0026359151086, 1644.0026359151086, 1644.0026359151086, 1644.1755337758673, 1644.6534585052555, 1645.201562548382, 1645.201562548382, 1645.201562548382, 1645.201562548382, 1645.201562548382, 1645.6269049386735, 1647.2957352665578, 1647.356073168832, 1647.356073168832, 1648.3728862843682, 1649.3100389575877, 1649.4967223792996, 1649.4967223792996, 1649.4967223792996, 1649.4967223792996, 1650.4869124857873, 1650.4869124857873, 1651.1555975221763, 1651.1555975221763, 1651.1555975221763, 1652.4820074103172, 1652.4820074103172, 1652.4820074103172, 1652.537054842844, 1652.537054842844, 1652.9423730895778, 1652.9423730895778, 1653.5243437239872, 1653.5243437239872, 1655.015364966509, 1655.015364966509, 1655.015364966509, 1655.015364966509, 1655.015364966509, 1655.015364966509, 1655.4042239740302, 1655.4042239740302, 1655.8402041905867, 1657.0421458227484, 1658.036052531639, 1658.036052531639, 1658.2402950034784, 1658.818056016799, 1659.2415021813745, 1659.4145517401905, 1659.4145517401905, 1661.3611032863978, 1661.3611032863978, 1661.3611032863978, 1661.3907412943345, 1661.3907412943345, 1661.612846212416, 1663.8822112244661, 1664.385659151988, 1664.385659151988, 1665.47834025841, 1665.47834025841, 1665.47834025841, 1666.387561526837, 1668.2629477219339, 1668.2629477219339, 1668.2629477219339, 1670.2747104705045, 1672.092963384787, 1673.0121208759642, 1673.0121208759642, 1673.8985305490312, 1673.8985305490312, 1673.8985305490312, 1673.8985305490312, 1673.8985305490312, 1674.1033987753567, 1674.1719094104656, 1674.1719094104656, 1677.0493560850305, 1677.0493560850305, 1677.0493560850305, 1677.0584200439516, 1677.0584200439516, 1678.179639347395, 1678.179639347395, 1678.6904067061796, 1678.6904067061796, 1678.6904067061796, 1679.873025798298, 1680.302065828735, 1680.302065828735, 1682.2540216182322, 1682.2540216182322, 1682.2540216182322, 1683.4190437357088, 1683.4190437357088, 1683.680817695763, 1683.680817695763, 1683.8507384821478, 1683.8507384821478, 1685.5257505058653, 1686.160967158372, 1687.1697592391308, 1687.1697592391308, 1687.537399480893, 1687.537399480893, 1691.6341382529185, 1691.6341382529185, 1691.6341382529185, 1693.7682075601529, 1693.7682075601529, 1695.2049967472053, 1695.4335488327201, 1695.4335488327201, 1695.4335488327201, 1695.8866709297467, 1695.8866709297467, 1695.8866709297467, 1695.8866709297467, 1697.0978092566293, 1697.6485869780154, 1697.6485869780154, 1697.6485869780154, 1699.793104488943, 1699.793104488943, 1701.0186351690081, 1702.1718438002758, 1702.1718438002758, 1702.7134817137116, 1704.3224671580083, 1704.3224671580083, 1704.9725312578687, 1704.9725312578687, 1705.339223386773, 1705.342219423404, 1706.1952365616173, 1706.1952365616173, 1706.1952365616173, 1706.1952365616173, 1706.8165918041418, 1706.8165918041418, 1708.322612192075, 1708.7010419581597, 1708.7010419581597, 1708.7010419581597, 1708.7010419581597, 1710.2628303443921, 1710.6340354904999, 1710.6340354904999, 1712.4389958625152, 1714.1600482466101, 1714.1600482466101, 1714.1600482466101, 1714.231573880607, 1714.932399942877, 1715.6097507307866, 1715.6097507307866, 1715.6097507307866, 1717.5629011424849, 1717.735040512957, 1717.735040512957, 1717.735040512957, 1719.6146363291427, 1719.6146363291427, 1719.6146363291427, 1721.4428444284326, 1724.6905670985047, 1724.9396173840064, 1725.26529415068, 1725.26529415068, 1725.6212536420335, 1725.6212536420335, 1725.6884748436555, 1725.6884748436555, 1725.6884748436555, 1725.6884748436555, 1726.5440898110992, 1726.5440898110992, 1726.5440898110992, 1728.245307674208, 1728.245307674208, 1728.721430989166, 1728.9042081859038, 1728.9042081859038, 1728.9042081859038, 1729.4611486408658, 1729.4611486408658, 1729.6386922546278, 1729.682134785775, 1729.682134785775, 1729.682134785775, 1729.9178356422378, 1729.9853033532027, 1729.9853033532027, 1731.0911063415779, 1731.0911063415779, 1731.0911063415779, 1732.7489006357966, 1732.7489006357966, 1732.7489006357966, 1735.2804947020727, 1737.599427054332, 1738.3863796886096, 1738.3863796886096, 1738.3863796886096, 1740.2385371186888, 1741.28053211173, 1742.8944667051446, 1742.8944667051446, 1742.8944667051446, 1742.8944667051446, 1742.8944667051446, 1742.948869420928, 1742.948869420928, 1743.2075525330656, 1743.2075525330656, 1743.9415625453607, 1745.3661779633185, 1749.336836687506, 1749.591727348212, 1750.950619582863, 1751.5572032270625, 1751.5572032270625, 1752.711587518274, 1752.711587518274, 1752.9246664019483, 1753.7292728976395, 1753.7292728976395, 1753.7292728976395, 1754.668852739775, 1755.8345385362522, 1755.8817735188304, 1755.8817735188304, 1757.3693246682924, 1757.3693246682924, 1757.3693246682924, 1757.540155643021, 1757.8907298533422, 1757.8907298533422, 1758.4527901177364, 1759.6286586463068, 1759.8091603721855, 1760.1898087223576, 1760.1898087223576, 1760.1898087223576, 1760.1898087223576, 1760.1898087223576, 1761.3232966061819, 1761.3232966061819, 1761.3232966061819, 1762.6052968880608, 1762.6052968880608, 1762.6052968880608, 1762.7297082572686, 1762.7297082572686, 1763.2113116645453, 1764.4120017877344, 1764.4120017877344, 1764.4120017877344, 1766.0269224185208, 1766.0269224185208, 1767.553554779984, 1767.553554779984, 1767.553554779984, 1767.8117259111782, 1768.147319938345, 1770.1269416610344, 1770.1269416610344, 1770.1269416610344, 1771.5153960545933, 1771.5153960545933, 1771.5153960545933, 1772.0489181219664, 1772.2081441953146, 1772.2081441953146, 1774.696200919158, 1774.696200919158, 1774.696200919158, 1774.696200919158, 1779.3649930650995, 1779.3649930650995, 1779.3649930650995, 1779.6533900342022, 1779.6533900342022, 1779.6533900342022, 1779.7116989749602, 1780.4969070815798, 1780.4969070815798, 1782.184187685678, 1782.184187685678, 1782.4817813495017, 1782.4817813495017, 1782.4817813495017, 1782.4817813495017, 1783.2787081310444, 1784.5208307861217, 1784.5208307861217, 1784.5208307861217, 1784.7874021972366, 1784.7874021972366, 1785.1784229020736, 1785.1784229020736, 1785.1784229020736, 1785.3247736028125, 1786.2179528016843, 1786.2179528016843, 1787.2550176078646, 1787.2550176078646, 1788.028146756675, 1788.028146756675, 1788.028146756675, 1788.028146756675, 1788.2978090157062, 1789.1980990610123, 1789.306070153265, 1789.306070153265, 1789.6357479561989, 1789.6357479561989, 1789.6357479561989, 1789.6357479561989, 1792.2312827536089, 1792.2312827536089, 1792.2312827536089, 1793.2851291573731, 1795.788317762428, 1795.788317762428, 1796.3280973746628, 1796.3280973746628, 1797.9208890513469, 1798.3334508803146, 1798.3334508803146, 1798.3334508803146, 1798.3334508803146, 1798.4555867786635, 1798.4555867786635, 1798.7025132913636, 1798.7025132913636, 1798.7025132913636, 1798.7025132913636, 1798.7025132913636, 1799.587311172572, 1799.587311172572, 1799.587311172572, 1799.9755254633499, 1800.4078649265325, 1800.4078649265325, 1800.4078649265325, 1800.524994788992, 1800.7954724250812, 1800.7954724250812, 1800.7954724250812, 1800.7954724250812, 1801.4095840853718, 1801.4095840853718, 1801.5485963925908, 1803.2767975476338, 1803.2767975476338, 1804.1581063735257, 1804.1581063735257, 1804.1581063735257, 1804.5164361470238, 1804.5164361470238, 1806.8772182008286, 1811.7786962043451, 1811.7786962043451, 1811.810059777683, 1813.2363059497561, 1813.2363059497561, 1813.2363059497561, 1816.4875366374024, 1816.4875366374024, 1816.4875366374024, 1816.4875366374024, 1817.6385266845825, 1817.8468270794538, 1817.8468270794538, 1817.8468270794538, 1819.329467004312, 1819.329467004312, 1819.329467004312, 1820.7490763863802, 1820.8373077689323, 1821.5428364709774, 1822.5757675050977, 1824.00675424146, 1824.00675424146, 1824.00675424146, 1824.9596455881197, 1825.1690268316486, 1825.8254053631426, 1826.6258970490305, 1826.8914824227732, 1827.2435736136667, 1829.3587754750297, 1829.3587754750297, 1829.3587754750297, 1830.5026167512617, 1830.5026167512617, 1830.82679549962, 1831.1384022714828, 1831.1384022714828, 1831.1384022714828, 1831.97404998214, 1832.428063305253, 1832.428063305253, 1832.428063305253, 1833.1505253029397, 1833.1505253029397, 1833.653575023061, 1835.6584165477695, 1836.2391167109495, 1836.8824112850048, 1838.5921052770627, 1838.5921052770627, 1838.9466994859008, 1838.9466994859008, 1839.4281891196347, 1839.69942524601, 1839.69942524601, 1839.69942524601, 1841.1568074443353, 1841.4171781973596, 1841.4171781973596, 1841.4171781973596, 1841.4171781973596, 1842.2601643015369, 1844.173626709005, 1844.173626709005, 1844.3333647632967, 1844.9283435061157, 1844.9283435061157, 1844.9283435061157, 1845.0540443088103, 1848.4301414598362, 1850.2852759642892, 1850.2852759642892, 1850.2852759642892, 1850.2883288876915, 1851.278082862265, 1852.0448596549274, 1853.3533122855406, 1853.6590976444563, 1855.9209915271867, 1856.3980439927457, 1856.3980439927457, 1859.4287246673975, 1859.9198850522812, 1860.0410728377724, 1860.0410728377724, 1860.0410728377724, 1861.0969102785384, 1861.0969102785384, 1861.1691754405642, 1861.6433646052924, 1861.6433646052924, 1861.6433646052924, 1862.2694035253348, 1863.1016949164753, 1863.1016949164753, 1863.1016949164753, 1863.1016949164753, 1863.1016949164753, 1864.5896632355948, 1864.5896632355948, 1865.2592774225845, 1865.2592774225845, 1867.8734331565229, 1867.8734331565229, 1869.9261733428102, 1870.3084714093548, 1870.6607901473344, 1874.379364624875, 1875.0449588133474, 1875.0449588133474, 1875.988198371114, 1875.988198371114, 1875.988198371114, 1875.988198371114, 1876.236679788901, 1877.5600746781538, 1877.9813591454138, 1878.7690513077207, 1878.8888358861823, 1880.038669235676, 1880.2140701143794, 1880.2140701143794, 1880.2140701143794, 1880.2140701143794, 1883.2087035381755, 1884.2053218498395, 1884.2053218498395, 1884.7815469203304, 1884.7815469203304, 1885.119662927699, 1886.560510037783, 1886.6629631132032, 1886.6629631132032, 1886.6629631132032, 1888.4988509266414, 1891.3199038484213, 1891.4402572945976, 1891.8433000704722, 1893.1147952618862, 1893.1147952618862, 1893.2729215243194, 1893.2729215243194, 1893.9934493717756, 1893.9934493717756, 1893.9934493717756, 1893.9934493717756, 1893.9934493717756, 1895.1193144282229, 1895.235173819453, 1896.439864978902, 1896.439864978902, 1896.439864978902, 1897.9975954421027, 1899.1680786896404, 1899.1680786896404, 1899.1680786896404, 1900.1888928414373, 1901.9639118094015, 1901.9639118094015, 1902.7559842531116, 1902.7559842531116, 1902.7559842531116, 1904.4641423023397, 1904.4641423023397, 1905.4701279690394, 1907.584419642059, 1907.7014167687184, 1908.0708205003962, 1908.0708205003962, 1908.0708205003962, 1908.397597077985, 1909.3510383301023, 1909.7130847060034, 1909.7130847060034, 1914.2298185118018, 1914.2298185118018, 1914.2298185118018, 1914.2298185118018, 1914.2298185118018, 1916.9906283425935, 1918.4303946040195, 1918.4303946040195, 1920.6895768839765, 1920.6895768839765, 1928.1205251809677, 1928.1205251809677, 1928.1205251809677, 1929.0797499215178, 1929.0797499215178, 1929.1631648907521, 1929.1631648907521, 1929.1631648907521, 1929.4906620341128, 1930.5980388898315, 1930.6580923582483, 1930.6580923582483, 1930.6580923582483, 1931.1941932925945, 1932.003407616775, 1932.003407616775, 1932.003407616775, 1932.003407616775, 1932.7327718760666, 1932.7327718760666, 1932.7327718760666, 1933.5372266737002, 1935.3840367472612, 1935.3840367472612, 1935.3840367472612, 1937.6658220377494, 1937.6658220377494, 1937.6658220377494, 1937.9515642908502, 1938.3675582883634, 1938.3675582883634, 1940.168479699604, 1941.055989183586, 1941.055989183586, 1941.055989183586, 1941.055989183586, 1942.2587651550625, 1942.2587651550625, 1942.2881376913988, 1943.9712845234367, 1944.3700039046796, 1944.3700039046796, 1944.3700039046796, 1944.3700039046796, 1944.3700039046796, 1946.0103529223138, 1946.0103529223138, 1946.0103529223138, 1946.9209773977705, 1947.4896365276554, 1947.4896365276554, 1947.4896365276554, 1947.4896365276554, 1947.4896365276554, 1948.752048797891, 1948.9456344812081, 1948.9456344812081, 1950.475661086702, 1950.475661086702, 1950.475661086702, 1950.475661086702, 1952.9405269700424, 1960.2712976624725, 1960.2712976624725, 1960.2712976624725, 1960.2712976624725, 1960.2712976624725, 1960.830722173122, 1960.830722173122, 1961.1814101569857, 1961.1814101569857, 1961.1891657201631, 1963.3318628544039, 1964.0734198450473, 1964.0734198450473, 1964.0734198450473, 1964.5699465487069, 1965.396795772043, 1965.83471013883, 1965.83471013883, 1965.83471013883, 1966.7331418829344, 1966.7331418829344, 1966.7331418829344, 1968.2478280223884, 1968.2478280223884, 1968.2478280223884, 1970.3042658488214, 1972.377314612524, 1972.377314612524, 1972.377314612524, 1972.377314612524, 1973.6052724615051, 1973.6052724615051, 1973.715462137845, 1973.715462137845, 1973.715462137845, 1974.6805082913427, 1974.6805082913427, 1975.902701614148, 1975.902701614148, 1975.902701614148, 1975.902701614148, 1976.6681131242954, 1976.834487968592, 1976.834487968592, 1978.4391310559993, 1978.4756523632839, 1978.4756523632839, 1978.4756523632839, 1978.4756523632839, 1978.4756523632839, 1978.855352600598, 1978.855352600598, 1978.855352600598, 1978.855352600598, 1979.6079456249072, 1979.6079456249072, 1979.6079456249072, 1981.5118510547684, 1981.9334578803996, 1982.2828374685198, 1982.2828374685198, 1982.2828374685198, 1982.2828374685198, 1982.4019204434667, 1982.499120973654, 1982.499120973654, 1982.6276092281507, 1982.6276092281507, 1983.114484142917, 1983.114484142917, 1983.114484142917, 1984.4174756434686, 1985.4894689273326, 1986.6646737769024, 1986.6646737769024, 1987.6352758717471, 1987.6352758717471, 1989.5603052560812, 1989.5603052560812, 1990.2037136036795, 1990.2037136036795, 1991.3726040216163, 1991.3726040216163, 1991.3726040216163, 1992.0298737791964, 1992.0298737791964, 1992.0298737791964, 1992.0298737791964, 1994.6997406246624, 1994.6997406246624, 1994.6997406246624, 1996.3264368171435, 1996.3264368171435, 1998.084257017866, 1998.084257017866, 1998.4839813987383, 1998.4839813987383, 1998.4839813987383, 2002.5518596153706, 2002.5518596153706, 2006.1061071723875, 2007.6964906424128, 2008.386678878418, 2009.4708459313765, 2009.4708459313765, 2011.013027343708, 2011.013027343708, 2011.6222467416524, 2011.6222467416524, 2011.6222467416524, 2011.9383286062043, 2011.9383286062043, 2012.2093561477511, 2013.0879723331263, 2013.0879723331263, 2013.16078740061, 2013.4447282392807, 2013.4447282392807, 2015.6817815651352, 2015.7817126603532, 2015.7817126603532, 2015.7817126603532, 2016.2894839825067, 2019.2273633706316, 2019.2273633706316, 2019.2273633706316, 2019.2273633706316, 2019.2273633706316, 2021.135175025467, 2021.8704365467345, 2021.8932671043517, 2021.8932671043517, 2021.8932671043517, 2023.8544954375989, 2023.8544954375989, 2023.8544954375989, 2024.0014718928237, 2024.5107791578068, 2026.531378318213, 2026.531378318213, 2026.531378318213, 2026.531378318213, 2027.116932819225, 2027.116932819225, 2027.116932819225, 2027.116932819225, 2027.170178837322, 2027.170178837322, 2028.2671454138617, 2030.600564930589, 2032.7317519747353, 2034.6007099646558, 2035.099038082745, 2038.3040956742138, 2038.8249509538057, 2038.8249509538057, 2039.1495658340782, 2041.0022162828436, 2041.0022162828436, 2041.4557365872706, 2041.4557365872706, 2043.3624105066765, 2043.3624105066765, 2043.7721848838423, 2045.0993153377551, 2045.7601120751665, 2045.8493484573478, 2046.9235982498135, 2048.857501970497, 2048.857501970497, 2050.0491660592793, 2050.1039290579492, 2050.206875152055, 2050.874232830443, 2050.874232830443, 2050.874232830443, 2050.874232830443, 2053.104687290807, 2053.104687290807, 2053.3736100218093, 2053.3736100218093, 2053.3736100218093, 2053.8968735080603, 2053.8968735080603, 2056.4108705996946, 2058.3595079941892, 2059.967090231456, 2059.967090231456, 2061.6815437500604, 2063.37881746368, 2065.343857210616, 2065.343857210616, 2065.343857210616, 2067.2930634728255, 2067.2930634728255, 2067.2930634728255, 2070.258229548999, 2070.258229548999, 2071.5145738969445, 2071.7312176849646, 2071.7312176849646, 2072.297146249819, 2073.0365225808896, 2073.0365225808896, 2073.0365225808896, 2075.154568780826, 2075.154568780826, 2075.154568780826, 2075.154568780826, 2075.154568780826, 2075.2888025992415, 2075.2888025992415, 2078.47878519627, 2080.2799151923396, 2080.4605496540185, 2081.6411587468783, 2081.6411587468783, 2081.6411587468783, 2082.3446774496647, 2083.2322438204183, 2083.2322438204183, 2083.321081995199, 2083.321081995199, 2084.9523670539124, 2084.960634598033, 2084.960634598033, 2084.960634598033, 2084.960634598033, 2084.960634598033, 2085.638326706571, 2086.9663294243132, 2086.9663294243132, 2087.67525237039, 2087.67525237039, 2088.020213752592, 2089.5022089607073, 2089.5022089607073, 2089.5022089607073, 2090.4025748550416, 2093.0321469040487, 2093.688468548771, 2095.797469752044, 2095.797469752044, 2096.1434361338756, 2096.1434361338756, 2096.1434361338756, 2098.6671798256884, 2098.9595588687944, 2098.9595588687944, 2098.9595588687944, 2099.9853790564803, 2101.215043508606, 2103.481033238882, 2105.133271591754, 2106.1216223592974, 2106.1216223592974, 2106.1216223592974, 2106.920464328813, 2106.920464328813, 2107.229681856274, 2107.229681856274, 2107.6520282099345, 2107.6520282099345, 2110.219252357409, 2110.9256722855407, 2110.9256722855407, 2110.9256722855407, 2111.1155034419407, 2111.4481583192483, 2111.4481583192483, 2111.4481583192483, 2114.161334960061, 2114.161334960061, 2115.3548194255304, 2115.3548194255304, 2115.3548194255304, 2115.3548194255304, 2115.5781379280697, 2115.5781379280697, 2115.5781379280697, 2119.298949951955, 2121.384513805381, 2122.1320439070296, 2123.782404996443, 2125.0185166160013, 2125.615201961965, 2125.615201961965, 2125.6751985436094, 2127.998568064044, 2127.998568064044, 2129.4057950921883, 2129.4057950921883, 2129.9939474224307, 2129.9939474224307, 2130.7485314837413, 2130.7485314837413, 2130.7485314837413, 2132.63650861759, 2132.63650861759, 2132.63650861759, 2133.859441468425, 2133.859441468425, 2133.859441468425, 2135.307778670086, 2136.1635642978445, 2136.172078351308, 2139.3865412223263, 2140.173512818861, 2141.9042169918494, 2142.7626762978666, 2143.9653953825714, 2143.9653953825714, 2144.461315294002, 2144.4958834887993, 2145.14480985323, 2145.14480985323, 2145.9116056081502, 2146.9049434493263, 2147.5999101741345, 2147.8728718659113, 2147.8728718659113, 2147.8728718659113, 2148.2562128565996, 2148.2562128565996, 2148.2562128565996, 2149.644420740816, 2149.644420740816, 2149.644420740816, 2149.644420740816, 2150.822564740245, 2150.822564740245, 2150.8245368149896, 2151.7098656393987, 2151.7098656393987, 2152.24913327069, 2153.5271704408233, 2153.5271704408233, 2158.2895982126065, 2159.4811295655886, 2159.4811295655886, 2160.730059670985, 2161.557420875265, 2161.826267757239, 2161.826267757239, 2163.64086095589, 2163.64086095589, 2168.375395247395, 2168.375395247395, 2169.657319680245, 2171.526220783394, 2171.526220783394, 2171.987307028427, 2171.987307028427, 2174.1232156746055, 2174.1298524646104, 2174.1298524646104, 2174.1298524646104, 2174.532136750199, 2175.736524513534, 2176.214733676779, 2176.214733676779, 2176.214733676779, 2176.214733676779, 2177.252367350674, 2177.252367350674, 2177.252367350674, 2178.0542432813345, 2178.8135299824203, 2178.8135299824203, 2178.8135299824203, 2179.3063590459337, 2179.956366259023, 2179.956366259023, 2179.956366259023, 2184.20937299228, 2184.20937299228, 2184.4519002613197, 2184.4519002613197, 2188.0484715763114, 2188.7437227349774, 2188.7437227349774, 2188.7437227349774, 2191.9494060809325, 2191.9494060809325, 2191.9494060809325, 2192.104081212563, 2192.8827094159487, 2193.716119580262, 2195.4965427915154, 2195.4965427915154, 2197.6908362274808, 2198.7870632759914, 2200.1776983291234, 2201.721301910742, 2201.721301910742, 2202.5800646128737, 2205.1795625220298, 2205.8970943328554, 2205.8970943328554, 2205.8970943328554, 2205.8970943328554, 2205.8970943328554, 2206.4473031865264, 2206.816782767233, 2207.0561243770703, 2208.260948272319, 2208.543618639761, 2208.543618639761, 2210.190092466457, 2210.190092466457, 2210.2956553520507, 2210.876829571659, 2211.320356766564, 2211.320356766564, 2213.001531523858, 2215.785304648067, 2216.5460704052102, 2216.5460704052102, 2217.3642728392833, 2217.46634666956, 2218.714082152756, 2218.714082152756, 2218.714082152756, 2220.7689081873305, 2220.7689081873305, 2220.7936728951777, 2222.2626220703687, 2225.0952040445, 2225.0952040445, 2225.0952040445, 2225.227617486228, 2225.227617486228, 2225.227617486228, 2226.904260264061, 2227.242584856259, 2227.5153000386927, 2227.5569411554097, 2229.1110877520073, 2229.1110877520073, 2229.2166695998585, 2230.6362031328977, 2230.6747913262125, 2232.573046003441, 2232.573046003441, 2233.3454735487367, 2235.1312061919944, 2235.1312061919944, 2235.1312061919944, 2236.560182929098, 2237.001643237973, 2238.7682808882737, 2238.7682808882737, 2238.7682808882737, 2238.7682808882737, 2238.928341300937, 2239.2478553340343, 2239.2478553340343, 2239.2478553340343, 2239.2478553340343, 2239.2826890004326, 2239.2826890004326, 2240.4552391340003, 2240.4552391340003, 2240.4552391340003, 2242.9921426322803, 2244.372917311691, 2255.735139724754, 2258.6819692982567, 2259.4230522324715, 2259.4230522324715, 2259.4230522324715, 2260.2098910932064, 2260.344674817079, 2261.026273150592, 2261.026273150592, 2261.026273150592, 2266.9268724837175, 2267.06072705699, 2267.06072705699, 2267.06072705699, 2267.06072705699, 2267.06072705699, 2269.3530932869717, 2269.3530932869717, 2269.788826994185, 2269.788826994185, 2269.9252225099162, 2271.1063056592047, 2271.2881537053418, 2271.2881537053418, 2271.2881537053418, 2272.8450687914847, 2277.256410372004, 2277.335577795635, 2277.335577795635, 2277.60074599972, 2278.83291346979, 2278.83291346979, 2278.83291346979, 2282.79695436623, 2282.79695436623, 2282.79695436623, 2284.4286376323435, 2284.4286376323435, 2284.4286376323435, 2284.4286376323435, 2284.600113323815, 2284.6174448268566, 2287.1689113386337, 2287.1689113386337, 2287.1689113386337, 2287.1689113386337, 2287.5444967661447, 2287.5444967661447, 2289.135733537742, 2289.135733537742, 2289.135733537742, 2290.051857067774, 2295.1173396334425, 2295.1173396334425, 2296.2635701540767, 2296.2635701540767, 2297.100431449192, 2298.0591821333132, 2299.1344938121792, 2299.1344938121792, 2299.1344938121792, 2303.4955285244605, 2304.347938870445, 2304.347938870445, 2305.789146263415, 2308.624819085463, 2308.9468171742483, 2308.9468171742483, 2308.9468171742483, 2308.9468171742483, 2309.444102368194, 2311.3369148776183, 2312.470592384014, 2312.8969776984486, 2312.8969776984486, 2312.8969776984486, 2314.2458388990635, 2315.020769462304, 2320.9396104868147, 2323.7967865084784, 2323.7967865084784, 2323.9423787189307, 2324.820463961106, 2326.6557639445728, 2326.6557639445728, 2328.827492294521, 2329.8172841936084, 2329.8172841936084, 2330.529620345973, 2332.8821727801715, 2332.8821727801715, 2334.7914634910653, 2334.7914634910653, 2339.140096887166, 2339.140096887166, 2339.8858255743844, 2339.8858255743844, 2339.8858255743844, 2341.0460881653144, 2341.0460881653144, 2341.348365506656, 2341.348365506656, 2341.348365506656, 2341.348365506656, 2341.348365506656, 2342.3961819126444, 2344.7941679149912, 2344.7941679149912, 2346.812567453567, 2346.812567453567, 2348.36948253971, 2348.36948253971, 2348.6854695929765, 2348.6854695929765, 2349.373742641009, 2349.373742641009, 2351.3557725703567, 2351.3557725703567, 2351.3557725703567, 2351.3557725703567, 2352.721756689185, 2352.83137749781, 2355.1178843903303, 2355.1178843903303, 2360.389012634868, 2363.692218869382, 2365.4678825540896, 2366.588476103047, 2366.588476103047, 2366.588476103047, 2368.2418901158626, 2368.2418901158626, 2368.2418901158626, 2368.2418901158626, 2368.2418901158626, 2370.477179951801, 2370.477179951801, 2370.477179951801, 2371.309698890028, 2371.309698890028, 2371.8005369165403, 2371.8005369165403, 2375.072607124802, 2376.0603700623733, 2376.0603700623733, 2376.0603700623733, 2376.603752503468, 2376.603752503468, 2376.839548171217, 2376.839548171217, 2376.839548171217, 2379.010878313765, 2379.994431630248, 2379.994431630248, 2381.033240964087, 2381.033240964087, 2381.033240964087, 2383.736121099263, 2383.736121099263, 2383.736121099263, 2387.028310262369, 2388.305020074501, 2391.384357901018, 2391.384357901018, 2391.384357901018, 2391.6597277994533, 2391.6597277994533, 2392.614230937972, 2392.614230937972, 2393.4141727184024, 2394.9363110249187, 2394.9363110249187, 2394.9363110249187, 2394.993861475391, 2395.3076109823123, 2395.3076109823123, 2395.3076109823123, 2396.468632063529, 2400.549423577285, 2400.549423577285, 2400.990675301331, 2400.990675301331, 2400.990675301331, 2402.027247088826, 2405.3837751904657, 2405.3837751904657, 2406.410505566495, 2406.410505566495, 2406.410505566495, 2407.4993183724573, 2409.994030848563, 2415.5271985247546, 2415.6115616068464, 2416.4002018820115, 2416.596328507788, 2416.596328507788, 2417.233934404696, 2417.233934404696, 2417.233934404696, 2417.233934404696, 2418.3176653257397, 2418.6658882161732, 2418.6658882161732, 2418.6658882161732, 2423.725416633094, 2425.355412258321, 2425.355412258321, 2426.2457471186194, 2432.8687136381454, 2432.8687136381454, 2433.3058695146456, 2435.194225893638, 2435.194225893638, 2435.194225893638, 2437.235588725631, 2437.8732135847968, 2437.8732135847968, 2437.8732135847968, 2437.8732135847968, 2440.3564538953224, 2441.3501140948697, 2441.3501140948697, 2441.3501140948697, 2441.368583333341, 2441.368583333341, 2441.368583333341, 2444.359139871848, 2444.359139871848, 2446.529123694138, 2448.5379662551068, 2448.5379662551068, 2449.4139466867373, 2450.419837542151, 2450.419837542151, 2451.4635201760793, 2453.2769377147865, 2460.695901865254, 2460.695901865254, 2463.6282253120316, 2463.6282253120316, 2463.6282253120316, 2464.127558429751, 2464.127558429751, 2464.127558429751, 2464.694283409405, 2467.017027175353, 2467.017027175353, 2467.4205060831428, 2467.4205060831428, 2467.4205060831428, 2475.12388512871, 2477.639437125431, 2478.0716059282995, 2479.0552919805823, 2479.0552919805823, 2485.3985652070405, 2485.7687274290047, 2485.7687274290047, 2485.7687274290047, 2485.7687274290047, 2487.0865284523966, 2487.0865284523966, 2487.0865284523966, 2492.827693127345, 2493.288381164977, 2493.288381164977, 2493.288381164977, 2493.288381164977, 2495.0902506890757, 2495.0902506890757, 2498.662341730078, 2498.662341730078, 2502.6193855536267, 2502.6193855536267, 2502.6193855536267, 2502.6942295826257, 2503.2238643872815, 2503.2238643872815, 2503.2238643872815, 2503.2238643872815, 2503.2238643872815, 2503.251226924359, 2504.9354166805406, 2504.9354166805406, 2505.47796478232, 2505.47796478232, 2506.8766967192582, 2506.8766967192582, 2507.277445062017, 2507.277445062017, 2508.221993015528, 2508.221993015528, 2508.221993015528, 2508.221993015528, 2510.9128700419237, 2510.9128700419237, 2512.359102433041, 2512.3796764820563, 2515.821610589932, 2519.6393007856323, 2519.6393007856323, 2520.1977013343953, 2521.382254576744, 2521.382254576744, 2521.382254576744, 2521.812603002925, 2521.812603002925, 2527.2931314532484, 2527.2931314532484, 2527.4677928039227, 2527.4677928039227, 2527.4677928039227, 2528.8698620981204, 2531.9145558808113, 2531.9145558808113, 2531.9145558808113, 2531.9145558808113, 2533.817020179128, 2534.3560223388195, 2534.947986082751, 2534.947986082751, 2534.947986082751, 2537.095992648996, 2539.84504588035, 2539.84504588035, 2539.84504588035, 2539.84504588035, 2543.628433352854, 2543.628433352854, 2545.287024061873, 2545.287024061873, 2545.287024061873, 2545.287024061873, 2548.6711232854195, 2548.6711232854195, 2549.288629189741, 2549.288629189741, 2549.288629189741, 2550.032385802215, 2553.7793278164627, 2553.7793278164627, 2554.1704433325854, 2554.1704433325854, 2555.5451500897057, 2555.5451500897057, 2555.5506112197663, 2555.5506112197663, 2558.4006574327395, 2560.5144940115874, 2563.0384842127437, 2563.0384842127437, 2564.2405965052194, 2564.300517237836, 2564.300517237836, 2565.22983849885, 2565.22983849885, 2568.3264319793793, 2569.093815564271, 2569.093815564271, 2569.093815564271, 2569.093815564271, 2569.093815564271, 2569.8172256748157, 2570.9755161910016, 2571.7576524119613, 2574.823925243297, 2574.823925243297, 2574.8913550297475, 2574.8913550297475, 2577.2761622633707, 2577.2761622633707, 2577.84265969594, 2577.914393914765, 2578.2929753789067, 2581.543068331124, 2581.543068331124, 2581.543068331124, 2581.543068331124, 2590.714903533196, 2590.714903533196, 2590.714903533196, 2590.714903533196, 2594.460631962986, 2596.692811988751, 2596.692811988751, 2596.890360783814, 2596.890360783814, 2598.2690116904228, 2598.2690116904228, 2598.2690116904228, 2598.5874448748623, 2599.0551110231286, 2599.0551110231286, 2600.980386916806, 2600.980386916806, 2600.980386916806, 2603.8147892676243, 2603.8147892676243, 2605.5383067451494, 2605.5383067451494, 2607.2358459303696, 2608.6897011488636, 2608.6897011488636, 2608.6897011488636, 2609.3834732514715, 2609.3834732514715, 2609.3834732514715, 2610.6534514623127, 2612.025181145059, 2613.720956840363, 2613.720956840363, 2613.9009655475556, 2613.9009655475556, 2613.9009655475556, 2613.9009655475556, 2613.9009655475556, 2616.263947223191, 2616.263947223191, 2616.263947223191, 2616.263947223191, 2618.1799695353757, 2618.1799695353757, 2618.1799695353757, 2618.1799695353757, 2619.043567613083, 2619.043567613083, 2619.043567613083, 2619.554486669924, 2620.25347339325, 2620.613737316978, 2623.8012737828335, 2623.8012737828335, 2623.8012737828335, 2623.8012737828335, 2623.8012737828335, 2623.8792086597496, 2624.433456474195, 2624.433456474195, 2626.925912441699, 2627.1207496339885, 2630.05284553368, 2632.864019119481, 2632.864019119481, 2633.449990790151, 2633.652659394646, 2634.4783139957817, 2635.1724274190183, 2635.1724274190183, 2635.4086592186814, 2635.4086592186814, 2637.758974106536, 2638.9115000965458, 2638.9115000965458, 2643.6094182694806, 2643.6478547647375, 2646.219440231358, 2647.4929074975166, 2647.8694600001427, 2647.8694600001427, 2647.8694600001427, 2648.20765185654, 2651.993106215074, 2651.993106215074, 2651.993106215074, 2653.017238761873, 2653.017238761873, 2653.523417254425, 2653.523417254425, 2653.523417254425, 2654.2894734813162, 2655.9952422861425, 2659.1885812026876, 2659.1885812026876, 2660.803956927646, 2665.703936912847, 2669.6053833984115, 2669.6053833984115, 2670.1874488441063, 2672.5119371377123, 2672.5119371377123, 2672.5119371377123, 2672.5119371377123, 2672.8189550433435, 2672.8189550433435, 2672.8189550433435, 2672.8189550433435, 2675.452698788925, 2675.452698788925, 2675.452698788925, 2678.7060342871164, 2679.037210108365, 2682.645253588937, 2682.645253588937, 2682.645253588937, 2683.03430221903, 2683.03430221903, 2683.2743643946387, 2683.2743643946387, 2683.2743643946387, 2683.2743643946387, 2683.2743643946387, 2683.9183036854374, 2687.71424417218, 2691.2175211819585, 2692.2008469513553, 2692.2008469513553, 2692.2008469513553, 2694.045684950172, 2694.045684950172, 2694.045684950172, 2700.048908019032, 2700.048908019032, 2700.3960310985503, 2700.3960310985503, 2700.7960399132794, 2702.150874224899, 2702.150874224899, 2703.4913351455934, 2703.4913351455934, 2704.7832716502226, 2704.7832716502226, 2704.7832716502226, 2705.9770974363205, 2705.9770974363205, 2705.9770974363205, 2706.702233112266, 2706.702233112266, 2706.702233112266, 2706.702233112266, 2706.984391498764, 2711.3458244184458, 2716.621257095358, 2717.7023901871717, 2717.7023901871717, 2725.5447625777006, 2725.5447625777006, 2725.5447625777006, 2725.5447625777006, 2725.573642095351, 2726.9150511289035, 2726.9150511289035, 2731.11509627792, 2731.493981138177, 2731.493981138177, 2731.78264357888, 2733.6770489179053, 2733.6770489179053, 2735.0067582387915, 2735.0067582387915, 2736.2946937071606, 2736.2946937071606, 2736.2946937071606, 2739.3280859845854, 2741.673489647836, 2741.816711576144, 2741.8695404245836, 2741.8695404245836, 2743.2119165332506, 2746.089116698473, 2746.8546419821632, 2746.8546419821632, 2747.4619651543917, 2747.4619651543917, 2747.4619651543917, 2747.4619651543917, 2747.582830581511, 2749.781049204708, 2750.661713313856, 2754.2184070020467, 2756.8228919848348, 2763.953288505885, 2763.953288505885, 2765.7961165054435, 2766.783500197872, 2766.783500197872, 2766.783500197872, 2772.033561374708, 2774.2005870848816, 2775.008796409432, 2782.5355799540953, 2782.5355799540953, 2782.76153421038, 2782.76153421038, 2785.800747900752, 2788.364445068395, 2789.417210623502, 2792.3731231181832, 2792.3731231181832, 2792.3731231181832, 2793.8437788965184, 2796.37920333874, 2797.5076093376465, 2799.117732517372, 2803.9143113142954, 2807.8540425970596, 2807.8540425970596, 2810.03949962119, 2812.213143159111, 2813.5777809576803, 2818.9629102922468, 2818.9629102922468, 2818.9629102922468, 2818.9629102922468, 2818.9629102922468, 2828.684594065104, 2829.8163753457848, 2829.8163753457848, 2829.8163753457848, 2829.9510452961144, 2830.8394649684396, 2832.2896604713023, 2832.2896604713023, 2832.324475175443, 2833.4976889880113, 2840.5490128967167, 2844.00296907563], \"yaxis\": \"y\"}],\n",
              "                        {\"legend\": {\"tracegroupgap\": 0}, \"template\": {\"data\": {\"bar\": [{\"error_x\": {\"color\": \"#2a3f5f\"}, \"error_y\": {\"color\": \"#2a3f5f\"}, \"marker\": {\"line\": {\"color\": \"#E5ECF6\", \"width\": 0.5}}, \"type\": \"bar\"}], \"barpolar\": [{\"marker\": {\"line\": {\"color\": \"#E5ECF6\", \"width\": 0.5}}, \"type\": \"barpolar\"}], \"carpet\": [{\"aaxis\": {\"endlinecolor\": \"#2a3f5f\", \"gridcolor\": \"white\", \"linecolor\": \"white\", \"minorgridcolor\": \"white\", \"startlinecolor\": \"#2a3f5f\"}, \"baxis\": {\"endlinecolor\": \"#2a3f5f\", \"gridcolor\": \"white\", \"linecolor\": \"white\", \"minorgridcolor\": \"white\", \"startlinecolor\": \"#2a3f5f\"}, \"type\": \"carpet\"}], \"choropleth\": [{\"colorbar\": {\"outlinewidth\": 0, \"ticks\": \"\"}, \"type\": \"choropleth\"}], \"contour\": [{\"colorbar\": {\"outlinewidth\": 0, \"ticks\": \"\"}, \"colorscale\": [[0.0, \"#0d0887\"], [0.1111111111111111, \"#46039f\"], [0.2222222222222222, \"#7201a8\"], [0.3333333333333333, \"#9c179e\"], [0.4444444444444444, \"#bd3786\"], [0.5555555555555556, \"#d8576b\"], [0.6666666666666666, \"#ed7953\"], [0.7777777777777778, \"#fb9f3a\"], [0.8888888888888888, \"#fdca26\"], [1.0, \"#f0f921\"]], \"type\": \"contour\"}], \"contourcarpet\": [{\"colorbar\": {\"outlinewidth\": 0, \"ticks\": \"\"}, \"type\": \"contourcarpet\"}], \"heatmap\": [{\"colorbar\": {\"outlinewidth\": 0, \"ticks\": \"\"}, \"colorscale\": [[0.0, \"#0d0887\"], [0.1111111111111111, \"#46039f\"], [0.2222222222222222, \"#7201a8\"], [0.3333333333333333, \"#9c179e\"], [0.4444444444444444, \"#bd3786\"], [0.5555555555555556, \"#d8576b\"], [0.6666666666666666, \"#ed7953\"], [0.7777777777777778, \"#fb9f3a\"], [0.8888888888888888, \"#fdca26\"], [1.0, \"#f0f921\"]], \"type\": \"heatmap\"}], \"heatmapgl\": [{\"colorbar\": {\"outlinewidth\": 0, \"ticks\": \"\"}, \"colorscale\": [[0.0, \"#0d0887\"], [0.1111111111111111, \"#46039f\"], [0.2222222222222222, \"#7201a8\"], [0.3333333333333333, \"#9c179e\"], [0.4444444444444444, \"#bd3786\"], [0.5555555555555556, \"#d8576b\"], [0.6666666666666666, \"#ed7953\"], [0.7777777777777778, \"#fb9f3a\"], [0.8888888888888888, \"#fdca26\"], [1.0, \"#f0f921\"]], \"type\": \"heatmapgl\"}], \"histogram\": [{\"marker\": {\"colorbar\": {\"outlinewidth\": 0, \"ticks\": \"\"}}, \"type\": \"histogram\"}], \"histogram2d\": [{\"colorbar\": {\"outlinewidth\": 0, \"ticks\": \"\"}, \"colorscale\": [[0.0, \"#0d0887\"], [0.1111111111111111, \"#46039f\"], [0.2222222222222222, \"#7201a8\"], [0.3333333333333333, \"#9c179e\"], [0.4444444444444444, \"#bd3786\"], [0.5555555555555556, \"#d8576b\"], [0.6666666666666666, \"#ed7953\"], [0.7777777777777778, \"#fb9f3a\"], [0.8888888888888888, \"#fdca26\"], [1.0, \"#f0f921\"]], \"type\": \"histogram2d\"}], \"histogram2dcontour\": [{\"colorbar\": {\"outlinewidth\": 0, \"ticks\": \"\"}, \"colorscale\": [[0.0, \"#0d0887\"], [0.1111111111111111, \"#46039f\"], [0.2222222222222222, \"#7201a8\"], [0.3333333333333333, \"#9c179e\"], [0.4444444444444444, \"#bd3786\"], [0.5555555555555556, \"#d8576b\"], [0.6666666666666666, \"#ed7953\"], [0.7777777777777778, \"#fb9f3a\"], [0.8888888888888888, \"#fdca26\"], [1.0, \"#f0f921\"]], \"type\": \"histogram2dcontour\"}], \"mesh3d\": [{\"colorbar\": {\"outlinewidth\": 0, \"ticks\": \"\"}, \"type\": \"mesh3d\"}], \"parcoords\": [{\"line\": {\"colorbar\": {\"outlinewidth\": 0, \"ticks\": \"\"}}, \"type\": \"parcoords\"}], \"pie\": [{\"automargin\": true, \"type\": \"pie\"}], \"scatter\": [{\"marker\": {\"colorbar\": {\"outlinewidth\": 0, \"ticks\": \"\"}}, \"type\": \"scatter\"}], \"scatter3d\": [{\"line\": {\"colorbar\": {\"outlinewidth\": 0, \"ticks\": \"\"}}, \"marker\": {\"colorbar\": {\"outlinewidth\": 0, \"ticks\": \"\"}}, \"type\": \"scatter3d\"}], \"scattercarpet\": [{\"marker\": {\"colorbar\": {\"outlinewidth\": 0, \"ticks\": \"\"}}, \"type\": \"scattercarpet\"}], \"scattergeo\": [{\"marker\": {\"colorbar\": {\"outlinewidth\": 0, \"ticks\": \"\"}}, \"type\": \"scattergeo\"}], \"scattergl\": [{\"marker\": {\"colorbar\": {\"outlinewidth\": 0, \"ticks\": \"\"}}, \"type\": \"scattergl\"}], \"scattermapbox\": [{\"marker\": {\"colorbar\": {\"outlinewidth\": 0, \"ticks\": \"\"}}, \"type\": \"scattermapbox\"}], \"scatterpolar\": [{\"marker\": {\"colorbar\": {\"outlinewidth\": 0, \"ticks\": \"\"}}, \"type\": \"scatterpolar\"}], \"scatterpolargl\": [{\"marker\": {\"colorbar\": {\"outlinewidth\": 0, \"ticks\": \"\"}}, \"type\": \"scatterpolargl\"}], \"scatterternary\": [{\"marker\": {\"colorbar\": {\"outlinewidth\": 0, \"ticks\": \"\"}}, \"type\": \"scatterternary\"}], \"surface\": [{\"colorbar\": {\"outlinewidth\": 0, \"ticks\": \"\"}, \"colorscale\": [[0.0, \"#0d0887\"], [0.1111111111111111, \"#46039f\"], [0.2222222222222222, \"#7201a8\"], [0.3333333333333333, \"#9c179e\"], [0.4444444444444444, \"#bd3786\"], [0.5555555555555556, \"#d8576b\"], [0.6666666666666666, \"#ed7953\"], [0.7777777777777778, \"#fb9f3a\"], [0.8888888888888888, \"#fdca26\"], [1.0, \"#f0f921\"]], \"type\": \"surface\"}], \"table\": [{\"cells\": {\"fill\": {\"color\": \"#EBF0F8\"}, \"line\": {\"color\": \"white\"}}, \"header\": {\"fill\": {\"color\": \"#C8D4E3\"}, \"line\": {\"color\": \"white\"}}, \"type\": \"table\"}]}, \"layout\": {\"annotationdefaults\": {\"arrowcolor\": \"#2a3f5f\", \"arrowhead\": 0, \"arrowwidth\": 1}, \"coloraxis\": {\"colorbar\": {\"outlinewidth\": 0, \"ticks\": \"\"}}, \"colorscale\": {\"diverging\": [[0, \"#8e0152\"], [0.1, \"#c51b7d\"], [0.2, \"#de77ae\"], [0.3, \"#f1b6da\"], [0.4, \"#fde0ef\"], [0.5, \"#f7f7f7\"], [0.6, \"#e6f5d0\"], [0.7, \"#b8e186\"], [0.8, \"#7fbc41\"], [0.9, \"#4d9221\"], [1, \"#276419\"]], \"sequential\": [[0.0, \"#0d0887\"], [0.1111111111111111, \"#46039f\"], [0.2222222222222222, \"#7201a8\"], [0.3333333333333333, \"#9c179e\"], [0.4444444444444444, \"#bd3786\"], [0.5555555555555556, \"#d8576b\"], [0.6666666666666666, \"#ed7953\"], [0.7777777777777778, \"#fb9f3a\"], [0.8888888888888888, \"#fdca26\"], [1.0, \"#f0f921\"]], \"sequentialminus\": [[0.0, \"#0d0887\"], [0.1111111111111111, \"#46039f\"], [0.2222222222222222, \"#7201a8\"], [0.3333333333333333, \"#9c179e\"], [0.4444444444444444, \"#bd3786\"], [0.5555555555555556, \"#d8576b\"], [0.6666666666666666, \"#ed7953\"], [0.7777777777777778, \"#fb9f3a\"], [0.8888888888888888, \"#fdca26\"], [1.0, \"#f0f921\"]]}, \"colorway\": [\"#636efa\", \"#EF553B\", \"#00cc96\", \"#ab63fa\", \"#FFA15A\", \"#19d3f3\", \"#FF6692\", \"#B6E880\", \"#FF97FF\", \"#FECB52\"], \"font\": {\"color\": \"#2a3f5f\"}, \"geo\": {\"bgcolor\": \"white\", \"lakecolor\": \"white\", \"landcolor\": \"#E5ECF6\", \"showlakes\": true, \"showland\": true, \"subunitcolor\": \"white\"}, \"hoverlabel\": {\"align\": \"left\"}, \"hovermode\": \"closest\", \"mapbox\": {\"style\": \"light\"}, \"paper_bgcolor\": \"white\", \"plot_bgcolor\": \"#E5ECF6\", \"polar\": {\"angularaxis\": {\"gridcolor\": \"white\", \"linecolor\": \"white\", \"ticks\": \"\"}, \"bgcolor\": \"#E5ECF6\", \"radialaxis\": {\"gridcolor\": \"white\", \"linecolor\": \"white\", \"ticks\": \"\"}}, \"scene\": {\"xaxis\": {\"backgroundcolor\": \"#E5ECF6\", \"gridcolor\": \"white\", \"gridwidth\": 2, \"linecolor\": \"white\", \"showbackground\": true, \"ticks\": \"\", \"zerolinecolor\": \"white\"}, \"yaxis\": {\"backgroundcolor\": \"#E5ECF6\", \"gridcolor\": \"white\", \"gridwidth\": 2, \"linecolor\": \"white\", \"showbackground\": true, \"ticks\": \"\", \"zerolinecolor\": \"white\"}, \"zaxis\": {\"backgroundcolor\": \"#E5ECF6\", \"gridcolor\": \"white\", \"gridwidth\": 2, \"linecolor\": \"white\", \"showbackground\": true, \"ticks\": \"\", \"zerolinecolor\": \"white\"}}, \"shapedefaults\": {\"line\": {\"color\": \"#2a3f5f\"}}, \"ternary\": {\"aaxis\": {\"gridcolor\": \"white\", \"linecolor\": \"white\", \"ticks\": \"\"}, \"baxis\": {\"gridcolor\": \"white\", \"linecolor\": \"white\", \"ticks\": \"\"}, \"bgcolor\": \"#E5ECF6\", \"caxis\": {\"gridcolor\": \"white\", \"linecolor\": \"white\", \"ticks\": \"\"}}, \"title\": {\"x\": 0.05}, \"xaxis\": {\"automargin\": true, \"gridcolor\": \"white\", \"linecolor\": \"white\", \"ticks\": \"\", \"title\": {\"standoff\": 15}, \"zerolinecolor\": \"white\", \"zerolinewidth\": 2}, \"yaxis\": {\"automargin\": true, \"gridcolor\": \"white\", \"linecolor\": \"white\", \"ticks\": \"\", \"title\": {\"standoff\": 15}, \"zerolinecolor\": \"white\", \"zerolinewidth\": 2}}}, \"title\": {\"text\": \"\\u0412\\u0437\\u0430\\u0438\\u043c\\u043e\\u0441\\u0432\\u044f\\u0437\\u044c \\u043e\\u0431\\u044a\\u0435\\u043c\\u0430 \\u0442\\u0440\\u0430\\u0444\\u0438\\u043a\\u0430 \\u0438 \\u0441\\u0440\\u0435\\u0434\\u043d\\u0435\\u0439 \\u0441\\u043a\\u043e\\u0440\\u043e\\u0441\\u0442\\u0438 \\\"\\u043a \\u0430\\u0431\\u043e\\u043d\\u0435\\u043d\\u0442\\u0443\\\"\"}, \"xaxis\": {\"anchor\": \"y\", \"domain\": [0.0, 1.0], \"title\": {\"text\": \"Total Traffic(MB)\"}}, \"yaxis\": {\"anchor\": \"x\", \"domain\": [0.0, 1.0], \"title\": {\"text\": \"Downlink Throughput(Kbps)\"}}},\n",
              "                        {\"responsive\": true}\n",
              "                    ).then(function(){\n",
              "                            \n",
              "var gd = document.getElementById('41a3f180-68e1-4dfe-a592-fdbc5b26c1aa');\n",
              "var x = new MutationObserver(function (mutations, observer) {{\n",
              "        var display = window.getComputedStyle(gd).display;\n",
              "        if (!display || display === 'none') {{\n",
              "            console.log([gd, 'removed!']);\n",
              "            Plotly.purge(gd);\n",
              "            observer.disconnect();\n",
              "        }}\n",
              "}});\n",
              "\n",
              "// Listen for the removal of the full notebook cells\n",
              "var notebookContainer = gd.closest('#notebook-container');\n",
              "if (notebookContainer) {{\n",
              "    x.observe(notebookContainer, {childList: true});\n",
              "}}\n",
              "\n",
              "// Listen for the clearing of the current output cell\n",
              "var outputEl = gd.closest('.output');\n",
              "if (outputEl) {{\n",
              "    x.observe(outputEl, {childList: true});\n",
              "}}\n",
              "\n",
              "                        })\n",
              "                };\n",
              "                \n",
              "            </script>\n",
              "        </div>\n",
              "</body>\n",
              "</html>"
            ]
          },
          "metadata": {
            "tags": []
          }
        }
      ]
    },
    {
      "cell_type": "markdown",
      "metadata": {
        "id": "qITeUudQJYMY"
      },
      "source": [
        "Линия тренда показывает, что при росте средней скорости \"к абоненту\" увеличивается объем трафика передачи данных.\n",
        "\n",
        "*Статистический анализ*\n",
        "Нулевая и альтернативная гипотезы:\n",
        "H0 - показатели независимы;\n",
        "H1 - существует зависимость между показателями\n",
        "\n",
        "В представленных данных наблюдаются выбросы, поэтому проверки гипотезы целесообразно использовать коэффициент корреляции Спирмена."
      ]
    },
    {
      "cell_type": "code",
      "metadata": {
        "id": "Bx-_kLrHJYMY",
        "outputId": "b083f738-b751-4f02-f955-5abf6feeee7e"
      },
      "source": [
        "data1, data2 = df['Total Traffic(MB)'], df['Downlink Throughput(Kbps)']\n",
        "corr, pval = st.spearmanr(data1, data2)\n",
        "\n",
        "print(corr, 'p-value',pval)\n",
        "\n",
        "if pval < 0.05: \n",
        "   print(\" we are rejecting null hypothesis\")\n",
        "else:\n",
        "  print(\"we are accepting null hypothesis\")"
      ],
      "execution_count": null,
      "outputs": [
        {
          "output_type": "stream",
          "text": [
            "0.25484310211642053 p-value 4.764183977657443e-38\n",
            " we are rejecting null hypothesis\n"
          ],
          "name": "stdout"
        }
      ]
    },
    {
      "cell_type": "markdown",
      "metadata": {
        "id": "1st4K0rVJYMY"
      },
      "source": [
        "Статистический тест сообщает о слабой положительной корреляции со значением 0,25. Значение p близко к нулю, что означает, что при 95% достоверности можно отвергнуть нулевую гипотезу о том, что показатели независимы. Предположение о взаимосвязи показателей \"Total Traffic(MB)\" и \"Downlink Throughput(Kbps)\", выдвинутое по итогам разведочного анализа, подтвердилось."
      ]
    },
    {
      "cell_type": "markdown",
      "metadata": {
        "id": "FpK4nTDjJYMY"
      },
      "source": [
        "# Выводы"
      ]
    },
    {
      "cell_type": "markdown",
      "metadata": {
        "id": "ZiR7IMarJYMZ"
      },
      "source": [
        "С учетом проведенного анализа можно сделать следующие выводы:\n",
        "* Значительная часть абонентов МегаФон не удовлетворена качеством связи с рассматриваемый период. Можно сказать, что большое влияние на оценки клиентов оказывает показатель Web Average TCP RTT(ms). При увеличении времени задержки в загрузке web-страниц растет недовольство пользователей и, как следствие, снижаются оценки;\n",
        "* При более подробном рассмотрении жалоб пользователей (причин, которые не позволили поставить оценку выше) выявлено, что средняя оценка равна 3, что соответсвтует проблеме \"плохое качество связи в зданиях, торговых центрах и т.п.\";\n",
        "* Наблюдается положительная корреляция объема передачи данных (Total Traffic(MB)) и средней скорости к абоненту (Downlink Throughput(Kbps)). Таким образом, при увеличении средней скорости к абоненту предположительно пользователь будет более активно использовать мобильный интернет, что положительно скажется на прибыли компании."
      ]
    }
  ]
}