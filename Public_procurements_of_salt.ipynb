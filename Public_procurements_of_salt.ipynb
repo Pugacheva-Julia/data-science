{
  "nbformat": 4,
  "nbformat_minor": 0,
  "metadata": {
    "colab": {
      "name": "Public_procurements_of_salt.ipynb",
      "provenance": [],
      "collapsed_sections": [],
      "include_colab_link": true
    },
    "kernelspec": {
      "name": "python3",
      "display_name": "Python 3"
    },
    "language_info": {
      "name": "python"
    }
  },
  "cells": [
    {
      "cell_type": "markdown",
      "metadata": {
        "id": "view-in-github",
        "colab_type": "text"
      },
      "source": [
        "<a href=\"https://colab.research.google.com/github/Pugacheva-Julia/data-science/blob/main/Public_procurements_of_salt.ipynb\" target=\"_parent\"><img src=\"https://colab.research.google.com/assets/colab-badge.svg\" alt=\"Open In Colab\"/></a>"
      ]
    },
    {
      "cell_type": "markdown",
      "metadata": {
        "id": "ACOCaokS8zkk"
      },
      "source": [
        "**Анализ закупок соли по данным, полученным с сайта http://zakupki.gov.ru/**\n",
        "\n",
        "\n",
        "На работе мне поставили задачу проанализировать государственные закупки соли за 2019 год. В нашей компании принято работать с данными в Excel, составлять таблицы, затем рисовать графики и редактировать их в Power Point. \n",
        "Мне стало интересно провести исследование с использованием средств Python и представить результат в более удобном формате."
      ]
    },
    {
      "cell_type": "code",
      "metadata": {
        "id": "wBdfVN0S9AJg"
      },
      "source": [
        "import pandas as pd\n",
        "import datetime as dt\n",
        "import plotly.graph_objects as go\n",
        "import plotly.express as px"
      ],
      "execution_count": null,
      "outputs": []
    },
    {
      "cell_type": "code",
      "metadata": {
        "colab": {
          "base_uri": "https://localhost:8080/",
          "height": 210
        },
        "id": "yFtKES2DzhK5",
        "outputId": "673af78b-0828-4651-f965-e0b55037504a"
      },
      "source": [
        "# Импорт данных\n",
        "df = pd.read_excel('salt.xlsx')\n",
        "df.head(2)"
      ],
      "execution_count": null,
      "outputs": [
        {
          "output_type": "execute_result",
          "data": {
            "text/html": [
              "<div>\n",
              "<style scoped>\n",
              "    .dataframe tbody tr th:only-of-type {\n",
              "        vertical-align: middle;\n",
              "    }\n",
              "\n",
              "    .dataframe tbody tr th {\n",
              "        vertical-align: top;\n",
              "    }\n",
              "\n",
              "    .dataframe thead th {\n",
              "        text-align: right;\n",
              "    }\n",
              "</style>\n",
              "<table border=\"1\" class=\"dataframe\">\n",
              "  <thead>\n",
              "    <tr style=\"text-align: right;\">\n",
              "      <th></th>\n",
              "      <th>Номер реестровой записи контракта</th>\n",
              "      <th>Заказчик: наименование</th>\n",
              "      <th>регион</th>\n",
              "      <th>Способ размещения заказа</th>\n",
              "      <th>Контракт: дата</th>\n",
              "      <th>Контракт: номер</th>\n",
              "      <th>Объект закупки: наименование товаров, работ, услуг</th>\n",
              "      <th>Код</th>\n",
              "      <th>Цена</th>\n",
              "      <th>Вес, кг</th>\n",
              "      <th>Информация о поставщиках (исполнителях, подрядчиках) по контракту: наименование юридического лица (ф.и.о. физического лица)</th>\n",
              "    </tr>\n",
              "  </thead>\n",
              "  <tbody>\n",
              "    <tr>\n",
              "      <th>0</th>\n",
              "      <td>1702003579819000035'</td>\n",
              "      <td>ФЕДЕРАЛЬНОЕ КАЗЕННОЕ УЧРЕЖДЕНИЕ \"ИСПРАВИТЕЛЬНА...</td>\n",
              "      <td>70.0</td>\n",
              "      <td>Закупка у единственного поставщика (подрядчика...</td>\n",
              "      <td>2019-06-25</td>\n",
              "      <td>'120/19'</td>\n",
              "      <td>Соль пищевая поваренная йодированная</td>\n",
              "      <td>10.84.30.130</td>\n",
              "      <td>5.0</td>\n",
              "      <td>224.47</td>\n",
              "      <td>ОБЩЕСТВО С ОГРАНИЧЕННОЙ ОТВЕТСТВЕННОСТЬЮ \"КОМБИ\"</td>\n",
              "    </tr>\n",
              "    <tr>\n",
              "      <th>1</th>\n",
              "      <td>'1702003579819000046'</td>\n",
              "      <td>ФЕДЕРАЛЬНОЕ КАЗЕННОЕ УЧРЕЖДЕНИЕ \"ИСПРАВИТЕЛЬНА...</td>\n",
              "      <td>70.0</td>\n",
              "      <td>Закупка у единственного поставщика (подрядчика...</td>\n",
              "      <td>2019-08-12</td>\n",
              "      <td>'156/19'</td>\n",
              "      <td>Соль пищевая йодированная</td>\n",
              "      <td>10.84.30.130-00000002</td>\n",
              "      <td>5.0</td>\n",
              "      <td>468.00</td>\n",
              "      <td>ОБЩЕСТВО С ОГРАНИЧЕННОЙ ОТВЕТСТВЕННОСТЬЮ \"КОМБИ\"</td>\n",
              "    </tr>\n",
              "  </tbody>\n",
              "</table>\n",
              "</div>"
            ],
            "text/plain": [
              "  Номер реестровой записи контракта  ... Информация о поставщиках (исполнителях, подрядчиках) по контракту: наименование юридического лица (ф.и.о. физического лица)\n",
              "0              1702003579819000035'  ...   ОБЩЕСТВО С ОГРАНИЧЕННОЙ ОТВЕТСТВЕННОСТЬЮ \"КОМБИ\"                                                                         \n",
              "1             '1702003579819000046'  ...   ОБЩЕСТВО С ОГРАНИЧЕННОЙ ОТВЕТСТВЕННОСТЬЮ \"КОМБИ\"                                                                         \n",
              "\n",
              "[2 rows x 11 columns]"
            ]
          },
          "metadata": {
            "tags": []
          },
          "execution_count": 7
        }
      ]
    },
    {
      "cell_type": "code",
      "metadata": {
        "colab": {
          "base_uri": "https://localhost:8080/"
        },
        "id": "MWoR5f7L1aLF",
        "outputId": "b841dfa1-fb92-4a02-8bac-9c105f73e8b4"
      },
      "source": [
        "# Переименование столбцов для удобства работы\n",
        "df.columns = ['number', 'customer', 'region', 'method', 'date', 'contruct_id', 'product', 'code', 'price', 'volume', 'executor']\n",
        "df.info()"
      ],
      "execution_count": null,
      "outputs": [
        {
          "output_type": "stream",
          "text": [
            "<class 'pandas.core.frame.DataFrame'>\n",
            "RangeIndex: 2928 entries, 0 to 2927\n",
            "Data columns (total 11 columns):\n",
            " #   Column       Non-Null Count  Dtype         \n",
            "---  ------       --------------  -----         \n",
            " 0   number       2928 non-null   object        \n",
            " 1   customer     2928 non-null   object        \n",
            " 2   region       2927 non-null   float64       \n",
            " 3   method       2928 non-null   object        \n",
            " 4   date         2928 non-null   datetime64[ns]\n",
            " 5   contruct_id  2904 non-null   object        \n",
            " 6   product      2928 non-null   object        \n",
            " 7   code         2928 non-null   object        \n",
            " 8   price        2922 non-null   float64       \n",
            " 9   volume       2928 non-null   float64       \n",
            " 10  executor     2928 non-null   object        \n",
            "dtypes: datetime64[ns](1), float64(3), object(7)\n",
            "memory usage: 251.8+ KB\n"
          ],
          "name": "stdout"
        }
      ]
    },
    {
      "cell_type": "code",
      "metadata": {
        "colab": {
          "base_uri": "https://localhost:8080/"
        },
        "id": "DYE8grXv6FJm",
        "outputId": "8d181d1b-3ef7-4940-e003-ac8850f0022b"
      },
      "source": [
        "df['code'].unique().tolist()\n",
        "\n",
        "# Код соли 10.84.30.130\n",
        "# В выгрузку ошибочно попали данные по другим кодам"
      ],
      "execution_count": null,
      "outputs": [
        {
          "output_type": "execute_result",
          "data": {
            "text/plain": [
              "['10.84.30.130',\n",
              " '10.84.30.130-00000002',\n",
              " '10.84.30.140',\n",
              " '10.84.30.130-00000010',\n",
              " '10.84.30.110',\n",
              " '10.84.30.130-00000004',\n",
              " '10.84.30.130-00000009',\n",
              " '10.84.30.120',\n",
              " '10.84.30.130-00000011',\n",
              " '10.84.30.130-00000012',\n",
              " '10.84.30.130-00000005',\n",
              " '10.84.30.130-00000006',\n",
              " '10.84.30.000-00000007',\n",
              " '10.84.30.130-00000003',\n",
              " '10.84.30.130-00000007',\n",
              " '10.84.30.000-00000001',\n",
              " '10.84.30.130-00000008',\n",
              " '10.89.19.290',\n",
              " '10.84.30.000-00000002']"
            ]
          },
          "metadata": {
            "tags": []
          },
          "execution_count": 9
        }
      ]
    },
    {
      "cell_type": "code",
      "metadata": {
        "id": "TqFtBrnC1Pdo"
      },
      "source": [
        "# Удаление нерелевантных данных\n",
        "df = df[df['code'] == '10.84.30.130']\n",
        "\n",
        "# Также в выгрузку попадают данные не только за 2019 год, нужно их удалить\n",
        "df['date'] = pd.to_datetime(df['date'])\n",
        "df['year'] = df['date'].dt.to_period('Y')\n",
        "df = df[df['year'] == '2019']"
      ],
      "execution_count": null,
      "outputs": []
    },
    {
      "cell_type": "markdown",
      "metadata": {
        "id": "9e6IwYad9e1Y"
      },
      "source": [
        "**1.** Во-первых, я проанализировала способы размещения заказа."
      ]
    },
    {
      "cell_type": "code",
      "metadata": {
        "colab": {
          "base_uri": "https://localhost:8080/",
          "height": 294
        },
        "id": "Irpi5T0Q8Xmj",
        "outputId": "60297147-d1b1-4e35-f515-aabd4ed03d86"
      },
      "source": [
        "df_methods = df.groupby('method').agg({'number' : 'nunique'}).reset_index()\n",
        "df_methods.sort_values('number', ascending=False)"
      ],
      "execution_count": null,
      "outputs": [
        {
          "output_type": "execute_result",
          "data": {
            "text/html": [
              "<div>\n",
              "<style scoped>\n",
              "    .dataframe tbody tr th:only-of-type {\n",
              "        vertical-align: middle;\n",
              "    }\n",
              "\n",
              "    .dataframe tbody tr th {\n",
              "        vertical-align: top;\n",
              "    }\n",
              "\n",
              "    .dataframe thead th {\n",
              "        text-align: right;\n",
              "    }\n",
              "</style>\n",
              "<table border=\"1\" class=\"dataframe\">\n",
              "  <thead>\n",
              "    <tr style=\"text-align: right;\">\n",
              "      <th></th>\n",
              "      <th>method</th>\n",
              "      <th>number</th>\n",
              "    </tr>\n",
              "  </thead>\n",
              "  <tbody>\n",
              "    <tr>\n",
              "      <th>7</th>\n",
              "      <td>Электронный аукцион</td>\n",
              "      <td>459</td>\n",
              "    </tr>\n",
              "    <tr>\n",
              "      <th>3</th>\n",
              "      <td>Конкурс c ограниченным участием</td>\n",
              "      <td>55</td>\n",
              "    </tr>\n",
              "    <tr>\n",
              "      <th>0</th>\n",
              "      <td>Закупка у единственного поставщика (подрядчика...</td>\n",
              "      <td>53</td>\n",
              "    </tr>\n",
              "    <tr>\n",
              "      <th>2</th>\n",
              "      <td>Запрос котировок в электронной форме</td>\n",
              "      <td>20</td>\n",
              "    </tr>\n",
              "    <tr>\n",
              "      <th>1</th>\n",
              "      <td>Запрос котировок</td>\n",
              "      <td>4</td>\n",
              "    </tr>\n",
              "    <tr>\n",
              "      <th>4</th>\n",
              "      <td>Конкурс с ограниченным участием в электронной ...</td>\n",
              "      <td>4</td>\n",
              "    </tr>\n",
              "    <tr>\n",
              "      <th>5</th>\n",
              "      <td>Открытый конкурс в электронной форме</td>\n",
              "      <td>2</td>\n",
              "    </tr>\n",
              "    <tr>\n",
              "      <th>6</th>\n",
              "      <td>Способ определения поставщика (подрядчика, исп...</td>\n",
              "      <td>1</td>\n",
              "    </tr>\n",
              "  </tbody>\n",
              "</table>\n",
              "</div>"
            ],
            "text/plain": [
              "                                              method  number\n",
              "7                                Электронный аукцион     459\n",
              "3                    Конкурс c ограниченным участием      55\n",
              "0  Закупка у единственного поставщика (подрядчика...      53\n",
              "2               Запрос котировок в электронной форме      20\n",
              "1                                   Запрос котировок       4\n",
              "4  Конкурс с ограниченным участием в электронной ...       4\n",
              "5               Открытый конкурс в электронной форме       2\n",
              "6  Способ определения поставщика (подрядчика, исп...       1"
            ]
          },
          "metadata": {
            "tags": []
          },
          "execution_count": 11
        }
      ]
    },
    {
      "cell_type": "code",
      "metadata": {
        "colab": {
          "base_uri": "https://localhost:8080/",
          "height": 542
        },
        "id": "Hy_vtNP5vWf-",
        "outputId": "520a1636-bcda-4c92-c2e2-27195c11ce98"
      },
      "source": [
        "fig = px.pie(df_methods, values='number', names='method', color_discrete_sequence=px.colors.sequential.RdBu)\n",
        "fig.show()"
      ],
      "execution_count": null,
      "outputs": [
        {
          "output_type": "display_data",
          "data": {
            "text/html": [
              "<html>\n",
              "<head><meta charset=\"utf-8\" /></head>\n",
              "<body>\n",
              "    <div>\n",
              "            <script src=\"https://cdnjs.cloudflare.com/ajax/libs/mathjax/2.7.5/MathJax.js?config=TeX-AMS-MML_SVG\"></script><script type=\"text/javascript\">if (window.MathJax) {MathJax.Hub.Config({SVG: {font: \"STIX-Web\"}});}</script>\n",
              "                <script type=\"text/javascript\">window.PlotlyConfig = {MathJaxConfig: 'local'};</script>\n",
              "        <script src=\"https://cdn.plot.ly/plotly-latest.min.js\"></script>    \n",
              "            <div id=\"2a6053cd-024e-4a3a-b62a-c4a88088b117\" class=\"plotly-graph-div\" style=\"height:525px; width:100%;\"></div>\n",
              "            <script type=\"text/javascript\">\n",
              "                \n",
              "                    window.PLOTLYENV=window.PLOTLYENV || {};\n",
              "                    \n",
              "                if (document.getElementById(\"2a6053cd-024e-4a3a-b62a-c4a88088b117\")) {\n",
              "                    Plotly.newPlot(\n",
              "                        '2a6053cd-024e-4a3a-b62a-c4a88088b117',\n",
              "                        [{\"domain\": {\"x\": [0.0, 1.0], \"y\": [0.0, 1.0]}, \"hoverlabel\": {\"namelength\": 0}, \"hovertemplate\": \"method=%{label}<br>number=%{value}\", \"labels\": [\"\\u0417\\u0430\\u043a\\u0443\\u043f\\u043a\\u0430 \\u0443 \\u0435\\u0434\\u0438\\u043d\\u0441\\u0442\\u0432\\u0435\\u043d\\u043d\\u043e\\u0433\\u043e \\u043f\\u043e\\u0441\\u0442\\u0430\\u0432\\u0449\\u0438\\u043a\\u0430 (\\u043f\\u043e\\u0434\\u0440\\u044f\\u0434\\u0447\\u0438\\u043a\\u0430, \\u0438\\u0441\\u043f\\u043e\\u043b\\u043d\\u0438\\u0442\\u0435\\u043b\\u044f)\", \"\\u0417\\u0430\\u043f\\u0440\\u043e\\u0441 \\u043a\\u043e\\u0442\\u0438\\u0440\\u043e\\u0432\\u043e\\u043a\", \"\\u0417\\u0430\\u043f\\u0440\\u043e\\u0441 \\u043a\\u043e\\u0442\\u0438\\u0440\\u043e\\u0432\\u043e\\u043a \\u0432 \\u044d\\u043b\\u0435\\u043a\\u0442\\u0440\\u043e\\u043d\\u043d\\u043e\\u0439 \\u0444\\u043e\\u0440\\u043c\\u0435\", \"\\u041a\\u043e\\u043d\\u043a\\u0443\\u0440\\u0441 c \\u043e\\u0433\\u0440\\u0430\\u043d\\u0438\\u0447\\u0435\\u043d\\u043d\\u044b\\u043c \\u0443\\u0447\\u0430\\u0441\\u0442\\u0438\\u0435\\u043c\", \"\\u041a\\u043e\\u043d\\u043a\\u0443\\u0440\\u0441 \\u0441 \\u043e\\u0433\\u0440\\u0430\\u043d\\u0438\\u0447\\u0435\\u043d\\u043d\\u044b\\u043c \\u0443\\u0447\\u0430\\u0441\\u0442\\u0438\\u0435\\u043c \\u0432 \\u044d\\u043b\\u0435\\u043a\\u0442\\u0440\\u043e\\u043d\\u043d\\u043e\\u0439 \\u0444\\u043e\\u0440\\u043c\\u0435\", \"\\u041e\\u0442\\u043a\\u0440\\u044b\\u0442\\u044b\\u0439 \\u043a\\u043e\\u043d\\u043a\\u0443\\u0440\\u0441 \\u0432 \\u044d\\u043b\\u0435\\u043a\\u0442\\u0440\\u043e\\u043d\\u043d\\u043e\\u0439 \\u0444\\u043e\\u0440\\u043c\\u0435\", \"\\u0421\\u043f\\u043e\\u0441\\u043e\\u0431 \\u043e\\u043f\\u0440\\u0435\\u0434\\u0435\\u043b\\u0435\\u043d\\u0438\\u044f \\u043f\\u043e\\u0441\\u0442\\u0430\\u0432\\u0449\\u0438\\u043a\\u0430 (\\u043f\\u043e\\u0434\\u0440\\u044f\\u0434\\u0447\\u0438\\u043a\\u0430, \\u0438\\u0441\\u043f\\u043e\\u043b\\u043d\\u0438\\u0442\\u0435\\u043b\\u044f), \\u0443\\u0441\\u0442\\u0430\\u043d\\u043e\\u0432\\u043b\\u0435\\u043d\\u043d\\u044b\\u0439 \\u041f\\u0440\\u0430\\u0432\\u0438\\u0442\\u0435\\u043b\\u044c\\u0441\\u0442\\u0432\\u043e\\u043c \\u0420\\u043e\\u0441\\u0441\\u0438\\u0439\\u0441\\u043a\\u043e\\u0439 \\u0424\\u0435\\u0434\\u0435\\u0440\\u0430\\u0446\\u0438\\u0438 \\u0432 \\u0441\\u043e\\u043e\\u0442\\u0432\\u0435\\u0442\\u0441\\u0442\\u0432\\u0438\\u0438 \\u0441\\u043e \\u0441\\u0442\\u0430\\u0442\\u044c\\u0435\\u0439 111 \\u0424\\u0435\\u0434\\u0435\\u0440\\u0430\\u043b\\u044c\\u043d\\u043e\\u0433\\u043e \\u0437\\u0430\\u043a\\u043e\\u043d\\u0430 \\u2116 44-\\u0424\\u0417\", \"\\u042d\\u043b\\u0435\\u043a\\u0442\\u0440\\u043e\\u043d\\u043d\\u044b\\u0439 \\u0430\\u0443\\u043a\\u0446\\u0438\\u043e\\u043d\"], \"legendgroup\": \"\", \"name\": \"\", \"showlegend\": true, \"type\": \"pie\", \"values\": [53, 4, 20, 55, 4, 2, 1, 459]}],\n",
              "                        {\"legend\": {\"tracegroupgap\": 0}, \"margin\": {\"t\": 60}, \"piecolorway\": [\"rgb(103,0,31)\", \"rgb(178,24,43)\", \"rgb(214,96,77)\", \"rgb(244,165,130)\", \"rgb(253,219,199)\", \"rgb(247,247,247)\", \"rgb(209,229,240)\", \"rgb(146,197,222)\", \"rgb(67,147,195)\", \"rgb(33,102,172)\", \"rgb(5,48,97)\"], \"template\": {\"data\": {\"bar\": [{\"error_x\": {\"color\": \"#2a3f5f\"}, \"error_y\": {\"color\": \"#2a3f5f\"}, \"marker\": {\"line\": {\"color\": \"#E5ECF6\", \"width\": 0.5}}, \"type\": \"bar\"}], \"barpolar\": [{\"marker\": {\"line\": {\"color\": \"#E5ECF6\", \"width\": 0.5}}, \"type\": \"barpolar\"}], \"carpet\": [{\"aaxis\": {\"endlinecolor\": \"#2a3f5f\", \"gridcolor\": \"white\", \"linecolor\": \"white\", \"minorgridcolor\": \"white\", \"startlinecolor\": \"#2a3f5f\"}, \"baxis\": {\"endlinecolor\": \"#2a3f5f\", \"gridcolor\": \"white\", \"linecolor\": \"white\", \"minorgridcolor\": \"white\", \"startlinecolor\": \"#2a3f5f\"}, \"type\": \"carpet\"}], \"choropleth\": [{\"colorbar\": {\"outlinewidth\": 0, \"ticks\": \"\"}, \"type\": \"choropleth\"}], \"contour\": [{\"colorbar\": {\"outlinewidth\": 0, \"ticks\": \"\"}, \"colorscale\": [[0.0, \"#0d0887\"], [0.1111111111111111, \"#46039f\"], [0.2222222222222222, \"#7201a8\"], [0.3333333333333333, \"#9c179e\"], [0.4444444444444444, \"#bd3786\"], [0.5555555555555556, \"#d8576b\"], [0.6666666666666666, \"#ed7953\"], [0.7777777777777778, \"#fb9f3a\"], [0.8888888888888888, \"#fdca26\"], [1.0, \"#f0f921\"]], \"type\": \"contour\"}], \"contourcarpet\": [{\"colorbar\": {\"outlinewidth\": 0, \"ticks\": \"\"}, \"type\": \"contourcarpet\"}], \"heatmap\": [{\"colorbar\": {\"outlinewidth\": 0, \"ticks\": \"\"}, \"colorscale\": [[0.0, \"#0d0887\"], [0.1111111111111111, \"#46039f\"], [0.2222222222222222, \"#7201a8\"], [0.3333333333333333, \"#9c179e\"], [0.4444444444444444, \"#bd3786\"], [0.5555555555555556, \"#d8576b\"], [0.6666666666666666, \"#ed7953\"], [0.7777777777777778, \"#fb9f3a\"], [0.8888888888888888, \"#fdca26\"], [1.0, \"#f0f921\"]], \"type\": \"heatmap\"}], \"heatmapgl\": [{\"colorbar\": {\"outlinewidth\": 0, \"ticks\": \"\"}, \"colorscale\": [[0.0, \"#0d0887\"], [0.1111111111111111, \"#46039f\"], [0.2222222222222222, \"#7201a8\"], [0.3333333333333333, \"#9c179e\"], [0.4444444444444444, \"#bd3786\"], [0.5555555555555556, \"#d8576b\"], [0.6666666666666666, \"#ed7953\"], [0.7777777777777778, \"#fb9f3a\"], [0.8888888888888888, \"#fdca26\"], [1.0, \"#f0f921\"]], \"type\": \"heatmapgl\"}], \"histogram\": [{\"marker\": {\"colorbar\": {\"outlinewidth\": 0, \"ticks\": \"\"}}, \"type\": \"histogram\"}], \"histogram2d\": [{\"colorbar\": {\"outlinewidth\": 0, \"ticks\": \"\"}, \"colorscale\": [[0.0, \"#0d0887\"], [0.1111111111111111, \"#46039f\"], [0.2222222222222222, \"#7201a8\"], [0.3333333333333333, \"#9c179e\"], [0.4444444444444444, \"#bd3786\"], [0.5555555555555556, \"#d8576b\"], [0.6666666666666666, \"#ed7953\"], [0.7777777777777778, \"#fb9f3a\"], [0.8888888888888888, \"#fdca26\"], [1.0, \"#f0f921\"]], \"type\": \"histogram2d\"}], \"histogram2dcontour\": [{\"colorbar\": {\"outlinewidth\": 0, \"ticks\": \"\"}, \"colorscale\": [[0.0, \"#0d0887\"], [0.1111111111111111, \"#46039f\"], [0.2222222222222222, \"#7201a8\"], [0.3333333333333333, \"#9c179e\"], [0.4444444444444444, \"#bd3786\"], [0.5555555555555556, \"#d8576b\"], [0.6666666666666666, \"#ed7953\"], [0.7777777777777778, \"#fb9f3a\"], [0.8888888888888888, \"#fdca26\"], [1.0, \"#f0f921\"]], \"type\": \"histogram2dcontour\"}], \"mesh3d\": [{\"colorbar\": {\"outlinewidth\": 0, \"ticks\": \"\"}, \"type\": \"mesh3d\"}], \"parcoords\": [{\"line\": {\"colorbar\": {\"outlinewidth\": 0, \"ticks\": \"\"}}, \"type\": \"parcoords\"}], \"pie\": [{\"automargin\": true, \"type\": \"pie\"}], \"scatter\": [{\"marker\": {\"colorbar\": {\"outlinewidth\": 0, \"ticks\": \"\"}}, \"type\": \"scatter\"}], \"scatter3d\": [{\"line\": {\"colorbar\": {\"outlinewidth\": 0, \"ticks\": \"\"}}, \"marker\": {\"colorbar\": {\"outlinewidth\": 0, \"ticks\": \"\"}}, \"type\": \"scatter3d\"}], \"scattercarpet\": [{\"marker\": {\"colorbar\": {\"outlinewidth\": 0, \"ticks\": \"\"}}, \"type\": \"scattercarpet\"}], \"scattergeo\": [{\"marker\": {\"colorbar\": {\"outlinewidth\": 0, \"ticks\": \"\"}}, \"type\": \"scattergeo\"}], \"scattergl\": [{\"marker\": {\"colorbar\": {\"outlinewidth\": 0, \"ticks\": \"\"}}, \"type\": \"scattergl\"}], \"scattermapbox\": [{\"marker\": {\"colorbar\": {\"outlinewidth\": 0, \"ticks\": \"\"}}, \"type\": \"scattermapbox\"}], \"scatterpolar\": [{\"marker\": {\"colorbar\": {\"outlinewidth\": 0, \"ticks\": \"\"}}, \"type\": \"scatterpolar\"}], \"scatterpolargl\": [{\"marker\": {\"colorbar\": {\"outlinewidth\": 0, \"ticks\": \"\"}}, \"type\": \"scatterpolargl\"}], \"scatterternary\": [{\"marker\": {\"colorbar\": {\"outlinewidth\": 0, \"ticks\": \"\"}}, \"type\": \"scatterternary\"}], \"surface\": [{\"colorbar\": {\"outlinewidth\": 0, \"ticks\": \"\"}, \"colorscale\": [[0.0, \"#0d0887\"], [0.1111111111111111, \"#46039f\"], [0.2222222222222222, \"#7201a8\"], [0.3333333333333333, \"#9c179e\"], [0.4444444444444444, \"#bd3786\"], [0.5555555555555556, \"#d8576b\"], [0.6666666666666666, \"#ed7953\"], [0.7777777777777778, \"#fb9f3a\"], [0.8888888888888888, \"#fdca26\"], [1.0, \"#f0f921\"]], \"type\": \"surface\"}], \"table\": [{\"cells\": {\"fill\": {\"color\": \"#EBF0F8\"}, \"line\": {\"color\": \"white\"}}, \"header\": {\"fill\": {\"color\": \"#C8D4E3\"}, \"line\": {\"color\": \"white\"}}, \"type\": \"table\"}]}, \"layout\": {\"annotationdefaults\": {\"arrowcolor\": \"#2a3f5f\", \"arrowhead\": 0, \"arrowwidth\": 1}, \"coloraxis\": {\"colorbar\": {\"outlinewidth\": 0, \"ticks\": \"\"}}, \"colorscale\": {\"diverging\": [[0, \"#8e0152\"], [0.1, \"#c51b7d\"], [0.2, \"#de77ae\"], [0.3, \"#f1b6da\"], [0.4, \"#fde0ef\"], [0.5, \"#f7f7f7\"], [0.6, \"#e6f5d0\"], [0.7, \"#b8e186\"], [0.8, \"#7fbc41\"], [0.9, \"#4d9221\"], [1, \"#276419\"]], \"sequential\": [[0.0, \"#0d0887\"], [0.1111111111111111, \"#46039f\"], [0.2222222222222222, \"#7201a8\"], [0.3333333333333333, \"#9c179e\"], [0.4444444444444444, \"#bd3786\"], [0.5555555555555556, \"#d8576b\"], [0.6666666666666666, \"#ed7953\"], [0.7777777777777778, \"#fb9f3a\"], [0.8888888888888888, \"#fdca26\"], [1.0, \"#f0f921\"]], \"sequentialminus\": [[0.0, \"#0d0887\"], [0.1111111111111111, \"#46039f\"], [0.2222222222222222, \"#7201a8\"], [0.3333333333333333, \"#9c179e\"], [0.4444444444444444, \"#bd3786\"], [0.5555555555555556, \"#d8576b\"], [0.6666666666666666, \"#ed7953\"], [0.7777777777777778, \"#fb9f3a\"], [0.8888888888888888, \"#fdca26\"], [1.0, \"#f0f921\"]]}, \"colorway\": [\"#636efa\", \"#EF553B\", \"#00cc96\", \"#ab63fa\", \"#FFA15A\", \"#19d3f3\", \"#FF6692\", \"#B6E880\", \"#FF97FF\", \"#FECB52\"], \"font\": {\"color\": \"#2a3f5f\"}, \"geo\": {\"bgcolor\": \"white\", \"lakecolor\": \"white\", \"landcolor\": \"#E5ECF6\", \"showlakes\": true, \"showland\": true, \"subunitcolor\": \"white\"}, \"hoverlabel\": {\"align\": \"left\"}, \"hovermode\": \"closest\", \"mapbox\": {\"style\": \"light\"}, \"paper_bgcolor\": \"white\", \"plot_bgcolor\": \"#E5ECF6\", \"polar\": {\"angularaxis\": {\"gridcolor\": \"white\", \"linecolor\": \"white\", \"ticks\": \"\"}, \"bgcolor\": \"#E5ECF6\", \"radialaxis\": {\"gridcolor\": \"white\", \"linecolor\": \"white\", \"ticks\": \"\"}}, \"scene\": {\"xaxis\": {\"backgroundcolor\": \"#E5ECF6\", \"gridcolor\": \"white\", \"gridwidth\": 2, \"linecolor\": \"white\", \"showbackground\": true, \"ticks\": \"\", \"zerolinecolor\": \"white\"}, \"yaxis\": {\"backgroundcolor\": \"#E5ECF6\", \"gridcolor\": \"white\", \"gridwidth\": 2, \"linecolor\": \"white\", \"showbackground\": true, \"ticks\": \"\", \"zerolinecolor\": \"white\"}, \"zaxis\": {\"backgroundcolor\": \"#E5ECF6\", \"gridcolor\": \"white\", \"gridwidth\": 2, \"linecolor\": \"white\", \"showbackground\": true, \"ticks\": \"\", \"zerolinecolor\": \"white\"}}, \"shapedefaults\": {\"line\": {\"color\": \"#2a3f5f\"}}, \"ternary\": {\"aaxis\": {\"gridcolor\": \"white\", \"linecolor\": \"white\", \"ticks\": \"\"}, \"baxis\": {\"gridcolor\": \"white\", \"linecolor\": \"white\", \"ticks\": \"\"}, \"bgcolor\": \"#E5ECF6\", \"caxis\": {\"gridcolor\": \"white\", \"linecolor\": \"white\", \"ticks\": \"\"}}, \"title\": {\"x\": 0.05}, \"xaxis\": {\"automargin\": true, \"gridcolor\": \"white\", \"linecolor\": \"white\", \"ticks\": \"\", \"title\": {\"standoff\": 15}, \"zerolinecolor\": \"white\", \"zerolinewidth\": 2}, \"yaxis\": {\"automargin\": true, \"gridcolor\": \"white\", \"linecolor\": \"white\", \"ticks\": \"\", \"title\": {\"standoff\": 15}, \"zerolinecolor\": \"white\", \"zerolinewidth\": 2}}}},\n",
              "                        {\"responsive\": true}\n",
              "                    ).then(function(){\n",
              "                            \n",
              "var gd = document.getElementById('2a6053cd-024e-4a3a-b62a-c4a88088b117');\n",
              "var x = new MutationObserver(function (mutations, observer) {{\n",
              "        var display = window.getComputedStyle(gd).display;\n",
              "        if (!display || display === 'none') {{\n",
              "            console.log([gd, 'removed!']);\n",
              "            Plotly.purge(gd);\n",
              "            observer.disconnect();\n",
              "        }}\n",
              "}});\n",
              "\n",
              "// Listen for the removal of the full notebook cells\n",
              "var notebookContainer = gd.closest('#notebook-container');\n",
              "if (notebookContainer) {{\n",
              "    x.observe(notebookContainer, {childList: true});\n",
              "}}\n",
              "\n",
              "// Listen for the clearing of the current output cell\n",
              "var outputEl = gd.closest('.output');\n",
              "if (outputEl) {{\n",
              "    x.observe(outputEl, {childList: true});\n",
              "}}\n",
              "\n",
              "                        })\n",
              "                };\n",
              "                \n",
              "            </script>\n",
              "        </div>\n",
              "</body>\n",
              "</html>"
            ]
          },
          "metadata": {
            "tags": []
          }
        }
      ]
    },
    {
      "cell_type": "markdown",
      "metadata": {
        "id": "BPBeka918yrX"
      },
      "source": [
        "Чаще всего для закупки соли проводят электронный аукцион. Следующими по популярности способами размещения заказа являются конкурс с ограниченным участием и закупка у единственного поставщика.\n",
        "\n",
        "\n",
        "**2.** Во-вторых, нужно определить общую стоимость заказа, умножив цену за килограмм на объем закупки."
      ]
    },
    {
      "cell_type": "code",
      "metadata": {
        "colab": {
          "base_uri": "https://localhost:8080/",
          "height": 368
        },
        "id": "vkpwovSP-6JI",
        "outputId": "8ff9f967-87d6-4352-d8d5-8b3a6f028a1d"
      },
      "source": [
        "df['value'] = df['price'] * df['volume']\n",
        "df.sort_values('volume', ascending=False).head()"
      ],
      "execution_count": null,
      "outputs": [
        {
          "output_type": "execute_result",
          "data": {
            "text/html": [
              "<div>\n",
              "<style scoped>\n",
              "    .dataframe tbody tr th:only-of-type {\n",
              "        vertical-align: middle;\n",
              "    }\n",
              "\n",
              "    .dataframe tbody tr th {\n",
              "        vertical-align: top;\n",
              "    }\n",
              "\n",
              "    .dataframe thead th {\n",
              "        text-align: right;\n",
              "    }\n",
              "</style>\n",
              "<table border=\"1\" class=\"dataframe\">\n",
              "  <thead>\n",
              "    <tr style=\"text-align: right;\">\n",
              "      <th></th>\n",
              "      <th>number</th>\n",
              "      <th>customer</th>\n",
              "      <th>region</th>\n",
              "      <th>method</th>\n",
              "      <th>date</th>\n",
              "      <th>contruct_id</th>\n",
              "      <th>product</th>\n",
              "      <th>code</th>\n",
              "      <th>price</th>\n",
              "      <th>volume</th>\n",
              "      <th>executor</th>\n",
              "      <th>year</th>\n",
              "      <th>value</th>\n",
              "    </tr>\n",
              "  </thead>\n",
              "  <tbody>\n",
              "    <tr>\n",
              "      <th>67</th>\n",
              "      <td>'1526204221519000179'</td>\n",
              "      <td>ГЛАВНОЕ УПРАВЛЕНИЕ ФЕДЕРАЛЬНОЙ СЛУЖБЫ ИСПОЛНЕН...</td>\n",
              "      <td>52.0</td>\n",
              "      <td>Электронный аукцион</td>\n",
              "      <td>2019-06-18</td>\n",
              "      <td>'03321000018190001570001/290'</td>\n",
              "      <td>Соль</td>\n",
              "      <td>10.84.30.130</td>\n",
              "      <td>7.02</td>\n",
              "      <td>80000.0</td>\n",
              "      <td>ОБЩЕСТВО С ОГРАНИЧЕННОЙ ОТВЕТСТВЕННОСТЬЮ \"НИЖЕ...</td>\n",
              "      <td>2019</td>\n",
              "      <td>561600.0</td>\n",
              "    </tr>\n",
              "    <tr>\n",
              "      <th>52</th>\n",
              "      <td>'1165400456619000110'</td>\n",
              "      <td>УПРАВЛЕНИЕ ФЕДЕРАЛЬНОЙ СЛУЖБЫ ИСПОЛНЕНИЯ НАКАЗ...</td>\n",
              "      <td>16.0</td>\n",
              "      <td>Электронный аукцион</td>\n",
              "      <td>2019-06-27</td>\n",
              "      <td>'56/36-19/39/197-19'</td>\n",
              "      <td>Соль пищевая ГОСТ Р 51574-2018 высшего сорта, ...</td>\n",
              "      <td>10.84.30.130</td>\n",
              "      <td>6.97</td>\n",
              "      <td>68000.0</td>\n",
              "      <td>ОБЩЕСТВО С ОГРАНИЧЕННОЙ ОТВЕТСТВЕННОСТЬЮ \"ИВИ\"</td>\n",
              "      <td>2019</td>\n",
              "      <td>473960.0</td>\n",
              "    </tr>\n",
              "    <tr>\n",
              "      <th>2546</th>\n",
              "      <td>'1772237786619000327'</td>\n",
              "      <td>ФЕДЕРАЛЬНАЯ СЛУЖБА ВОЙСК НАЦИОНАЛЬНОЙ ГВАРДИИ ...</td>\n",
              "      <td>77.0</td>\n",
              "      <td>Закупка у единственного поставщика (подрядчика...</td>\n",
              "      <td>2019-07-16</td>\n",
              "      <td>'0195400000219000415'</td>\n",
              "      <td>Соль поваренная пищевая (с добавлением йода)</td>\n",
              "      <td>10.84.30.130</td>\n",
              "      <td>18.00</td>\n",
              "      <td>38500.0</td>\n",
              "      <td>ОБЩЕСТВО С ОГРАНИЧЕННОЙ ОТВЕТСТВЕННОСТЬЮ «МЯСО...</td>\n",
              "      <td>2019</td>\n",
              "      <td>693000.0</td>\n",
              "    </tr>\n",
              "    <tr>\n",
              "      <th>411</th>\n",
              "      <td>'1673001687919000118'</td>\n",
              "      <td>УПРАВЛЕНИЕ ФЕДЕРАЛЬНОЙ СЛУЖБЫ ИСПОЛНЕНИЯ НАКАЗ...</td>\n",
              "      <td>67.0</td>\n",
              "      <td>Запрос котировок в электронной форме</td>\n",
              "      <td>2019-05-17</td>\n",
              "      <td>'223'</td>\n",
              "      <td>Соль  поваренная пищевая, не ниже 1 сорта ГОСТ...</td>\n",
              "      <td>10.84.30.130</td>\n",
              "      <td>8.46</td>\n",
              "      <td>33000.0</td>\n",
              "      <td>ОБЩЕСТВО С ОГРАНИЧЕННОЙ ОТВЕТСТВЕННОСТЬЮ \"ХИРО...</td>\n",
              "      <td>2019</td>\n",
              "      <td>279180.0</td>\n",
              "    </tr>\n",
              "    <tr>\n",
              "      <th>1110</th>\n",
              "      <td>'1772237786619000325'</td>\n",
              "      <td>ФЕДЕРАЛЬНАЯ СЛУЖБА ВОЙСК НАЦИОНАЛЬНОЙ ГВАРДИИ ...</td>\n",
              "      <td>77.0</td>\n",
              "      <td>Закупка у единственного поставщика (подрядчика...</td>\n",
              "      <td>2019-07-16</td>\n",
              "      <td>'0195400000219000414'</td>\n",
              "      <td>Соль поваренная пищевая (с добавлением йода)</td>\n",
              "      <td>10.84.30.130</td>\n",
              "      <td>10.40</td>\n",
              "      <td>17500.0</td>\n",
              "      <td>ОБЩЕСТВО С ОГРАНИЧЕННОЙ ОТВЕТСТВЕННОСТЬЮ «МЯСО...</td>\n",
              "      <td>2019</td>\n",
              "      <td>182000.0</td>\n",
              "    </tr>\n",
              "  </tbody>\n",
              "</table>\n",
              "</div>"
            ],
            "text/plain": [
              "                     number  ...     value\n",
              "67    '1526204221519000179'  ...  561600.0\n",
              "52    '1165400456619000110'  ...  473960.0\n",
              "2546  '1772237786619000327'  ...  693000.0\n",
              "411   '1673001687919000118'  ...  279180.0\n",
              "1110  '1772237786619000325'  ...  182000.0\n",
              "\n",
              "[5 rows x 13 columns]"
            ]
          },
          "metadata": {
            "tags": []
          },
          "execution_count": 13
        }
      ]
    },
    {
      "cell_type": "markdown",
      "metadata": {
        "id": "Hh0CHBXpEUjJ"
      },
      "source": [
        "Можно сдедать вывод, что самые больше закупки осуществляются федеральными службами исполнения наказаний и войск национальной гвардии."
      ]
    },
    {
      "cell_type": "markdown",
      "metadata": {
        "id": "WLKMJMELD4eC"
      },
      "source": [
        "**3.** В-третьих, целесообразно выявить корреляцию цены и даты контракты, чтобы оценить сезонность продукта."
      ]
    },
    {
      "cell_type": "code",
      "metadata": {
        "colab": {
          "base_uri": "https://localhost:8080/",
          "height": 542
        },
        "id": "rbybtt9iCVH-",
        "outputId": "72916733-a4c5-43dc-9b38-d3ddefbdcbf0"
      },
      "source": [
        "fig = px.scatter(df, x='date', y='price', hover_data=['volume'], color='volume', title='Сезонность продукта')\n",
        "fig.show()"
      ],
      "execution_count": null,
      "outputs": [
        {
          "output_type": "display_data",
          "data": {
            "text/html": [
              "<html>\n",
              "<head><meta charset=\"utf-8\" /></head>\n",
              "<body>\n",
              "    <div>\n",
              "            <script src=\"https://cdnjs.cloudflare.com/ajax/libs/mathjax/2.7.5/MathJax.js?config=TeX-AMS-MML_SVG\"></script><script type=\"text/javascript\">if (window.MathJax) {MathJax.Hub.Config({SVG: {font: \"STIX-Web\"}});}</script>\n",
              "                <script type=\"text/javascript\">window.PlotlyConfig = {MathJaxConfig: 'local'};</script>\n",
              "        <script src=\"https://cdn.plot.ly/plotly-latest.min.js\"></script>    \n",
              "            <div id=\"157968d8-e00d-4403-8705-ec6f3b53a553\" class=\"plotly-graph-div\" style=\"height:525px; width:100%;\"></div>\n",
              "            <script type=\"text/javascript\">\n",
              "                \n",
              "                    window.PLOTLYENV=window.PLOTLYENV || {};\n",
              "                    \n",
              "                if (document.getElementById(\"157968d8-e00d-4403-8705-ec6f3b53a553\")) {\n",
              "                    Plotly.newPlot(\n",
              "                        '157968d8-e00d-4403-8705-ec6f3b53a553',\n",
              "                        [{\"customdata\": [[224.47], [630.0], [108.0], [70.0], [4299.0], [2980.0], [100.0], [84.0], [800.0], [68000.0], [80000.0], [199.0], [34.0], [40.0], [200.0], [49.0], [539.0], [50.0], [104.0], [200.0], [536.0], [1547.2], [20.0], [92.0], [75.0], [500.0], [199.0], [165.0], [99.0], [199.0], [18.0], [20.0], [100.0], [300.0], [100.0], [317.0], [983.0], [15.0], [70.0], [100.0], [200.0], [300.0], [400.0], [3800.0], [33.0], [15.0], [30.0], [1499.0], [7975.0], [22.0], [34.0], [100.0], [69.0], [33000.0], [104.0], [1100.0], [1250.0], [1800.0], [2100.0], [219.0], [100.0], [42.0], [69.0], [300.0], [50.0], [499.0], [76.0], [51.0], [100.0], [250.0], [600.0], [2000.0], [23.0], [45.0], [60.0], [80.0], [30.0], [50.0], [3300.0], [87.0], [8.0], [9.95], [15.0], [15.0], [18.0], [20.0], [45.0], [48.0], [65.0], [70.0], [70.0], [80.0], [100.0], [126.0], [130.0], [150.0], [160.0], [240.0], [249.0], [6.0], [59.0], [35.0], [100.0], [79.0], [70.0], [99.0], [110.0], [250.0], [17.0], [23.0], [23.0], [25.0], [30.0], [32.0], [35.0], [40.0], [48.0], [59.0], [68.0], [85.0], [146.0], [161.0], [410.0], [50.0], [80.0], [6.0], [11.0], [38.0], [60.0], [60.0], [70.0], [90.0], [179.0], [25.0], [30.0], [32.0], [60.0], [100.0], [160.0], [160.0], [300.0], [500.0], [1068.3], [1500.0], [25.0], [100.0], [248.0], [50.0], [42.0], [70.0], [2500.0], [250.0], [30.0], [50.0], [20.0], [175.0], [179.0], [270.0], [110.0], [6.0], [9.0], [10.0], [15.0], [20.0], [25.0], [70.0], [120.0], [147.0], [7.0], [24.0], [25.0], [27.0], [44.57], [45.0], [50.0], [50.0], [80.0], [94.5], [100.0], [100.0], [110.0], [150.0], [210.0], [250.0], [265.0], [270.0], [300.0], [310.0], [500.0], [510.8], [1349.41], [1599.0], [270.0], [100.0], [70.0], [350.0], [149.0], [50.0], [49.0], [50.0], [6.0], [10.0], [2427.0], [90.0], [10.0], [29.0], [35.0], [50.0], [80.0], [150.0], [189.0], [17500.0], [100.0], [15.0], [17.0], [50.0], [170.0], [250.0], [200.0], [50.0], [50.0], [10.0], [45.0], [250.0], [50.0], [19.0], [36.0], [125.0], [13.0], [20.0], [24.0], [39.0], [79.0], [81.0], [244.0], [10.0], [15.0], [18.0], [20.0], [20.0], [20.0], [22.0], [30.0], [30.0], [30.0], [30.0], [30.0], [36.0], [45.0], [50.0], [60.0], [100.0], [350.0], [80.0], [30.0], [80.0], [30.0], [75.0], [90.0], [150.0], [186.0], [9.0], [10.0], [19.0], [20.0], [49.5], [50.0], [50.0], [50.0], [63.0], [72.0], [80.0], [80.0], [110.0], [120.0], [195.0], [50.0], [49.995462], [69.9937], [7.0], [190.0], [1500.0], [799.0], [41.0], [15.0], [80.0], [100.0], [28.0], [1005.3], [23.0], [650.0], [25.0], [799.0], [200.0], [550.0], [20.0], [48.0], [50.0], [143.0], [500.0], [60.0], [32.0], [70.0], [10.0], [21.0], [25.0], [25.0], [30.0], [40.0], [40.0], [45.0], [50.0], [60.0], [70.0], [89.0], [100.0], [100.0], [100.0], [101.2], [108.0], [132.0], [138.6], [150.0], [160.0], [163.0], [203.0], [212.0], [233.0], [245.0], [250.0], [252.0], [254.0], [266.0], [277.0], [277.0], [300.0], [313.2], [365.0], [490.0], [549.0], [10.0], [12.5], [20.0], [22.0], [24.0], [25.0], [26.0], [28.0], [29.0], [29.0], [35.0], [1430.0], [160.0], [37.4], [8.0], [30.0], [15.0], [20.0], [23.0], [24.0], [26.0], [27.0], [27.0], [28.0], [29.0], [34.0], [34.0], [35.0], [36.0], [36.0], [39.0], [39.0], [44.0], [47.0], [57.0], [64.0], [64.0], [87.0], [89.0], [89.0], [105.0], [121.0], [132.0], [139.0], [30.0], [100.0], [150.0], [304.0], [1200.0], [50.0], [80.0], [100.0], [168.0], [174.0], [175.0], [180.0], [199.0], [6000.0], [354.0], [60.0], [14.0], [40.0], [50.0], [104.0], [220.0], [350.0], [86.0], [11.0], [96.0], [102.0], [49.0], [20.0], [10.0], [10.0], [39.0], [100.0], [7.0], [7.8], [195.0], [6.0], [8.0], [9.0], [10.0], [11.0], [15.0], [23.0], [49.0], [1113.0], [547.0], [229.0], [999.0], [5.6], [36.5], [49.063], [50.0], [65.0], [76.0], [200.0], [220.0], [312.0], [912.0], [900.0], [23.0], [31.0], [25.0], [25.0], [200.0], [20.0], [30.0], [1573.0], [28.0], [65.0], [14.0], [20.0], [30.0], [50.0], [199.0], [7.0], [300.0], [50.0], [23.0], [26.0], [40.0], [40.0], [61.0], [89.0], [99.0], [150.0], [180.0], [261.0], [319.0], [500.0], [50.0], [50.0], [80.0], [30.0], [316.0], [14.4], [29.0], [29.3], [29.6], [39.2], [50.0], [73.0], [200.0], [20.0], [100.0], [159.0], [316.0], [320.0], [10.0], [25.0], [149.0], [81.0], [200.0], [7.0], [20.0], [15.0], [20.0], [49.0], [84.0], [127.0], [170.0], [230.0], [82.0], [59.0], [150.0], [224.0], [48.0], [100.0], [15.0], [59.0], [6.0], [10.0], [20.0], [20.0], [20.0], [22.0], [26.0], [30.0], [32.0], [38500.0], [15.0], [30.0], [199.0], [49.0], [108.0], [60.0], [429.0], [420.0], [30.0], [100.0], [91.0], [10.5], [15.0], [699.0], [300.0], [52.0], [176.0], [12.7369], [31.0], [39.0], [49.0], [50.6], [52.0], [53.0], [53.0], [58.0], [64.0], [65.0], [69.0], [76.0], [77.0], [78.0], [79.0], [86.0], [99.0], [120.0], [7.0], [10.0], [20.0], [30.0], [30.0], [230.0], [50.0], [338.4], [10.0], [12.0], [22.0], [260.0], [49.0], [280.0], [130.0], [24.0], [28.0], [252.0], [320.0], [185.0], [143.55], [25.0], [45.0], [168.0], [400.0], [126.0], [50.0], [15.0], [80.0], [100.0], [135.0], [230.0], [23.0], [30.0], [10.6], [50.0], [250.0], [100.0], [50.0], [100.0], [35.6], [158.0], [10.0], [10.0]], \"hoverlabel\": {\"namelength\": 0}, \"hovertemplate\": \"date=%{x}<br>price=%{y}<br>volume=%{marker.color}\", \"legendgroup\": \"\", \"marker\": {\"color\": [224.47, 630.0, 108.0, 70.0, 4299.0, 2980.0, 100.0, 84.0, 800.0, 68000.0, 80000.0, 199.0, 34.0, 40.0, 200.0, 49.0, 539.0, 50.0, 104.0, 200.0, 536.0, 1547.2, 20.0, 92.0, 75.0, 500.0, 199.0, 165.0, 99.0, 199.0, 18.0, 20.0, 100.0, 300.0, 100.0, 317.0, 983.0, 15.0, 70.0, 100.0, 200.0, 300.0, 400.0, 3800.0, 33.0, 15.0, 30.0, 1499.0, 7975.0, 22.0, 34.0, 100.0, 69.0, 33000.0, 104.0, 1100.0, 1250.0, 1800.0, 2100.0, 219.0, 100.0, 42.0, 69.0, 300.0, 50.0, 499.0, 76.0, 51.0, 100.0, 250.0, 600.0, 2000.0, 23.0, 45.0, 60.0, 80.0, 30.0, 50.0, 3300.0, 87.0, 8.0, 9.95, 15.0, 15.0, 18.0, 20.0, 45.0, 48.0, 65.0, 70.0, 70.0, 80.0, 100.0, 126.0, 130.0, 150.0, 160.0, 240.0, 249.0, 6.0, 59.0, 35.0, 100.0, 79.0, 70.0, 99.0, 110.0, 250.0, 17.0, 23.0, 23.0, 25.0, 30.0, 32.0, 35.0, 40.0, 48.0, 59.0, 68.0, 85.0, 146.0, 161.0, 410.0, 50.0, 80.0, 6.0, 11.0, 38.0, 60.0, 60.0, 70.0, 90.0, 179.0, 25.0, 30.0, 32.0, 60.0, 100.0, 160.0, 160.0, 300.0, 500.0, 1068.3, 1500.0, 25.0, 100.0, 248.0, 50.0, 42.0, 70.0, 2500.0, 250.0, 30.0, 50.0, 20.0, 175.0, 179.0, 270.0, 110.0, 6.0, 9.0, 10.0, 15.0, 20.0, 25.0, 70.0, 120.0, 147.0, 7.0, 24.0, 25.0, 27.0, 44.57, 45.0, 50.0, 50.0, 80.0, 94.5, 100.0, 100.0, 110.0, 150.0, 210.0, 250.0, 265.0, 270.0, 300.0, 310.0, 500.0, 510.8, 1349.41, 1599.0, 270.0, 100.0, 70.0, 350.0, 149.0, 50.0, 49.0, 50.0, 6.0, 10.0, 2427.0, 90.0, 10.0, 29.0, 35.0, 50.0, 80.0, 150.0, 189.0, 17500.0, 100.0, 15.0, 17.0, 50.0, 170.0, 250.0, 200.0, 50.0, 50.0, 10.0, 45.0, 250.0, 50.0, 19.0, 36.0, 125.0, 13.0, 20.0, 24.0, 39.0, 79.0, 81.0, 244.0, 10.0, 15.0, 18.0, 20.0, 20.0, 20.0, 22.0, 30.0, 30.0, 30.0, 30.0, 30.0, 36.0, 45.0, 50.0, 60.0, 100.0, 350.0, 80.0, 30.0, 80.0, 30.0, 75.0, 90.0, 150.0, 186.0, 9.0, 10.0, 19.0, 20.0, 49.5, 50.0, 50.0, 50.0, 63.0, 72.0, 80.0, 80.0, 110.0, 120.0, 195.0, 50.0, 49.995462, 69.9937, 7.0, 190.0, 1500.0, 799.0, 41.0, 15.0, 80.0, 100.0, 28.0, 1005.3, 23.0, 650.0, 25.0, 799.0, 200.0, 550.0, 20.0, 48.0, 50.0, 143.0, 500.0, 60.0, 32.0, 70.0, 10.0, 21.0, 25.0, 25.0, 30.0, 40.0, 40.0, 45.0, 50.0, 60.0, 70.0, 89.0, 100.0, 100.0, 100.0, 101.2, 108.0, 132.0, 138.6, 150.0, 160.0, 163.0, 203.0, 212.0, 233.0, 245.0, 250.0, 252.0, 254.0, 266.0, 277.0, 277.0, 300.0, 313.2, 365.0, 490.0, 549.0, 10.0, 12.5, 20.0, 22.0, 24.0, 25.0, 26.0, 28.0, 29.0, 29.0, 35.0, 1430.0, 160.0, 37.4, 8.0, 30.0, 15.0, 20.0, 23.0, 24.0, 26.0, 27.0, 27.0, 28.0, 29.0, 34.0, 34.0, 35.0, 36.0, 36.0, 39.0, 39.0, 44.0, 47.0, 57.0, 64.0, 64.0, 87.0, 89.0, 89.0, 105.0, 121.0, 132.0, 139.0, 30.0, 100.0, 150.0, 304.0, 1200.0, 50.0, 80.0, 100.0, 168.0, 174.0, 175.0, 180.0, 199.0, 6000.0, 354.0, 60.0, 14.0, 40.0, 50.0, 104.0, 220.0, 350.0, 86.0, 11.0, 96.0, 102.0, 49.0, 20.0, 10.0, 10.0, 39.0, 100.0, 7.0, 7.8, 195.0, 6.0, 8.0, 9.0, 10.0, 11.0, 15.0, 23.0, 49.0, 1113.0, 547.0, 229.0, 999.0, 5.6, 36.5, 49.063, 50.0, 65.0, 76.0, 200.0, 220.0, 312.0, 912.0, 900.0, 23.0, 31.0, 25.0, 25.0, 200.0, 20.0, 30.0, 1573.0, 28.0, 65.0, 14.0, 20.0, 30.0, 50.0, 199.0, 7.0, 300.0, 50.0, 23.0, 26.0, 40.0, 40.0, 61.0, 89.0, 99.0, 150.0, 180.0, 261.0, 319.0, 500.0, 50.0, 50.0, 80.0, 30.0, 316.0, 14.4, 29.0, 29.3, 29.6, 39.2, 50.0, 73.0, 200.0, 20.0, 100.0, 159.0, 316.0, 320.0, 10.0, 25.0, 149.0, 81.0, 200.0, 7.0, 20.0, 15.0, 20.0, 49.0, 84.0, 127.0, 170.0, 230.0, 82.0, 59.0, 150.0, 224.0, 48.0, 100.0, 15.0, 59.0, 6.0, 10.0, 20.0, 20.0, 20.0, 22.0, 26.0, 30.0, 32.0, 38500.0, 15.0, 30.0, 199.0, 49.0, 108.0, 60.0, 429.0, 420.0, 30.0, 100.0, 91.0, 10.5, 15.0, 699.0, 300.0, 52.0, 176.0, 12.7369, 31.0, 39.0, 49.0, 50.6, 52.0, 53.0, 53.0, 58.0, 64.0, 65.0, 69.0, 76.0, 77.0, 78.0, 79.0, 86.0, 99.0, 120.0, 7.0, 10.0, 20.0, 30.0, 30.0, 230.0, 50.0, 338.4, 10.0, 12.0, 22.0, 260.0, 49.0, 280.0, 130.0, 24.0, 28.0, 252.0, 320.0, 185.0, 143.55, 25.0, 45.0, 168.0, 400.0, 126.0, 50.0, 15.0, 80.0, 100.0, 135.0, 230.0, 23.0, 30.0, 10.6, 50.0, 250.0, 100.0, 50.0, 100.0, 35.6, 158.0, 10.0, 10.0], \"coloraxis\": \"coloraxis\", \"symbol\": \"circle\"}, \"mode\": \"markers\", \"name\": \"\", \"showlegend\": false, \"type\": \"scatter\", \"x\": [\"2019-06-25T00:00:00\", \"2019-05-06T00:00:00\", \"2019-06-28T00:00:00\", \"2019-04-01T00:00:00\", \"2019-03-29T00:00:00\", \"2019-04-22T00:00:00\", \"2019-03-26T00:00:00\", \"2019-07-08T00:00:00\", \"2019-01-09T00:00:00\", \"2019-06-27T00:00:00\", \"2019-06-18T00:00:00\", \"2019-03-16T00:00:00\", \"2019-11-01T00:00:00\", \"2019-10-17T00:00:00\", \"2019-02-05T00:00:00\", \"2019-08-06T00:00:00\", \"2019-07-02T00:00:00\", \"2019-01-09T00:00:00\", \"2019-03-27T00:00:00\", \"2019-11-11T00:00:00\", \"2019-03-25T00:00:00\", \"2019-06-25T00:00:00\", \"2019-04-22T00:00:00\", \"2019-03-01T00:00:00\", \"2019-10-11T00:00:00\", \"2019-10-11T00:00:00\", \"2019-01-10T00:00:00\", \"2019-07-04T00:00:00\", \"2019-10-29T00:00:00\", \"2019-08-26T00:00:00\", \"2019-03-25T00:00:00\", \"2019-02-20T00:00:00\", \"2019-01-09T00:00:00\", \"2019-03-19T00:00:00\", \"2019-01-09T00:00:00\", \"2019-03-16T00:00:00\", \"2019-03-16T00:00:00\", \"2019-06-18T00:00:00\", \"2019-07-03T00:00:00\", \"2019-08-17T00:00:00\", \"2019-07-22T00:00:00\", \"2019-11-29T00:00:00\", \"2019-09-05T00:00:00\", \"2019-09-03T00:00:00\", \"2019-07-11T00:00:00\", \"2019-01-10T00:00:00\", \"2019-01-10T00:00:00\", \"2019-03-18T00:00:00\", \"2019-05-14T00:00:00\", \"2019-01-10T00:00:00\", \"2019-01-10T00:00:00\", \"2019-03-01T00:00:00\", \"2019-09-20T00:00:00\", \"2019-05-17T00:00:00\", \"2019-01-10T00:00:00\", \"2019-08-13T00:00:00\", \"2019-06-28T00:00:00\", \"2019-10-24T00:00:00\", \"2019-09-16T00:00:00\", \"2019-06-03T00:00:00\", \"2019-05-17T00:00:00\", \"2019-03-25T00:00:00\", \"2019-06-28T00:00:00\", \"2019-03-19T00:00:00\", \"2019-02-04T00:00:00\", \"2019-10-14T00:00:00\", \"2019-02-06T00:00:00\", \"2019-02-06T00:00:00\", \"2019-02-06T00:00:00\", \"2019-06-24T00:00:00\", \"2019-11-29T00:00:00\", \"2019-05-06T00:00:00\", \"2019-02-04T00:00:00\", \"2019-02-04T00:00:00\", \"2019-02-04T00:00:00\", \"2019-06-14T00:00:00\", \"2019-02-04T00:00:00\", \"2019-02-22T00:00:00\", \"2019-10-14T00:00:00\", \"2019-06-17T00:00:00\", \"2019-04-16T00:00:00\", \"2019-03-28T00:00:00\", \"2019-06-28T00:00:00\", \"2019-04-11T00:00:00\", \"2019-05-27T00:00:00\", \"2019-04-19T00:00:00\", \"2019-05-06T00:00:00\", \"2019-07-16T00:00:00\", \"2019-06-20T00:00:00\", \"2019-01-25T00:00:00\", \"2019-08-26T00:00:00\", \"2019-03-19T00:00:00\", \"2019-04-02T00:00:00\", \"2019-02-01T00:00:00\", \"2019-06-26T00:00:00\", \"2019-03-25T00:00:00\", \"2019-06-21T00:00:00\", \"2019-01-30T00:00:00\", \"2019-03-26T00:00:00\", \"2019-05-28T00:00:00\", \"2019-12-16T00:00:00\", \"2019-03-11T00:00:00\", \"2019-06-18T00:00:00\", \"2019-01-10T00:00:00\", \"2019-01-09T00:00:00\", \"2019-03-04T00:00:00\", \"2019-01-11T00:00:00\", \"2019-03-25T00:00:00\", \"2019-01-10T00:00:00\", \"2019-01-10T00:00:00\", \"2019-01-10T00:00:00\", \"2019-01-10T00:00:00\", \"2019-01-10T00:00:00\", \"2019-01-10T00:00:00\", \"2019-01-10T00:00:00\", \"2019-01-10T00:00:00\", \"2019-01-10T00:00:00\", \"2019-01-10T00:00:00\", \"2019-01-10T00:00:00\", \"2019-01-10T00:00:00\", \"2019-01-10T00:00:00\", \"2019-01-10T00:00:00\", \"2019-04-01T00:00:00\", \"2019-05-23T00:00:00\", \"2019-08-02T00:00:00\", \"2019-07-16T00:00:00\", \"2019-07-16T00:00:00\", \"2019-07-16T00:00:00\", \"2019-07-16T00:00:00\", \"2019-07-16T00:00:00\", \"2019-07-16T00:00:00\", \"2019-07-16T00:00:00\", \"2019-04-02T00:00:00\", \"2019-10-31T00:00:00\", \"2019-07-29T00:00:00\", \"2019-10-15T00:00:00\", \"2019-05-06T00:00:00\", \"2019-01-18T00:00:00\", \"2019-11-05T00:00:00\", \"2019-03-25T00:00:00\", \"2019-06-13T00:00:00\", \"2019-04-02T00:00:00\", \"2019-06-20T00:00:00\", \"2019-08-23T00:00:00\", \"2019-07-10T00:00:00\", \"2019-05-13T00:00:00\", \"2019-06-17T00:00:00\", \"2019-01-09T00:00:00\", \"2019-05-03T00:00:00\", \"2019-01-11T00:00:00\", \"2019-08-16T00:00:00\", \"2019-02-26T00:00:00\", \"2019-02-25T00:00:00\", \"2019-03-05T00:00:00\", \"2019-09-17T00:00:00\", \"2019-01-31T00:00:00\", \"2019-07-02T00:00:00\", \"2019-07-25T00:00:00\", \"2019-08-12T00:00:00\", \"2019-03-28T00:00:00\", \"2019-03-28T00:00:00\", \"2019-03-28T00:00:00\", \"2019-03-28T00:00:00\", \"2019-07-22T00:00:00\", \"2019-01-29T00:00:00\", \"2019-01-16T00:00:00\", \"2019-01-15T00:00:00\", \"2019-01-15T00:00:00\", \"2019-05-30T00:00:00\", \"2019-06-18T00:00:00\", \"2019-07-29T00:00:00\", \"2019-04-17T00:00:00\", \"2019-11-19T00:00:00\", \"2019-03-25T00:00:00\", \"2019-02-25T00:00:00\", \"2019-05-31T00:00:00\", \"2019-11-05T00:00:00\", \"2019-12-17T00:00:00\", \"2019-07-15T00:00:00\", \"2019-08-07T00:00:00\", \"2019-06-20T00:00:00\", \"2019-06-03T00:00:00\", \"2019-03-22T00:00:00\", \"2019-07-29T00:00:00\", \"2019-07-09T00:00:00\", \"2019-02-11T00:00:00\", \"2019-03-12T00:00:00\", \"2019-05-20T00:00:00\", \"2019-04-02T00:00:00\", \"2019-09-12T00:00:00\", \"2019-10-29T00:00:00\", \"2019-07-29T00:00:00\", \"2019-07-02T00:00:00\", \"2019-07-03T00:00:00\", \"2019-03-19T00:00:00\", \"2019-03-25T00:00:00\", \"2019-05-31T00:00:00\", \"2019-05-28T00:00:00\", \"2019-02-04T00:00:00\", \"2019-10-07T00:00:00\", \"2019-01-09T00:00:00\", \"2019-02-15T00:00:00\", \"2019-11-18T00:00:00\", \"2019-11-08T00:00:00\", \"2019-08-26T00:00:00\", \"2019-08-20T00:00:00\", \"2019-07-15T00:00:00\", \"2019-07-12T00:00:00\", \"2019-06-28T00:00:00\", \"2019-07-19T00:00:00\", \"2019-07-02T00:00:00\", \"2019-07-16T00:00:00\", \"2019-04-23T00:00:00\", \"2019-01-14T00:00:00\", \"2019-01-14T00:00:00\", \"2019-10-29T00:00:00\", \"2019-01-25T00:00:00\", \"2019-01-14T00:00:00\", \"2019-03-19T00:00:00\", \"2019-04-09T00:00:00\", \"2019-02-19T00:00:00\", \"2019-01-09T00:00:00\", \"2019-11-06T00:00:00\", \"2019-08-26T00:00:00\", \"2019-06-11T00:00:00\", \"2019-04-23T00:00:00\", \"2019-06-24T00:00:00\", \"2019-06-24T00:00:00\", \"2019-04-24T00:00:00\", \"2019-04-25T00:00:00\", \"2019-04-23T00:00:00\", \"2019-04-23T00:00:00\", \"2019-04-23T00:00:00\", \"2019-04-23T00:00:00\", \"2019-04-23T00:00:00\", \"2019-04-23T00:00:00\", \"2019-04-24T00:00:00\", \"2019-04-23T00:00:00\", \"2019-04-25T00:00:00\", \"2019-05-08T00:00:00\", \"2019-04-25T00:00:00\", \"2019-04-23T00:00:00\", \"2019-04-23T00:00:00\", \"2019-04-23T00:00:00\", \"2019-04-23T00:00:00\", \"2019-04-24T00:00:00\", \"2019-04-25T00:00:00\", \"2019-04-22T00:00:00\", \"2019-04-24T00:00:00\", \"2019-04-25T00:00:00\", \"2019-04-24T00:00:00\", \"2019-04-24T00:00:00\", \"2019-04-24T00:00:00\", \"2019-02-25T00:00:00\", \"2019-02-04T00:00:00\", \"2019-02-26T00:00:00\", \"2019-08-20T00:00:00\", \"2019-08-16T00:00:00\", \"2019-08-16T00:00:00\", \"2019-08-16T00:00:00\", \"2019-08-20T00:00:00\", \"2019-05-24T00:00:00\", \"2019-11-05T00:00:00\", \"2019-05-31T00:00:00\", \"2019-06-17T00:00:00\", \"2019-03-11T00:00:00\", \"2019-04-02T00:00:00\", \"2019-07-02T00:00:00\", \"2019-06-25T00:00:00\", \"2019-03-11T00:00:00\", \"2019-03-11T00:00:00\", \"2019-03-12T00:00:00\", \"2019-06-21T00:00:00\", \"2019-03-29T00:00:00\", \"2019-04-09T00:00:00\", \"2019-03-12T00:00:00\", \"2019-06-21T00:00:00\", \"2019-01-23T00:00:00\", \"2019-01-21T00:00:00\", \"2019-05-08T00:00:00\", \"2019-10-07T00:00:00\", \"2019-07-17T00:00:00\", \"2019-04-15T00:00:00\", \"2019-03-12T00:00:00\", \"2019-03-12T00:00:00\", \"2019-05-13T00:00:00\", \"2019-06-13T00:00:00\", \"2019-05-27T00:00:00\", \"2019-03-13T00:00:00\", \"2019-04-16T00:00:00\", \"2019-12-09T00:00:00\", \"2019-03-19T00:00:00\", \"2019-06-24T00:00:00\", \"2019-10-31T00:00:00\", \"2019-03-29T00:00:00\", \"2019-09-23T00:00:00\", \"2019-06-04T00:00:00\", \"2019-05-15T00:00:00\", \"2019-01-09T00:00:00\", \"2019-05-15T00:00:00\", \"2019-03-04T00:00:00\", \"2019-05-27T00:00:00\", \"2019-04-09T00:00:00\", \"2019-09-27T00:00:00\", \"2019-11-05T00:00:00\", \"2019-06-25T00:00:00\", \"2019-04-23T00:00:00\", \"2019-03-26T00:00:00\", \"2019-11-13T00:00:00\", \"2019-03-13T00:00:00\", \"2019-01-15T00:00:00\", \"2019-09-25T00:00:00\", \"2019-04-29T00:00:00\", \"2019-04-09T00:00:00\", \"2019-01-09T00:00:00\", \"2019-10-15T00:00:00\", \"2019-04-09T00:00:00\", \"2019-03-07T00:00:00\", \"2019-01-09T00:00:00\", \"2019-04-09T00:00:00\", \"2019-01-15T00:00:00\", \"2019-01-23T00:00:00\", \"2019-01-09T00:00:00\", \"2019-07-17T00:00:00\", \"2019-01-15T00:00:00\", \"2019-01-15T00:00:00\", \"2019-01-04T00:00:00\", \"2019-01-15T00:00:00\", \"2019-01-15T00:00:00\", \"2019-01-09T00:00:00\", \"2019-01-09T00:00:00\", \"2019-01-15T00:00:00\", \"2019-01-15T00:00:00\", \"2019-01-15T00:00:00\", \"2019-01-15T00:00:00\", \"2019-04-24T00:00:00\", \"2019-01-15T00:00:00\", \"2019-01-09T00:00:00\", \"2019-09-23T00:00:00\", \"2019-03-04T00:00:00\", \"2019-06-27T00:00:00\", \"2019-06-27T00:00:00\", \"2019-06-25T00:00:00\", \"2019-06-27T00:00:00\", \"2019-06-27T00:00:00\", \"2019-07-04T00:00:00\", \"2019-06-27T00:00:00\", \"2019-06-27T00:00:00\", \"2019-06-25T00:00:00\", \"2019-06-28T00:00:00\", \"2019-06-25T00:00:00\", \"2019-07-19T00:00:00\", \"2019-09-09T00:00:00\", \"2019-07-01T00:00:00\", \"2019-05-29T00:00:00\", \"2019-12-11T00:00:00\", \"2019-03-22T00:00:00\", \"2019-03-22T00:00:00\", \"2019-03-22T00:00:00\", \"2019-03-22T00:00:00\", \"2019-03-22T00:00:00\", \"2019-03-22T00:00:00\", \"2019-03-22T00:00:00\", \"2019-03-22T00:00:00\", \"2019-03-22T00:00:00\", \"2019-03-22T00:00:00\", \"2019-03-22T00:00:00\", \"2019-03-22T00:00:00\", \"2019-03-22T00:00:00\", \"2019-03-22T00:00:00\", \"2019-03-22T00:00:00\", \"2019-03-22T00:00:00\", \"2019-03-22T00:00:00\", \"2019-03-22T00:00:00\", \"2019-03-22T00:00:00\", \"2019-03-22T00:00:00\", \"2019-03-22T00:00:00\", \"2019-03-22T00:00:00\", \"2019-03-22T00:00:00\", \"2019-03-22T00:00:00\", \"2019-03-22T00:00:00\", \"2019-03-22T00:00:00\", \"2019-03-22T00:00:00\", \"2019-03-22T00:00:00\", \"2019-05-13T00:00:00\", \"2019-03-22T00:00:00\", \"2019-02-27T00:00:00\", \"2019-03-01T00:00:00\", \"2019-03-06T00:00:00\", \"2019-01-08T00:00:00\", \"2019-01-04T00:00:00\", \"2019-01-07T00:00:00\", \"2019-01-05T00:00:00\", \"2019-01-09T00:00:00\", \"2019-01-06T00:00:00\", \"2019-01-06T00:00:00\", \"2019-01-05T00:00:00\", \"2019-07-15T00:00:00\", \"2019-07-29T00:00:00\", \"2019-09-20T00:00:00\", \"2019-01-09T00:00:00\", \"2019-04-04T00:00:00\", \"2019-04-01T00:00:00\", \"2019-04-23T00:00:00\", \"2019-07-22T00:00:00\", \"2019-05-06T00:00:00\", \"2019-04-24T00:00:00\", \"2019-05-20T00:00:00\", \"2019-04-30T00:00:00\", \"2019-05-14T00:00:00\", \"2019-06-03T00:00:00\", \"2019-04-15T00:00:00\", \"2019-09-02T00:00:00\", \"2019-09-02T00:00:00\", \"2019-06-25T00:00:00\", \"2019-11-12T00:00:00\", \"2019-05-31T00:00:00\", \"2019-02-01T00:00:00\", \"2019-01-15T00:00:00\", \"2019-08-19T00:00:00\", \"2019-08-19T00:00:00\", \"2019-08-19T00:00:00\", \"2019-08-19T00:00:00\", \"2019-08-19T00:00:00\", \"2019-08-16T00:00:00\", \"2019-08-19T00:00:00\", \"2019-03-22T00:00:00\", \"2019-01-21T00:00:00\", \"2019-01-21T00:00:00\", \"2019-02-18T00:00:00\", \"2019-07-24T00:00:00\", \"2019-06-26T00:00:00\", \"2019-04-29T00:00:00\", \"2019-01-21T00:00:00\", \"2019-09-20T00:00:00\", \"2019-11-18T00:00:00\", \"2019-12-18T00:00:00\", \"2019-01-25T00:00:00\", \"2019-03-19T00:00:00\", \"2019-04-23T00:00:00\", \"2019-06-04T00:00:00\", \"2019-10-21T00:00:00\", \"2019-01-10T00:00:00\", \"2019-04-22T00:00:00\", \"2019-07-04T00:00:00\", \"2019-10-07T00:00:00\", \"2019-03-19T00:00:00\", \"2019-07-09T00:00:00\", \"2019-10-29T00:00:00\", \"2019-01-09T00:00:00\", \"2019-03-29T00:00:00\", \"2019-04-01T00:00:00\", \"2019-11-11T00:00:00\", \"2019-07-30T00:00:00\", \"2019-01-09T00:00:00\", \"2019-07-22T00:00:00\", \"2019-03-11T00:00:00\", \"2019-09-02T00:00:00\", \"2019-01-01T00:00:00\", \"2019-03-26T00:00:00\", \"2019-04-09T00:00:00\", \"2019-01-09T00:00:00\", \"2019-04-09T00:00:00\", \"2019-02-26T00:00:00\", \"2019-03-04T00:00:00\", \"2019-03-06T00:00:00\", \"2019-06-06T00:00:00\", \"2019-01-01T00:00:00\", \"2019-01-09T00:00:00\", \"2019-01-10T00:00:00\", \"2019-02-05T00:00:00\", \"2019-01-09T00:00:00\", \"2019-07-16T00:00:00\", \"2019-01-09T00:00:00\", \"2019-01-09T00:00:00\", \"2019-04-12T00:00:00\", \"2019-01-10T00:00:00\", \"2019-04-16T00:00:00\", \"2019-04-12T00:00:00\", \"2019-04-12T00:00:00\", \"2019-04-12T00:00:00\", \"2019-04-14T00:00:00\", \"2019-05-28T00:00:00\", \"2019-01-10T00:00:00\", \"2019-12-26T00:00:00\", \"2019-04-19T00:00:00\", \"2019-01-21T00:00:00\", \"2019-05-27T00:00:00\", \"2019-02-26T00:00:00\", \"2019-04-08T00:00:00\", \"2019-09-30T00:00:00\", \"2019-08-26T00:00:00\", \"2019-01-16T00:00:00\", \"2019-01-09T00:00:00\", \"2019-01-09T00:00:00\", \"2019-11-01T00:00:00\", \"2019-01-09T00:00:00\", \"2019-10-15T00:00:00\", \"2019-11-18T00:00:00\", \"2019-06-27T00:00:00\", \"2019-04-01T00:00:00\", \"2019-04-22T00:00:00\", \"2019-07-08T00:00:00\", \"2019-07-15T00:00:00\", \"2019-05-13T00:00:00\", \"2019-06-25T00:00:00\", \"2019-08-20T00:00:00\", \"2019-01-09T00:00:00\", \"2019-01-09T00:00:00\", \"2019-07-08T00:00:00\", \"2019-01-11T00:00:00\", \"2019-05-06T00:00:00\", \"2019-03-22T00:00:00\", \"2019-05-28T00:00:00\", \"2019-05-28T00:00:00\", \"2019-05-28T00:00:00\", \"2019-10-07T00:00:00\", \"2019-06-21T00:00:00\", \"2019-07-22T00:00:00\", \"2019-05-28T00:00:00\", \"2019-06-11T00:00:00\", \"2019-07-16T00:00:00\", \"2019-01-09T00:00:00\", \"2019-01-15T00:00:00\", \"2019-09-02T00:00:00\", \"2019-01-09T00:00:00\", \"2019-06-18T00:00:00\", \"2019-05-20T00:00:00\", \"2019-12-02T00:00:00\", \"2019-05-14T00:00:00\", \"2019-05-29T00:00:00\", \"2019-01-24T00:00:00\", \"2019-01-14T00:00:00\", \"2019-03-22T00:00:00\", \"2019-01-09T00:00:00\", \"2019-07-09T00:00:00\", \"2019-01-03T00:00:00\", \"2019-11-01T00:00:00\", \"2019-01-11T00:00:00\", \"2019-01-04T00:00:00\", \"2019-01-04T00:00:00\", \"2019-01-04T00:00:00\", \"2019-01-04T00:00:00\", \"2019-01-04T00:00:00\", \"2019-01-04T00:00:00\", \"2019-01-04T00:00:00\", \"2019-01-04T00:00:00\", \"2019-01-04T00:00:00\", \"2019-01-04T00:00:00\", \"2019-01-04T00:00:00\", \"2019-01-04T00:00:00\", \"2019-01-04T00:00:00\", \"2019-01-04T00:00:00\", \"2019-01-04T00:00:00\", \"2019-01-04T00:00:00\", \"2019-01-04T00:00:00\", \"2019-01-04T00:00:00\", \"2019-01-04T00:00:00\", \"2019-10-25T00:00:00\", \"2019-10-28T00:00:00\", \"2019-01-11T00:00:00\", \"2019-12-09T00:00:00\", \"2019-01-09T00:00:00\", \"2019-01-09T00:00:00\", \"2019-11-29T00:00:00\", \"2019-06-20T00:00:00\", \"2019-01-09T00:00:00\", \"2019-01-09T00:00:00\", \"2019-10-10T00:00:00\", \"2019-08-19T00:00:00\", \"2019-09-18T00:00:00\", \"2019-01-10T00:00:00\", \"2019-05-22T00:00:00\", \"2019-07-15T00:00:00\", \"2019-07-15T00:00:00\", \"2019-02-07T00:00:00\", \"2019-02-08T00:00:00\", \"2019-01-29T00:00:00\", \"2019-01-11T00:00:00\", \"2019-01-10T00:00:00\", \"2019-06-05T00:00:00\", \"2019-06-10T00:00:00\", \"2019-03-16T00:00:00\", \"2019-03-13T00:00:00\", \"2019-07-01T00:00:00\", \"2019-06-21T00:00:00\", \"2019-08-27T00:00:00\", \"2019-09-27T00:00:00\", \"2019-06-13T00:00:00\", \"2019-04-19T00:00:00\", \"2019-04-19T00:00:00\", \"2019-04-11T00:00:00\", \"2019-01-11T00:00:00\", \"2019-04-22T00:00:00\", \"2019-03-13T00:00:00\", \"2019-10-21T00:00:00\", \"2019-12-09T00:00:00\", \"2019-07-23T00:00:00\", \"2019-05-06T00:00:00\", \"2019-08-23T00:00:00\", \"2019-04-11T00:00:00\", \"2019-09-02T00:00:00\"], \"xaxis\": \"x\", \"y\": [5.0, 5.0, 5.84, 6.25, 6.25, 6.65, 6.67, 6.87, 6.94, 6.97, 7.02, 7.1, 7.16, 7.2, 7.2, 7.21, 7.29, 7.3, 7.3, 7.3, 7.3, 7.3, 7.4, 7.5, 7.55, 7.64, 7.65, 7.66, 7.68, 7.68, 7.7, 7.86, 7.9, 7.9, 7.95, 7.97, 7.98, 8.0, 8.0, 8.0, 8.0, 8.0, 8.0, 8.0, 8.06, 8.22, 8.22, 8.25, 8.25, 8.28, 8.28, 8.29, 8.46, 8.46, 8.47, 8.5, 8.5, 8.5, 8.5, 8.54, 8.6, 8.63, 8.64, 8.7, 8.75, 8.75, 8.78, 8.79, 8.8, 8.8, 8.8, 8.8, 8.82, 8.82, 8.82, 8.82, 8.83, 8.84, 8.9, 8.94, 9.0, 9.0, 9.0, 9.0, 9.0, 9.0, 9.0, 9.0, 9.0, 9.0, 9.0, 9.0, 9.0, 9.0, 9.0, 9.0, 9.0, 9.0, 9.0, 9.02, 9.05, 9.07, 9.07, 9.14, 9.2, 9.2, 9.2, 9.2, 9.25, 9.25, 9.25, 9.25, 9.25, 9.25, 9.25, 9.25, 9.25, 9.25, 9.25, 9.25, 9.25, 9.25, 9.27, 9.4, 9.4, 9.45, 9.45, 9.45, 9.45, 9.45, 9.45, 9.45, 9.45, 9.5, 9.5, 9.5, 9.5, 9.5, 9.5, 9.5, 9.5, 9.5, 9.5, 9.5, 9.52, 9.55, 9.56, 9.6, 9.67, 9.7, 9.7, 9.73, 9.8, 9.8, 9.84, 9.84, 9.9, 9.9, 9.92, 9.95, 9.95, 9.95, 9.95, 9.95, 9.96, 9.96, 9.96, 9.96, 10.0, 10.0, 10.0, 10.0, 10.0, 10.0, 10.0, 10.0, 10.0, 10.0, 10.0, 10.0, 10.0, 10.0, 10.0, 10.0, 10.0, 10.0, 10.0, 10.0, 10.0, 10.0, 10.0, 10.0, 10.04, 10.07, 10.11, 10.11, 10.13, 10.15, 10.2, 10.23, 10.26, 10.3, 10.3, 10.35, 10.4, 10.4, 10.4, 10.4, 10.4, 10.4, 10.4, 10.4, 10.44, 10.5, 10.5, 10.5, 10.5, 10.5, 10.51, 10.55, 10.58, 10.6, 10.6, 10.63, 10.67, 10.7, 10.72, 10.72, 10.78, 10.8, 10.8, 10.8, 10.8, 10.8, 10.8, 10.84, 10.84, 10.84, 10.84, 10.84, 10.84, 10.84, 10.84, 10.84, 10.84, 10.84, 10.84, 10.84, 10.84, 10.84, 10.84, 10.84, 10.84, 10.95, 10.96, 10.97, 10.99, 10.99, 10.99, 10.99, 10.99, 11.0, 11.0, 11.0, 11.0, 11.0, 11.0, 11.0, 11.0, 11.0, 11.0, 11.0, 11.0, 11.0, 11.0, 11.0, 11.01, 11.02, 11.02, 11.06, 11.09, 11.1, 11.2, 11.31, 11.33, 11.37, 11.41, 11.44, 11.5, 11.55, 11.6, 11.7, 11.72, 11.74, 11.76, 11.79, 11.85, 11.9, 11.9, 11.9, 11.93, 11.96, 11.99, 12.0, 12.0, 12.0, 12.0, 12.0, 12.0, 12.0, 12.0, 12.0, 12.0, 12.0, 12.0, 12.0, 12.0, 12.0, 12.0, 12.0, 12.0, 12.0, 12.0, 12.0, 12.0, 12.0, 12.0, 12.0, 12.0, 12.0, 12.0, 12.0, 12.0, 12.0, 12.0, 12.0, 12.0, 12.0, 12.0, 12.06, 12.13, 12.13, 12.13, 12.13, 12.13, 12.13, 12.13, 12.13, 12.13, 12.13, 12.13, 12.14, 12.15, 12.2, 12.24, 12.33, 12.42, 12.42, 12.42, 12.42, 12.42, 12.42, 12.42, 12.42, 12.42, 12.42, 12.42, 12.42, 12.42, 12.42, 12.42, 12.42, 12.42, 12.42, 12.42, 12.42, 12.42, 12.42, 12.42, 12.42, 12.42, 12.42, 12.42, 12.42, 12.47, 12.5, 12.5, 12.5, 12.5, 12.6, 12.6, 12.6, 12.6, 12.6, 12.6, 12.6, 12.6, 12.6, 12.64, 12.74, 13.0, 13.0, 13.0, 13.0, 13.0, 13.0, 13.13, 13.23, 13.29, 13.4, 13.45, 13.48, 13.5, 13.5, 13.5, 13.57, 13.65, 13.77, 13.8, 13.83, 13.83, 13.83, 13.83, 13.83, 13.83, 13.83, 13.86, 13.87, 13.88, 13.92, 13.93, 14.0, 14.0, 14.0, 14.0, 14.0, 14.0, 14.0, 14.0, 14.0, 14.1, 14.2, 14.21, 14.3, 14.45, 14.45, 14.45, 14.5, 14.63, 14.64, 14.67, 14.75, 14.77, 14.8, 14.8, 14.83, 14.89, 14.93, 14.93, 14.98, 15.0, 15.0, 15.0, 15.0, 15.0, 15.0, 15.0, 15.0, 15.0, 15.0, 15.0, 15.0, 15.33, 15.33, 15.66, 15.666666666666666, 15.71, 15.75, 15.75, 15.75, 15.75, 15.75, 15.8, 15.87, 15.9, 16.0, 16.0, 16.0, 16.0, 16.12, 16.14, 16.15, 16.31, 16.5, 16.61, 16.67, 16.95, 17.0, 17.0, 17.0, 17.0, 17.0, 17.0, 17.0, 17.1, 17.33, 17.33, 17.45, 17.66, 17.94, 17.95, 17.98, 18.0, 18.0, 18.0, 18.0, 18.0, 18.0, 18.0, 18.0, 18.0, 18.0, 18.33, 18.51, 18.53, 18.66, 18.75, 18.78, 18.81, 18.9, 19.0, 19.0, 19.31, 19.33, 19.33, 19.4, 19.6, 19.67, 19.9, 19.99, 19.99, 19.99, 19.99, 19.99, 19.99, 19.99, 19.99, 19.99, 19.99, 19.99, 19.99, 19.99, 19.99, 19.99, 19.99, 19.99, 19.99, 19.99, 20.0, 20.0, 20.0, 20.0, 20.0, 20.1, 20.17, 20.23, 21.0, 21.0, 21.0, 21.0, 21.4, 21.5, 21.61, 22.0, 22.0, 22.0, 22.0, 22.88, 22.93, 23.17, 23.67, 24.0, 24.0, 24.33, 24.46, 25.0, 25.0, 25.0, 25.0, 25.0, 28.0, 30.0, 31.34, 31.38, 32.5, 34.92, 35.0, 35.0, 45.0, 55.0, 150.0, 200.0], \"yaxis\": \"y\"}],\n",
              "                        {\"coloraxis\": {\"colorbar\": {\"title\": {\"text\": \"volume\"}}, \"colorscale\": [[0.0, \"#0d0887\"], [0.1111111111111111, \"#46039f\"], [0.2222222222222222, \"#7201a8\"], [0.3333333333333333, \"#9c179e\"], [0.4444444444444444, \"#bd3786\"], [0.5555555555555556, \"#d8576b\"], [0.6666666666666666, \"#ed7953\"], [0.7777777777777778, \"#fb9f3a\"], [0.8888888888888888, \"#fdca26\"], [1.0, \"#f0f921\"]]}, \"legend\": {\"tracegroupgap\": 0}, \"template\": {\"data\": {\"bar\": [{\"error_x\": {\"color\": \"#2a3f5f\"}, \"error_y\": {\"color\": \"#2a3f5f\"}, \"marker\": {\"line\": {\"color\": \"#E5ECF6\", \"width\": 0.5}}, \"type\": \"bar\"}], \"barpolar\": [{\"marker\": {\"line\": {\"color\": \"#E5ECF6\", \"width\": 0.5}}, \"type\": \"barpolar\"}], \"carpet\": [{\"aaxis\": {\"endlinecolor\": \"#2a3f5f\", \"gridcolor\": \"white\", \"linecolor\": \"white\", \"minorgridcolor\": \"white\", \"startlinecolor\": \"#2a3f5f\"}, \"baxis\": {\"endlinecolor\": \"#2a3f5f\", \"gridcolor\": \"white\", \"linecolor\": \"white\", \"minorgridcolor\": \"white\", \"startlinecolor\": \"#2a3f5f\"}, \"type\": \"carpet\"}], \"choropleth\": [{\"colorbar\": {\"outlinewidth\": 0, \"ticks\": \"\"}, \"type\": \"choropleth\"}], \"contour\": [{\"colorbar\": {\"outlinewidth\": 0, \"ticks\": \"\"}, \"colorscale\": [[0.0, \"#0d0887\"], [0.1111111111111111, \"#46039f\"], [0.2222222222222222, \"#7201a8\"], [0.3333333333333333, \"#9c179e\"], [0.4444444444444444, \"#bd3786\"], [0.5555555555555556, \"#d8576b\"], [0.6666666666666666, \"#ed7953\"], [0.7777777777777778, \"#fb9f3a\"], [0.8888888888888888, \"#fdca26\"], [1.0, \"#f0f921\"]], \"type\": \"contour\"}], \"contourcarpet\": [{\"colorbar\": {\"outlinewidth\": 0, \"ticks\": \"\"}, \"type\": \"contourcarpet\"}], \"heatmap\": [{\"colorbar\": {\"outlinewidth\": 0, \"ticks\": \"\"}, \"colorscale\": [[0.0, \"#0d0887\"], [0.1111111111111111, \"#46039f\"], [0.2222222222222222, \"#7201a8\"], [0.3333333333333333, \"#9c179e\"], [0.4444444444444444, \"#bd3786\"], [0.5555555555555556, \"#d8576b\"], [0.6666666666666666, \"#ed7953\"], [0.7777777777777778, \"#fb9f3a\"], [0.8888888888888888, \"#fdca26\"], [1.0, \"#f0f921\"]], \"type\": \"heatmap\"}], \"heatmapgl\": [{\"colorbar\": {\"outlinewidth\": 0, \"ticks\": \"\"}, \"colorscale\": [[0.0, \"#0d0887\"], [0.1111111111111111, \"#46039f\"], [0.2222222222222222, \"#7201a8\"], [0.3333333333333333, \"#9c179e\"], [0.4444444444444444, \"#bd3786\"], [0.5555555555555556, \"#d8576b\"], [0.6666666666666666, \"#ed7953\"], [0.7777777777777778, \"#fb9f3a\"], [0.8888888888888888, \"#fdca26\"], [1.0, \"#f0f921\"]], \"type\": \"heatmapgl\"}], \"histogram\": [{\"marker\": {\"colorbar\": {\"outlinewidth\": 0, \"ticks\": \"\"}}, \"type\": \"histogram\"}], \"histogram2d\": [{\"colorbar\": {\"outlinewidth\": 0, \"ticks\": \"\"}, \"colorscale\": [[0.0, \"#0d0887\"], [0.1111111111111111, \"#46039f\"], [0.2222222222222222, \"#7201a8\"], [0.3333333333333333, \"#9c179e\"], [0.4444444444444444, \"#bd3786\"], [0.5555555555555556, \"#d8576b\"], [0.6666666666666666, \"#ed7953\"], [0.7777777777777778, \"#fb9f3a\"], [0.8888888888888888, \"#fdca26\"], [1.0, \"#f0f921\"]], \"type\": \"histogram2d\"}], \"histogram2dcontour\": [{\"colorbar\": {\"outlinewidth\": 0, \"ticks\": \"\"}, \"colorscale\": [[0.0, \"#0d0887\"], [0.1111111111111111, \"#46039f\"], [0.2222222222222222, \"#7201a8\"], [0.3333333333333333, \"#9c179e\"], [0.4444444444444444, \"#bd3786\"], [0.5555555555555556, \"#d8576b\"], [0.6666666666666666, \"#ed7953\"], [0.7777777777777778, \"#fb9f3a\"], [0.8888888888888888, \"#fdca26\"], [1.0, \"#f0f921\"]], \"type\": \"histogram2dcontour\"}], \"mesh3d\": [{\"colorbar\": {\"outlinewidth\": 0, \"ticks\": \"\"}, \"type\": \"mesh3d\"}], \"parcoords\": [{\"line\": {\"colorbar\": {\"outlinewidth\": 0, \"ticks\": \"\"}}, \"type\": \"parcoords\"}], \"pie\": [{\"automargin\": true, \"type\": \"pie\"}], \"scatter\": [{\"marker\": {\"colorbar\": {\"outlinewidth\": 0, \"ticks\": \"\"}}, \"type\": \"scatter\"}], \"scatter3d\": [{\"line\": {\"colorbar\": {\"outlinewidth\": 0, \"ticks\": \"\"}}, \"marker\": {\"colorbar\": {\"outlinewidth\": 0, \"ticks\": \"\"}}, \"type\": \"scatter3d\"}], \"scattercarpet\": [{\"marker\": {\"colorbar\": {\"outlinewidth\": 0, \"ticks\": \"\"}}, \"type\": \"scattercarpet\"}], \"scattergeo\": [{\"marker\": {\"colorbar\": {\"outlinewidth\": 0, \"ticks\": \"\"}}, \"type\": \"scattergeo\"}], \"scattergl\": [{\"marker\": {\"colorbar\": {\"outlinewidth\": 0, \"ticks\": \"\"}}, \"type\": \"scattergl\"}], \"scattermapbox\": [{\"marker\": {\"colorbar\": {\"outlinewidth\": 0, \"ticks\": \"\"}}, \"type\": \"scattermapbox\"}], \"scatterpolar\": [{\"marker\": {\"colorbar\": {\"outlinewidth\": 0, \"ticks\": \"\"}}, \"type\": \"scatterpolar\"}], \"scatterpolargl\": [{\"marker\": {\"colorbar\": {\"outlinewidth\": 0, \"ticks\": \"\"}}, \"type\": \"scatterpolargl\"}], \"scatterternary\": [{\"marker\": {\"colorbar\": {\"outlinewidth\": 0, \"ticks\": \"\"}}, \"type\": \"scatterternary\"}], \"surface\": [{\"colorbar\": {\"outlinewidth\": 0, \"ticks\": \"\"}, \"colorscale\": [[0.0, \"#0d0887\"], [0.1111111111111111, \"#46039f\"], [0.2222222222222222, \"#7201a8\"], [0.3333333333333333, \"#9c179e\"], [0.4444444444444444, \"#bd3786\"], [0.5555555555555556, \"#d8576b\"], [0.6666666666666666, \"#ed7953\"], [0.7777777777777778, \"#fb9f3a\"], [0.8888888888888888, \"#fdca26\"], [1.0, \"#f0f921\"]], \"type\": \"surface\"}], \"table\": [{\"cells\": {\"fill\": {\"color\": \"#EBF0F8\"}, \"line\": {\"color\": \"white\"}}, \"header\": {\"fill\": {\"color\": \"#C8D4E3\"}, \"line\": {\"color\": \"white\"}}, \"type\": \"table\"}]}, \"layout\": {\"annotationdefaults\": {\"arrowcolor\": \"#2a3f5f\", \"arrowhead\": 0, \"arrowwidth\": 1}, \"coloraxis\": {\"colorbar\": {\"outlinewidth\": 0, \"ticks\": \"\"}}, \"colorscale\": {\"diverging\": [[0, \"#8e0152\"], [0.1, \"#c51b7d\"], [0.2, \"#de77ae\"], [0.3, \"#f1b6da\"], [0.4, \"#fde0ef\"], [0.5, \"#f7f7f7\"], [0.6, \"#e6f5d0\"], [0.7, \"#b8e186\"], [0.8, \"#7fbc41\"], [0.9, \"#4d9221\"], [1, \"#276419\"]], \"sequential\": [[0.0, \"#0d0887\"], [0.1111111111111111, \"#46039f\"], [0.2222222222222222, \"#7201a8\"], [0.3333333333333333, \"#9c179e\"], [0.4444444444444444, \"#bd3786\"], [0.5555555555555556, \"#d8576b\"], [0.6666666666666666, \"#ed7953\"], [0.7777777777777778, \"#fb9f3a\"], [0.8888888888888888, \"#fdca26\"], [1.0, \"#f0f921\"]], \"sequentialminus\": [[0.0, \"#0d0887\"], [0.1111111111111111, \"#46039f\"], [0.2222222222222222, \"#7201a8\"], [0.3333333333333333, \"#9c179e\"], [0.4444444444444444, \"#bd3786\"], [0.5555555555555556, \"#d8576b\"], [0.6666666666666666, \"#ed7953\"], [0.7777777777777778, \"#fb9f3a\"], [0.8888888888888888, \"#fdca26\"], [1.0, \"#f0f921\"]]}, \"colorway\": [\"#636efa\", \"#EF553B\", \"#00cc96\", \"#ab63fa\", \"#FFA15A\", \"#19d3f3\", \"#FF6692\", \"#B6E880\", \"#FF97FF\", \"#FECB52\"], \"font\": {\"color\": \"#2a3f5f\"}, \"geo\": {\"bgcolor\": \"white\", \"lakecolor\": \"white\", \"landcolor\": \"#E5ECF6\", \"showlakes\": true, \"showland\": true, \"subunitcolor\": \"white\"}, \"hoverlabel\": {\"align\": \"left\"}, \"hovermode\": \"closest\", \"mapbox\": {\"style\": \"light\"}, \"paper_bgcolor\": \"white\", \"plot_bgcolor\": \"#E5ECF6\", \"polar\": {\"angularaxis\": {\"gridcolor\": \"white\", \"linecolor\": \"white\", \"ticks\": \"\"}, \"bgcolor\": \"#E5ECF6\", \"radialaxis\": {\"gridcolor\": \"white\", \"linecolor\": \"white\", \"ticks\": \"\"}}, \"scene\": {\"xaxis\": {\"backgroundcolor\": \"#E5ECF6\", \"gridcolor\": \"white\", \"gridwidth\": 2, \"linecolor\": \"white\", \"showbackground\": true, \"ticks\": \"\", \"zerolinecolor\": \"white\"}, \"yaxis\": {\"backgroundcolor\": \"#E5ECF6\", \"gridcolor\": \"white\", \"gridwidth\": 2, \"linecolor\": \"white\", \"showbackground\": true, \"ticks\": \"\", \"zerolinecolor\": \"white\"}, \"zaxis\": {\"backgroundcolor\": \"#E5ECF6\", \"gridcolor\": \"white\", \"gridwidth\": 2, \"linecolor\": \"white\", \"showbackground\": true, \"ticks\": \"\", \"zerolinecolor\": \"white\"}}, \"shapedefaults\": {\"line\": {\"color\": \"#2a3f5f\"}}, \"ternary\": {\"aaxis\": {\"gridcolor\": \"white\", \"linecolor\": \"white\", \"ticks\": \"\"}, \"baxis\": {\"gridcolor\": \"white\", \"linecolor\": \"white\", \"ticks\": \"\"}, \"bgcolor\": \"#E5ECF6\", \"caxis\": {\"gridcolor\": \"white\", \"linecolor\": \"white\", \"ticks\": \"\"}}, \"title\": {\"x\": 0.05}, \"xaxis\": {\"automargin\": true, \"gridcolor\": \"white\", \"linecolor\": \"white\", \"ticks\": \"\", \"title\": {\"standoff\": 15}, \"zerolinecolor\": \"white\", \"zerolinewidth\": 2}, \"yaxis\": {\"automargin\": true, \"gridcolor\": \"white\", \"linecolor\": \"white\", \"ticks\": \"\", \"title\": {\"standoff\": 15}, \"zerolinecolor\": \"white\", \"zerolinewidth\": 2}}}, \"title\": {\"text\": \"\\u0421\\u0435\\u0437\\u043e\\u043d\\u043d\\u043e\\u0441\\u0442\\u044c \\u043f\\u0440\\u043e\\u0434\\u0443\\u043a\\u0442\\u0430\"}, \"xaxis\": {\"anchor\": \"y\", \"domain\": [0.0, 1.0], \"title\": {\"text\": \"date\"}}, \"yaxis\": {\"anchor\": \"x\", \"domain\": [0.0, 1.0], \"title\": {\"text\": \"price\"}}},\n",
              "                        {\"responsive\": true}\n",
              "                    ).then(function(){\n",
              "                            \n",
              "var gd = document.getElementById('157968d8-e00d-4403-8705-ec6f3b53a553');\n",
              "var x = new MutationObserver(function (mutations, observer) {{\n",
              "        var display = window.getComputedStyle(gd).display;\n",
              "        if (!display || display === 'none') {{\n",
              "            console.log([gd, 'removed!']);\n",
              "            Plotly.purge(gd);\n",
              "            observer.disconnect();\n",
              "        }}\n",
              "}});\n",
              "\n",
              "// Listen for the removal of the full notebook cells\n",
              "var notebookContainer = gd.closest('#notebook-container');\n",
              "if (notebookContainer) {{\n",
              "    x.observe(notebookContainer, {childList: true});\n",
              "}}\n",
              "\n",
              "// Listen for the clearing of the current output cell\n",
              "var outputEl = gd.closest('.output');\n",
              "if (outputEl) {{\n",
              "    x.observe(outputEl, {childList: true});\n",
              "}}\n",
              "\n",
              "                        })\n",
              "                };\n",
              "                \n",
              "            </script>\n",
              "        </div>\n",
              "</body>\n",
              "</html>"
            ]
          },
          "metadata": {
            "tags": []
          }
        }
      ]
    },
    {
      "cell_type": "markdown",
      "metadata": {
        "id": "i_Yfm9hUEsoW"
      },
      "source": [
        "На графике видно, что цена соли не меняется в зависимости от даты. Следовательно, продукт не подвержен сезонным колебаниям."
      ]
    },
    {
      "cell_type": "markdown",
      "metadata": {
        "id": "58JyWfADJg2u"
      },
      "source": [
        "**4.** В-четвертых, интересно распределение количества закупока по регионам."
      ]
    },
    {
      "cell_type": "code",
      "metadata": {
        "colab": {
          "base_uri": "https://localhost:8080/",
          "height": 202
        },
        "id": "bnwo3zHBJv13",
        "outputId": "3e71fb50-d4cf-47ea-d037-8a153c7b6a58"
      },
      "source": [
        "df_reg = df.groupby('region').agg({'number':'count', 'price':'mean'}).reset_index()\n",
        "df_reg['region'] = df_reg['region'].astype(int)\n",
        "df_reg['region'] = df_reg['region'].astype(str)\n",
        "df_reg.head()"
      ],
      "execution_count": null,
      "outputs": [
        {
          "output_type": "execute_result",
          "data": {
            "text/html": [
              "<div>\n",
              "<style scoped>\n",
              "    .dataframe tbody tr th:only-of-type {\n",
              "        vertical-align: middle;\n",
              "    }\n",
              "\n",
              "    .dataframe tbody tr th {\n",
              "        vertical-align: top;\n",
              "    }\n",
              "\n",
              "    .dataframe thead th {\n",
              "        text-align: right;\n",
              "    }\n",
              "</style>\n",
              "<table border=\"1\" class=\"dataframe\">\n",
              "  <thead>\n",
              "    <tr style=\"text-align: right;\">\n",
              "      <th></th>\n",
              "      <th>region</th>\n",
              "      <th>number</th>\n",
              "      <th>price</th>\n",
              "    </tr>\n",
              "  </thead>\n",
              "  <tbody>\n",
              "    <tr>\n",
              "      <th>0</th>\n",
              "      <td>1</td>\n",
              "      <td>6</td>\n",
              "      <td>15.736111</td>\n",
              "    </tr>\n",
              "    <tr>\n",
              "      <th>1</th>\n",
              "      <td>2</td>\n",
              "      <td>6</td>\n",
              "      <td>10.565000</td>\n",
              "    </tr>\n",
              "    <tr>\n",
              "      <th>2</th>\n",
              "      <td>4</td>\n",
              "      <td>1</td>\n",
              "      <td>9.500000</td>\n",
              "    </tr>\n",
              "    <tr>\n",
              "      <th>3</th>\n",
              "      <td>5</td>\n",
              "      <td>4</td>\n",
              "      <td>9.537500</td>\n",
              "    </tr>\n",
              "    <tr>\n",
              "      <th>4</th>\n",
              "      <td>7</td>\n",
              "      <td>12</td>\n",
              "      <td>15.394167</td>\n",
              "    </tr>\n",
              "  </tbody>\n",
              "</table>\n",
              "</div>"
            ],
            "text/plain": [
              "  region  number      price\n",
              "0      1       6  15.736111\n",
              "1      2       6  10.565000\n",
              "2      4       1   9.500000\n",
              "3      5       4   9.537500\n",
              "4      7      12  15.394167"
            ]
          },
          "metadata": {
            "tags": []
          },
          "execution_count": 17
        }
      ]
    },
    {
      "cell_type": "markdown",
      "metadata": {
        "id": "8bAsCA3trf2x"
      },
      "source": [
        "В датасете, скачанном с сайта госзакупок, регионы обозначены только цифрами. Необходимо соотнести код региона и его наименование с помощью таблицы \"regions\"."
      ]
    },
    {
      "cell_type": "code",
      "metadata": {
        "colab": {
          "base_uri": "https://localhost:8080/",
          "height": 202
        },
        "id": "qvowyMEBKhqi",
        "outputId": "d5b2000d-cf86-48a5-fa93-537b371787e8"
      },
      "source": [
        "regions = pd.read_excel('regions.xlsx')\n",
        "regions.columns = ['region', 'name']\n",
        "regions['region'] = regions['region'].astype(str)\n",
        "regions.head()"
      ],
      "execution_count": null,
      "outputs": [
        {
          "output_type": "execute_result",
          "data": {
            "text/html": [
              "<div>\n",
              "<style scoped>\n",
              "    .dataframe tbody tr th:only-of-type {\n",
              "        vertical-align: middle;\n",
              "    }\n",
              "\n",
              "    .dataframe tbody tr th {\n",
              "        vertical-align: top;\n",
              "    }\n",
              "\n",
              "    .dataframe thead th {\n",
              "        text-align: right;\n",
              "    }\n",
              "</style>\n",
              "<table border=\"1\" class=\"dataframe\">\n",
              "  <thead>\n",
              "    <tr style=\"text-align: right;\">\n",
              "      <th></th>\n",
              "      <th>region</th>\n",
              "      <th>name</th>\n",
              "    </tr>\n",
              "  </thead>\n",
              "  <tbody>\n",
              "    <tr>\n",
              "      <th>0</th>\n",
              "      <td>1</td>\n",
              "      <td>Россия (код по ОКСМ)</td>\n",
              "    </tr>\n",
              "    <tr>\n",
              "      <th>1</th>\n",
              "      <td>2</td>\n",
              "      <td>Центральный федеральный округ</td>\n",
              "    </tr>\n",
              "    <tr>\n",
              "      <th>2</th>\n",
              "      <td>3</td>\n",
              "      <td>Белгородская область</td>\n",
              "    </tr>\n",
              "    <tr>\n",
              "      <th>3</th>\n",
              "      <td>4</td>\n",
              "      <td>Брянская область</td>\n",
              "    </tr>\n",
              "    <tr>\n",
              "      <th>4</th>\n",
              "      <td>5</td>\n",
              "      <td>Владимирская область</td>\n",
              "    </tr>\n",
              "  </tbody>\n",
              "</table>\n",
              "</div>"
            ],
            "text/plain": [
              "  region                           name\n",
              "0      1           Россия (код по ОКСМ)\n",
              "1      2  Центральный федеральный округ\n",
              "2      3           Белгородская область\n",
              "3      4               Брянская область\n",
              "4      5           Владимирская область"
            ]
          },
          "metadata": {
            "tags": []
          },
          "execution_count": 18
        }
      ]
    },
    {
      "cell_type": "code",
      "metadata": {
        "colab": {
          "base_uri": "https://localhost:8080/",
          "height": 385
        },
        "id": "ZyVbsMPcKm-A",
        "outputId": "504e1c68-e635-4d38-f327-78bdcaf5bf4e"
      },
      "source": [
        "# ТОП-10 регионов по количеству закупок соли за выбранный период\n",
        "df_regions = df_reg.merge(regions, on='region')\n",
        "df_regions = df_regions.dropna()\n",
        "df_regions = df_regions.sort_values('number', ascending=False)\n",
        "df_regions_10 = df_regions[0:11]\n",
        "df_regions_10 "
      ],
      "execution_count": null,
      "outputs": [
        {
          "output_type": "execute_result",
          "data": {
            "text/html": [
              "<div>\n",
              "<style scoped>\n",
              "    .dataframe tbody tr th:only-of-type {\n",
              "        vertical-align: middle;\n",
              "    }\n",
              "\n",
              "    .dataframe tbody tr th {\n",
              "        vertical-align: top;\n",
              "    }\n",
              "\n",
              "    .dataframe thead th {\n",
              "        text-align: right;\n",
              "    }\n",
              "</style>\n",
              "<table border=\"1\" class=\"dataframe\">\n",
              "  <thead>\n",
              "    <tr style=\"text-align: right;\">\n",
              "      <th></th>\n",
              "      <th>region</th>\n",
              "      <th>number</th>\n",
              "      <th>price</th>\n",
              "      <th>name</th>\n",
              "    </tr>\n",
              "  </thead>\n",
              "  <tbody>\n",
              "    <tr>\n",
              "      <th>12</th>\n",
              "      <td>16</td>\n",
              "      <td>58</td>\n",
              "      <td>8.865172</td>\n",
              "      <td>Тамбовская область</td>\n",
              "    </tr>\n",
              "    <tr>\n",
              "      <th>18</th>\n",
              "      <td>24</td>\n",
              "      <td>21</td>\n",
              "      <td>14.033333</td>\n",
              "      <td>Архангельская область</td>\n",
              "    </tr>\n",
              "    <tr>\n",
              "      <th>17</th>\n",
              "      <td>23</td>\n",
              "      <td>21</td>\n",
              "      <td>14.404286</td>\n",
              "      <td>Республика Коми</td>\n",
              "    </tr>\n",
              "    <tr>\n",
              "      <th>32</th>\n",
              "      <td>42</td>\n",
              "      <td>17</td>\n",
              "      <td>11.701765</td>\n",
              "      <td>Севастополь</td>\n",
              "    </tr>\n",
              "    <tr>\n",
              "      <th>4</th>\n",
              "      <td>7</td>\n",
              "      <td>12</td>\n",
              "      <td>15.394167</td>\n",
              "      <td>Ивановская область</td>\n",
              "    </tr>\n",
              "    <tr>\n",
              "      <th>29</th>\n",
              "      <td>38</td>\n",
              "      <td>11</td>\n",
              "      <td>12.936364</td>\n",
              "      <td>Краснодарский край</td>\n",
              "    </tr>\n",
              "    <tr>\n",
              "      <th>13</th>\n",
              "      <td>17</td>\n",
              "      <td>10</td>\n",
              "      <td>18.000000</td>\n",
              "      <td>Тверская область</td>\n",
              "    </tr>\n",
              "    <tr>\n",
              "      <th>26</th>\n",
              "      <td>34</td>\n",
              "      <td>8</td>\n",
              "      <td>9.277500</td>\n",
              "      <td>Южный федеральный округ</td>\n",
              "    </tr>\n",
              "    <tr>\n",
              "      <th>0</th>\n",
              "      <td>1</td>\n",
              "      <td>6</td>\n",
              "      <td>15.736111</td>\n",
              "      <td>Россия (код по ОКСМ)</td>\n",
              "    </tr>\n",
              "    <tr>\n",
              "      <th>19</th>\n",
              "      <td>25</td>\n",
              "      <td>6</td>\n",
              "      <td>18.270000</td>\n",
              "      <td>Ненецкий автономный округ</td>\n",
              "    </tr>\n",
              "    <tr>\n",
              "      <th>1</th>\n",
              "      <td>2</td>\n",
              "      <td>6</td>\n",
              "      <td>10.565000</td>\n",
              "      <td>Центральный федеральный округ</td>\n",
              "    </tr>\n",
              "  </tbody>\n",
              "</table>\n",
              "</div>"
            ],
            "text/plain": [
              "   region  number      price                           name\n",
              "12     16      58   8.865172             Тамбовская область\n",
              "18     24      21  14.033333         Архангельская область \n",
              "17     23      21  14.404286                Республика Коми\n",
              "32     42      17  11.701765                    Севастополь\n",
              "4       7      12  15.394167             Ивановская область\n",
              "29     38      11  12.936364             Краснодарский край\n",
              "13     17      10  18.000000               Тверская область\n",
              "26     34       8   9.277500       Южный федеральный округ \n",
              "0       1       6  15.736111           Россия (код по ОКСМ)\n",
              "19     25       6  18.270000     Ненецкий автономный округ \n",
              "1       2       6  10.565000  Центральный федеральный округ"
            ]
          },
          "metadata": {
            "tags": []
          },
          "execution_count": 19
        }
      ]
    },
    {
      "cell_type": "code",
      "metadata": {
        "colab": {
          "base_uri": "https://localhost:8080/",
          "height": 542
        },
        "id": "GarPSfeTJMq_",
        "outputId": "099bd31d-ff72-459e-f954-db668e7bed39"
      },
      "source": [
        "fig = go.Figure(data=[go.Bar(x = df_regions_10['name'], y = df_regions_10['number'], marker_color = 'cornflowerblue')])\n",
        "                \n",
        "fig.update_layout(title = 'Распределение закупок по регионам')\n",
        "fig.update_xaxes({'dtick' : 1}, title = 'регионы')\n",
        "fig.update_yaxes(title = 'число закупок') \n",
        "fig.show()"
      ],
      "execution_count": null,
      "outputs": [
        {
          "output_type": "display_data",
          "data": {
            "text/html": [
              "<html>\n",
              "<head><meta charset=\"utf-8\" /></head>\n",
              "<body>\n",
              "    <div>\n",
              "            <script src=\"https://cdnjs.cloudflare.com/ajax/libs/mathjax/2.7.5/MathJax.js?config=TeX-AMS-MML_SVG\"></script><script type=\"text/javascript\">if (window.MathJax) {MathJax.Hub.Config({SVG: {font: \"STIX-Web\"}});}</script>\n",
              "                <script type=\"text/javascript\">window.PlotlyConfig = {MathJaxConfig: 'local'};</script>\n",
              "        <script src=\"https://cdn.plot.ly/plotly-latest.min.js\"></script>    \n",
              "            <div id=\"b6296aa4-6ee4-46eb-b144-5c248abfce13\" class=\"plotly-graph-div\" style=\"height:525px; width:100%;\"></div>\n",
              "            <script type=\"text/javascript\">\n",
              "                \n",
              "                    window.PLOTLYENV=window.PLOTLYENV || {};\n",
              "                    \n",
              "                if (document.getElementById(\"b6296aa4-6ee4-46eb-b144-5c248abfce13\")) {\n",
              "                    Plotly.newPlot(\n",
              "                        'b6296aa4-6ee4-46eb-b144-5c248abfce13',\n",
              "                        [{\"marker\": {\"color\": \"cornflowerblue\"}, \"type\": \"bar\", \"x\": [\"\\u0422\\u0430\\u043c\\u0431\\u043e\\u0432\\u0441\\u043a\\u0430\\u044f \\u043e\\u0431\\u043b\\u0430\\u0441\\u0442\\u044c\", \"\\u0410\\u0440\\u0445\\u0430\\u043d\\u0433\\u0435\\u043b\\u044c\\u0441\\u043a\\u0430\\u044f \\u043e\\u0431\\u043b\\u0430\\u0441\\u0442\\u044c \", \"\\u0420\\u0435\\u0441\\u043f\\u0443\\u0431\\u043b\\u0438\\u043a\\u0430 \\u041a\\u043e\\u043c\\u0438\", \"\\u0421\\u0435\\u0432\\u0430\\u0441\\u0442\\u043e\\u043f\\u043e\\u043b\\u044c\", \"\\u0418\\u0432\\u0430\\u043d\\u043e\\u0432\\u0441\\u043a\\u0430\\u044f \\u043e\\u0431\\u043b\\u0430\\u0441\\u0442\\u044c\", \"\\u041a\\u0440\\u0430\\u0441\\u043d\\u043e\\u0434\\u0430\\u0440\\u0441\\u043a\\u0438\\u0439 \\u043a\\u0440\\u0430\\u0439\", \"\\u0422\\u0432\\u0435\\u0440\\u0441\\u043a\\u0430\\u044f \\u043e\\u0431\\u043b\\u0430\\u0441\\u0442\\u044c\", \"\\u042e\\u0436\\u043d\\u044b\\u0439 \\u0444\\u0435\\u0434\\u0435\\u0440\\u0430\\u043b\\u044c\\u043d\\u044b\\u0439 \\u043e\\u043a\\u0440\\u0443\\u0433 \", \"\\u0420\\u043e\\u0441\\u0441\\u0438\\u044f (\\u043a\\u043e\\u0434 \\u043f\\u043e \\u041e\\u041a\\u0421\\u041c)\", \"\\u041d\\u0435\\u043d\\u0435\\u0446\\u043a\\u0438\\u0439 \\u0430\\u0432\\u0442\\u043e\\u043d\\u043e\\u043c\\u043d\\u044b\\u0439 \\u043e\\u043a\\u0440\\u0443\\u0433 \", \"\\u0426\\u0435\\u043d\\u0442\\u0440\\u0430\\u043b\\u044c\\u043d\\u044b\\u0439 \\u0444\\u0435\\u0434\\u0435\\u0440\\u0430\\u043b\\u044c\\u043d\\u044b\\u0439 \\u043e\\u043a\\u0440\\u0443\\u0433\"], \"y\": [58, 21, 21, 17, 12, 11, 10, 8, 6, 6, 6]}],\n",
              "                        {\"template\": {\"data\": {\"bar\": [{\"error_x\": {\"color\": \"#2a3f5f\"}, \"error_y\": {\"color\": \"#2a3f5f\"}, \"marker\": {\"line\": {\"color\": \"#E5ECF6\", \"width\": 0.5}}, \"type\": \"bar\"}], \"barpolar\": [{\"marker\": {\"line\": {\"color\": \"#E5ECF6\", \"width\": 0.5}}, \"type\": \"barpolar\"}], \"carpet\": [{\"aaxis\": {\"endlinecolor\": \"#2a3f5f\", \"gridcolor\": \"white\", \"linecolor\": \"white\", \"minorgridcolor\": \"white\", \"startlinecolor\": \"#2a3f5f\"}, \"baxis\": {\"endlinecolor\": \"#2a3f5f\", \"gridcolor\": \"white\", \"linecolor\": \"white\", \"minorgridcolor\": \"white\", \"startlinecolor\": \"#2a3f5f\"}, \"type\": \"carpet\"}], \"choropleth\": [{\"colorbar\": {\"outlinewidth\": 0, \"ticks\": \"\"}, \"type\": \"choropleth\"}], \"contour\": [{\"colorbar\": {\"outlinewidth\": 0, \"ticks\": \"\"}, \"colorscale\": [[0.0, \"#0d0887\"], [0.1111111111111111, \"#46039f\"], [0.2222222222222222, \"#7201a8\"], [0.3333333333333333, \"#9c179e\"], [0.4444444444444444, \"#bd3786\"], [0.5555555555555556, \"#d8576b\"], [0.6666666666666666, \"#ed7953\"], [0.7777777777777778, \"#fb9f3a\"], [0.8888888888888888, \"#fdca26\"], [1.0, \"#f0f921\"]], \"type\": \"contour\"}], \"contourcarpet\": [{\"colorbar\": {\"outlinewidth\": 0, \"ticks\": \"\"}, \"type\": \"contourcarpet\"}], \"heatmap\": [{\"colorbar\": {\"outlinewidth\": 0, \"ticks\": \"\"}, \"colorscale\": [[0.0, \"#0d0887\"], [0.1111111111111111, \"#46039f\"], [0.2222222222222222, \"#7201a8\"], [0.3333333333333333, \"#9c179e\"], [0.4444444444444444, \"#bd3786\"], [0.5555555555555556, \"#d8576b\"], [0.6666666666666666, \"#ed7953\"], [0.7777777777777778, \"#fb9f3a\"], [0.8888888888888888, \"#fdca26\"], [1.0, \"#f0f921\"]], \"type\": \"heatmap\"}], \"heatmapgl\": [{\"colorbar\": {\"outlinewidth\": 0, \"ticks\": \"\"}, \"colorscale\": [[0.0, \"#0d0887\"], [0.1111111111111111, \"#46039f\"], [0.2222222222222222, \"#7201a8\"], [0.3333333333333333, \"#9c179e\"], [0.4444444444444444, \"#bd3786\"], [0.5555555555555556, \"#d8576b\"], [0.6666666666666666, \"#ed7953\"], [0.7777777777777778, \"#fb9f3a\"], [0.8888888888888888, \"#fdca26\"], [1.0, \"#f0f921\"]], \"type\": \"heatmapgl\"}], \"histogram\": [{\"marker\": {\"colorbar\": {\"outlinewidth\": 0, \"ticks\": \"\"}}, \"type\": \"histogram\"}], \"histogram2d\": [{\"colorbar\": {\"outlinewidth\": 0, \"ticks\": \"\"}, \"colorscale\": [[0.0, \"#0d0887\"], [0.1111111111111111, \"#46039f\"], [0.2222222222222222, \"#7201a8\"], [0.3333333333333333, \"#9c179e\"], [0.4444444444444444, \"#bd3786\"], [0.5555555555555556, \"#d8576b\"], [0.6666666666666666, \"#ed7953\"], [0.7777777777777778, \"#fb9f3a\"], [0.8888888888888888, \"#fdca26\"], [1.0, \"#f0f921\"]], \"type\": \"histogram2d\"}], \"histogram2dcontour\": [{\"colorbar\": {\"outlinewidth\": 0, \"ticks\": \"\"}, \"colorscale\": [[0.0, \"#0d0887\"], [0.1111111111111111, \"#46039f\"], [0.2222222222222222, \"#7201a8\"], [0.3333333333333333, \"#9c179e\"], [0.4444444444444444, \"#bd3786\"], [0.5555555555555556, \"#d8576b\"], [0.6666666666666666, \"#ed7953\"], [0.7777777777777778, \"#fb9f3a\"], [0.8888888888888888, \"#fdca26\"], [1.0, \"#f0f921\"]], \"type\": \"histogram2dcontour\"}], \"mesh3d\": [{\"colorbar\": {\"outlinewidth\": 0, \"ticks\": \"\"}, \"type\": \"mesh3d\"}], \"parcoords\": [{\"line\": {\"colorbar\": {\"outlinewidth\": 0, \"ticks\": \"\"}}, \"type\": \"parcoords\"}], \"pie\": [{\"automargin\": true, \"type\": \"pie\"}], \"scatter\": [{\"marker\": {\"colorbar\": {\"outlinewidth\": 0, \"ticks\": \"\"}}, \"type\": \"scatter\"}], \"scatter3d\": [{\"line\": {\"colorbar\": {\"outlinewidth\": 0, \"ticks\": \"\"}}, \"marker\": {\"colorbar\": {\"outlinewidth\": 0, \"ticks\": \"\"}}, \"type\": \"scatter3d\"}], \"scattercarpet\": [{\"marker\": {\"colorbar\": {\"outlinewidth\": 0, \"ticks\": \"\"}}, \"type\": \"scattercarpet\"}], \"scattergeo\": [{\"marker\": {\"colorbar\": {\"outlinewidth\": 0, \"ticks\": \"\"}}, \"type\": \"scattergeo\"}], \"scattergl\": [{\"marker\": {\"colorbar\": {\"outlinewidth\": 0, \"ticks\": \"\"}}, \"type\": \"scattergl\"}], \"scattermapbox\": [{\"marker\": {\"colorbar\": {\"outlinewidth\": 0, \"ticks\": \"\"}}, \"type\": \"scattermapbox\"}], \"scatterpolar\": [{\"marker\": {\"colorbar\": {\"outlinewidth\": 0, \"ticks\": \"\"}}, \"type\": \"scatterpolar\"}], \"scatterpolargl\": [{\"marker\": {\"colorbar\": {\"outlinewidth\": 0, \"ticks\": \"\"}}, \"type\": \"scatterpolargl\"}], \"scatterternary\": [{\"marker\": {\"colorbar\": {\"outlinewidth\": 0, \"ticks\": \"\"}}, \"type\": \"scatterternary\"}], \"surface\": [{\"colorbar\": {\"outlinewidth\": 0, \"ticks\": \"\"}, \"colorscale\": [[0.0, \"#0d0887\"], [0.1111111111111111, \"#46039f\"], [0.2222222222222222, \"#7201a8\"], [0.3333333333333333, \"#9c179e\"], [0.4444444444444444, \"#bd3786\"], [0.5555555555555556, \"#d8576b\"], [0.6666666666666666, \"#ed7953\"], [0.7777777777777778, \"#fb9f3a\"], [0.8888888888888888, \"#fdca26\"], [1.0, \"#f0f921\"]], \"type\": \"surface\"}], \"table\": [{\"cells\": {\"fill\": {\"color\": \"#EBF0F8\"}, \"line\": {\"color\": \"white\"}}, \"header\": {\"fill\": {\"color\": \"#C8D4E3\"}, \"line\": {\"color\": \"white\"}}, \"type\": \"table\"}]}, \"layout\": {\"annotationdefaults\": {\"arrowcolor\": \"#2a3f5f\", \"arrowhead\": 0, \"arrowwidth\": 1}, \"coloraxis\": {\"colorbar\": {\"outlinewidth\": 0, \"ticks\": \"\"}}, \"colorscale\": {\"diverging\": [[0, \"#8e0152\"], [0.1, \"#c51b7d\"], [0.2, \"#de77ae\"], [0.3, \"#f1b6da\"], [0.4, \"#fde0ef\"], [0.5, \"#f7f7f7\"], [0.6, \"#e6f5d0\"], [0.7, \"#b8e186\"], [0.8, \"#7fbc41\"], [0.9, \"#4d9221\"], [1, \"#276419\"]], \"sequential\": [[0.0, \"#0d0887\"], [0.1111111111111111, \"#46039f\"], [0.2222222222222222, \"#7201a8\"], [0.3333333333333333, \"#9c179e\"], [0.4444444444444444, \"#bd3786\"], [0.5555555555555556, \"#d8576b\"], [0.6666666666666666, \"#ed7953\"], [0.7777777777777778, \"#fb9f3a\"], [0.8888888888888888, \"#fdca26\"], [1.0, \"#f0f921\"]], \"sequentialminus\": [[0.0, \"#0d0887\"], [0.1111111111111111, \"#46039f\"], [0.2222222222222222, \"#7201a8\"], [0.3333333333333333, \"#9c179e\"], [0.4444444444444444, \"#bd3786\"], [0.5555555555555556, \"#d8576b\"], [0.6666666666666666, \"#ed7953\"], [0.7777777777777778, \"#fb9f3a\"], [0.8888888888888888, \"#fdca26\"], [1.0, \"#f0f921\"]]}, \"colorway\": [\"#636efa\", \"#EF553B\", \"#00cc96\", \"#ab63fa\", \"#FFA15A\", \"#19d3f3\", \"#FF6692\", \"#B6E880\", \"#FF97FF\", \"#FECB52\"], \"font\": {\"color\": \"#2a3f5f\"}, \"geo\": {\"bgcolor\": \"white\", \"lakecolor\": \"white\", \"landcolor\": \"#E5ECF6\", \"showlakes\": true, \"showland\": true, \"subunitcolor\": \"white\"}, \"hoverlabel\": {\"align\": \"left\"}, \"hovermode\": \"closest\", \"mapbox\": {\"style\": \"light\"}, \"paper_bgcolor\": \"white\", \"plot_bgcolor\": \"#E5ECF6\", \"polar\": {\"angularaxis\": {\"gridcolor\": \"white\", \"linecolor\": \"white\", \"ticks\": \"\"}, \"bgcolor\": \"#E5ECF6\", \"radialaxis\": {\"gridcolor\": \"white\", \"linecolor\": \"white\", \"ticks\": \"\"}}, \"scene\": {\"xaxis\": {\"backgroundcolor\": \"#E5ECF6\", \"gridcolor\": \"white\", \"gridwidth\": 2, \"linecolor\": \"white\", \"showbackground\": true, \"ticks\": \"\", \"zerolinecolor\": \"white\"}, \"yaxis\": {\"backgroundcolor\": \"#E5ECF6\", \"gridcolor\": \"white\", \"gridwidth\": 2, \"linecolor\": \"white\", \"showbackground\": true, \"ticks\": \"\", \"zerolinecolor\": \"white\"}, \"zaxis\": {\"backgroundcolor\": \"#E5ECF6\", \"gridcolor\": \"white\", \"gridwidth\": 2, \"linecolor\": \"white\", \"showbackground\": true, \"ticks\": \"\", \"zerolinecolor\": \"white\"}}, \"shapedefaults\": {\"line\": {\"color\": \"#2a3f5f\"}}, \"ternary\": {\"aaxis\": {\"gridcolor\": \"white\", \"linecolor\": \"white\", \"ticks\": \"\"}, \"baxis\": {\"gridcolor\": \"white\", \"linecolor\": \"white\", \"ticks\": \"\"}, \"bgcolor\": \"#E5ECF6\", \"caxis\": {\"gridcolor\": \"white\", \"linecolor\": \"white\", \"ticks\": \"\"}}, \"title\": {\"x\": 0.05}, \"xaxis\": {\"automargin\": true, \"gridcolor\": \"white\", \"linecolor\": \"white\", \"ticks\": \"\", \"title\": {\"standoff\": 15}, \"zerolinecolor\": \"white\", \"zerolinewidth\": 2}, \"yaxis\": {\"automargin\": true, \"gridcolor\": \"white\", \"linecolor\": \"white\", \"ticks\": \"\", \"title\": {\"standoff\": 15}, \"zerolinecolor\": \"white\", \"zerolinewidth\": 2}}}, \"title\": {\"text\": \"\\u0420\\u0430\\u0441\\u043f\\u0440\\u0435\\u0434\\u0435\\u043b\\u0435\\u043d\\u0438\\u0435 \\u0437\\u0430\\u043a\\u0443\\u043f\\u043e\\u043a \\u043f\\u043e \\u0440\\u0435\\u0433\\u0438\\u043e\\u043d\\u0430\\u043c\"}, \"xaxis\": {\"dtick\": 1, \"title\": {\"text\": \"\\u0440\\u0435\\u0433\\u0438\\u043e\\u043d\\u044b\"}}, \"yaxis\": {\"title\": {\"text\": \"\\u0447\\u0438\\u0441\\u043b\\u043e \\u0437\\u0430\\u043a\\u0443\\u043f\\u043e\\u043a\"}}},\n",
              "                        {\"responsive\": true}\n",
              "                    ).then(function(){\n",
              "                            \n",
              "var gd = document.getElementById('b6296aa4-6ee4-46eb-b144-5c248abfce13');\n",
              "var x = new MutationObserver(function (mutations, observer) {{\n",
              "        var display = window.getComputedStyle(gd).display;\n",
              "        if (!display || display === 'none') {{\n",
              "            console.log([gd, 'removed!']);\n",
              "            Plotly.purge(gd);\n",
              "            observer.disconnect();\n",
              "        }}\n",
              "}});\n",
              "\n",
              "// Listen for the removal of the full notebook cells\n",
              "var notebookContainer = gd.closest('#notebook-container');\n",
              "if (notebookContainer) {{\n",
              "    x.observe(notebookContainer, {childList: true});\n",
              "}}\n",
              "\n",
              "// Listen for the clearing of the current output cell\n",
              "var outputEl = gd.closest('.output');\n",
              "if (outputEl) {{\n",
              "    x.observe(outputEl, {childList: true});\n",
              "}}\n",
              "\n",
              "                        })\n",
              "                };\n",
              "                \n",
              "            </script>\n",
              "        </div>\n",
              "</body>\n",
              "</html>"
            ]
          },
          "metadata": {
            "tags": []
          }
        }
      ]
    },
    {
      "cell_type": "markdown",
      "metadata": {
        "id": "vIglaU6vth2f"
      },
      "source": [
        "Можно сделать вывод, что наибольшее количество закупок соли было осуществлено в Тамбовской области.\n",
        "\n",
        "\n",
        "**5.** Рассмотрим зависимость цены закупки соли от региона."
      ]
    },
    {
      "cell_type": "code",
      "metadata": {
        "colab": {
          "base_uri": "https://localhost:8080/",
          "height": 542
        },
        "id": "2-E0f2pCtnHP",
        "outputId": "80a2c199-1333-4790-d7a0-21efb9e33633"
      },
      "source": [
        "df_regions.head()\n",
        "fig = go.Figure(data=[go.Scatter(x=df_regions['name'], y=df_regions['price'], mode='markers')])\n",
        "\n",
        "fig.update_layout(title='Средняя цена соли в регионах')\n",
        "fig.show()"
      ],
      "execution_count": null,
      "outputs": [
        {
          "output_type": "display_data",
          "data": {
            "text/html": [
              "<html>\n",
              "<head><meta charset=\"utf-8\" /></head>\n",
              "<body>\n",
              "    <div>\n",
              "            <script src=\"https://cdnjs.cloudflare.com/ajax/libs/mathjax/2.7.5/MathJax.js?config=TeX-AMS-MML_SVG\"></script><script type=\"text/javascript\">if (window.MathJax) {MathJax.Hub.Config({SVG: {font: \"STIX-Web\"}});}</script>\n",
              "                <script type=\"text/javascript\">window.PlotlyConfig = {MathJaxConfig: 'local'};</script>\n",
              "        <script src=\"https://cdn.plot.ly/plotly-latest.min.js\"></script>    \n",
              "            <div id=\"0b2ebf70-50ee-4441-8979-5d4263dda8b4\" class=\"plotly-graph-div\" style=\"height:525px; width:100%;\"></div>\n",
              "            <script type=\"text/javascript\">\n",
              "                \n",
              "                    window.PLOTLYENV=window.PLOTLYENV || {};\n",
              "                    \n",
              "                if (document.getElementById(\"0b2ebf70-50ee-4441-8979-5d4263dda8b4\")) {\n",
              "                    Plotly.newPlot(\n",
              "                        '0b2ebf70-50ee-4441-8979-5d4263dda8b4',\n",
              "                        [{\"mode\": \"markers\", \"type\": \"scatter\", \"x\": [\"\\u0422\\u0430\\u043c\\u0431\\u043e\\u0432\\u0441\\u043a\\u0430\\u044f \\u043e\\u0431\\u043b\\u0430\\u0441\\u0442\\u044c\", \"\\u0410\\u0440\\u0445\\u0430\\u043d\\u0433\\u0435\\u043b\\u044c\\u0441\\u043a\\u0430\\u044f \\u043e\\u0431\\u043b\\u0430\\u0441\\u0442\\u044c \", \"\\u0420\\u0435\\u0441\\u043f\\u0443\\u0431\\u043b\\u0438\\u043a\\u0430 \\u041a\\u043e\\u043c\\u0438\", \"\\u0421\\u0435\\u0432\\u0430\\u0441\\u0442\\u043e\\u043f\\u043e\\u043b\\u044c\", \"\\u0418\\u0432\\u0430\\u043d\\u043e\\u0432\\u0441\\u043a\\u0430\\u044f \\u043e\\u0431\\u043b\\u0430\\u0441\\u0442\\u044c\", \"\\u041a\\u0440\\u0430\\u0441\\u043d\\u043e\\u0434\\u0430\\u0440\\u0441\\u043a\\u0438\\u0439 \\u043a\\u0440\\u0430\\u0439\", \"\\u0422\\u0432\\u0435\\u0440\\u0441\\u043a\\u0430\\u044f \\u043e\\u0431\\u043b\\u0430\\u0441\\u0442\\u044c\", \"\\u042e\\u0436\\u043d\\u044b\\u0439 \\u0444\\u0435\\u0434\\u0435\\u0440\\u0430\\u043b\\u044c\\u043d\\u044b\\u0439 \\u043e\\u043a\\u0440\\u0443\\u0433 \", \"\\u0420\\u043e\\u0441\\u0441\\u0438\\u044f (\\u043a\\u043e\\u0434 \\u043f\\u043e \\u041e\\u041a\\u0421\\u041c)\", \"\\u041d\\u0435\\u043d\\u0435\\u0446\\u043a\\u0438\\u0439 \\u0430\\u0432\\u0442\\u043e\\u043d\\u043e\\u043c\\u043d\\u044b\\u0439 \\u043e\\u043a\\u0440\\u0443\\u0433 \", \"\\u0426\\u0435\\u043d\\u0442\\u0440\\u0430\\u043b\\u044c\\u043d\\u044b\\u0439 \\u0444\\u0435\\u0434\\u0435\\u0440\\u0430\\u043b\\u044c\\u043d\\u044b\\u0439 \\u043e\\u043a\\u0440\\u0443\\u0433\", \"\\u0421\\u0435\\u0432\\u0435\\u0440\\u043e-\\u0417\\u0430\\u043f\\u0430\\u0434\\u043d\\u044b\\u0439 \\u0444\\u0435\\u0434\\u0435\\u0440\\u0430\\u043b\\u044c\\u043d\\u044b\\u0439 \\u043e\\u043a\\u0440\\u0443\\u0433\", \"\\u0421\\u043c\\u043e\\u043b\\u0435\\u043d\\u0441\\u043a\\u0430\\u044f \\u043e\\u0431\\u043b\\u0430\\u0441\\u0442\\u044c\", \"\\u041e\\u0440\\u043b\\u043e\\u0432\\u0441\\u043a\\u0430\\u044f \\u043e\\u0431\\u043b\\u0430\\u0441\\u0442\\u044c\", \"\\u041a\\u0430\\u043b\\u0443\\u0436\\u0441\\u043a\\u0430\\u044f \\u043e\\u0431\\u043b\\u0430\\u0441\\u0442\\u044c\", \"\\u0420\\u044f\\u0437\\u0430\\u043d\\u0441\\u043a\\u0430\\u044f \\u043e\\u0431\\u043b\\u0430\\u0441\\u0442\\u044c\", \"\\u0412\\u043b\\u0430\\u0434\\u0438\\u043c\\u0438\\u0440\\u0441\\u043a\\u0430\\u044f \\u043e\\u0431\\u043b\\u0430\\u0441\\u0442\\u044c\", \"\\u0420\\u0435\\u0441\\u043f\\u0443\\u0431\\u043b\\u0438\\u043a\\u0430 \\u041a\\u0430\\u043b\\u043c\\u044b\\u043a\\u0438\\u044f\", \"\\u041b\\u0435\\u043d\\u0438\\u043d\\u0433\\u0440\\u0430\\u0434\\u0441\\u043a\\u0430\\u044f \\u043e\\u0431\\u043b\\u0430\\u0441\\u0442\\u044c\", \"\\u041b\\u0438\\u043f\\u0435\\u0446\\u043a\\u0430\\u044f \\u043e\\u0431\\u043b\\u0430\\u0441\\u0442\\u044c\", \"\\u0420\\u0435\\u0441\\u043f\\u0443\\u0431\\u043b\\u0438\\u043a\\u0430 \\u041a\\u0440\\u044b\\u043c\", \"\\u0412\\u043e\\u043b\\u0433\\u043e\\u0433\\u0440\\u0430\\u0434\\u0441\\u043a\\u0430\\u044f \\u043e\\u0431\\u043b\\u0430\\u0441\\u0442\\u044c\", \"\\u0420\\u043e\\u0441\\u0442\\u043e\\u0432\\u0441\\u043a\\u0430\\u044f \\u043e\\u0431\\u043b\\u0430\\u0441\\u0442\\u044c\", \"\\u0420\\u0435\\u0441\\u043f\\u0443\\u0431\\u043b\\u0438\\u043a\\u0430 \\u041a\\u0430\\u0440\\u0435\\u043b\\u0438\\u044f\", \"\\u041f\\u0441\\u043a\\u043e\\u0432\\u0441\\u043a\\u0430\\u044f \\u043e\\u0431\\u043b\\u0430\\u0441\\u0442\\u044c\", \"\\u041c\\u0443\\u0440\\u043c\\u0430\\u043d\\u0441\\u043a\\u0430\\u044f \\u043e\\u0431\\u043b\\u0430\\u0441\\u0442\\u044c\", \"\\u041a\\u0430\\u043b\\u0438\\u043d\\u0438\\u043d\\u0433\\u0440\\u0430\\u0434\\u0441\\u043a\\u0430\\u044f \\u043e\\u0431\\u043b\\u0430\\u0441\\u0442\\u044c\", \"\\u041c\\u043e\\u0441\\u043a\\u0432\\u0430\", \"\\u041c\\u043e\\u0441\\u043a\\u043e\\u0432\\u0441\\u043a\\u0430\\u044f \\u043e\\u0431\\u043b\\u0430\\u0441\\u0442\\u044c\", \"\\u041a\\u043e\\u0441\\u0442\\u0440\\u043e\\u043c\\u0441\\u043a\\u0430\\u044f \\u043e\\u0431\\u043b\\u0430\\u0441\\u0442\\u044c\", \"\\u0411\\u0440\\u044f\\u043d\\u0441\\u043a\\u0430\\u044f \\u043e\\u0431\\u043b\\u0430\\u0441\\u0442\\u044c\", \"\\u0420\\u0435\\u0441\\u043f\\u0443\\u0431\\u043b\\u0438\\u043a\\u0430 \\u0414\\u0430\\u0433\\u0435\\u0441\\u0442\\u0430\\u043d\"], \"y\": [8.8651724137931, 14.03333333333333, 14.404285714285717, 11.701764705882354, 15.394166666666665, 12.936363636363636, 18.0, 9.2775, 15.736111111111109, 18.27, 10.565, 8.952, 11.466, 9.86, 10.412, 31.23, 9.5375, 9.1, 11.0, 11.2, 9.915, 10.0, 31.38, 8.25, 15.33, 10.0, 13.5, 20.23, 9.0, 15.0, 9.5, 10.55]}],\n",
              "                        {\"template\": {\"data\": {\"bar\": [{\"error_x\": {\"color\": \"#2a3f5f\"}, \"error_y\": {\"color\": \"#2a3f5f\"}, \"marker\": {\"line\": {\"color\": \"#E5ECF6\", \"width\": 0.5}}, \"type\": \"bar\"}], \"barpolar\": [{\"marker\": {\"line\": {\"color\": \"#E5ECF6\", \"width\": 0.5}}, \"type\": \"barpolar\"}], \"carpet\": [{\"aaxis\": {\"endlinecolor\": \"#2a3f5f\", \"gridcolor\": \"white\", \"linecolor\": \"white\", \"minorgridcolor\": \"white\", \"startlinecolor\": \"#2a3f5f\"}, \"baxis\": {\"endlinecolor\": \"#2a3f5f\", \"gridcolor\": \"white\", \"linecolor\": \"white\", \"minorgridcolor\": \"white\", \"startlinecolor\": \"#2a3f5f\"}, \"type\": \"carpet\"}], \"choropleth\": [{\"colorbar\": {\"outlinewidth\": 0, \"ticks\": \"\"}, \"type\": \"choropleth\"}], \"contour\": [{\"colorbar\": {\"outlinewidth\": 0, \"ticks\": \"\"}, \"colorscale\": [[0.0, \"#0d0887\"], [0.1111111111111111, \"#46039f\"], [0.2222222222222222, \"#7201a8\"], [0.3333333333333333, \"#9c179e\"], [0.4444444444444444, \"#bd3786\"], [0.5555555555555556, \"#d8576b\"], [0.6666666666666666, \"#ed7953\"], [0.7777777777777778, \"#fb9f3a\"], [0.8888888888888888, \"#fdca26\"], [1.0, \"#f0f921\"]], \"type\": \"contour\"}], \"contourcarpet\": [{\"colorbar\": {\"outlinewidth\": 0, \"ticks\": \"\"}, \"type\": \"contourcarpet\"}], \"heatmap\": [{\"colorbar\": {\"outlinewidth\": 0, \"ticks\": \"\"}, \"colorscale\": [[0.0, \"#0d0887\"], [0.1111111111111111, \"#46039f\"], [0.2222222222222222, \"#7201a8\"], [0.3333333333333333, \"#9c179e\"], [0.4444444444444444, \"#bd3786\"], [0.5555555555555556, \"#d8576b\"], [0.6666666666666666, \"#ed7953\"], [0.7777777777777778, \"#fb9f3a\"], [0.8888888888888888, \"#fdca26\"], [1.0, \"#f0f921\"]], \"type\": \"heatmap\"}], \"heatmapgl\": [{\"colorbar\": {\"outlinewidth\": 0, \"ticks\": \"\"}, \"colorscale\": [[0.0, \"#0d0887\"], [0.1111111111111111, \"#46039f\"], [0.2222222222222222, \"#7201a8\"], [0.3333333333333333, \"#9c179e\"], [0.4444444444444444, \"#bd3786\"], [0.5555555555555556, \"#d8576b\"], [0.6666666666666666, \"#ed7953\"], [0.7777777777777778, \"#fb9f3a\"], [0.8888888888888888, \"#fdca26\"], [1.0, \"#f0f921\"]], \"type\": \"heatmapgl\"}], \"histogram\": [{\"marker\": {\"colorbar\": {\"outlinewidth\": 0, \"ticks\": \"\"}}, \"type\": \"histogram\"}], \"histogram2d\": [{\"colorbar\": {\"outlinewidth\": 0, \"ticks\": \"\"}, \"colorscale\": [[0.0, \"#0d0887\"], [0.1111111111111111, \"#46039f\"], [0.2222222222222222, \"#7201a8\"], [0.3333333333333333, \"#9c179e\"], [0.4444444444444444, \"#bd3786\"], [0.5555555555555556, \"#d8576b\"], [0.6666666666666666, \"#ed7953\"], [0.7777777777777778, \"#fb9f3a\"], [0.8888888888888888, \"#fdca26\"], [1.0, \"#f0f921\"]], \"type\": \"histogram2d\"}], \"histogram2dcontour\": [{\"colorbar\": {\"outlinewidth\": 0, \"ticks\": \"\"}, \"colorscale\": [[0.0, \"#0d0887\"], [0.1111111111111111, \"#46039f\"], [0.2222222222222222, \"#7201a8\"], [0.3333333333333333, \"#9c179e\"], [0.4444444444444444, \"#bd3786\"], [0.5555555555555556, \"#d8576b\"], [0.6666666666666666, \"#ed7953\"], [0.7777777777777778, \"#fb9f3a\"], [0.8888888888888888, \"#fdca26\"], [1.0, \"#f0f921\"]], \"type\": \"histogram2dcontour\"}], \"mesh3d\": [{\"colorbar\": {\"outlinewidth\": 0, \"ticks\": \"\"}, \"type\": \"mesh3d\"}], \"parcoords\": [{\"line\": {\"colorbar\": {\"outlinewidth\": 0, \"ticks\": \"\"}}, \"type\": \"parcoords\"}], \"pie\": [{\"automargin\": true, \"type\": \"pie\"}], \"scatter\": [{\"marker\": {\"colorbar\": {\"outlinewidth\": 0, \"ticks\": \"\"}}, \"type\": \"scatter\"}], \"scatter3d\": [{\"line\": {\"colorbar\": {\"outlinewidth\": 0, \"ticks\": \"\"}}, \"marker\": {\"colorbar\": {\"outlinewidth\": 0, \"ticks\": \"\"}}, \"type\": \"scatter3d\"}], \"scattercarpet\": [{\"marker\": {\"colorbar\": {\"outlinewidth\": 0, \"ticks\": \"\"}}, \"type\": \"scattercarpet\"}], \"scattergeo\": [{\"marker\": {\"colorbar\": {\"outlinewidth\": 0, \"ticks\": \"\"}}, \"type\": \"scattergeo\"}], \"scattergl\": [{\"marker\": {\"colorbar\": {\"outlinewidth\": 0, \"ticks\": \"\"}}, \"type\": \"scattergl\"}], \"scattermapbox\": [{\"marker\": {\"colorbar\": {\"outlinewidth\": 0, \"ticks\": \"\"}}, \"type\": \"scattermapbox\"}], \"scatterpolar\": [{\"marker\": {\"colorbar\": {\"outlinewidth\": 0, \"ticks\": \"\"}}, \"type\": \"scatterpolar\"}], \"scatterpolargl\": [{\"marker\": {\"colorbar\": {\"outlinewidth\": 0, \"ticks\": \"\"}}, \"type\": \"scatterpolargl\"}], \"scatterternary\": [{\"marker\": {\"colorbar\": {\"outlinewidth\": 0, \"ticks\": \"\"}}, \"type\": \"scatterternary\"}], \"surface\": [{\"colorbar\": {\"outlinewidth\": 0, \"ticks\": \"\"}, \"colorscale\": [[0.0, \"#0d0887\"], [0.1111111111111111, \"#46039f\"], [0.2222222222222222, \"#7201a8\"], [0.3333333333333333, \"#9c179e\"], [0.4444444444444444, \"#bd3786\"], [0.5555555555555556, \"#d8576b\"], [0.6666666666666666, \"#ed7953\"], [0.7777777777777778, \"#fb9f3a\"], [0.8888888888888888, \"#fdca26\"], [1.0, \"#f0f921\"]], \"type\": \"surface\"}], \"table\": [{\"cells\": {\"fill\": {\"color\": \"#EBF0F8\"}, \"line\": {\"color\": \"white\"}}, \"header\": {\"fill\": {\"color\": \"#C8D4E3\"}, \"line\": {\"color\": \"white\"}}, \"type\": \"table\"}]}, \"layout\": {\"annotationdefaults\": {\"arrowcolor\": \"#2a3f5f\", \"arrowhead\": 0, \"arrowwidth\": 1}, \"coloraxis\": {\"colorbar\": {\"outlinewidth\": 0, \"ticks\": \"\"}}, \"colorscale\": {\"diverging\": [[0, \"#8e0152\"], [0.1, \"#c51b7d\"], [0.2, \"#de77ae\"], [0.3, \"#f1b6da\"], [0.4, \"#fde0ef\"], [0.5, \"#f7f7f7\"], [0.6, \"#e6f5d0\"], [0.7, \"#b8e186\"], [0.8, \"#7fbc41\"], [0.9, \"#4d9221\"], [1, \"#276419\"]], \"sequential\": [[0.0, \"#0d0887\"], [0.1111111111111111, \"#46039f\"], [0.2222222222222222, \"#7201a8\"], [0.3333333333333333, \"#9c179e\"], [0.4444444444444444, \"#bd3786\"], [0.5555555555555556, \"#d8576b\"], [0.6666666666666666, \"#ed7953\"], [0.7777777777777778, \"#fb9f3a\"], [0.8888888888888888, \"#fdca26\"], [1.0, \"#f0f921\"]], \"sequentialminus\": [[0.0, \"#0d0887\"], [0.1111111111111111, \"#46039f\"], [0.2222222222222222, \"#7201a8\"], [0.3333333333333333, \"#9c179e\"], [0.4444444444444444, \"#bd3786\"], [0.5555555555555556, \"#d8576b\"], [0.6666666666666666, \"#ed7953\"], [0.7777777777777778, \"#fb9f3a\"], [0.8888888888888888, \"#fdca26\"], [1.0, \"#f0f921\"]]}, \"colorway\": [\"#636efa\", \"#EF553B\", \"#00cc96\", \"#ab63fa\", \"#FFA15A\", \"#19d3f3\", \"#FF6692\", \"#B6E880\", \"#FF97FF\", \"#FECB52\"], \"font\": {\"color\": \"#2a3f5f\"}, \"geo\": {\"bgcolor\": \"white\", \"lakecolor\": \"white\", \"landcolor\": \"#E5ECF6\", \"showlakes\": true, \"showland\": true, \"subunitcolor\": \"white\"}, \"hoverlabel\": {\"align\": \"left\"}, \"hovermode\": \"closest\", \"mapbox\": {\"style\": \"light\"}, \"paper_bgcolor\": \"white\", \"plot_bgcolor\": \"#E5ECF6\", \"polar\": {\"angularaxis\": {\"gridcolor\": \"white\", \"linecolor\": \"white\", \"ticks\": \"\"}, \"bgcolor\": \"#E5ECF6\", \"radialaxis\": {\"gridcolor\": \"white\", \"linecolor\": \"white\", \"ticks\": \"\"}}, \"scene\": {\"xaxis\": {\"backgroundcolor\": \"#E5ECF6\", \"gridcolor\": \"white\", \"gridwidth\": 2, \"linecolor\": \"white\", \"showbackground\": true, \"ticks\": \"\", \"zerolinecolor\": \"white\"}, \"yaxis\": {\"backgroundcolor\": \"#E5ECF6\", \"gridcolor\": \"white\", \"gridwidth\": 2, \"linecolor\": \"white\", \"showbackground\": true, \"ticks\": \"\", \"zerolinecolor\": \"white\"}, \"zaxis\": {\"backgroundcolor\": \"#E5ECF6\", \"gridcolor\": \"white\", \"gridwidth\": 2, \"linecolor\": \"white\", \"showbackground\": true, \"ticks\": \"\", \"zerolinecolor\": \"white\"}}, \"shapedefaults\": {\"line\": {\"color\": \"#2a3f5f\"}}, \"ternary\": {\"aaxis\": {\"gridcolor\": \"white\", \"linecolor\": \"white\", \"ticks\": \"\"}, \"baxis\": {\"gridcolor\": \"white\", \"linecolor\": \"white\", \"ticks\": \"\"}, \"bgcolor\": \"#E5ECF6\", \"caxis\": {\"gridcolor\": \"white\", \"linecolor\": \"white\", \"ticks\": \"\"}}, \"title\": {\"x\": 0.05}, \"xaxis\": {\"automargin\": true, \"gridcolor\": \"white\", \"linecolor\": \"white\", \"ticks\": \"\", \"title\": {\"standoff\": 15}, \"zerolinecolor\": \"white\", \"zerolinewidth\": 2}, \"yaxis\": {\"automargin\": true, \"gridcolor\": \"white\", \"linecolor\": \"white\", \"ticks\": \"\", \"title\": {\"standoff\": 15}, \"zerolinecolor\": \"white\", \"zerolinewidth\": 2}}}, \"title\": {\"text\": \"\\u0421\\u0440\\u0435\\u0434\\u043d\\u044f\\u044f \\u0446\\u0435\\u043d\\u0430 \\u0441\\u043e\\u043b\\u0438 \\u0432 \\u0440\\u0435\\u0433\\u0438\\u043e\\u043d\\u0430\\u0445\"}},\n",
              "                        {\"responsive\": true}\n",
              "                    ).then(function(){\n",
              "                            \n",
              "var gd = document.getElementById('0b2ebf70-50ee-4441-8979-5d4263dda8b4');\n",
              "var x = new MutationObserver(function (mutations, observer) {{\n",
              "        var display = window.getComputedStyle(gd).display;\n",
              "        if (!display || display === 'none') {{\n",
              "            console.log([gd, 'removed!']);\n",
              "            Plotly.purge(gd);\n",
              "            observer.disconnect();\n",
              "        }}\n",
              "}});\n",
              "\n",
              "// Listen for the removal of the full notebook cells\n",
              "var notebookContainer = gd.closest('#notebook-container');\n",
              "if (notebookContainer) {{\n",
              "    x.observe(notebookContainer, {childList: true});\n",
              "}}\n",
              "\n",
              "// Listen for the clearing of the current output cell\n",
              "var outputEl = gd.closest('.output');\n",
              "if (outputEl) {{\n",
              "    x.observe(outputEl, {childList: true});\n",
              "}}\n",
              "\n",
              "                        })\n",
              "                };\n",
              "                \n",
              "            </script>\n",
              "        </div>\n",
              "</body>\n",
              "</html>"
            ]
          },
          "metadata": {
            "tags": []
          }
        }
      ]
    },
    {
      "cell_type": "code",
      "metadata": {
        "colab": {
          "base_uri": "https://localhost:8080/"
        },
        "id": "wrl2SVCg2jdJ",
        "outputId": "84c327d3-a1c2-4cc1-942c-68583d20d846"
      },
      "source": [
        "df_regions['price'].mean()"
      ],
      "execution_count": null,
      "outputs": [
        {
          "output_type": "execute_result",
          "data": {
            "text/plain": [
              "13.268631174419873"
            ]
          },
          "metadata": {
            "tags": []
          },
          "execution_count": 98
        }
      ]
    },
    {
      "cell_type": "markdown",
      "metadata": {
        "id": "5H9Htr_P0YuZ"
      },
      "source": [
        "При средней закупочной цене соли 13.27 руб./кг самые высокие средние цены закупки были зафиксировы в Ростовской области (31.38) и Рязанской области (31.23). Самые низкие цены зафиксированы в Республике Карелия (8.25) и Тамбовской области (8,86).\n",
        "\n",
        "\n",
        "\n",
        "**Выводы**\n",
        "По результатам исследования было выявлено, что для проведения государственных закупок соли чаще всего применяют электронный аукцион, а также конкурс с ограниченным участием и закупка у единственного поставщика.\n",
        "\n",
        "Самые крупными заказчиками являются федеральные службы исполнения наказаний и федеральный службы войск национальной гвардии.\n",
        "\n",
        "В течение рассматриваемого периода большинство закупок соли было проведено в Тамбовской области, далее следуют Архангельская область и Республика Коми.\n",
        "\n",
        "Цена соли не зависит от сезона, средняя цена за килограмм составляет 13.27 рублей. Самая дорогая соль куплена в Ростовской и Рязанской областях, а самая дешевая - в Республике Карелия и в Тамбовской области.\n"
      ]
    }
  ]
}